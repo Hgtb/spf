{
 "cells": [
  {
   "cell_type": "code",
   "execution_count": 1,
   "metadata": {
    "collapsed": true
   },
   "outputs": [],
   "source": [
    "import pandas as pd\n",
    "import numpy as np"
   ]
  },
  {
   "cell_type": "code",
   "execution_count": 17,
   "outputs": [
    {
     "name": "stdout",
     "output_type": "stream",
     "text": [
      "            A         B         C\n",
      "0  20100101.0 -1.076557 -1.204099\n",
      "1  20100104.0  0.684790 -0.264731\n",
      "            A\n",
      "0  20100101.0\n",
      "1  20100102.0\n",
      "2  20100103.0\n",
      "3  20100104.0\n",
      "4  20100105.0\n"
     ]
    }
   ],
   "source": [
    "df1 = pd.DataFrame(np.random.randn(2, 3), columns=[\"A\", \"B\", \"C\"], dtype=float)\n",
    "df2 = pd.DataFrame([20100101, 20100102, 20100103, 20100104, 20100105], columns=[\"A\"], dtype=float)\n",
    "df1.iloc[0, 0] = 20100101\n",
    "df1.iloc[1, 0] = 20100104\n",
    "print(df1)\n",
    "print(df2)"
   ],
   "metadata": {
    "collapsed": false,
    "pycharm": {
     "name": "#%%\n"
    }
   }
  },
  {
   "cell_type": "code",
   "execution_count": 18,
   "outputs": [
    {
     "name": "stdout",
     "output_type": "stream",
     "text": [
      "            A         B         C\n",
      "0  20100101.0 -1.076557 -1.204099\n",
      "1  20100104.0  0.684790 -0.264731\n"
     ]
    }
   ],
   "source": [
    "df3 = pd.merge(df1, df2, on=\"A\")\n",
    "print(df3)"
   ],
   "metadata": {
    "collapsed": false,
    "pycharm": {
     "name": "#%%\n"
    }
   }
  },
  {
   "cell_type": "code",
   "execution_count": 21,
   "outputs": [
    {
     "name": "stdout",
     "output_type": "stream",
     "text": [
      "            A         B         C\n",
      "0  20100101.0 -1.076557 -1.204099\n",
      "1  20100102.0       NaN       NaN\n",
      "2  20100103.0       NaN       NaN\n",
      "3  20100104.0  0.684790 -0.264731\n",
      "4  20100105.0       NaN       NaN\n"
     ]
    }
   ],
   "source": [
    "df4 = pd.merge(df2, df3, on=\"A\", how=\"left\")\n",
    "print(df4)"
   ],
   "metadata": {
    "collapsed": false,
    "pycharm": {
     "name": "#%%\n"
    }
   }
  },
  {
   "cell_type": "code",
   "execution_count": 2,
   "outputs": [
    {
     "name": "stdout",
     "output_type": "stream",
     "text": [
      "      trade_date\n",
      "0       20100104\n",
      "1       20100105\n",
      "2       20100106\n",
      "3       20100107\n",
      "4       20100108\n",
      "...          ...\n",
      "2669    20201225\n",
      "2670    20201228\n",
      "2671    20201229\n",
      "2672    20201230\n",
      "2673    20201231\n",
      "\n",
      "[2674 rows x 1 columns]\n",
      "        ts_code  trade_date   open   high    low  close  pre_close  change  \\\n",
      "0     000001.SZ    20100104  24.52  24.58  23.68  23.71      24.37   -0.66   \n",
      "1     000001.SZ    20100105  23.75  23.90  22.75  23.30      23.71   -0.41   \n",
      "2     000001.SZ    20100106  23.25  23.25  22.72  22.90      23.30   -0.40   \n",
      "3     000001.SZ    20100107  22.90  23.05  22.40  22.65      22.90   -0.25   \n",
      "4     000001.SZ    20100108  22.50  22.75  22.35  22.60      22.65   -0.05   \n",
      "...         ...         ...    ...    ...    ...    ...        ...     ...   \n",
      "2851  000001.SZ    20220110  17.29  17.42  17.03  17.19      17.20   -0.01   \n",
      "2852  000001.SZ    20220111  17.26  17.54  17.14  17.41      17.19    0.22   \n",
      "2853  000001.SZ    20220112  17.41  17.45  16.90  17.00      17.41   -0.41   \n",
      "2854  000001.SZ    20220113  16.91  17.24  16.82  16.98      17.00   -0.02   \n",
      "2855  000001.SZ    20220114  17.00  17.02  16.30  16.33      16.98   -0.65   \n",
      "\n",
      "      pct_chg         vol        amount  \n",
      "0     -2.7100   241922.76  5.802495e+05  \n",
      "1     -1.7300   556499.82  1.293477e+06  \n",
      "2     -1.7200   412143.13  9.444537e+05  \n",
      "3     -1.0900   355336.85  8.041663e+05  \n",
      "4     -0.2200   288543.06  6.506674e+05  \n",
      "...       ...         ...           ...  \n",
      "2851  -0.0581   909774.01  1.563415e+06  \n",
      "2852   1.2798  1581999.40  2.752485e+06  \n",
      "2853  -2.3550  1502163.55  2.561266e+06  \n",
      "2854  -0.1176   909422.65  1.550319e+06  \n",
      "2855  -3.8280  2103094.91  3.459951e+06  \n",
      "\n",
      "[2856 rows x 11 columns]\n"
     ]
    }
   ],
   "source": [
    "trade_cal = pd.read_csv(\"dataSet/train_tradeCal.csv\")\n",
    "stock_data = pd.read_csv(\"rawData/daily/000001.SZ.csv\")\n",
    "trade_cal.columns = [\"trade_date\"]\n",
    "# stock_data.drop(columns=\"Unnamed: 0\", inplace=True)\n",
    "print(trade_cal)\n",
    "print(stock_data)"
   ],
   "metadata": {
    "collapsed": false,
    "pycharm": {
     "name": "#%%\n"
    }
   }
  },
  {
   "cell_type": "code",
   "execution_count": 3,
   "outputs": [
    {
     "name": "stdout",
     "output_type": "stream",
     "text": [
      "        ts_code  trade_date   open   high    low  close  pre_close  change  \\\n",
      "0     000001.SZ    20100104  24.52  24.58  23.68  23.71      24.37   -0.66   \n",
      "1     000001.SZ    20100105  23.75  23.90  22.75  23.30      23.71   -0.41   \n",
      "2     000001.SZ    20100106  23.25  23.25  22.72  22.90      23.30   -0.40   \n",
      "3     000001.SZ    20100107  22.90  23.05  22.40  22.65      22.90   -0.25   \n",
      "4     000001.SZ    20100108  22.50  22.75  22.35  22.60      22.65   -0.05   \n",
      "...         ...         ...    ...    ...    ...    ...        ...     ...   \n",
      "2599  000001.SZ    20201225  18.26  18.26  17.80  18.04      18.26   -0.22   \n",
      "2600  000001.SZ    20201228  18.02  18.86  17.96  18.85      18.04    0.81   \n",
      "2601  000001.SZ    20201229  18.87  19.30  18.70  19.17      18.85    0.32   \n",
      "2602  000001.SZ    20201230  19.00  19.20  18.72  19.20      19.17    0.03   \n",
      "2603  000001.SZ    20201231  19.21  19.58  19.02  19.34      19.20    0.14   \n",
      "\n",
      "      pct_chg         vol        amount  \n",
      "0     -2.7100   241922.76  5.802495e+05  \n",
      "1     -1.7300   556499.82  1.293477e+06  \n",
      "2     -1.7200   412143.13  9.444537e+05  \n",
      "3     -1.0900   355336.85  8.041663e+05  \n",
      "4     -0.2200   288543.06  6.506674e+05  \n",
      "...       ...         ...           ...  \n",
      "2599  -1.2048   577077.33  1.038128e+06  \n",
      "2600   4.4900  1270337.06  2.352947e+06  \n",
      "2601   1.6976   963092.23  1.837947e+06  \n",
      "2602   0.1565   978497.78  1.854083e+06  \n",
      "2603   0.7292   924503.43  1.781736e+06  \n",
      "\n",
      "[2604 rows x 11 columns]\n"
     ]
    }
   ],
   "source": [
    "clean_stock_data = pd.merge(stock_data, trade_cal, on=\"trade_date\")\n",
    "print(clean_stock_data)"
   ],
   "metadata": {
    "collapsed": false,
    "pycharm": {
     "name": "#%%\n"
    }
   }
  },
  {
   "cell_type": "code",
   "execution_count": 4,
   "outputs": [
    {
     "name": "stdout",
     "output_type": "stream",
     "text": [
      "        ts_code  trade_date   open   high    low  close  pre_close  change  \\\n",
      "0     000001.SZ    20100104  24.52  24.58  23.68  23.71      24.37   -0.66   \n",
      "1     000001.SZ    20100105  23.75  23.90  22.75  23.30      23.71   -0.41   \n",
      "2     000001.SZ    20100106  23.25  23.25  22.72  22.90      23.30   -0.40   \n",
      "3     000001.SZ    20100107  22.90  23.05  22.40  22.65      22.90   -0.25   \n",
      "4     000001.SZ    20100108  22.50  22.75  22.35  22.60      22.65   -0.05   \n",
      "...         ...         ...    ...    ...    ...    ...        ...     ...   \n",
      "2669  000001.SZ    20201225  18.26  18.26  17.80  18.04      18.26   -0.22   \n",
      "2670  000001.SZ    20201228  18.02  18.86  17.96  18.85      18.04    0.81   \n",
      "2671  000001.SZ    20201229  18.87  19.30  18.70  19.17      18.85    0.32   \n",
      "2672  000001.SZ    20201230  19.00  19.20  18.72  19.20      19.17    0.03   \n",
      "2673  000001.SZ    20201231  19.21  19.58  19.02  19.34      19.20    0.14   \n",
      "\n",
      "      pct_chg         vol        amount  \n",
      "0     -2.7100   241922.76  5.802495e+05  \n",
      "1     -1.7300   556499.82  1.293477e+06  \n",
      "2     -1.7200   412143.13  9.444537e+05  \n",
      "3     -1.0900   355336.85  8.041663e+05  \n",
      "4     -0.2200   288543.06  6.506674e+05  \n",
      "...       ...         ...           ...  \n",
      "2669  -1.2048   577077.33  1.038128e+06  \n",
      "2670   4.4900  1270337.06  2.352947e+06  \n",
      "2671   1.6976   963092.23  1.837947e+06  \n",
      "2672   0.1565   978497.78  1.854083e+06  \n",
      "2673   0.7292   924503.43  1.781736e+06  \n",
      "\n",
      "[2674 rows x 11 columns]\n"
     ]
    }
   ],
   "source": [
    "clean_stock_data = pd.merge(clean_stock_data, trade_cal, how=\"right\")\n",
    "print(clean_stock_data)\n",
    "clean_stock_data.fillna(method=\"pad\", inplace=True)\n",
    "clean_stock_data.to_csv(\"Test1_2.csv\")"
   ],
   "metadata": {
    "collapsed": false,
    "pycharm": {
     "name": "#%%\n"
    }
   }
  }
 ],
 "metadata": {
  "kernelspec": {
   "display_name": "Python 3",
   "language": "python",
   "name": "python3"
  },
  "language_info": {
   "codemirror_mode": {
    "name": "ipython",
    "version": 2
   },
   "file_extension": ".py",
   "mimetype": "text/x-python",
   "name": "python",
   "nbconvert_exporter": "python",
   "pygments_lexer": "ipython2",
   "version": "2.7.6"
  }
 },
 "nbformat": 4,
 "nbformat_minor": 0
}