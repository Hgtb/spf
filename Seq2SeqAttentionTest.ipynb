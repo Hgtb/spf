{
 "cells": [
  {
   "cell_type": "code",
   "execution_count": 1,
   "metadata": {
    "collapsed": true
   },
   "outputs": [],
   "source": [
    "# Run on GPU server\n",
    "import sys\n",
    "sys.path.append(\"../StockPriceForecast/\")"
   ]
  },
  {
   "cell_type": "code",
   "execution_count": 2,
   "outputs": [
    {
     "name": "stdout",
     "output_type": "stream",
     "text": [
      "Cuda is available :  True\n",
      "Cuda num :  1\n",
      "Current cuda index :  0\n",
      "Current cuda name :  NVIDIA GeForce RTX 3090\n"
     ]
    }
   ],
   "source": [
    "import torch\n",
    "import os\n",
    "print(\"Cuda is available : \", torch.cuda.is_available())\n",
    "print(\"Cuda num : \", torch.cuda.device_count())  # gpu数量\n",
    "print(\"Current cuda index : \", torch.cuda.current_device())\n",
    "print(\"Current cuda name : \", torch.cuda.get_device_name(0))\n"
   ],
   "metadata": {
    "collapsed": false,
    "pycharm": {
     "name": "#%%\n"
    }
   }
  },
  {
   "cell_type": "code",
   "execution_count": 3,
   "outputs": [
    {
     "name": "stdout",
     "output_type": "stream",
     "text": [
      "All days :  2994\n",
      "Train days :  (774, 1440, 10)\n",
      "Validation days ;  (720, 1440, 10)\n",
      "Test days :  (720, 1440, 10)\n",
      "train_dataLoader :  410\n",
      "validation_dataLoader :  356\n",
      "test_dataLoader :  356\n"
     ]
    }
   ],
   "source": [
    "from libs import *\n",
    "dataPath = \"../StockPriceForecast/dataSet/data/marketData/data.nc\"\n",
    "data_len = DataLength(dataPath)\n",
    "print(\"All days : \", data_len)\n",
    "input_days = 360\n",
    "predict_days = 30\n",
    "test_predict_len = 360  # 预测360天\n",
    "train_dataSet = DataSet(dataPath=dataPath, isel=[1500, data_len - input_days - test_predict_len],\n",
    "                        targetDays=5,\n",
    "                        encoderDecoderParameter=\"close\",\n",
    "                        targetDataParameter=\"close\")\n",
    "validation_dataSet = DataSet(dataPath=dataPath, isel=[data_len - (input_days + 2 * test_predict_len), data_len - test_predict_len],\n",
    "                             targetDays=5,\n",
    "                             encoderDecoderParameter=\"close\",\n",
    "                             targetDataParameter=\"close\")\n",
    "test_dataSet = DataSet(dataPath=dataPath, isel=[data_len - (input_days + test_predict_len), data_len],\n",
    "                       targetDays=5,\n",
    "                       encoderDecoderParameter=\"close\",\n",
    "                       targetDataParameter=\"close\")\n",
    "print(\"Train days : \", train_dataSet.data.shape)\n",
    "print(\"Validation days ; \", validation_dataSet.data.shape)\n",
    "print(\"Test days : \", test_dataSet.data.shape)\n",
    "\n",
    "train_dataLoader = DataLoader(train_dataSet)\n",
    "validation_dataLoader = DataLoader(validation_dataSet)\n",
    "test_dataLoader = DataLoader(test_dataSet)\n",
    "\n",
    "print(\"train_dataLoader : \", len(train_dataLoader))\n",
    "print(\"validation_dataLoader : \", len(validation_dataLoader))\n",
    "print(\"test_dataLoader : \", len(test_dataLoader))"
   ],
   "metadata": {
    "collapsed": false,
    "pycharm": {
     "name": "#%%\n"
    }
   }
  },
  {
   "cell_type": "code",
   "execution_count": 4,
   "outputs": [
    {
     "name": "stdout",
     "output_type": "stream",
     "text": [
      "../StockPriceForecast/Models/spf_softDTW_1_410.pth\n"
     ]
    }
   ],
   "source": [
    "from os.path import join\n",
    "models_store_path = \"../StockPriceForecast/Models/\"\n",
    "days_num = len(train_dataLoader)\n",
    "loss_function_name = \"softDTW\"\n",
    "lr = 0.0001\n",
    "num_epochs = 1\n",
    "model_name = f\"spf_{loss_function_name}_{num_epochs}_{days_num}.pth\"\n",
    "model_store_path = join(models_store_path, model_name)\n",
    "# train_dataSet = train_dataSet.isel(0, 390 + days_num -1)\n",
    "# train_dataLoader = DataLoader(train_dataSet)\n",
    "print(model_store_path)"
   ],
   "metadata": {
    "collapsed": false,
    "pycharm": {
     "name": "#%%\n"
    }
   }
  },
  {
   "cell_type": "code",
   "execution_count": null,
   "outputs": [],
   "source": [
    "from libs.modules import *\n",
    "from libs import *\n",
    "import torch\n",
    "import torch.nn as nn\n",
    "model = Seq2SeqAttention(input_size=1440,\n",
    "                         hidden_size=4096,\n",
    "                         output_size=1440,\n",
    "                         num_layers=3,\n",
    "                         dropout=0.1)\n",
    "# train_dataLoader.isel(startIndex=950, endIndex=len(train_dataLoader))\n",
    "model, ls = train_Seq2SeqAttention(model=model,\n",
    "                                   device=device,\n",
    "                                   dataLoader=train_dataLoader,\n",
    "                                   loss_function_name=loss_function_name,\n",
    "                                   lr=lr,\n",
    "                                   num_epochs=num_epochs)"
   ],
   "metadata": {
    "collapsed": false,
    "pycharm": {
     "name": "#%%\n",
     "is_executing": true
    }
   }
  },
  {
   "cell_type": "code",
   "execution_count": null,
   "outputs": [],
   "source": [
    "torch.save(model, model_store_path)"
   ],
   "metadata": {
    "collapsed": false,
    "pycharm": {
     "name": "#%%\n"
    }
   }
  },
  {
   "cell_type": "code",
   "execution_count": null,
   "outputs": [],
   "source": [
    "print(len(train_dataSet))\n",
    "print(len(train_dataLoader))\n",
    "print((len(train_dataLoader) + (360 + 30) - 1))"
   ],
   "metadata": {
    "collapsed": false,
    "pycharm": {
     "name": "#%%\n"
    }
   }
  },
  {
   "cell_type": "code",
   "execution_count": null,
   "outputs": [],
   "source": [
    "from libs.modules import *\n",
    "from libs import *\n",
    "import torch\n",
    "import torch.nn as nn\n",
    "import sys\n",
    "sys.path.append(\"../StockPriceForecast/\")\n",
    "model = torch.load(\"../StockPriceForecast/Models/spf_softDTW_1_910.pth\")\n",
    "validation_dataLoader.isel(0, 1)\n",
    "predicts, targets, attention_weights = eval_Seq2SeqAttention(model=model,\n",
    "                                                    dataLoader=validation_dataLoader,\n",
    "                                                    steps=5,\n",
    "                                                    device=device)\n",
    "print(len(predicts))"
   ],
   "metadata": {
    "collapsed": false,
    "pycharm": {
     "name": "#%%\n"
    }
   }
  },
  {
   "cell_type": "code",
   "execution_count": null,
   "outputs": [],
   "source": [
    "import plotly.graph_objs as go\n",
    "import plotly.offline as py\n",
    "import numpy as np\n",
    "show_index = 1\n",
    "trace0 = go.Scatter(\n",
    "    # x = np.linspace(0, 1, 30),\n",
    "    y = predicts[0][show_index].numpy(),\n",
    "    mode = \"lines\",\n",
    "    name = \"predict\"\n",
    ")\n",
    "trace1 = go.Scatter(\n",
    "    # x = np.linspace(0, 1, 30),\n",
    "    y = targets[0][show_index].numpy(),\n",
    "    mode = \"lines\",\n",
    "    name = \"target\"\n",
    ")\n",
    "data = [trace0, trace1]\n",
    "py.iplot(data)"
   ],
   "metadata": {
    "collapsed": false,
    "pycharm": {
     "name": "#%%\n"
    }
   }
  },
  {
   "cell_type": "code",
   "execution_count": null,
   "outputs": [],
   "source": [
    "import numpy as np\n",
    "print(ls.__len__())\n",
    "trace = dict(\n",
    "    # x = np.linspace(0, len(ls), 1),\n",
    "    y = np.array(ls),\n",
    "    mode = \"lines\",\n",
    "    name = \"loss\"\n",
    ")\n",
    "fig = go.Figure(trace)\n",
    "fig.show()"
   ],
   "metadata": {
    "collapsed": false,
    "pycharm": {
     "name": "#%%\n"
    }
   }
  },
  {
   "cell_type": "code",
   "execution_count": null,
   "outputs": [],
   "source": [],
   "metadata": {
    "collapsed": false,
    "pycharm": {
     "name": "#%%\n"
    }
   }
  },
  {
   "cell_type": "code",
   "execution_count": null,
   "outputs": [],
   "source": [
    "# 继续训练\n",
    "# Run on GPU server\n",
    "import sys\n",
    "sys.path.append(\"../StockPriceForecast/\")\n",
    "from libs.modules import *\n",
    "from libs import *\n",
    "import torch\n",
    "import torch.nn as nn\n",
    "import sys\n",
    "from os.path import join\n",
    "models_store_path = \"../StockPriceForecast/Models/\"\n",
    "# train_dataLoader.isel(900, len(train_dataLoader))\n",
    "days_num = len(train_dataLoader)\n",
    "loss_function_name = \"softDTW\"\n",
    "lr = 0.0001\n",
    "num_epochs = 3\n",
    "model_name = f\"spf_{loss_function_name}_{num_epochs}_{days_num}.pth\"\n",
    "model_store_path = join(models_store_path, model_name)\n",
    "print(model_store_path)"
   ],
   "metadata": {
    "collapsed": false,
    "pycharm": {
     "name": "#%%\n"
    }
   }
  },
  {
   "cell_type": "code",
   "execution_count": null,
   "outputs": [],
   "source": [
    "model = torch.load(\"../StockPriceForecast/Models/spf_softDTW_1_910.pth\")\n",
    "model, ls = train_Seq2SeqAttention(model=model,\n",
    "                                   device=device,\n",
    "                                   dataLoader=train_dataLoader,\n",
    "                                   loss_function_name=loss_function_name,\n",
    "                                   init_weights=False,\n",
    "                                   lr=lr,\n",
    "                                   num_epochs=num_epochs)"
   ],
   "metadata": {
    "collapsed": false,
    "pycharm": {
     "name": "#%%\n"
    }
   }
  },
  {
   "cell_type": "code",
   "execution_count": null,
   "outputs": [],
   "source": [
    "torch.save(model, model_store_path)\n"
   ],
   "metadata": {
    "collapsed": false,
    "pycharm": {
     "name": "#%%\n"
    }
   }
  },
  {
   "cell_type": "code",
   "execution_count": null,
   "outputs": [],
   "source": [
    "from libs.modules import *\n",
    "from libs import *\n",
    "import torch\n",
    "import torch.nn as nn\n",
    "import sys\n",
    "model = torch.load(\"../StockPriceForecast/Models/spf_softDTW_1_910.pth\")\n",
    "sys.path.append(\"../StockPriceForecast/\")\n",
    "validation_dataLoader.isel(0, 1)\n",
    "predicts, targets, attention_weights = eval_Seq2SeqAttention(model=model,\n",
    "                                                    dataLoader=validation_dataLoader,\n",
    "                                                    steps=5,\n",
    "                                                    device=device)\n",
    "print(len(predicts))"
   ],
   "metadata": {
    "collapsed": false,
    "pycharm": {
     "name": "#%%\n"
    }
   }
  },
  {
   "cell_type": "code",
   "execution_count": null,
   "outputs": [],
   "source": [
    "import plotly.graph_objs as go\n",
    "import plotly.offline as py\n",
    "import numpy as np\n",
    "show_index = 2\n",
    "trace0 = go.Scatter(\n",
    "    # x = np.linspace(0, 1, 30),\n",
    "    y = predicts[0][show_index].numpy(),\n",
    "    mode = \"lines\",\n",
    "    name = \"predict\"\n",
    ")\n",
    "trace1 = go.Scatter(\n",
    "    # x = np.linspace(0, 1, 30),\n",
    "    y = targets[0][show_index].numpy(),\n",
    "    mode = \"lines\",\n",
    "    name = \"target\"\n",
    ")\n",
    "data = [trace0, trace1]\n",
    "py.iplot(data)"
   ],
   "metadata": {
    "collapsed": false,
    "pycharm": {
     "name": "#%%\n"
    }
   }
  },
  {
   "cell_type": "code",
   "execution_count": null,
   "outputs": [],
   "source": [
    "print(ls.__len__())\n",
    "trace = dict(\n",
    "    # x = np.linspace(0, len(ls), 1),\n",
    "    y = np.array(ls),\n",
    "    mode = \"lines\",\n",
    "    name = \"loss\"\n",
    ")\n",
    "fig = go.Figure(trace)\n",
    "fig.show()"
   ],
   "metadata": {
    "collapsed": false,
    "pycharm": {
     "name": "#%%\n"
    }
   }
  },
  {
   "cell_type": "code",
   "execution_count": null,
   "outputs": [],
   "source": [
    "import torch\n",
    "a = torch.rand([3, 4, 5])\n",
    "print(a.shape)\n",
    "d1, _, _ = a.shape\n",
    "print(d1)"
   ],
   "metadata": {
    "collapsed": false,
    "pycharm": {
     "name": "#%%\n"
    }
   }
  }
 ],
 "metadata": {
  "kernelspec": {
   "name": "python3",
   "language": "python",
   "display_name": "Python 3 (ipykernel)"
  },
  "language_info": {
   "codemirror_mode": {
    "name": "ipython",
    "version": 2
   },
   "file_extension": ".py",
   "mimetype": "text/x-python",
   "name": "python",
   "nbconvert_exporter": "python",
   "pygments_lexer": "ipython2",
   "version": "2.7.6"
  }
 },
 "nbformat": 4,
 "nbformat_minor": 0
}