{
 "cells": [
  {
   "cell_type": "code",
   "execution_count": 1,
   "metadata": {
    "collapsed": true
   },
   "outputs": [],
   "source": [
    "# Run on GPU server\n",
    "import sys\n",
    "sys.path.append(\"../StockPriceForecast/\")"
   ]
  },
  {
   "cell_type": "code",
   "execution_count": 2,
   "outputs": [
    {
     "name": "stdout",
     "output_type": "stream",
     "text": [
      "Cuda is available :  True\n",
      "Cuda num :  1\n",
      "Current cuda index :  0\n",
      "Current cuda name :  NVIDIA GeForce RTX 3090\n"
     ]
    }
   ],
   "source": [
    "import torch\n",
    "import os\n",
    "print(\"Cuda is available : \", torch.cuda.is_available())\n",
    "print(\"Cuda num : \", torch.cuda.device_count())  # gpu数量\n",
    "print(\"Current cuda index : \", torch.cuda.current_device())\n",
    "print(\"Current cuda name : \", torch.cuda.get_device_name(0))\n"
   ],
   "metadata": {
    "collapsed": false,
    "pycharm": {
     "name": "#%%\n"
    }
   }
  },
  {
   "cell_type": "code",
   "execution_count": 3,
   "outputs": [
    {
     "name": "stdout",
     "output_type": "stream",
     "text": [
      "All days :  2994\n",
      "Train days :  (1274, 1440, 10)\n",
      "Validation days ;  (720, 1440, 10)\n",
      "Test days :  (720, 1440, 10)\n"
     ]
    }
   ],
   "source": [
    "from libs import *\n",
    "dataPath = \"../StockPriceForecast/dataSet/data/marketData/data.nc\"\n",
    "data_len = DataLength(dataPath)\n",
    "print(\"All days : \", data_len)\n",
    "input_days = 360\n",
    "predict_days = 30\n",
    "test_predict_len = 360  # 预测360天\n",
    "train_dataSet = DataSet(dataPath=dataPath, isel=[1500, data_len - input_days - test_predict_len],\n",
    "                        targetDays=5,\n",
    "                        encoderDecoderParameter=\"close\",\n",
    "                        targetDataParameter=\"close\")\n",
    "print(\"Train days : \", train_dataSet.data.shape)\n",
    "validation_dataSet = DataSet(dataPath=dataPath, isel=[data_len - (input_days + 2 * test_predict_len), data_len - test_predict_len],\n",
    "                             targetDays=5,\n",
    "                             encoderDecoderParameter=\"close\",\n",
    "                             targetDataParameter=\"close\")\n",
    "print(\"Validation days ; \", validation_dataSet.data.shape)\n",
    "test_dataSet = DataSet(dataPath=dataPath, isel=[data_len - (input_days + test_predict_len), data_len],\n",
    "                       targetDays=5,\n",
    "                       encoderDecoderParameter=\"close\",\n",
    "                       targetDataParameter=\"close\")\n",
    "print(\"Test days : \", test_dataSet.data.shape)\n",
    "\n",
    "train_dataLoader = DataLoader(train_dataSet)\n",
    "validation_dataLoader = DataLoader(validation_dataSet)\n",
    "test_dataLoader = DataLoader(test_dataSet)"
   ],
   "metadata": {
    "collapsed": false,
    "pycharm": {
     "name": "#%%\n"
    }
   }
  },
  {
   "cell_type": "code",
   "execution_count": 4,
   "outputs": [
    {
     "name": "stdout",
     "output_type": "stream",
     "text": [
      "../StockPriceForecast/Models/spf_softDTW_1_910.pth\n"
     ]
    }
   ],
   "source": [
    "from os.path import join\n",
    "models_store_path = \"../StockPriceForecast/Models/\"\n",
    "days_num = len(train_dataLoader)\n",
    "loss_function_name = \"softDTW\"\n",
    "lr = 0.0001\n",
    "num_epochs = 1\n",
    "model_name = f\"spf_{loss_function_name}_{num_epochs}_{days_num}.pth\"\n",
    "model_store_path = join(models_store_path, model_name)\n",
    "# train_dataSet = train_dataSet.isel(0, 390 + days_num -1)\n",
    "# train_dataLoader = DataLoader(train_dataSet)\n",
    "print(model_store_path)"
   ],
   "metadata": {
    "collapsed": false,
    "pycharm": {
     "name": "#%%\n"
    }
   }
  },
  {
   "cell_type": "code",
   "execution_count": 5,
   "outputs": [
    {
     "name": "stderr",
     "output_type": "stream",
     "text": [
      "epoch 0 training: 100%|██████████| 910/910 [11:23<00:00,  1.33it/s, loss=54, lr=1.95e-7]  \n"
     ]
    }
   ],
   "source": [
    "from libs.modules import *\n",
    "from libs import *\n",
    "import torch\n",
    "import torch.nn as nn\n",
    "model = Seq2SeqAttention(input_size=1440,\n",
    "                         hidden_size=4096,\n",
    "                         output_size=1440,\n",
    "                         num_layers=3,\n",
    "                         dropout=0.1)\n",
    "# train_dataLoader.isel(startIndex=950, endIndex=len(train_dataLoader))\n",
    "model, ls = train_Seq2SeqAttention(model=model,\n",
    "                                   device=device,\n",
    "                                   dataLoader=train_dataLoader,\n",
    "                                   loss_function_name=loss_function_name,\n",
    "                                   lr=lr,\n",
    "                                   num_epochs=num_epochs)"
   ],
   "metadata": {
    "collapsed": false,
    "pycharm": {
     "name": "#%%\n"
    }
   }
  },
  {
   "cell_type": "code",
   "execution_count": 6,
   "outputs": [],
   "source": [
    "torch.save(model, model_store_path)"
   ],
   "metadata": {
    "collapsed": false,
    "pycharm": {
     "name": "#%%\n"
    }
   }
  },
  {
   "cell_type": "code",
   "execution_count": 7,
   "outputs": [
    {
     "name": "stdout",
     "output_type": "stream",
     "text": [
      "1324\n",
      "960\n",
      "1349\n"
     ]
    }
   ],
   "source": [
    "print(len(train_dataSet))\n",
    "print(len(train_dataLoader))\n",
    "print((len(train_dataLoader) + (360 + 30) - 1))"
   ],
   "metadata": {
    "collapsed": false,
    "pycharm": {
     "name": "#%%\n"
    }
   }
  },
  {
   "cell_type": "code",
   "execution_count": 7,
   "outputs": [
    {
     "name": "stdout",
     "output_type": "stream",
     "text": [
      "1\n"
     ]
    }
   ],
   "source": [
    "from libs.modules import *\n",
    "from libs import *\n",
    "import torch\n",
    "import torch.nn as nn\n",
    "import sys\n",
    "sys.path.append(\"../StockPriceForecast/\")\n",
    "model = torch.load(\"../StockPriceForecast/Models/spf_softDTW_1_910.pth\")\n",
    "validation_dataLoader.isel(0, 1)\n",
    "predicts, targets, attention_weights = eval_Seq2SeqAttention(model=model,\n",
    "                                                    dataLoader=validation_dataLoader,\n",
    "                                                    steps=5,\n",
    "                                                    device=device)\n",
    "print(len(predicts))"
   ],
   "metadata": {
    "collapsed": false,
    "pycharm": {
     "name": "#%%\n"
    }
   }
  },
  {
   "cell_type": "code",
   "execution_count": 24,
   "outputs": [
    {
     "data": {
      "application/vnd.plotly.v1+json": {
       "data": [
        {
         "mode": "lines",
         "name": "predict",
         "y": [
          0.6122718453407288,
          0.6209942698478699,
          0.6355723142623901,
          0.6495240926742554,
          0.6617732644081116
         ],
         "type": "scatter"
        },
        {
         "mode": "lines",
         "name": "target",
         "y": [
          0.6665116548538208,
          0.6440897583961487,
          0.6411778330802917,
          0.6487488746643066,
          0.6440897583961487
         ],
         "type": "scatter"
        }
       ],
       "layout": {
        "template": {
         "data": {
          "barpolar": [
           {
            "marker": {
             "line": {
              "color": "#E5ECF6",
              "width": 0.5
             },
             "pattern": {
              "fillmode": "overlay",
              "size": 10,
              "solidity": 0.2
             }
            },
            "type": "barpolar"
           }
          ],
          "bar": [
           {
            "error_x": {
             "color": "#2a3f5f"
            },
            "error_y": {
             "color": "#2a3f5f"
            },
            "marker": {
             "line": {
              "color": "#E5ECF6",
              "width": 0.5
             },
             "pattern": {
              "fillmode": "overlay",
              "size": 10,
              "solidity": 0.2
             }
            },
            "type": "bar"
           }
          ],
          "carpet": [
           {
            "aaxis": {
             "endlinecolor": "#2a3f5f",
             "gridcolor": "white",
             "linecolor": "white",
             "minorgridcolor": "white",
             "startlinecolor": "#2a3f5f"
            },
            "baxis": {
             "endlinecolor": "#2a3f5f",
             "gridcolor": "white",
             "linecolor": "white",
             "minorgridcolor": "white",
             "startlinecolor": "#2a3f5f"
            },
            "type": "carpet"
           }
          ],
          "choropleth": [
           {
            "colorbar": {
             "outlinewidth": 0,
             "ticks": ""
            },
            "type": "choropleth"
           }
          ],
          "contourcarpet": [
           {
            "colorbar": {
             "outlinewidth": 0,
             "ticks": ""
            },
            "type": "contourcarpet"
           }
          ],
          "contour": [
           {
            "colorbar": {
             "outlinewidth": 0,
             "ticks": ""
            },
            "colorscale": [
             [
              0.0,
              "#0d0887"
             ],
             [
              0.1111111111111111,
              "#46039f"
             ],
             [
              0.2222222222222222,
              "#7201a8"
             ],
             [
              0.3333333333333333,
              "#9c179e"
             ],
             [
              0.4444444444444444,
              "#bd3786"
             ],
             [
              0.5555555555555556,
              "#d8576b"
             ],
             [
              0.6666666666666666,
              "#ed7953"
             ],
             [
              0.7777777777777778,
              "#fb9f3a"
             ],
             [
              0.8888888888888888,
              "#fdca26"
             ],
             [
              1.0,
              "#f0f921"
             ]
            ],
            "type": "contour"
           }
          ],
          "heatmapgl": [
           {
            "colorbar": {
             "outlinewidth": 0,
             "ticks": ""
            },
            "colorscale": [
             [
              0.0,
              "#0d0887"
             ],
             [
              0.1111111111111111,
              "#46039f"
             ],
             [
              0.2222222222222222,
              "#7201a8"
             ],
             [
              0.3333333333333333,
              "#9c179e"
             ],
             [
              0.4444444444444444,
              "#bd3786"
             ],
             [
              0.5555555555555556,
              "#d8576b"
             ],
             [
              0.6666666666666666,
              "#ed7953"
             ],
             [
              0.7777777777777778,
              "#fb9f3a"
             ],
             [
              0.8888888888888888,
              "#fdca26"
             ],
             [
              1.0,
              "#f0f921"
             ]
            ],
            "type": "heatmapgl"
           }
          ],
          "heatmap": [
           {
            "colorbar": {
             "outlinewidth": 0,
             "ticks": ""
            },
            "colorscale": [
             [
              0.0,
              "#0d0887"
             ],
             [
              0.1111111111111111,
              "#46039f"
             ],
             [
              0.2222222222222222,
              "#7201a8"
             ],
             [
              0.3333333333333333,
              "#9c179e"
             ],
             [
              0.4444444444444444,
              "#bd3786"
             ],
             [
              0.5555555555555556,
              "#d8576b"
             ],
             [
              0.6666666666666666,
              "#ed7953"
             ],
             [
              0.7777777777777778,
              "#fb9f3a"
             ],
             [
              0.8888888888888888,
              "#fdca26"
             ],
             [
              1.0,
              "#f0f921"
             ]
            ],
            "type": "heatmap"
           }
          ],
          "histogram2dcontour": [
           {
            "colorbar": {
             "outlinewidth": 0,
             "ticks": ""
            },
            "colorscale": [
             [
              0.0,
              "#0d0887"
             ],
             [
              0.1111111111111111,
              "#46039f"
             ],
             [
              0.2222222222222222,
              "#7201a8"
             ],
             [
              0.3333333333333333,
              "#9c179e"
             ],
             [
              0.4444444444444444,
              "#bd3786"
             ],
             [
              0.5555555555555556,
              "#d8576b"
             ],
             [
              0.6666666666666666,
              "#ed7953"
             ],
             [
              0.7777777777777778,
              "#fb9f3a"
             ],
             [
              0.8888888888888888,
              "#fdca26"
             ],
             [
              1.0,
              "#f0f921"
             ]
            ],
            "type": "histogram2dcontour"
           }
          ],
          "histogram2d": [
           {
            "colorbar": {
             "outlinewidth": 0,
             "ticks": ""
            },
            "colorscale": [
             [
              0.0,
              "#0d0887"
             ],
             [
              0.1111111111111111,
              "#46039f"
             ],
             [
              0.2222222222222222,
              "#7201a8"
             ],
             [
              0.3333333333333333,
              "#9c179e"
             ],
             [
              0.4444444444444444,
              "#bd3786"
             ],
             [
              0.5555555555555556,
              "#d8576b"
             ],
             [
              0.6666666666666666,
              "#ed7953"
             ],
             [
              0.7777777777777778,
              "#fb9f3a"
             ],
             [
              0.8888888888888888,
              "#fdca26"
             ],
             [
              1.0,
              "#f0f921"
             ]
            ],
            "type": "histogram2d"
           }
          ],
          "histogram": [
           {
            "marker": {
             "pattern": {
              "fillmode": "overlay",
              "size": 10,
              "solidity": 0.2
             }
            },
            "type": "histogram"
           }
          ],
          "mesh3d": [
           {
            "colorbar": {
             "outlinewidth": 0,
             "ticks": ""
            },
            "type": "mesh3d"
           }
          ],
          "parcoords": [
           {
            "line": {
             "colorbar": {
              "outlinewidth": 0,
              "ticks": ""
             }
            },
            "type": "parcoords"
           }
          ],
          "pie": [
           {
            "automargin": true,
            "type": "pie"
           }
          ],
          "scatter3d": [
           {
            "line": {
             "colorbar": {
              "outlinewidth": 0,
              "ticks": ""
             }
            },
            "marker": {
             "colorbar": {
              "outlinewidth": 0,
              "ticks": ""
             }
            },
            "type": "scatter3d"
           }
          ],
          "scattercarpet": [
           {
            "marker": {
             "colorbar": {
              "outlinewidth": 0,
              "ticks": ""
             }
            },
            "type": "scattercarpet"
           }
          ],
          "scattergeo": [
           {
            "marker": {
             "colorbar": {
              "outlinewidth": 0,
              "ticks": ""
             }
            },
            "type": "scattergeo"
           }
          ],
          "scattergl": [
           {
            "marker": {
             "colorbar": {
              "outlinewidth": 0,
              "ticks": ""
             }
            },
            "type": "scattergl"
           }
          ],
          "scattermapbox": [
           {
            "marker": {
             "colorbar": {
              "outlinewidth": 0,
              "ticks": ""
             }
            },
            "type": "scattermapbox"
           }
          ],
          "scatterpolargl": [
           {
            "marker": {
             "colorbar": {
              "outlinewidth": 0,
              "ticks": ""
             }
            },
            "type": "scatterpolargl"
           }
          ],
          "scatterpolar": [
           {
            "marker": {
             "colorbar": {
              "outlinewidth": 0,
              "ticks": ""
             }
            },
            "type": "scatterpolar"
           }
          ],
          "scatter": [
           {
            "fillpattern": {
             "fillmode": "overlay",
             "size": 10,
             "solidity": 0.2
            },
            "type": "scatter"
           }
          ],
          "scatterternary": [
           {
            "marker": {
             "colorbar": {
              "outlinewidth": 0,
              "ticks": ""
             }
            },
            "type": "scatterternary"
           }
          ],
          "surface": [
           {
            "colorbar": {
             "outlinewidth": 0,
             "ticks": ""
            },
            "colorscale": [
             [
              0.0,
              "#0d0887"
             ],
             [
              0.1111111111111111,
              "#46039f"
             ],
             [
              0.2222222222222222,
              "#7201a8"
             ],
             [
              0.3333333333333333,
              "#9c179e"
             ],
             [
              0.4444444444444444,
              "#bd3786"
             ],
             [
              0.5555555555555556,
              "#d8576b"
             ],
             [
              0.6666666666666666,
              "#ed7953"
             ],
             [
              0.7777777777777778,
              "#fb9f3a"
             ],
             [
              0.8888888888888888,
              "#fdca26"
             ],
             [
              1.0,
              "#f0f921"
             ]
            ],
            "type": "surface"
           }
          ],
          "table": [
           {
            "cells": {
             "fill": {
              "color": "#EBF0F8"
             },
             "line": {
              "color": "white"
             }
            },
            "header": {
             "fill": {
              "color": "#C8D4E3"
             },
             "line": {
              "color": "white"
             }
            },
            "type": "table"
           }
          ]
         },
         "layout": {
          "annotationdefaults": {
           "arrowcolor": "#2a3f5f",
           "arrowhead": 0,
           "arrowwidth": 1
          },
          "autotypenumbers": "strict",
          "coloraxis": {
           "colorbar": {
            "outlinewidth": 0,
            "ticks": ""
           }
          },
          "colorscale": {
           "diverging": [
            [
             0,
             "#8e0152"
            ],
            [
             0.1,
             "#c51b7d"
            ],
            [
             0.2,
             "#de77ae"
            ],
            [
             0.3,
             "#f1b6da"
            ],
            [
             0.4,
             "#fde0ef"
            ],
            [
             0.5,
             "#f7f7f7"
            ],
            [
             0.6,
             "#e6f5d0"
            ],
            [
             0.7,
             "#b8e186"
            ],
            [
             0.8,
             "#7fbc41"
            ],
            [
             0.9,
             "#4d9221"
            ],
            [
             1,
             "#276419"
            ]
           ],
           "sequential": [
            [
             0.0,
             "#0d0887"
            ],
            [
             0.1111111111111111,
             "#46039f"
            ],
            [
             0.2222222222222222,
             "#7201a8"
            ],
            [
             0.3333333333333333,
             "#9c179e"
            ],
            [
             0.4444444444444444,
             "#bd3786"
            ],
            [
             0.5555555555555556,
             "#d8576b"
            ],
            [
             0.6666666666666666,
             "#ed7953"
            ],
            [
             0.7777777777777778,
             "#fb9f3a"
            ],
            [
             0.8888888888888888,
             "#fdca26"
            ],
            [
             1.0,
             "#f0f921"
            ]
           ],
           "sequentialminus": [
            [
             0.0,
             "#0d0887"
            ],
            [
             0.1111111111111111,
             "#46039f"
            ],
            [
             0.2222222222222222,
             "#7201a8"
            ],
            [
             0.3333333333333333,
             "#9c179e"
            ],
            [
             0.4444444444444444,
             "#bd3786"
            ],
            [
             0.5555555555555556,
             "#d8576b"
            ],
            [
             0.6666666666666666,
             "#ed7953"
            ],
            [
             0.7777777777777778,
             "#fb9f3a"
            ],
            [
             0.8888888888888888,
             "#fdca26"
            ],
            [
             1.0,
             "#f0f921"
            ]
           ]
          },
          "colorway": [
           "#636efa",
           "#EF553B",
           "#00cc96",
           "#ab63fa",
           "#FFA15A",
           "#19d3f3",
           "#FF6692",
           "#B6E880",
           "#FF97FF",
           "#FECB52"
          ],
          "font": {
           "color": "#2a3f5f"
          },
          "geo": {
           "bgcolor": "white",
           "lakecolor": "white",
           "landcolor": "#E5ECF6",
           "showlakes": true,
           "showland": true,
           "subunitcolor": "white"
          },
          "hoverlabel": {
           "align": "left"
          },
          "hovermode": "closest",
          "mapbox": {
           "style": "light"
          },
          "paper_bgcolor": "white",
          "plot_bgcolor": "#E5ECF6",
          "polar": {
           "angularaxis": {
            "gridcolor": "white",
            "linecolor": "white",
            "ticks": ""
           },
           "bgcolor": "#E5ECF6",
           "radialaxis": {
            "gridcolor": "white",
            "linecolor": "white",
            "ticks": ""
           }
          },
          "scene": {
           "xaxis": {
            "backgroundcolor": "#E5ECF6",
            "gridcolor": "white",
            "gridwidth": 2,
            "linecolor": "white",
            "showbackground": true,
            "ticks": "",
            "zerolinecolor": "white"
           },
           "yaxis": {
            "backgroundcolor": "#E5ECF6",
            "gridcolor": "white",
            "gridwidth": 2,
            "linecolor": "white",
            "showbackground": true,
            "ticks": "",
            "zerolinecolor": "white"
           },
           "zaxis": {
            "backgroundcolor": "#E5ECF6",
            "gridcolor": "white",
            "gridwidth": 2,
            "linecolor": "white",
            "showbackground": true,
            "ticks": "",
            "zerolinecolor": "white"
           }
          },
          "shapedefaults": {
           "line": {
            "color": "#2a3f5f"
           }
          },
          "ternary": {
           "aaxis": {
            "gridcolor": "white",
            "linecolor": "white",
            "ticks": ""
           },
           "baxis": {
            "gridcolor": "white",
            "linecolor": "white",
            "ticks": ""
           },
           "bgcolor": "#E5ECF6",
           "caxis": {
            "gridcolor": "white",
            "linecolor": "white",
            "ticks": ""
           }
          },
          "title": {
           "x": 0.05
          },
          "xaxis": {
           "automargin": true,
           "gridcolor": "white",
           "linecolor": "white",
           "ticks": "",
           "title": {
            "standoff": 15
           },
           "zerolinecolor": "white",
           "zerolinewidth": 2
          },
          "yaxis": {
           "automargin": true,
           "gridcolor": "white",
           "linecolor": "white",
           "ticks": "",
           "title": {
            "standoff": 15
           },
           "zerolinecolor": "white",
           "zerolinewidth": 2
          }
         }
        }
       },
       "config": {
        "showLink": false,
        "linkText": "Export to plot.ly",
        "plotlyServerURL": "https://plot.ly"
       }
      },
      "text/html": "<div>                            <div id=\"466b0e14-927d-4464-8ca2-95f0d468aeca\" class=\"plotly-graph-div\" style=\"height:525px; width:100%;\"></div>            <script type=\"text/javascript\">                require([\"plotly\"], function(Plotly) {                    window.PLOTLYENV=window.PLOTLYENV || {};                                    if (document.getElementById(\"466b0e14-927d-4464-8ca2-95f0d468aeca\")) {                    Plotly.newPlot(                        \"466b0e14-927d-4464-8ca2-95f0d468aeca\",                        [{\"mode\":\"lines\",\"name\":\"predict\",\"y\":[0.6122718453407288,0.6209942698478699,0.6355723142623901,0.6495240926742554,0.6617732644081116],\"type\":\"scatter\"},{\"mode\":\"lines\",\"name\":\"target\",\"y\":[0.6665116548538208,0.6440897583961487,0.6411778330802917,0.6487488746643066,0.6440897583961487],\"type\":\"scatter\"}],                        {\"template\":{\"data\":{\"barpolar\":[{\"marker\":{\"line\":{\"color\":\"#E5ECF6\",\"width\":0.5},\"pattern\":{\"fillmode\":\"overlay\",\"size\":10,\"solidity\":0.2}},\"type\":\"barpolar\"}],\"bar\":[{\"error_x\":{\"color\":\"#2a3f5f\"},\"error_y\":{\"color\":\"#2a3f5f\"},\"marker\":{\"line\":{\"color\":\"#E5ECF6\",\"width\":0.5},\"pattern\":{\"fillmode\":\"overlay\",\"size\":10,\"solidity\":0.2}},\"type\":\"bar\"}],\"carpet\":[{\"aaxis\":{\"endlinecolor\":\"#2a3f5f\",\"gridcolor\":\"white\",\"linecolor\":\"white\",\"minorgridcolor\":\"white\",\"startlinecolor\":\"#2a3f5f\"},\"baxis\":{\"endlinecolor\":\"#2a3f5f\",\"gridcolor\":\"white\",\"linecolor\":\"white\",\"minorgridcolor\":\"white\",\"startlinecolor\":\"#2a3f5f\"},\"type\":\"carpet\"}],\"choropleth\":[{\"colorbar\":{\"outlinewidth\":0,\"ticks\":\"\"},\"type\":\"choropleth\"}],\"contourcarpet\":[{\"colorbar\":{\"outlinewidth\":0,\"ticks\":\"\"},\"type\":\"contourcarpet\"}],\"contour\":[{\"colorbar\":{\"outlinewidth\":0,\"ticks\":\"\"},\"colorscale\":[[0.0,\"#0d0887\"],[0.1111111111111111,\"#46039f\"],[0.2222222222222222,\"#7201a8\"],[0.3333333333333333,\"#9c179e\"],[0.4444444444444444,\"#bd3786\"],[0.5555555555555556,\"#d8576b\"],[0.6666666666666666,\"#ed7953\"],[0.7777777777777778,\"#fb9f3a\"],[0.8888888888888888,\"#fdca26\"],[1.0,\"#f0f921\"]],\"type\":\"contour\"}],\"heatmapgl\":[{\"colorbar\":{\"outlinewidth\":0,\"ticks\":\"\"},\"colorscale\":[[0.0,\"#0d0887\"],[0.1111111111111111,\"#46039f\"],[0.2222222222222222,\"#7201a8\"],[0.3333333333333333,\"#9c179e\"],[0.4444444444444444,\"#bd3786\"],[0.5555555555555556,\"#d8576b\"],[0.6666666666666666,\"#ed7953\"],[0.7777777777777778,\"#fb9f3a\"],[0.8888888888888888,\"#fdca26\"],[1.0,\"#f0f921\"]],\"type\":\"heatmapgl\"}],\"heatmap\":[{\"colorbar\":{\"outlinewidth\":0,\"ticks\":\"\"},\"colorscale\":[[0.0,\"#0d0887\"],[0.1111111111111111,\"#46039f\"],[0.2222222222222222,\"#7201a8\"],[0.3333333333333333,\"#9c179e\"],[0.4444444444444444,\"#bd3786\"],[0.5555555555555556,\"#d8576b\"],[0.6666666666666666,\"#ed7953\"],[0.7777777777777778,\"#fb9f3a\"],[0.8888888888888888,\"#fdca26\"],[1.0,\"#f0f921\"]],\"type\":\"heatmap\"}],\"histogram2dcontour\":[{\"colorbar\":{\"outlinewidth\":0,\"ticks\":\"\"},\"colorscale\":[[0.0,\"#0d0887\"],[0.1111111111111111,\"#46039f\"],[0.2222222222222222,\"#7201a8\"],[0.3333333333333333,\"#9c179e\"],[0.4444444444444444,\"#bd3786\"],[0.5555555555555556,\"#d8576b\"],[0.6666666666666666,\"#ed7953\"],[0.7777777777777778,\"#fb9f3a\"],[0.8888888888888888,\"#fdca26\"],[1.0,\"#f0f921\"]],\"type\":\"histogram2dcontour\"}],\"histogram2d\":[{\"colorbar\":{\"outlinewidth\":0,\"ticks\":\"\"},\"colorscale\":[[0.0,\"#0d0887\"],[0.1111111111111111,\"#46039f\"],[0.2222222222222222,\"#7201a8\"],[0.3333333333333333,\"#9c179e\"],[0.4444444444444444,\"#bd3786\"],[0.5555555555555556,\"#d8576b\"],[0.6666666666666666,\"#ed7953\"],[0.7777777777777778,\"#fb9f3a\"],[0.8888888888888888,\"#fdca26\"],[1.0,\"#f0f921\"]],\"type\":\"histogram2d\"}],\"histogram\":[{\"marker\":{\"pattern\":{\"fillmode\":\"overlay\",\"size\":10,\"solidity\":0.2}},\"type\":\"histogram\"}],\"mesh3d\":[{\"colorbar\":{\"outlinewidth\":0,\"ticks\":\"\"},\"type\":\"mesh3d\"}],\"parcoords\":[{\"line\":{\"colorbar\":{\"outlinewidth\":0,\"ticks\":\"\"}},\"type\":\"parcoords\"}],\"pie\":[{\"automargin\":true,\"type\":\"pie\"}],\"scatter3d\":[{\"line\":{\"colorbar\":{\"outlinewidth\":0,\"ticks\":\"\"}},\"marker\":{\"colorbar\":{\"outlinewidth\":0,\"ticks\":\"\"}},\"type\":\"scatter3d\"}],\"scattercarpet\":[{\"marker\":{\"colorbar\":{\"outlinewidth\":0,\"ticks\":\"\"}},\"type\":\"scattercarpet\"}],\"scattergeo\":[{\"marker\":{\"colorbar\":{\"outlinewidth\":0,\"ticks\":\"\"}},\"type\":\"scattergeo\"}],\"scattergl\":[{\"marker\":{\"colorbar\":{\"outlinewidth\":0,\"ticks\":\"\"}},\"type\":\"scattergl\"}],\"scattermapbox\":[{\"marker\":{\"colorbar\":{\"outlinewidth\":0,\"ticks\":\"\"}},\"type\":\"scattermapbox\"}],\"scatterpolargl\":[{\"marker\":{\"colorbar\":{\"outlinewidth\":0,\"ticks\":\"\"}},\"type\":\"scatterpolargl\"}],\"scatterpolar\":[{\"marker\":{\"colorbar\":{\"outlinewidth\":0,\"ticks\":\"\"}},\"type\":\"scatterpolar\"}],\"scatter\":[{\"fillpattern\":{\"fillmode\":\"overlay\",\"size\":10,\"solidity\":0.2},\"type\":\"scatter\"}],\"scatterternary\":[{\"marker\":{\"colorbar\":{\"outlinewidth\":0,\"ticks\":\"\"}},\"type\":\"scatterternary\"}],\"surface\":[{\"colorbar\":{\"outlinewidth\":0,\"ticks\":\"\"},\"colorscale\":[[0.0,\"#0d0887\"],[0.1111111111111111,\"#46039f\"],[0.2222222222222222,\"#7201a8\"],[0.3333333333333333,\"#9c179e\"],[0.4444444444444444,\"#bd3786\"],[0.5555555555555556,\"#d8576b\"],[0.6666666666666666,\"#ed7953\"],[0.7777777777777778,\"#fb9f3a\"],[0.8888888888888888,\"#fdca26\"],[1.0,\"#f0f921\"]],\"type\":\"surface\"}],\"table\":[{\"cells\":{\"fill\":{\"color\":\"#EBF0F8\"},\"line\":{\"color\":\"white\"}},\"header\":{\"fill\":{\"color\":\"#C8D4E3\"},\"line\":{\"color\":\"white\"}},\"type\":\"table\"}]},\"layout\":{\"annotationdefaults\":{\"arrowcolor\":\"#2a3f5f\",\"arrowhead\":0,\"arrowwidth\":1},\"autotypenumbers\":\"strict\",\"coloraxis\":{\"colorbar\":{\"outlinewidth\":0,\"ticks\":\"\"}},\"colorscale\":{\"diverging\":[[0,\"#8e0152\"],[0.1,\"#c51b7d\"],[0.2,\"#de77ae\"],[0.3,\"#f1b6da\"],[0.4,\"#fde0ef\"],[0.5,\"#f7f7f7\"],[0.6,\"#e6f5d0\"],[0.7,\"#b8e186\"],[0.8,\"#7fbc41\"],[0.9,\"#4d9221\"],[1,\"#276419\"]],\"sequential\":[[0.0,\"#0d0887\"],[0.1111111111111111,\"#46039f\"],[0.2222222222222222,\"#7201a8\"],[0.3333333333333333,\"#9c179e\"],[0.4444444444444444,\"#bd3786\"],[0.5555555555555556,\"#d8576b\"],[0.6666666666666666,\"#ed7953\"],[0.7777777777777778,\"#fb9f3a\"],[0.8888888888888888,\"#fdca26\"],[1.0,\"#f0f921\"]],\"sequentialminus\":[[0.0,\"#0d0887\"],[0.1111111111111111,\"#46039f\"],[0.2222222222222222,\"#7201a8\"],[0.3333333333333333,\"#9c179e\"],[0.4444444444444444,\"#bd3786\"],[0.5555555555555556,\"#d8576b\"],[0.6666666666666666,\"#ed7953\"],[0.7777777777777778,\"#fb9f3a\"],[0.8888888888888888,\"#fdca26\"],[1.0,\"#f0f921\"]]},\"colorway\":[\"#636efa\",\"#EF553B\",\"#00cc96\",\"#ab63fa\",\"#FFA15A\",\"#19d3f3\",\"#FF6692\",\"#B6E880\",\"#FF97FF\",\"#FECB52\"],\"font\":{\"color\":\"#2a3f5f\"},\"geo\":{\"bgcolor\":\"white\",\"lakecolor\":\"white\",\"landcolor\":\"#E5ECF6\",\"showlakes\":true,\"showland\":true,\"subunitcolor\":\"white\"},\"hoverlabel\":{\"align\":\"left\"},\"hovermode\":\"closest\",\"mapbox\":{\"style\":\"light\"},\"paper_bgcolor\":\"white\",\"plot_bgcolor\":\"#E5ECF6\",\"polar\":{\"angularaxis\":{\"gridcolor\":\"white\",\"linecolor\":\"white\",\"ticks\":\"\"},\"bgcolor\":\"#E5ECF6\",\"radialaxis\":{\"gridcolor\":\"white\",\"linecolor\":\"white\",\"ticks\":\"\"}},\"scene\":{\"xaxis\":{\"backgroundcolor\":\"#E5ECF6\",\"gridcolor\":\"white\",\"gridwidth\":2,\"linecolor\":\"white\",\"showbackground\":true,\"ticks\":\"\",\"zerolinecolor\":\"white\"},\"yaxis\":{\"backgroundcolor\":\"#E5ECF6\",\"gridcolor\":\"white\",\"gridwidth\":2,\"linecolor\":\"white\",\"showbackground\":true,\"ticks\":\"\",\"zerolinecolor\":\"white\"},\"zaxis\":{\"backgroundcolor\":\"#E5ECF6\",\"gridcolor\":\"white\",\"gridwidth\":2,\"linecolor\":\"white\",\"showbackground\":true,\"ticks\":\"\",\"zerolinecolor\":\"white\"}},\"shapedefaults\":{\"line\":{\"color\":\"#2a3f5f\"}},\"ternary\":{\"aaxis\":{\"gridcolor\":\"white\",\"linecolor\":\"white\",\"ticks\":\"\"},\"baxis\":{\"gridcolor\":\"white\",\"linecolor\":\"white\",\"ticks\":\"\"},\"bgcolor\":\"#E5ECF6\",\"caxis\":{\"gridcolor\":\"white\",\"linecolor\":\"white\",\"ticks\":\"\"}},\"title\":{\"x\":0.05},\"xaxis\":{\"automargin\":true,\"gridcolor\":\"white\",\"linecolor\":\"white\",\"ticks\":\"\",\"title\":{\"standoff\":15},\"zerolinecolor\":\"white\",\"zerolinewidth\":2},\"yaxis\":{\"automargin\":true,\"gridcolor\":\"white\",\"linecolor\":\"white\",\"ticks\":\"\",\"title\":{\"standoff\":15},\"zerolinecolor\":\"white\",\"zerolinewidth\":2}}}},                        {\"responsive\": true}                    ).then(function(){\n                            \nvar gd = document.getElementById('466b0e14-927d-4464-8ca2-95f0d468aeca');\nvar x = new MutationObserver(function (mutations, observer) {{\n        var display = window.getComputedStyle(gd).display;\n        if (!display || display === 'none') {{\n            console.log([gd, 'removed!']);\n            Plotly.purge(gd);\n            observer.disconnect();\n        }}\n}});\n\n// Listen for the removal of the full notebook cells\nvar notebookContainer = gd.closest('#notebook-container');\nif (notebookContainer) {{\n    x.observe(notebookContainer, {childList: true});\n}}\n\n// Listen for the clearing of the current output cell\nvar outputEl = gd.closest('.output');\nif (outputEl) {{\n    x.observe(outputEl, {childList: true});\n}}\n\n                        })                };                });            </script>        </div>"
     },
     "metadata": {},
     "output_type": "display_data"
    }
   ],
   "source": [
    "import plotly.graph_objs as go\n",
    "import plotly.offline as py\n",
    "import numpy as np\n",
    "show_index = 1\n",
    "trace0 = go.Scatter(\n",
    "    # x = np.linspace(0, 1, 30),\n",
    "    y = predicts[0][show_index].numpy(),\n",
    "    mode = \"lines\",\n",
    "    name = \"predict\"\n",
    ")\n",
    "trace1 = go.Scatter(\n",
    "    # x = np.linspace(0, 1, 30),\n",
    "    y = targets[0][show_index].numpy(),\n",
    "    mode = \"lines\",\n",
    "    name = \"target\"\n",
    ")\n",
    "data = [trace0, trace1]\n",
    "py.iplot(data)"
   ],
   "metadata": {
    "collapsed": false,
    "pycharm": {
     "name": "#%%\n"
    }
   }
  },
  {
   "cell_type": "code",
   "execution_count": 9,
   "outputs": [
    {
     "name": "stdout",
     "output_type": "stream",
     "text": [
      "910\n"
     ]
    },
    {
     "data": {
      "application/vnd.plotly.v1+json": {
       "data": [
        {
         "mode": "lines",
         "name": "loss",
         "y": [
          2059.22412109375,
          1424.02685546875,
          973.7554321289062,
          427.8509826660156,
          307.678955078125,
          257.1806945800781,
          136.21820068359375,
          119.39474487304688,
          133.96035766601562,
          91.90619659423828,
          70.7054443359375,
          115.10844421386719,
          95.39773559570312,
          84.48664093017578,
          38.52339172363281,
          68.70150756835938,
          46.445594787597656,
          36.129554748535156,
          42.318050384521484,
          54.016334533691406,
          37.556297302246094,
          22.16068458557129,
          34.44839859008789,
          38.40826416015625,
          27.841413497924805,
          22.022729873657227,
          17.030200958251953,
          25.278644561767578,
          20.82156753540039,
          16.07335662841797,
          18.01021385192871,
          17.816883087158203,
          17.842256546020508,
          20.32471466064453,
          16.340045928955078,
          17.764724731445312,
          22.23631477355957,
          21.468189239501953,
          17.294124603271484,
          13.232099533081055,
          14.504039764404297,
          15.551365852355957,
          15.780097961425781,
          18.148221969604492,
          23.122190475463867,
          16.217147827148438,
          13.112255096435547,
          15.071146011352539,
          16.263111114501953,
          14.995685577392578,
          17.875486373901367,
          14.21977424621582,
          16.143165588378906,
          14.778619766235352,
          13.087370872497559,
          12.781588554382324,
          13.175348281860352,
          13.652849197387695,
          14.159272193908691,
          14.39671516418457,
          14.466032028198242,
          13.847161293029785,
          16.230838775634766,
          15.277402877807617,
          15.505456924438477,
          13.111272811889648,
          12.979072570800781,
          16.47585678100586,
          19.88089370727539,
          19.32828712463379,
          16.712600708007812,
          20.811914443969727,
          22.0313777923584,
          16.554264068603516,
          20.202163696289062,
          18.189674377441406,
          20.553207397460938,
          22.513385772705078,
          18.318105697631836,
          15.940786361694336,
          14.230945587158203,
          16.98226547241211,
          14.420472145080566,
          20.278465270996094,
          17.2269229888916,
          22.438190460205078,
          20.373760223388672,
          18.698490142822266,
          25.464916229248047,
          16.309171676635742,
          17.044082641601562,
          14.594029426574707,
          25.631887435913086,
          27.584074020385742,
          18.776412963867188,
          25.63852310180664,
          22.159465789794922,
          22.016542434692383,
          21.045278549194336,
          18.272136688232422,
          22.092243194580078,
          18.581615447998047,
          18.855867385864258,
          16.537384033203125,
          15.459858894348145,
          15.087281227111816,
          16.25718879699707,
          14.40556526184082,
          13.173080444335938,
          11.445201873779297,
          11.405070304870605,
          14.02214527130127,
          18.07216453552246,
          20.395423889160156,
          16.794172286987305,
          11.875985145568848,
          12.496057510375977,
          16.664939880371094,
          16.781869888305664,
          14.083242416381836,
          12.572444915771484,
          11.208515167236328,
          12.600582122802734,
          12.097993850708008,
          11.864866256713867,
          11.168330192565918,
          11.066757202148438,
          13.103172302246094,
          11.638032913208008,
          20.623390197753906,
          22.113183975219727,
          18.340373992919922,
          11.458930969238281,
          14.038870811462402,
          12.898650169372559,
          18.573211669921875,
          15.272502899169922,
          11.72269344329834,
          9.540776252746582,
          9.54843521118164,
          9.782054901123047,
          11.879633903503418,
          11.91535758972168,
          10.260292053222656,
          9.257438659667969,
          11.883591651916504,
          13.679176330566406,
          13.482697486877441,
          10.156122207641602,
          8.445791244506836,
          7.507294654846191,
          11.110403060913086,
          11.253286361694336,
          12.224252700805664,
          9.970987319946289,
          10.442872047424316,
          9.160685539245605,
          8.26511287689209,
          7.728523254394531,
          7.48610782623291,
          6.894618034362793,
          7.559510231018066,
          6.626394271850586,
          8.825697898864746,
          9.41408634185791,
          8.683109283447266,
          7.523014068603516,
          7.3584394454956055,
          7.79123067855835,
          7.357605457305908,
          6.585343360900879,
          6.8173418045043945,
          7.138535976409912,
          6.554856300354004,
          5.911615371704102,
          10.2852144241333,
          14.449222564697266,
          13.700492858886719,
          11.206111907958984,
          10.913987159729004,
          14.056028366088867,
          15.058762550354004,
          11.094156265258789,
          10.311304092407227,
          13.487902641296387,
          12.320240020751953,
          9.44067668914795,
          8.925371170043945,
          10.80119514465332,
          9.51284408569336,
          5.863828659057617,
          6.689853668212891,
          7.7374796867370605,
          6.034177303314209,
          6.383386611938477,
          7.469357967376709,
          6.497297286987305,
          8.012990951538086,
          13.939397811889648,
          13.09412670135498,
          8.666767120361328,
          9.171158790588379,
          10.826245307922363,
          11.512489318847656,
          7.957008361816406,
          8.381425857543945,
          9.00764274597168,
          8.524164199829102,
          6.866137504577637,
          9.048173904418945,
          11.993090629577637,
          8.764986038208008,
          6.480410099029541,
          9.234267234802246,
          11.901394844055176,
          10.046648025512695,
          7.040867805480957,
          8.539802551269531,
          9.675233840942383,
          8.37820053100586,
          7.253780364990234,
          7.796600341796875,
          7.733339786529541,
          6.96229887008667,
          6.889930725097656,
          8.020952224731445,
          6.435188293457031,
          6.053647518157959,
          7.624505043029785,
          6.629034519195557,
          6.575165748596191,
          6.843847274780273,
          8.082047462463379,
          7.344535827636719,
          7.469662666320801,
          7.878152847290039,
          6.7262468338012695,
          7.3309173583984375,
          6.547435760498047,
          5.318264007568359,
          6.594979763031006,
          7.48259162902832,
          5.796246528625488,
          6.043760299682617,
          7.502189636230469,
          7.0937910079956055,
          6.114936351776123,
          7.17293643951416,
          7.665279388427734,
          6.666838645935059,
          6.4658660888671875,
          6.182589530944824,
          5.601241111755371,
          5.621452331542969,
          5.408459663391113,
          5.652144432067871,
          4.794601917266846,
          4.538670063018799,
          5.105571269989014,
          4.644726276397705,
          5.362008094787598,
          5.512203216552734,
          4.9680070877075195,
          6.925457000732422,
          7.0342302322387695,
          7.406445503234863,
          6.664587020874023,
          6.789726734161377,
          6.872920989990234,
          7.020829200744629,
          6.369505882263184,
          6.100191116333008,
          7.168824195861816,
          6.979794025421143,
          7.229861259460449,
          6.374975681304932,
          6.779994964599609,
          8.771799087524414,
          8.31916618347168,
          8.452858924865723,
          6.990962505340576,
          7.736843585968018,
          9.792400360107422,
          10.997751235961914,
          10.428531646728516,
          8.13005256652832,
          8.232573509216309,
          9.5667724609375,
          11.151034355163574,
          8.9599609375,
          8.386823654174805,
          8.781631469726562,
          9.451491355895996,
          10.090727806091309,
          8.266443252563477,
          8.541069030761719,
          9.33771800994873,
          10.874073028564453,
          10.438511848449707,
          9.546500205993652,
          9.92763900756836,
          10.259410858154297,
          10.131447792053223,
          9.642879486083984,
          9.074287414550781,
          8.829320907592773,
          8.777894973754883,
          9.014469146728516,
          8.50981330871582,
          8.761856079101562,
          8.969391822814941,
          8.837321281433105,
          8.801651954650879,
          8.586230278015137,
          8.620363235473633,
          8.246016502380371,
          7.967630386352539,
          7.778002738952637,
          7.548544406890869,
          7.646195888519287,
          7.504088401794434,
          8.123248100280762,
          9.2142972946167,
          10.083808898925781,
          10.811725616455078,
          11.805459976196289,
          12.710174560546875,
          11.964558601379395,
          10.698827743530273,
          9.73818588256836,
          9.983967781066895,
          10.014754295349121,
          9.602386474609375,
          9.42770767211914,
          9.031900405883789,
          9.022326469421387,
          8.755188941955566,
          8.572864532470703,
          8.00167179107666,
          8.229784965515137,
          8.848618507385254,
          9.326905250549316,
          9.198875427246094,
          9.459287643432617,
          9.773214340209961,
          10.74767780303955,
          10.91497802734375,
          10.522465705871582,
          10.57949447631836,
          11.586133003234863,
          13.452773094177246,
          13.082935333251953,
          10.866744995117188,
          9.663667678833008,
          8.702374458312988,
          9.002375602722168,
          7.6814703941345215,
          6.741605758666992,
          6.43028450012207,
          6.255375385284424,
          6.225423812866211,
          6.372219562530518,
          7.079932689666748,
          6.702911376953125,
          6.457529544830322,
          6.407990455627441,
          5.801267623901367,
          6.650131702423096,
          5.762740135192871,
          5.6042375564575195,
          5.809825897216797,
          6.00120735168457,
          5.333754062652588,
          5.295851230621338,
          5.236871719360352,
          6.010128974914551,
          5.564051628112793,
          5.507080078125,
          5.39268684387207,
          5.370144844055176,
          5.441781997680664,
          5.3693718910217285,
          5.533479690551758,
          5.505594253540039,
          5.439076900482178,
          5.4827351570129395,
          5.7590250968933105,
          5.8594865798950195,
          6.27581787109375,
          6.713678359985352,
          7.173473358154297,
          7.610455513000488,
          7.9413909912109375,
          9.080721855163574,
          9.474662780761719,
          10.042243003845215,
          10.840215682983398,
          11.671562194824219,
          12.795310974121094,
          15.879732131958008,
          17.904254913330078,
          20.750566482543945,
          22.606311798095703,
          23.894168853759766,
          24.95018768310547,
          25.81220245361328,
          24.83782386779785,
          22.731035232543945,
          23.710609436035156,
          21.95893669128418,
          22.29517364501953,
          23.97266960144043,
          24.51650047302246,
          27.630191802978516,
          28.546207427978516,
          27.232784271240234,
          23.142915725708008,
          22.231876373291016,
          22.87297248840332,
          27.183910369873047,
          28.88819694519043,
          31.468032836914062,
          28.536956787109375,
          27.05207061767578,
          25.670156478881836,
          27.799480438232422,
          28.162158966064453,
          27.93545913696289,
          24.972270965576172,
          23.804454803466797,
          24.00762176513672,
          25.515239715576172,
          25.26030731201172,
          25.428621292114258,
          23.572288513183594,
          22.199296951293945,
          21.165843963623047,
          21.785690307617188,
          21.832504272460938,
          19.98982048034668,
          17.87281036376953,
          16.417949676513672,
          15.481006622314453,
          14.879979133605957,
          13.504349708557129,
          13.373016357421875,
          11.690786361694336,
          10.566449165344238,
          10.57773208618164,
          10.915935516357422,
          11.138101577758789,
          10.545235633850098,
          10.082271575927734,
          9.77027702331543,
          9.498092651367188,
          8.935737609863281,
          8.40042495727539,
          7.9292311668396,
          7.7263593673706055,
          7.626117706298828,
          7.75970458984375,
          7.899048328399658,
          7.993873596191406,
          8.397891998291016,
          8.433700561523438,
          10.056113243103027,
          11.252670288085938,
          12.258868217468262,
          13.291316032409668,
          15.121607780456543,
          17.855091094970703,
          16.820154190063477,
          16.130203247070312,
          14.66202163696289,
          14.06041145324707,
          16.786052703857422,
          16.449392318725586,
          16.92546844482422,
          17.093637466430664,
          16.746488571166992,
          16.18227767944336,
          16.06914520263672,
          16.591388702392578,
          17.3300838470459,
          16.625463485717773,
          15.972410202026367,
          14.703737258911133,
          13.443058013916016,
          12.593461036682129,
          12.082351684570312,
          12.14948844909668,
          11.52515697479248,
          10.965631484985352,
          10.820486068725586,
          10.987801551818848,
          10.123495101928711,
          10.04015064239502,
          9.926944732666016,
          10.36623764038086,
          11.224944114685059,
          13.127080917358398,
          13.611024856567383,
          13.716456413269043,
          13.621136665344238,
          13.518964767456055,
          14.121209144592285,
          14.563539505004883,
          15.273216247558594,
          15.763834953308105,
          15.76237678527832,
          15.66884708404541,
          15.162343978881836,
          14.860830307006836,
          14.027972221374512,
          13.591131210327148,
          13.52741527557373,
          12.493817329406738,
          11.846391677856445,
          11.994500160217285,
          12.346625328063965,
          13.57655143737793,
          13.815733909606934,
          14.017146110534668,
          13.975245475769043,
          13.54824447631836,
          12.976805686950684,
          13.043905258178711,
          13.341066360473633,
          15.997247695922852,
          15.4136323928833,
          14.58435344696045,
          14.524375915527344,
          14.102052688598633,
          14.11323356628418,
          14.419798851013184,
          16.060081481933594,
          15.672524452209473,
          15.475963592529297,
          15.808112144470215,
          16.7508602142334,
          17.296306610107422,
          17.121253967285156,
          17.381694793701172,
          17.293119430541992,
          17.539878845214844,
          18.343708038330078,
          19.07672882080078,
          19.638286590576172,
          19.401077270507812,
          20.318578720092773,
          21.693910598754883,
          23.330764770507812,
          25.443927764892578,
          24.659608840942383,
          24.416723251342773,
          22.46461296081543,
          20.54129409790039,
          19.695261001586914,
          18.77841567993164,
          19.091289520263672,
          19.109024047851562,
          18.256868362426758,
          17.22699737548828,
          16.43825340270996,
          16.36166000366211,
          15.882499694824219,
          15.910505294799805,
          14.832395553588867,
          14.778634071350098,
          14.61427116394043,
          14.280091285705566,
          14.04391860961914,
          13.810380935668945,
          13.90959358215332,
          13.87925910949707,
          14.49605941772461,
          14.665918350219727,
          14.627055168151855,
          14.509869575500488,
          13.927288055419922,
          13.513026237487793,
          13.316449165344238,
          13.632750511169434,
          14.224817276000977,
          14.309001922607422,
          15.458473205566406,
          15.632906913757324,
          15.741329193115234,
          16.549198150634766,
          17.54590606689453,
          19.66888999938965,
          20.394132614135742,
          20.873817443847656,
          22.381752014160156,
          21.217811584472656,
          20.57448959350586,
          20.738067626953125,
          20.786014556884766,
          21.681774139404297,
          22.58167266845703,
          22.284805297851562,
          22.10378646850586,
          24.96438217163086,
          28.081932067871094,
          31.20949935913086,
          38.85711669921875,
          40.81134033203125,
          40.98145294189453,
          38.42015838623047,
          34.7086181640625,
          30.649803161621094,
          27.957340240478516,
          29.424957275390625,
          31.83163070678711,
          35.433692932128906,
          37.288536071777344,
          38.58843994140625,
          37.34021759033203,
          34.36958694458008,
          32.02347946166992,
          28.19975471496582,
          25.102340698242188,
          23.089923858642578,
          22.386293411254883,
          21.550003051757812,
          21.461027145385742,
          21.06753921508789,
          21.46680450439453,
          22.389904022216797,
          22.735143661499023,
          23.659408569335938,
          23.64084243774414,
          21.65755271911621,
          22.876768112182617,
          25.053199768066406,
          24.797609329223633,
          23.20073699951172,
          22.573341369628906,
          21.976490020751953,
          22.37761878967285,
          23.316537857055664,
          24.18061065673828,
          25.266082763671875,
          24.545242309570312,
          24.39773941040039,
          23.98785400390625,
          22.634353637695312,
          22.552818298339844,
          22.370983123779297,
          22.920780181884766,
          23.012744903564453,
          23.74538803100586,
          24.38632583618164,
          23.827617645263672,
          23.52631187438965,
          23.909852981567383,
          23.810176849365234,
          24.21295166015625,
          24.8946533203125,
          25.716461181640625,
          26.494937896728516,
          28.082334518432617,
          27.21889877319336,
          28.817432403564453,
          27.51397705078125,
          27.130615234375,
          26.468673706054688,
          26.123661041259766,
          25.759620666503906,
          25.935115814208984,
          26.089813232421875,
          26.06935691833496,
          26.315404891967773,
          26.223941802978516,
          27.043310165405273,
          27.469186782836914,
          28.596668243408203,
          29.678876876831055,
          31.347328186035156,
          31.235565185546875,
          29.777347564697266,
          30.114004135131836,
          30.37554931640625,
          30.07541275024414,
          31.022533416748047,
          31.03923797607422,
          31.009387969970703,
          30.306747436523438,
          29.899585723876953,
          29.724693298339844,
          32.18614959716797,
          34.16085433959961,
          37.621429443359375,
          40.522308349609375,
          43.006866455078125,
          40.36469268798828,
          39.0482292175293,
          36.038780212402344,
          33.7391471862793,
          32.638694763183594,
          31.537151336669922,
          31.494728088378906,
          31.153057098388672,
          30.639751434326172,
          30.495525360107422,
          31.179027557373047,
          31.860816955566406,
          33.103904724121094,
          34.63822555541992,
          36.08882522583008,
          36.143280029296875,
          35.54696273803711,
          35.361934661865234,
          34.5514030456543,
          34.349281311035156,
          33.64951705932617,
          33.356468200683594,
          32.427181243896484,
          31.169212341308594,
          30.35894012451172,
          29.736907958984375,
          29.39588737487793,
          31.409820556640625,
          33.199440002441406,
          35.87415313720703,
          35.50925827026367,
          36.21669006347656,
          33.50060272216797,
          31.842620849609375,
          30.54258918762207,
          29.691173553466797,
          29.233230590820312,
          28.745201110839844,
          28.556787490844727,
          28.110862731933594,
          27.746231079101562,
          27.660051345825195,
          27.771106719970703,
          27.559635162353516,
          27.489240646362305,
          27.514448165893555,
          28.33266258239746,
          27.450180053710938,
          27.176525115966797,
          26.186050415039062,
          25.556793212890625,
          25.226207733154297,
          25.100505828857422,
          24.763246536254883,
          24.495174407958984,
          24.42502212524414,
          24.215747833251953,
          23.6778564453125,
          23.049060821533203,
          22.5924015045166,
          22.798828125,
          22.063453674316406,
          22.12481689453125,
          22.199161529541016,
          22.369802474975586,
          23.18323516845703,
          23.389936447143555,
          23.873855590820312,
          22.965808868408203,
          22.97806167602539,
          23.002696990966797,
          24.6708984375,
          26.73684310913086,
          30.047914505004883,
          32.29914093017578,
          34.991458892822266,
          34.833866119384766,
          32.77980041503906,
          31.4560604095459,
          29.446277618408203,
          29.178789138793945,
          29.108400344848633,
          28.98720932006836,
          27.461273193359375,
          27.10050392150879,
          26.685684204101562,
          25.764904022216797,
          26.0784854888916,
          25.928264617919922,
          25.05860137939453,
          23.71989631652832,
          23.039772033691406,
          21.60958480834961,
          20.871227264404297,
          20.37720489501953,
          19.843727111816406,
          19.774169921875,
          19.647676467895508,
          19.933433532714844,
          20.091659545898438,
          20.618663787841797,
          20.835126876831055,
          21.496505737304688,
          22.42174530029297,
          23.26711082458496,
          22.477109909057617,
          23.687034606933594,
          23.058094024658203,
          21.56805419921875,
          19.69390106201172,
          18.414817810058594,
          18.11067771911621,
          17.05350685119629,
          17.297515869140625,
          16.91477394104004,
          16.818248748779297,
          16.958635330200195,
          17.194915771484375,
          17.18958282470703,
          17.409420013427734,
          17.939912796020508,
          18.131786346435547,
          18.320392608642578,
          18.1441650390625,
          18.44617462158203,
          18.71460723876953,
          19.16478729248047,
          19.60674285888672,
          20.188159942626953,
          20.369497299194336,
          20.341686248779297,
          20.791168212890625,
          21.125293731689453,
          21.391422271728516,
          22.382965087890625,
          22.37353515625,
          22.45606231689453,
          22.241863250732422,
          22.01995086669922,
          22.142074584960938,
          21.13344383239746,
          20.657089233398438,
          20.009254455566406,
          19.86835479736328,
          19.443635940551758,
          19.329849243164062,
          19.434520721435547,
          20.327091217041016,
          21.197694778442383,
          22.048904418945312,
          22.71634292602539,
          23.157024383544922,
          23.054946899414062,
          23.05181121826172,
          22.655277252197266,
          22.57791519165039,
          22.939903259277344,
          23.418846130371094,
          23.41278648376465,
          24.753067016601562,
          26.17865753173828,
          29.768766403198242,
          32.06101989746094,
          34.35218811035156,
          35.41432571411133,
          34.071434020996094,
          32.94042205810547,
          34.3270149230957,
          37.08186340332031,
          40.83842468261719,
          42.891395568847656,
          44.46544647216797,
          46.775177001953125,
          47.36238479614258,
          47.12211608886719,
          46.06535339355469,
          46.139671325683594,
          44.54710388183594,
          44.74618148803711,
          46.83699417114258,
          49.11781311035156,
          51.706966400146484,
          53.22167205810547,
          54.54988479614258,
          53.93997573852539,
          53.53430938720703,
          54.079124450683594,
          55.15928649902344,
          57.16835021972656,
          59.978111267089844,
          63.97648620605469,
          66.2313232421875,
          67.53209686279297,
          67.93960571289062,
          67.98872375488281,
          66.7685546875,
          66.30696105957031,
          67.47796630859375,
          68.50045776367188,
          70.39321899414062,
          72.56419372558594,
          73.38212585449219,
          73.12844848632812,
          71.93788146972656,
          71.58599853515625,
          67.7956314086914,
          66.24223327636719,
          68.19558715820312,
          65.4476318359375,
          64.4583740234375,
          63.42601776123047,
          61.440731048583984,
          56.58760452270508,
          54.52120590209961,
          53.96478271484375
         ],
         "type": "scatter"
        }
       ],
       "layout": {
        "template": {
         "data": {
          "histogram2dcontour": [
           {
            "type": "histogram2dcontour",
            "colorbar": {
             "outlinewidth": 0,
             "ticks": ""
            },
            "colorscale": [
             [
              0.0,
              "#0d0887"
             ],
             [
              0.1111111111111111,
              "#46039f"
             ],
             [
              0.2222222222222222,
              "#7201a8"
             ],
             [
              0.3333333333333333,
              "#9c179e"
             ],
             [
              0.4444444444444444,
              "#bd3786"
             ],
             [
              0.5555555555555556,
              "#d8576b"
             ],
             [
              0.6666666666666666,
              "#ed7953"
             ],
             [
              0.7777777777777778,
              "#fb9f3a"
             ],
             [
              0.8888888888888888,
              "#fdca26"
             ],
             [
              1.0,
              "#f0f921"
             ]
            ]
           }
          ],
          "choropleth": [
           {
            "type": "choropleth",
            "colorbar": {
             "outlinewidth": 0,
             "ticks": ""
            }
           }
          ],
          "histogram2d": [
           {
            "type": "histogram2d",
            "colorbar": {
             "outlinewidth": 0,
             "ticks": ""
            },
            "colorscale": [
             [
              0.0,
              "#0d0887"
             ],
             [
              0.1111111111111111,
              "#46039f"
             ],
             [
              0.2222222222222222,
              "#7201a8"
             ],
             [
              0.3333333333333333,
              "#9c179e"
             ],
             [
              0.4444444444444444,
              "#bd3786"
             ],
             [
              0.5555555555555556,
              "#d8576b"
             ],
             [
              0.6666666666666666,
              "#ed7953"
             ],
             [
              0.7777777777777778,
              "#fb9f3a"
             ],
             [
              0.8888888888888888,
              "#fdca26"
             ],
             [
              1.0,
              "#f0f921"
             ]
            ]
           }
          ],
          "heatmap": [
           {
            "type": "heatmap",
            "colorbar": {
             "outlinewidth": 0,
             "ticks": ""
            },
            "colorscale": [
             [
              0.0,
              "#0d0887"
             ],
             [
              0.1111111111111111,
              "#46039f"
             ],
             [
              0.2222222222222222,
              "#7201a8"
             ],
             [
              0.3333333333333333,
              "#9c179e"
             ],
             [
              0.4444444444444444,
              "#bd3786"
             ],
             [
              0.5555555555555556,
              "#d8576b"
             ],
             [
              0.6666666666666666,
              "#ed7953"
             ],
             [
              0.7777777777777778,
              "#fb9f3a"
             ],
             [
              0.8888888888888888,
              "#fdca26"
             ],
             [
              1.0,
              "#f0f921"
             ]
            ]
           }
          ],
          "heatmapgl": [
           {
            "type": "heatmapgl",
            "colorbar": {
             "outlinewidth": 0,
             "ticks": ""
            },
            "colorscale": [
             [
              0.0,
              "#0d0887"
             ],
             [
              0.1111111111111111,
              "#46039f"
             ],
             [
              0.2222222222222222,
              "#7201a8"
             ],
             [
              0.3333333333333333,
              "#9c179e"
             ],
             [
              0.4444444444444444,
              "#bd3786"
             ],
             [
              0.5555555555555556,
              "#d8576b"
             ],
             [
              0.6666666666666666,
              "#ed7953"
             ],
             [
              0.7777777777777778,
              "#fb9f3a"
             ],
             [
              0.8888888888888888,
              "#fdca26"
             ],
             [
              1.0,
              "#f0f921"
             ]
            ]
           }
          ],
          "contourcarpet": [
           {
            "type": "contourcarpet",
            "colorbar": {
             "outlinewidth": 0,
             "ticks": ""
            }
           }
          ],
          "contour": [
           {
            "type": "contour",
            "colorbar": {
             "outlinewidth": 0,
             "ticks": ""
            },
            "colorscale": [
             [
              0.0,
              "#0d0887"
             ],
             [
              0.1111111111111111,
              "#46039f"
             ],
             [
              0.2222222222222222,
              "#7201a8"
             ],
             [
              0.3333333333333333,
              "#9c179e"
             ],
             [
              0.4444444444444444,
              "#bd3786"
             ],
             [
              0.5555555555555556,
              "#d8576b"
             ],
             [
              0.6666666666666666,
              "#ed7953"
             ],
             [
              0.7777777777777778,
              "#fb9f3a"
             ],
             [
              0.8888888888888888,
              "#fdca26"
             ],
             [
              1.0,
              "#f0f921"
             ]
            ]
           }
          ],
          "surface": [
           {
            "type": "surface",
            "colorbar": {
             "outlinewidth": 0,
             "ticks": ""
            },
            "colorscale": [
             [
              0.0,
              "#0d0887"
             ],
             [
              0.1111111111111111,
              "#46039f"
             ],
             [
              0.2222222222222222,
              "#7201a8"
             ],
             [
              0.3333333333333333,
              "#9c179e"
             ],
             [
              0.4444444444444444,
              "#bd3786"
             ],
             [
              0.5555555555555556,
              "#d8576b"
             ],
             [
              0.6666666666666666,
              "#ed7953"
             ],
             [
              0.7777777777777778,
              "#fb9f3a"
             ],
             [
              0.8888888888888888,
              "#fdca26"
             ],
             [
              1.0,
              "#f0f921"
             ]
            ]
           }
          ],
          "mesh3d": [
           {
            "type": "mesh3d",
            "colorbar": {
             "outlinewidth": 0,
             "ticks": ""
            }
           }
          ],
          "scatter": [
           {
            "fillpattern": {
             "fillmode": "overlay",
             "size": 10,
             "solidity": 0.2
            },
            "type": "scatter"
           }
          ],
          "parcoords": [
           {
            "type": "parcoords",
            "line": {
             "colorbar": {
              "outlinewidth": 0,
              "ticks": ""
             }
            }
           }
          ],
          "scatterpolargl": [
           {
            "type": "scatterpolargl",
            "marker": {
             "colorbar": {
              "outlinewidth": 0,
              "ticks": ""
             }
            }
           }
          ],
          "bar": [
           {
            "error_x": {
             "color": "#2a3f5f"
            },
            "error_y": {
             "color": "#2a3f5f"
            },
            "marker": {
             "line": {
              "color": "#E5ECF6",
              "width": 0.5
             },
             "pattern": {
              "fillmode": "overlay",
              "size": 10,
              "solidity": 0.2
             }
            },
            "type": "bar"
           }
          ],
          "scattergeo": [
           {
            "type": "scattergeo",
            "marker": {
             "colorbar": {
              "outlinewidth": 0,
              "ticks": ""
             }
            }
           }
          ],
          "scatterpolar": [
           {
            "type": "scatterpolar",
            "marker": {
             "colorbar": {
              "outlinewidth": 0,
              "ticks": ""
             }
            }
           }
          ],
          "histogram": [
           {
            "marker": {
             "pattern": {
              "fillmode": "overlay",
              "size": 10,
              "solidity": 0.2
             }
            },
            "type": "histogram"
           }
          ],
          "scattergl": [
           {
            "type": "scattergl",
            "marker": {
             "colorbar": {
              "outlinewidth": 0,
              "ticks": ""
             }
            }
           }
          ],
          "scatter3d": [
           {
            "type": "scatter3d",
            "line": {
             "colorbar": {
              "outlinewidth": 0,
              "ticks": ""
             }
            },
            "marker": {
             "colorbar": {
              "outlinewidth": 0,
              "ticks": ""
             }
            }
           }
          ],
          "scattermapbox": [
           {
            "type": "scattermapbox",
            "marker": {
             "colorbar": {
              "outlinewidth": 0,
              "ticks": ""
             }
            }
           }
          ],
          "scatterternary": [
           {
            "type": "scatterternary",
            "marker": {
             "colorbar": {
              "outlinewidth": 0,
              "ticks": ""
             }
            }
           }
          ],
          "scattercarpet": [
           {
            "type": "scattercarpet",
            "marker": {
             "colorbar": {
              "outlinewidth": 0,
              "ticks": ""
             }
            }
           }
          ],
          "carpet": [
           {
            "aaxis": {
             "endlinecolor": "#2a3f5f",
             "gridcolor": "white",
             "linecolor": "white",
             "minorgridcolor": "white",
             "startlinecolor": "#2a3f5f"
            },
            "baxis": {
             "endlinecolor": "#2a3f5f",
             "gridcolor": "white",
             "linecolor": "white",
             "minorgridcolor": "white",
             "startlinecolor": "#2a3f5f"
            },
            "type": "carpet"
           }
          ],
          "table": [
           {
            "cells": {
             "fill": {
              "color": "#EBF0F8"
             },
             "line": {
              "color": "white"
             }
            },
            "header": {
             "fill": {
              "color": "#C8D4E3"
             },
             "line": {
              "color": "white"
             }
            },
            "type": "table"
           }
          ],
          "barpolar": [
           {
            "marker": {
             "line": {
              "color": "#E5ECF6",
              "width": 0.5
             },
             "pattern": {
              "fillmode": "overlay",
              "size": 10,
              "solidity": 0.2
             }
            },
            "type": "barpolar"
           }
          ],
          "pie": [
           {
            "automargin": true,
            "type": "pie"
           }
          ]
         },
         "layout": {
          "autotypenumbers": "strict",
          "colorway": [
           "#636efa",
           "#EF553B",
           "#00cc96",
           "#ab63fa",
           "#FFA15A",
           "#19d3f3",
           "#FF6692",
           "#B6E880",
           "#FF97FF",
           "#FECB52"
          ],
          "font": {
           "color": "#2a3f5f"
          },
          "hovermode": "closest",
          "hoverlabel": {
           "align": "left"
          },
          "paper_bgcolor": "white",
          "plot_bgcolor": "#E5ECF6",
          "polar": {
           "bgcolor": "#E5ECF6",
           "angularaxis": {
            "gridcolor": "white",
            "linecolor": "white",
            "ticks": ""
           },
           "radialaxis": {
            "gridcolor": "white",
            "linecolor": "white",
            "ticks": ""
           }
          },
          "ternary": {
           "bgcolor": "#E5ECF6",
           "aaxis": {
            "gridcolor": "white",
            "linecolor": "white",
            "ticks": ""
           },
           "baxis": {
            "gridcolor": "white",
            "linecolor": "white",
            "ticks": ""
           },
           "caxis": {
            "gridcolor": "white",
            "linecolor": "white",
            "ticks": ""
           }
          },
          "coloraxis": {
           "colorbar": {
            "outlinewidth": 0,
            "ticks": ""
           }
          },
          "colorscale": {
           "sequential": [
            [
             0.0,
             "#0d0887"
            ],
            [
             0.1111111111111111,
             "#46039f"
            ],
            [
             0.2222222222222222,
             "#7201a8"
            ],
            [
             0.3333333333333333,
             "#9c179e"
            ],
            [
             0.4444444444444444,
             "#bd3786"
            ],
            [
             0.5555555555555556,
             "#d8576b"
            ],
            [
             0.6666666666666666,
             "#ed7953"
            ],
            [
             0.7777777777777778,
             "#fb9f3a"
            ],
            [
             0.8888888888888888,
             "#fdca26"
            ],
            [
             1.0,
             "#f0f921"
            ]
           ],
           "sequentialminus": [
            [
             0.0,
             "#0d0887"
            ],
            [
             0.1111111111111111,
             "#46039f"
            ],
            [
             0.2222222222222222,
             "#7201a8"
            ],
            [
             0.3333333333333333,
             "#9c179e"
            ],
            [
             0.4444444444444444,
             "#bd3786"
            ],
            [
             0.5555555555555556,
             "#d8576b"
            ],
            [
             0.6666666666666666,
             "#ed7953"
            ],
            [
             0.7777777777777778,
             "#fb9f3a"
            ],
            [
             0.8888888888888888,
             "#fdca26"
            ],
            [
             1.0,
             "#f0f921"
            ]
           ],
           "diverging": [
            [
             0,
             "#8e0152"
            ],
            [
             0.1,
             "#c51b7d"
            ],
            [
             0.2,
             "#de77ae"
            ],
            [
             0.3,
             "#f1b6da"
            ],
            [
             0.4,
             "#fde0ef"
            ],
            [
             0.5,
             "#f7f7f7"
            ],
            [
             0.6,
             "#e6f5d0"
            ],
            [
             0.7,
             "#b8e186"
            ],
            [
             0.8,
             "#7fbc41"
            ],
            [
             0.9,
             "#4d9221"
            ],
            [
             1,
             "#276419"
            ]
           ]
          },
          "xaxis": {
           "gridcolor": "white",
           "linecolor": "white",
           "ticks": "",
           "title": {
            "standoff": 15
           },
           "zerolinecolor": "white",
           "automargin": true,
           "zerolinewidth": 2
          },
          "yaxis": {
           "gridcolor": "white",
           "linecolor": "white",
           "ticks": "",
           "title": {
            "standoff": 15
           },
           "zerolinecolor": "white",
           "automargin": true,
           "zerolinewidth": 2
          },
          "scene": {
           "xaxis": {
            "backgroundcolor": "#E5ECF6",
            "gridcolor": "white",
            "linecolor": "white",
            "showbackground": true,
            "ticks": "",
            "zerolinecolor": "white",
            "gridwidth": 2
           },
           "yaxis": {
            "backgroundcolor": "#E5ECF6",
            "gridcolor": "white",
            "linecolor": "white",
            "showbackground": true,
            "ticks": "",
            "zerolinecolor": "white",
            "gridwidth": 2
           },
           "zaxis": {
            "backgroundcolor": "#E5ECF6",
            "gridcolor": "white",
            "linecolor": "white",
            "showbackground": true,
            "ticks": "",
            "zerolinecolor": "white",
            "gridwidth": 2
           }
          },
          "shapedefaults": {
           "line": {
            "color": "#2a3f5f"
           }
          },
          "annotationdefaults": {
           "arrowcolor": "#2a3f5f",
           "arrowhead": 0,
           "arrowwidth": 1
          },
          "geo": {
           "bgcolor": "white",
           "landcolor": "#E5ECF6",
           "subunitcolor": "white",
           "showland": true,
           "showlakes": true,
           "lakecolor": "white"
          },
          "title": {
           "x": 0.05
          },
          "mapbox": {
           "style": "light"
          }
         }
        }
       },
       "config": {
        "plotlyServerURL": "https://plot.ly"
       }
      },
      "text/html": "<div>                            <div id=\"b3392cb8-98df-4743-953a-b73c8417de2d\" class=\"plotly-graph-div\" style=\"height:525px; width:100%;\"></div>            <script type=\"text/javascript\">                require([\"plotly\"], function(Plotly) {                    window.PLOTLYENV=window.PLOTLYENV || {};                                    if (document.getElementById(\"b3392cb8-98df-4743-953a-b73c8417de2d\")) {                    Plotly.newPlot(                        \"b3392cb8-98df-4743-953a-b73c8417de2d\",                        [{\"mode\":\"lines\",\"name\":\"loss\",\"y\":[2059.22412109375,1424.02685546875,973.7554321289062,427.8509826660156,307.678955078125,257.1806945800781,136.21820068359375,119.39474487304688,133.96035766601562,91.90619659423828,70.7054443359375,115.10844421386719,95.39773559570312,84.48664093017578,38.52339172363281,68.70150756835938,46.445594787597656,36.129554748535156,42.318050384521484,54.016334533691406,37.556297302246094,22.16068458557129,34.44839859008789,38.40826416015625,27.841413497924805,22.022729873657227,17.030200958251953,25.278644561767578,20.82156753540039,16.07335662841797,18.01021385192871,17.816883087158203,17.842256546020508,20.32471466064453,16.340045928955078,17.764724731445312,22.23631477355957,21.468189239501953,17.294124603271484,13.232099533081055,14.504039764404297,15.551365852355957,15.780097961425781,18.148221969604492,23.122190475463867,16.217147827148438,13.112255096435547,15.071146011352539,16.263111114501953,14.995685577392578,17.875486373901367,14.21977424621582,16.143165588378906,14.778619766235352,13.087370872497559,12.781588554382324,13.175348281860352,13.652849197387695,14.159272193908691,14.39671516418457,14.466032028198242,13.847161293029785,16.230838775634766,15.277402877807617,15.505456924438477,13.111272811889648,12.979072570800781,16.47585678100586,19.88089370727539,19.32828712463379,16.712600708007812,20.811914443969727,22.0313777923584,16.554264068603516,20.202163696289062,18.189674377441406,20.553207397460938,22.513385772705078,18.318105697631836,15.940786361694336,14.230945587158203,16.98226547241211,14.420472145080566,20.278465270996094,17.2269229888916,22.438190460205078,20.373760223388672,18.698490142822266,25.464916229248047,16.309171676635742,17.044082641601562,14.594029426574707,25.631887435913086,27.584074020385742,18.776412963867188,25.63852310180664,22.159465789794922,22.016542434692383,21.045278549194336,18.272136688232422,22.092243194580078,18.581615447998047,18.855867385864258,16.537384033203125,15.459858894348145,15.087281227111816,16.25718879699707,14.40556526184082,13.173080444335938,11.445201873779297,11.405070304870605,14.02214527130127,18.07216453552246,20.395423889160156,16.794172286987305,11.875985145568848,12.496057510375977,16.664939880371094,16.781869888305664,14.083242416381836,12.572444915771484,11.208515167236328,12.600582122802734,12.097993850708008,11.864866256713867,11.168330192565918,11.066757202148438,13.103172302246094,11.638032913208008,20.623390197753906,22.113183975219727,18.340373992919922,11.458930969238281,14.038870811462402,12.898650169372559,18.573211669921875,15.272502899169922,11.72269344329834,9.540776252746582,9.54843521118164,9.782054901123047,11.879633903503418,11.91535758972168,10.260292053222656,9.257438659667969,11.883591651916504,13.679176330566406,13.482697486877441,10.156122207641602,8.445791244506836,7.507294654846191,11.110403060913086,11.253286361694336,12.224252700805664,9.970987319946289,10.442872047424316,9.160685539245605,8.26511287689209,7.728523254394531,7.48610782623291,6.894618034362793,7.559510231018066,6.626394271850586,8.825697898864746,9.41408634185791,8.683109283447266,7.523014068603516,7.3584394454956055,7.79123067855835,7.357605457305908,6.585343360900879,6.8173418045043945,7.138535976409912,6.554856300354004,5.911615371704102,10.2852144241333,14.449222564697266,13.700492858886719,11.206111907958984,10.913987159729004,14.056028366088867,15.058762550354004,11.094156265258789,10.311304092407227,13.487902641296387,12.320240020751953,9.44067668914795,8.925371170043945,10.80119514465332,9.51284408569336,5.863828659057617,6.689853668212891,7.7374796867370605,6.034177303314209,6.383386611938477,7.469357967376709,6.497297286987305,8.012990951538086,13.939397811889648,13.09412670135498,8.666767120361328,9.171158790588379,10.826245307922363,11.512489318847656,7.957008361816406,8.381425857543945,9.00764274597168,8.524164199829102,6.866137504577637,9.048173904418945,11.993090629577637,8.764986038208008,6.480410099029541,9.234267234802246,11.901394844055176,10.046648025512695,7.040867805480957,8.539802551269531,9.675233840942383,8.37820053100586,7.253780364990234,7.796600341796875,7.733339786529541,6.96229887008667,6.889930725097656,8.020952224731445,6.435188293457031,6.053647518157959,7.624505043029785,6.629034519195557,6.575165748596191,6.843847274780273,8.082047462463379,7.344535827636719,7.469662666320801,7.878152847290039,6.7262468338012695,7.3309173583984375,6.547435760498047,5.318264007568359,6.594979763031006,7.48259162902832,5.796246528625488,6.043760299682617,7.502189636230469,7.0937910079956055,6.114936351776123,7.17293643951416,7.665279388427734,6.666838645935059,6.4658660888671875,6.182589530944824,5.601241111755371,5.621452331542969,5.408459663391113,5.652144432067871,4.794601917266846,4.538670063018799,5.105571269989014,4.644726276397705,5.362008094787598,5.512203216552734,4.9680070877075195,6.925457000732422,7.0342302322387695,7.406445503234863,6.664587020874023,6.789726734161377,6.872920989990234,7.020829200744629,6.369505882263184,6.100191116333008,7.168824195861816,6.979794025421143,7.229861259460449,6.374975681304932,6.779994964599609,8.771799087524414,8.31916618347168,8.452858924865723,6.990962505340576,7.736843585968018,9.792400360107422,10.997751235961914,10.428531646728516,8.13005256652832,8.232573509216309,9.5667724609375,11.151034355163574,8.9599609375,8.386823654174805,8.781631469726562,9.451491355895996,10.090727806091309,8.266443252563477,8.541069030761719,9.33771800994873,10.874073028564453,10.438511848449707,9.546500205993652,9.92763900756836,10.259410858154297,10.131447792053223,9.642879486083984,9.074287414550781,8.829320907592773,8.777894973754883,9.014469146728516,8.50981330871582,8.761856079101562,8.969391822814941,8.837321281433105,8.801651954650879,8.586230278015137,8.620363235473633,8.246016502380371,7.967630386352539,7.778002738952637,7.548544406890869,7.646195888519287,7.504088401794434,8.123248100280762,9.2142972946167,10.083808898925781,10.811725616455078,11.805459976196289,12.710174560546875,11.964558601379395,10.698827743530273,9.73818588256836,9.983967781066895,10.014754295349121,9.602386474609375,9.42770767211914,9.031900405883789,9.022326469421387,8.755188941955566,8.572864532470703,8.00167179107666,8.229784965515137,8.848618507385254,9.326905250549316,9.198875427246094,9.459287643432617,9.773214340209961,10.74767780303955,10.91497802734375,10.522465705871582,10.57949447631836,11.586133003234863,13.452773094177246,13.082935333251953,10.866744995117188,9.663667678833008,8.702374458312988,9.002375602722168,7.6814703941345215,6.741605758666992,6.43028450012207,6.255375385284424,6.225423812866211,6.372219562530518,7.079932689666748,6.702911376953125,6.457529544830322,6.407990455627441,5.801267623901367,6.650131702423096,5.762740135192871,5.6042375564575195,5.809825897216797,6.00120735168457,5.333754062652588,5.295851230621338,5.236871719360352,6.010128974914551,5.564051628112793,5.507080078125,5.39268684387207,5.370144844055176,5.441781997680664,5.3693718910217285,5.533479690551758,5.505594253540039,5.439076900482178,5.4827351570129395,5.7590250968933105,5.8594865798950195,6.27581787109375,6.713678359985352,7.173473358154297,7.610455513000488,7.9413909912109375,9.080721855163574,9.474662780761719,10.042243003845215,10.840215682983398,11.671562194824219,12.795310974121094,15.879732131958008,17.904254913330078,20.750566482543945,22.606311798095703,23.894168853759766,24.95018768310547,25.81220245361328,24.83782386779785,22.731035232543945,23.710609436035156,21.95893669128418,22.29517364501953,23.97266960144043,24.51650047302246,27.630191802978516,28.546207427978516,27.232784271240234,23.142915725708008,22.231876373291016,22.87297248840332,27.183910369873047,28.88819694519043,31.468032836914062,28.536956787109375,27.05207061767578,25.670156478881836,27.799480438232422,28.162158966064453,27.93545913696289,24.972270965576172,23.804454803466797,24.00762176513672,25.515239715576172,25.26030731201172,25.428621292114258,23.572288513183594,22.199296951293945,21.165843963623047,21.785690307617188,21.832504272460938,19.98982048034668,17.87281036376953,16.417949676513672,15.481006622314453,14.879979133605957,13.504349708557129,13.373016357421875,11.690786361694336,10.566449165344238,10.57773208618164,10.915935516357422,11.138101577758789,10.545235633850098,10.082271575927734,9.77027702331543,9.498092651367188,8.935737609863281,8.40042495727539,7.9292311668396,7.7263593673706055,7.626117706298828,7.75970458984375,7.899048328399658,7.993873596191406,8.397891998291016,8.433700561523438,10.056113243103027,11.252670288085938,12.258868217468262,13.291316032409668,15.121607780456543,17.855091094970703,16.820154190063477,16.130203247070312,14.66202163696289,14.06041145324707,16.786052703857422,16.449392318725586,16.92546844482422,17.093637466430664,16.746488571166992,16.18227767944336,16.06914520263672,16.591388702392578,17.3300838470459,16.625463485717773,15.972410202026367,14.703737258911133,13.443058013916016,12.593461036682129,12.082351684570312,12.14948844909668,11.52515697479248,10.965631484985352,10.820486068725586,10.987801551818848,10.123495101928711,10.04015064239502,9.926944732666016,10.36623764038086,11.224944114685059,13.127080917358398,13.611024856567383,13.716456413269043,13.621136665344238,13.518964767456055,14.121209144592285,14.563539505004883,15.273216247558594,15.763834953308105,15.76237678527832,15.66884708404541,15.162343978881836,14.860830307006836,14.027972221374512,13.591131210327148,13.52741527557373,12.493817329406738,11.846391677856445,11.994500160217285,12.346625328063965,13.57655143737793,13.815733909606934,14.017146110534668,13.975245475769043,13.54824447631836,12.976805686950684,13.043905258178711,13.341066360473633,15.997247695922852,15.4136323928833,14.58435344696045,14.524375915527344,14.102052688598633,14.11323356628418,14.419798851013184,16.060081481933594,15.672524452209473,15.475963592529297,15.808112144470215,16.7508602142334,17.296306610107422,17.121253967285156,17.381694793701172,17.293119430541992,17.539878845214844,18.343708038330078,19.07672882080078,19.638286590576172,19.401077270507812,20.318578720092773,21.693910598754883,23.330764770507812,25.443927764892578,24.659608840942383,24.416723251342773,22.46461296081543,20.54129409790039,19.695261001586914,18.77841567993164,19.091289520263672,19.109024047851562,18.256868362426758,17.22699737548828,16.43825340270996,16.36166000366211,15.882499694824219,15.910505294799805,14.832395553588867,14.778634071350098,14.61427116394043,14.280091285705566,14.04391860961914,13.810380935668945,13.90959358215332,13.87925910949707,14.49605941772461,14.665918350219727,14.627055168151855,14.509869575500488,13.927288055419922,13.513026237487793,13.316449165344238,13.632750511169434,14.224817276000977,14.309001922607422,15.458473205566406,15.632906913757324,15.741329193115234,16.549198150634766,17.54590606689453,19.66888999938965,20.394132614135742,20.873817443847656,22.381752014160156,21.217811584472656,20.57448959350586,20.738067626953125,20.786014556884766,21.681774139404297,22.58167266845703,22.284805297851562,22.10378646850586,24.96438217163086,28.081932067871094,31.20949935913086,38.85711669921875,40.81134033203125,40.98145294189453,38.42015838623047,34.7086181640625,30.649803161621094,27.957340240478516,29.424957275390625,31.83163070678711,35.433692932128906,37.288536071777344,38.58843994140625,37.34021759033203,34.36958694458008,32.02347946166992,28.19975471496582,25.102340698242188,23.089923858642578,22.386293411254883,21.550003051757812,21.461027145385742,21.06753921508789,21.46680450439453,22.389904022216797,22.735143661499023,23.659408569335938,23.64084243774414,21.65755271911621,22.876768112182617,25.053199768066406,24.797609329223633,23.20073699951172,22.573341369628906,21.976490020751953,22.37761878967285,23.316537857055664,24.18061065673828,25.266082763671875,24.545242309570312,24.39773941040039,23.98785400390625,22.634353637695312,22.552818298339844,22.370983123779297,22.920780181884766,23.012744903564453,23.74538803100586,24.38632583618164,23.827617645263672,23.52631187438965,23.909852981567383,23.810176849365234,24.21295166015625,24.8946533203125,25.716461181640625,26.494937896728516,28.082334518432617,27.21889877319336,28.817432403564453,27.51397705078125,27.130615234375,26.468673706054688,26.123661041259766,25.759620666503906,25.935115814208984,26.089813232421875,26.06935691833496,26.315404891967773,26.223941802978516,27.043310165405273,27.469186782836914,28.596668243408203,29.678876876831055,31.347328186035156,31.235565185546875,29.777347564697266,30.114004135131836,30.37554931640625,30.07541275024414,31.022533416748047,31.03923797607422,31.009387969970703,30.306747436523438,29.899585723876953,29.724693298339844,32.18614959716797,34.16085433959961,37.621429443359375,40.522308349609375,43.006866455078125,40.36469268798828,39.0482292175293,36.038780212402344,33.7391471862793,32.638694763183594,31.537151336669922,31.494728088378906,31.153057098388672,30.639751434326172,30.495525360107422,31.179027557373047,31.860816955566406,33.103904724121094,34.63822555541992,36.08882522583008,36.143280029296875,35.54696273803711,35.361934661865234,34.5514030456543,34.349281311035156,33.64951705932617,33.356468200683594,32.427181243896484,31.169212341308594,30.35894012451172,29.736907958984375,29.39588737487793,31.409820556640625,33.199440002441406,35.87415313720703,35.50925827026367,36.21669006347656,33.50060272216797,31.842620849609375,30.54258918762207,29.691173553466797,29.233230590820312,28.745201110839844,28.556787490844727,28.110862731933594,27.746231079101562,27.660051345825195,27.771106719970703,27.559635162353516,27.489240646362305,27.514448165893555,28.33266258239746,27.450180053710938,27.176525115966797,26.186050415039062,25.556793212890625,25.226207733154297,25.100505828857422,24.763246536254883,24.495174407958984,24.42502212524414,24.215747833251953,23.6778564453125,23.049060821533203,22.5924015045166,22.798828125,22.063453674316406,22.12481689453125,22.199161529541016,22.369802474975586,23.18323516845703,23.389936447143555,23.873855590820312,22.965808868408203,22.97806167602539,23.002696990966797,24.6708984375,26.73684310913086,30.047914505004883,32.29914093017578,34.991458892822266,34.833866119384766,32.77980041503906,31.4560604095459,29.446277618408203,29.178789138793945,29.108400344848633,28.98720932006836,27.461273193359375,27.10050392150879,26.685684204101562,25.764904022216797,26.0784854888916,25.928264617919922,25.05860137939453,23.71989631652832,23.039772033691406,21.60958480834961,20.871227264404297,20.37720489501953,19.843727111816406,19.774169921875,19.647676467895508,19.933433532714844,20.091659545898438,20.618663787841797,20.835126876831055,21.496505737304688,22.42174530029297,23.26711082458496,22.477109909057617,23.687034606933594,23.058094024658203,21.56805419921875,19.69390106201172,18.414817810058594,18.11067771911621,17.05350685119629,17.297515869140625,16.91477394104004,16.818248748779297,16.958635330200195,17.194915771484375,17.18958282470703,17.409420013427734,17.939912796020508,18.131786346435547,18.320392608642578,18.1441650390625,18.44617462158203,18.71460723876953,19.16478729248047,19.60674285888672,20.188159942626953,20.369497299194336,20.341686248779297,20.791168212890625,21.125293731689453,21.391422271728516,22.382965087890625,22.37353515625,22.45606231689453,22.241863250732422,22.01995086669922,22.142074584960938,21.13344383239746,20.657089233398438,20.009254455566406,19.86835479736328,19.443635940551758,19.329849243164062,19.434520721435547,20.327091217041016,21.197694778442383,22.048904418945312,22.71634292602539,23.157024383544922,23.054946899414062,23.05181121826172,22.655277252197266,22.57791519165039,22.939903259277344,23.418846130371094,23.41278648376465,24.753067016601562,26.17865753173828,29.768766403198242,32.06101989746094,34.35218811035156,35.41432571411133,34.071434020996094,32.94042205810547,34.3270149230957,37.08186340332031,40.83842468261719,42.891395568847656,44.46544647216797,46.775177001953125,47.36238479614258,47.12211608886719,46.06535339355469,46.139671325683594,44.54710388183594,44.74618148803711,46.83699417114258,49.11781311035156,51.706966400146484,53.22167205810547,54.54988479614258,53.93997573852539,53.53430938720703,54.079124450683594,55.15928649902344,57.16835021972656,59.978111267089844,63.97648620605469,66.2313232421875,67.53209686279297,67.93960571289062,67.98872375488281,66.7685546875,66.30696105957031,67.47796630859375,68.50045776367188,70.39321899414062,72.56419372558594,73.38212585449219,73.12844848632812,71.93788146972656,71.58599853515625,67.7956314086914,66.24223327636719,68.19558715820312,65.4476318359375,64.4583740234375,63.42601776123047,61.440731048583984,56.58760452270508,54.52120590209961,53.96478271484375],\"type\":\"scatter\"}],                        {\"template\":{\"data\":{\"histogram2dcontour\":[{\"type\":\"histogram2dcontour\",\"colorbar\":{\"outlinewidth\":0,\"ticks\":\"\"},\"colorscale\":[[0.0,\"#0d0887\"],[0.1111111111111111,\"#46039f\"],[0.2222222222222222,\"#7201a8\"],[0.3333333333333333,\"#9c179e\"],[0.4444444444444444,\"#bd3786\"],[0.5555555555555556,\"#d8576b\"],[0.6666666666666666,\"#ed7953\"],[0.7777777777777778,\"#fb9f3a\"],[0.8888888888888888,\"#fdca26\"],[1.0,\"#f0f921\"]]}],\"choropleth\":[{\"type\":\"choropleth\",\"colorbar\":{\"outlinewidth\":0,\"ticks\":\"\"}}],\"histogram2d\":[{\"type\":\"histogram2d\",\"colorbar\":{\"outlinewidth\":0,\"ticks\":\"\"},\"colorscale\":[[0.0,\"#0d0887\"],[0.1111111111111111,\"#46039f\"],[0.2222222222222222,\"#7201a8\"],[0.3333333333333333,\"#9c179e\"],[0.4444444444444444,\"#bd3786\"],[0.5555555555555556,\"#d8576b\"],[0.6666666666666666,\"#ed7953\"],[0.7777777777777778,\"#fb9f3a\"],[0.8888888888888888,\"#fdca26\"],[1.0,\"#f0f921\"]]}],\"heatmap\":[{\"type\":\"heatmap\",\"colorbar\":{\"outlinewidth\":0,\"ticks\":\"\"},\"colorscale\":[[0.0,\"#0d0887\"],[0.1111111111111111,\"#46039f\"],[0.2222222222222222,\"#7201a8\"],[0.3333333333333333,\"#9c179e\"],[0.4444444444444444,\"#bd3786\"],[0.5555555555555556,\"#d8576b\"],[0.6666666666666666,\"#ed7953\"],[0.7777777777777778,\"#fb9f3a\"],[0.8888888888888888,\"#fdca26\"],[1.0,\"#f0f921\"]]}],\"heatmapgl\":[{\"type\":\"heatmapgl\",\"colorbar\":{\"outlinewidth\":0,\"ticks\":\"\"},\"colorscale\":[[0.0,\"#0d0887\"],[0.1111111111111111,\"#46039f\"],[0.2222222222222222,\"#7201a8\"],[0.3333333333333333,\"#9c179e\"],[0.4444444444444444,\"#bd3786\"],[0.5555555555555556,\"#d8576b\"],[0.6666666666666666,\"#ed7953\"],[0.7777777777777778,\"#fb9f3a\"],[0.8888888888888888,\"#fdca26\"],[1.0,\"#f0f921\"]]}],\"contourcarpet\":[{\"type\":\"contourcarpet\",\"colorbar\":{\"outlinewidth\":0,\"ticks\":\"\"}}],\"contour\":[{\"type\":\"contour\",\"colorbar\":{\"outlinewidth\":0,\"ticks\":\"\"},\"colorscale\":[[0.0,\"#0d0887\"],[0.1111111111111111,\"#46039f\"],[0.2222222222222222,\"#7201a8\"],[0.3333333333333333,\"#9c179e\"],[0.4444444444444444,\"#bd3786\"],[0.5555555555555556,\"#d8576b\"],[0.6666666666666666,\"#ed7953\"],[0.7777777777777778,\"#fb9f3a\"],[0.8888888888888888,\"#fdca26\"],[1.0,\"#f0f921\"]]}],\"surface\":[{\"type\":\"surface\",\"colorbar\":{\"outlinewidth\":0,\"ticks\":\"\"},\"colorscale\":[[0.0,\"#0d0887\"],[0.1111111111111111,\"#46039f\"],[0.2222222222222222,\"#7201a8\"],[0.3333333333333333,\"#9c179e\"],[0.4444444444444444,\"#bd3786\"],[0.5555555555555556,\"#d8576b\"],[0.6666666666666666,\"#ed7953\"],[0.7777777777777778,\"#fb9f3a\"],[0.8888888888888888,\"#fdca26\"],[1.0,\"#f0f921\"]]}],\"mesh3d\":[{\"type\":\"mesh3d\",\"colorbar\":{\"outlinewidth\":0,\"ticks\":\"\"}}],\"scatter\":[{\"fillpattern\":{\"fillmode\":\"overlay\",\"size\":10,\"solidity\":0.2},\"type\":\"scatter\"}],\"parcoords\":[{\"type\":\"parcoords\",\"line\":{\"colorbar\":{\"outlinewidth\":0,\"ticks\":\"\"}}}],\"scatterpolargl\":[{\"type\":\"scatterpolargl\",\"marker\":{\"colorbar\":{\"outlinewidth\":0,\"ticks\":\"\"}}}],\"bar\":[{\"error_x\":{\"color\":\"#2a3f5f\"},\"error_y\":{\"color\":\"#2a3f5f\"},\"marker\":{\"line\":{\"color\":\"#E5ECF6\",\"width\":0.5},\"pattern\":{\"fillmode\":\"overlay\",\"size\":10,\"solidity\":0.2}},\"type\":\"bar\"}],\"scattergeo\":[{\"type\":\"scattergeo\",\"marker\":{\"colorbar\":{\"outlinewidth\":0,\"ticks\":\"\"}}}],\"scatterpolar\":[{\"type\":\"scatterpolar\",\"marker\":{\"colorbar\":{\"outlinewidth\":0,\"ticks\":\"\"}}}],\"histogram\":[{\"marker\":{\"pattern\":{\"fillmode\":\"overlay\",\"size\":10,\"solidity\":0.2}},\"type\":\"histogram\"}],\"scattergl\":[{\"type\":\"scattergl\",\"marker\":{\"colorbar\":{\"outlinewidth\":0,\"ticks\":\"\"}}}],\"scatter3d\":[{\"type\":\"scatter3d\",\"line\":{\"colorbar\":{\"outlinewidth\":0,\"ticks\":\"\"}},\"marker\":{\"colorbar\":{\"outlinewidth\":0,\"ticks\":\"\"}}}],\"scattermapbox\":[{\"type\":\"scattermapbox\",\"marker\":{\"colorbar\":{\"outlinewidth\":0,\"ticks\":\"\"}}}],\"scatterternary\":[{\"type\":\"scatterternary\",\"marker\":{\"colorbar\":{\"outlinewidth\":0,\"ticks\":\"\"}}}],\"scattercarpet\":[{\"type\":\"scattercarpet\",\"marker\":{\"colorbar\":{\"outlinewidth\":0,\"ticks\":\"\"}}}],\"carpet\":[{\"aaxis\":{\"endlinecolor\":\"#2a3f5f\",\"gridcolor\":\"white\",\"linecolor\":\"white\",\"minorgridcolor\":\"white\",\"startlinecolor\":\"#2a3f5f\"},\"baxis\":{\"endlinecolor\":\"#2a3f5f\",\"gridcolor\":\"white\",\"linecolor\":\"white\",\"minorgridcolor\":\"white\",\"startlinecolor\":\"#2a3f5f\"},\"type\":\"carpet\"}],\"table\":[{\"cells\":{\"fill\":{\"color\":\"#EBF0F8\"},\"line\":{\"color\":\"white\"}},\"header\":{\"fill\":{\"color\":\"#C8D4E3\"},\"line\":{\"color\":\"white\"}},\"type\":\"table\"}],\"barpolar\":[{\"marker\":{\"line\":{\"color\":\"#E5ECF6\",\"width\":0.5},\"pattern\":{\"fillmode\":\"overlay\",\"size\":10,\"solidity\":0.2}},\"type\":\"barpolar\"}],\"pie\":[{\"automargin\":true,\"type\":\"pie\"}]},\"layout\":{\"autotypenumbers\":\"strict\",\"colorway\":[\"#636efa\",\"#EF553B\",\"#00cc96\",\"#ab63fa\",\"#FFA15A\",\"#19d3f3\",\"#FF6692\",\"#B6E880\",\"#FF97FF\",\"#FECB52\"],\"font\":{\"color\":\"#2a3f5f\"},\"hovermode\":\"closest\",\"hoverlabel\":{\"align\":\"left\"},\"paper_bgcolor\":\"white\",\"plot_bgcolor\":\"#E5ECF6\",\"polar\":{\"bgcolor\":\"#E5ECF6\",\"angularaxis\":{\"gridcolor\":\"white\",\"linecolor\":\"white\",\"ticks\":\"\"},\"radialaxis\":{\"gridcolor\":\"white\",\"linecolor\":\"white\",\"ticks\":\"\"}},\"ternary\":{\"bgcolor\":\"#E5ECF6\",\"aaxis\":{\"gridcolor\":\"white\",\"linecolor\":\"white\",\"ticks\":\"\"},\"baxis\":{\"gridcolor\":\"white\",\"linecolor\":\"white\",\"ticks\":\"\"},\"caxis\":{\"gridcolor\":\"white\",\"linecolor\":\"white\",\"ticks\":\"\"}},\"coloraxis\":{\"colorbar\":{\"outlinewidth\":0,\"ticks\":\"\"}},\"colorscale\":{\"sequential\":[[0.0,\"#0d0887\"],[0.1111111111111111,\"#46039f\"],[0.2222222222222222,\"#7201a8\"],[0.3333333333333333,\"#9c179e\"],[0.4444444444444444,\"#bd3786\"],[0.5555555555555556,\"#d8576b\"],[0.6666666666666666,\"#ed7953\"],[0.7777777777777778,\"#fb9f3a\"],[0.8888888888888888,\"#fdca26\"],[1.0,\"#f0f921\"]],\"sequentialminus\":[[0.0,\"#0d0887\"],[0.1111111111111111,\"#46039f\"],[0.2222222222222222,\"#7201a8\"],[0.3333333333333333,\"#9c179e\"],[0.4444444444444444,\"#bd3786\"],[0.5555555555555556,\"#d8576b\"],[0.6666666666666666,\"#ed7953\"],[0.7777777777777778,\"#fb9f3a\"],[0.8888888888888888,\"#fdca26\"],[1.0,\"#f0f921\"]],\"diverging\":[[0,\"#8e0152\"],[0.1,\"#c51b7d\"],[0.2,\"#de77ae\"],[0.3,\"#f1b6da\"],[0.4,\"#fde0ef\"],[0.5,\"#f7f7f7\"],[0.6,\"#e6f5d0\"],[0.7,\"#b8e186\"],[0.8,\"#7fbc41\"],[0.9,\"#4d9221\"],[1,\"#276419\"]]},\"xaxis\":{\"gridcolor\":\"white\",\"linecolor\":\"white\",\"ticks\":\"\",\"title\":{\"standoff\":15},\"zerolinecolor\":\"white\",\"automargin\":true,\"zerolinewidth\":2},\"yaxis\":{\"gridcolor\":\"white\",\"linecolor\":\"white\",\"ticks\":\"\",\"title\":{\"standoff\":15},\"zerolinecolor\":\"white\",\"automargin\":true,\"zerolinewidth\":2},\"scene\":{\"xaxis\":{\"backgroundcolor\":\"#E5ECF6\",\"gridcolor\":\"white\",\"linecolor\":\"white\",\"showbackground\":true,\"ticks\":\"\",\"zerolinecolor\":\"white\",\"gridwidth\":2},\"yaxis\":{\"backgroundcolor\":\"#E5ECF6\",\"gridcolor\":\"white\",\"linecolor\":\"white\",\"showbackground\":true,\"ticks\":\"\",\"zerolinecolor\":\"white\",\"gridwidth\":2},\"zaxis\":{\"backgroundcolor\":\"#E5ECF6\",\"gridcolor\":\"white\",\"linecolor\":\"white\",\"showbackground\":true,\"ticks\":\"\",\"zerolinecolor\":\"white\",\"gridwidth\":2}},\"shapedefaults\":{\"line\":{\"color\":\"#2a3f5f\"}},\"annotationdefaults\":{\"arrowcolor\":\"#2a3f5f\",\"arrowhead\":0,\"arrowwidth\":1},\"geo\":{\"bgcolor\":\"white\",\"landcolor\":\"#E5ECF6\",\"subunitcolor\":\"white\",\"showland\":true,\"showlakes\":true,\"lakecolor\":\"white\"},\"title\":{\"x\":0.05},\"mapbox\":{\"style\":\"light\"}}}},                        {\"responsive\": true}                    ).then(function(){\n                            \nvar gd = document.getElementById('b3392cb8-98df-4743-953a-b73c8417de2d');\nvar x = new MutationObserver(function (mutations, observer) {{\n        var display = window.getComputedStyle(gd).display;\n        if (!display || display === 'none') {{\n            console.log([gd, 'removed!']);\n            Plotly.purge(gd);\n            observer.disconnect();\n        }}\n}});\n\n// Listen for the removal of the full notebook cells\nvar notebookContainer = gd.closest('#notebook-container');\nif (notebookContainer) {{\n    x.observe(notebookContainer, {childList: true});\n}}\n\n// Listen for the clearing of the current output cell\nvar outputEl = gd.closest('.output');\nif (outputEl) {{\n    x.observe(outputEl, {childList: true});\n}}\n\n                        })                };                });            </script>        </div>"
     },
     "metadata": {},
     "output_type": "display_data"
    }
   ],
   "source": [
    "import numpy as np\n",
    "print(ls.__len__())\n",
    "trace = dict(\n",
    "    # x = np.linspace(0, len(ls), 1),\n",
    "    y = np.array(ls),\n",
    "    mode = \"lines\",\n",
    "    name = \"loss\"\n",
    ")\n",
    "fig = go.Figure(trace)\n",
    "fig.show()"
   ],
   "metadata": {
    "collapsed": false,
    "pycharm": {
     "name": "#%%\n"
    }
   }
  },
  {
   "cell_type": "code",
   "execution_count": 10,
   "outputs": [
    {
     "name": "stdout",
     "output_type": "stream",
     "text": [
      "1910\n",
      "1010\n"
     ]
    }
   ],
   "source": [],
   "metadata": {
    "collapsed": false,
    "pycharm": {
     "name": "#%%\n"
    }
   }
  },
  {
   "cell_type": "code",
   "execution_count": 23,
   "outputs": [
    {
     "name": "stdout",
     "output_type": "stream",
     "text": [
      "../StockPriceForecast/Models/spf_softDTW_3_910.pth\n"
     ]
    }
   ],
   "source": [
    "# 继续训练\n",
    "# Run on GPU server\n",
    "import sys\n",
    "sys.path.append(\"../StockPriceForecast/\")\n",
    "from libs.modules import *\n",
    "from libs import *\n",
    "import torch\n",
    "import torch.nn as nn\n",
    "import sys\n",
    "from os.path import join\n",
    "models_store_path = \"../StockPriceForecast/Models/\"\n",
    "# train_dataLoader.isel(900, len(train_dataLoader))\n",
    "days_num = len(train_dataLoader)\n",
    "loss_function_name = \"softDTW\"\n",
    "lr = 0.0001\n",
    "num_epochs = 3\n",
    "model_name = f\"spf_{loss_function_name}_{num_epochs}_{days_num}.pth\"\n",
    "model_store_path = join(models_store_path, model_name)\n",
    "print(model_store_path)"
   ],
   "metadata": {
    "collapsed": false,
    "pycharm": {
     "name": "#%%\n"
    }
   }
  },
  {
   "cell_type": "code",
   "execution_count": 24,
   "outputs": [
    {
     "name": "stderr",
     "output_type": "stream",
     "text": [
      "epoch 0 training: 100%|██████████| 910/910 [07:58<00:00,  1.90it/s, loss=61.1, lr=1.95e-7]\n",
      "epoch 1 training: 100%|██████████| 910/910 [07:57<00:00,  1.90it/s, loss=63.6, lr=1.22e-8]\n",
      "epoch 2 training: 100%|██████████| 910/910 [07:58<00:00,  1.90it/s, loss=65.7, lr=1.22e-8]\n"
     ]
    }
   ],
   "source": [
    "model = torch.load(\"../StockPriceForecast/Models/spf_softDTW_1_910.pth\")\n",
    "model, ls = train_Seq2SeqAttention(model=model,\n",
    "                                   device=device,\n",
    "                                   dataLoader=train_dataLoader,\n",
    "                                   loss_function_name=loss_function_name,\n",
    "                                   init_weights=False,\n",
    "                                   lr=lr,\n",
    "                                   num_epochs=num_epochs)"
   ],
   "metadata": {
    "collapsed": false,
    "pycharm": {
     "name": "#%%\n"
    }
   }
  },
  {
   "cell_type": "code",
   "execution_count": 28,
   "outputs": [],
   "source": [
    "torch.save(model, model_store_path)\n"
   ],
   "metadata": {
    "collapsed": false,
    "pycharm": {
     "name": "#%%\n"
    }
   }
  },
  {
   "cell_type": "code",
   "execution_count": 4,
   "outputs": [
    {
     "name": "stdout",
     "output_type": "stream",
     "text": [
      "1\n"
     ]
    }
   ],
   "source": [
    "from libs.modules import *\n",
    "from libs import *\n",
    "import torch\n",
    "import torch.nn as nn\n",
    "import sys\n",
    "model = torch.load(\"../StockPriceForecast/Models/spf_softDTW_1_910.pth\")\n",
    "sys.path.append(\"../StockPriceForecast/\")\n",
    "validation_dataLoader.isel(0, 1)\n",
    "predicts, targets, attention_weights = eval_Seq2SeqAttention(model=model,\n",
    "                                                    dataLoader=validation_dataLoader,\n",
    "                                                    steps=5,\n",
    "                                                    device=device)\n",
    "print(len(predicts))"
   ],
   "metadata": {
    "collapsed": false,
    "pycharm": {
     "name": "#%%\n"
    }
   }
  },
  {
   "cell_type": "code",
   "execution_count": 26,
   "outputs": [
    {
     "data": {
      "application/vnd.plotly.v1+json": {
       "data": [
        {
         "mode": "lines",
         "name": "predict",
         "y": [
          0.18495602905750275,
          0.1694985330104828,
          0.16324454545974731,
          0.16139543056488037,
          0.16165348887443542
         ],
         "type": "scatter"
        },
        {
         "mode": "lines",
         "name": "target",
         "y": [
          0.2057761698961258,
          0.16726835072040558,
          0.17448857426643372,
          0.1917368620634079,
          0.17930205166339874
         ],
         "type": "scatter"
        }
       ],
       "layout": {
        "template": {
         "data": {
          "barpolar": [
           {
            "marker": {
             "line": {
              "color": "#E5ECF6",
              "width": 0.5
             },
             "pattern": {
              "fillmode": "overlay",
              "size": 10,
              "solidity": 0.2
             }
            },
            "type": "barpolar"
           }
          ],
          "bar": [
           {
            "error_x": {
             "color": "#2a3f5f"
            },
            "error_y": {
             "color": "#2a3f5f"
            },
            "marker": {
             "line": {
              "color": "#E5ECF6",
              "width": 0.5
             },
             "pattern": {
              "fillmode": "overlay",
              "size": 10,
              "solidity": 0.2
             }
            },
            "type": "bar"
           }
          ],
          "carpet": [
           {
            "aaxis": {
             "endlinecolor": "#2a3f5f",
             "gridcolor": "white",
             "linecolor": "white",
             "minorgridcolor": "white",
             "startlinecolor": "#2a3f5f"
            },
            "baxis": {
             "endlinecolor": "#2a3f5f",
             "gridcolor": "white",
             "linecolor": "white",
             "minorgridcolor": "white",
             "startlinecolor": "#2a3f5f"
            },
            "type": "carpet"
           }
          ],
          "choropleth": [
           {
            "colorbar": {
             "outlinewidth": 0,
             "ticks": ""
            },
            "type": "choropleth"
           }
          ],
          "contourcarpet": [
           {
            "colorbar": {
             "outlinewidth": 0,
             "ticks": ""
            },
            "type": "contourcarpet"
           }
          ],
          "contour": [
           {
            "colorbar": {
             "outlinewidth": 0,
             "ticks": ""
            },
            "colorscale": [
             [
              0.0,
              "#0d0887"
             ],
             [
              0.1111111111111111,
              "#46039f"
             ],
             [
              0.2222222222222222,
              "#7201a8"
             ],
             [
              0.3333333333333333,
              "#9c179e"
             ],
             [
              0.4444444444444444,
              "#bd3786"
             ],
             [
              0.5555555555555556,
              "#d8576b"
             ],
             [
              0.6666666666666666,
              "#ed7953"
             ],
             [
              0.7777777777777778,
              "#fb9f3a"
             ],
             [
              0.8888888888888888,
              "#fdca26"
             ],
             [
              1.0,
              "#f0f921"
             ]
            ],
            "type": "contour"
           }
          ],
          "heatmapgl": [
           {
            "colorbar": {
             "outlinewidth": 0,
             "ticks": ""
            },
            "colorscale": [
             [
              0.0,
              "#0d0887"
             ],
             [
              0.1111111111111111,
              "#46039f"
             ],
             [
              0.2222222222222222,
              "#7201a8"
             ],
             [
              0.3333333333333333,
              "#9c179e"
             ],
             [
              0.4444444444444444,
              "#bd3786"
             ],
             [
              0.5555555555555556,
              "#d8576b"
             ],
             [
              0.6666666666666666,
              "#ed7953"
             ],
             [
              0.7777777777777778,
              "#fb9f3a"
             ],
             [
              0.8888888888888888,
              "#fdca26"
             ],
             [
              1.0,
              "#f0f921"
             ]
            ],
            "type": "heatmapgl"
           }
          ],
          "heatmap": [
           {
            "colorbar": {
             "outlinewidth": 0,
             "ticks": ""
            },
            "colorscale": [
             [
              0.0,
              "#0d0887"
             ],
             [
              0.1111111111111111,
              "#46039f"
             ],
             [
              0.2222222222222222,
              "#7201a8"
             ],
             [
              0.3333333333333333,
              "#9c179e"
             ],
             [
              0.4444444444444444,
              "#bd3786"
             ],
             [
              0.5555555555555556,
              "#d8576b"
             ],
             [
              0.6666666666666666,
              "#ed7953"
             ],
             [
              0.7777777777777778,
              "#fb9f3a"
             ],
             [
              0.8888888888888888,
              "#fdca26"
             ],
             [
              1.0,
              "#f0f921"
             ]
            ],
            "type": "heatmap"
           }
          ],
          "histogram2dcontour": [
           {
            "colorbar": {
             "outlinewidth": 0,
             "ticks": ""
            },
            "colorscale": [
             [
              0.0,
              "#0d0887"
             ],
             [
              0.1111111111111111,
              "#46039f"
             ],
             [
              0.2222222222222222,
              "#7201a8"
             ],
             [
              0.3333333333333333,
              "#9c179e"
             ],
             [
              0.4444444444444444,
              "#bd3786"
             ],
             [
              0.5555555555555556,
              "#d8576b"
             ],
             [
              0.6666666666666666,
              "#ed7953"
             ],
             [
              0.7777777777777778,
              "#fb9f3a"
             ],
             [
              0.8888888888888888,
              "#fdca26"
             ],
             [
              1.0,
              "#f0f921"
             ]
            ],
            "type": "histogram2dcontour"
           }
          ],
          "histogram2d": [
           {
            "colorbar": {
             "outlinewidth": 0,
             "ticks": ""
            },
            "colorscale": [
             [
              0.0,
              "#0d0887"
             ],
             [
              0.1111111111111111,
              "#46039f"
             ],
             [
              0.2222222222222222,
              "#7201a8"
             ],
             [
              0.3333333333333333,
              "#9c179e"
             ],
             [
              0.4444444444444444,
              "#bd3786"
             ],
             [
              0.5555555555555556,
              "#d8576b"
             ],
             [
              0.6666666666666666,
              "#ed7953"
             ],
             [
              0.7777777777777778,
              "#fb9f3a"
             ],
             [
              0.8888888888888888,
              "#fdca26"
             ],
             [
              1.0,
              "#f0f921"
             ]
            ],
            "type": "histogram2d"
           }
          ],
          "histogram": [
           {
            "marker": {
             "pattern": {
              "fillmode": "overlay",
              "size": 10,
              "solidity": 0.2
             }
            },
            "type": "histogram"
           }
          ],
          "mesh3d": [
           {
            "colorbar": {
             "outlinewidth": 0,
             "ticks": ""
            },
            "type": "mesh3d"
           }
          ],
          "parcoords": [
           {
            "line": {
             "colorbar": {
              "outlinewidth": 0,
              "ticks": ""
             }
            },
            "type": "parcoords"
           }
          ],
          "pie": [
           {
            "automargin": true,
            "type": "pie"
           }
          ],
          "scatter3d": [
           {
            "line": {
             "colorbar": {
              "outlinewidth": 0,
              "ticks": ""
             }
            },
            "marker": {
             "colorbar": {
              "outlinewidth": 0,
              "ticks": ""
             }
            },
            "type": "scatter3d"
           }
          ],
          "scattercarpet": [
           {
            "marker": {
             "colorbar": {
              "outlinewidth": 0,
              "ticks": ""
             }
            },
            "type": "scattercarpet"
           }
          ],
          "scattergeo": [
           {
            "marker": {
             "colorbar": {
              "outlinewidth": 0,
              "ticks": ""
             }
            },
            "type": "scattergeo"
           }
          ],
          "scattergl": [
           {
            "marker": {
             "colorbar": {
              "outlinewidth": 0,
              "ticks": ""
             }
            },
            "type": "scattergl"
           }
          ],
          "scattermapbox": [
           {
            "marker": {
             "colorbar": {
              "outlinewidth": 0,
              "ticks": ""
             }
            },
            "type": "scattermapbox"
           }
          ],
          "scatterpolargl": [
           {
            "marker": {
             "colorbar": {
              "outlinewidth": 0,
              "ticks": ""
             }
            },
            "type": "scatterpolargl"
           }
          ],
          "scatterpolar": [
           {
            "marker": {
             "colorbar": {
              "outlinewidth": 0,
              "ticks": ""
             }
            },
            "type": "scatterpolar"
           }
          ],
          "scatter": [
           {
            "fillpattern": {
             "fillmode": "overlay",
             "size": 10,
             "solidity": 0.2
            },
            "type": "scatter"
           }
          ],
          "scatterternary": [
           {
            "marker": {
             "colorbar": {
              "outlinewidth": 0,
              "ticks": ""
             }
            },
            "type": "scatterternary"
           }
          ],
          "surface": [
           {
            "colorbar": {
             "outlinewidth": 0,
             "ticks": ""
            },
            "colorscale": [
             [
              0.0,
              "#0d0887"
             ],
             [
              0.1111111111111111,
              "#46039f"
             ],
             [
              0.2222222222222222,
              "#7201a8"
             ],
             [
              0.3333333333333333,
              "#9c179e"
             ],
             [
              0.4444444444444444,
              "#bd3786"
             ],
             [
              0.5555555555555556,
              "#d8576b"
             ],
             [
              0.6666666666666666,
              "#ed7953"
             ],
             [
              0.7777777777777778,
              "#fb9f3a"
             ],
             [
              0.8888888888888888,
              "#fdca26"
             ],
             [
              1.0,
              "#f0f921"
             ]
            ],
            "type": "surface"
           }
          ],
          "table": [
           {
            "cells": {
             "fill": {
              "color": "#EBF0F8"
             },
             "line": {
              "color": "white"
             }
            },
            "header": {
             "fill": {
              "color": "#C8D4E3"
             },
             "line": {
              "color": "white"
             }
            },
            "type": "table"
           }
          ]
         },
         "layout": {
          "annotationdefaults": {
           "arrowcolor": "#2a3f5f",
           "arrowhead": 0,
           "arrowwidth": 1
          },
          "autotypenumbers": "strict",
          "coloraxis": {
           "colorbar": {
            "outlinewidth": 0,
            "ticks": ""
           }
          },
          "colorscale": {
           "diverging": [
            [
             0,
             "#8e0152"
            ],
            [
             0.1,
             "#c51b7d"
            ],
            [
             0.2,
             "#de77ae"
            ],
            [
             0.3,
             "#f1b6da"
            ],
            [
             0.4,
             "#fde0ef"
            ],
            [
             0.5,
             "#f7f7f7"
            ],
            [
             0.6,
             "#e6f5d0"
            ],
            [
             0.7,
             "#b8e186"
            ],
            [
             0.8,
             "#7fbc41"
            ],
            [
             0.9,
             "#4d9221"
            ],
            [
             1,
             "#276419"
            ]
           ],
           "sequential": [
            [
             0.0,
             "#0d0887"
            ],
            [
             0.1111111111111111,
             "#46039f"
            ],
            [
             0.2222222222222222,
             "#7201a8"
            ],
            [
             0.3333333333333333,
             "#9c179e"
            ],
            [
             0.4444444444444444,
             "#bd3786"
            ],
            [
             0.5555555555555556,
             "#d8576b"
            ],
            [
             0.6666666666666666,
             "#ed7953"
            ],
            [
             0.7777777777777778,
             "#fb9f3a"
            ],
            [
             0.8888888888888888,
             "#fdca26"
            ],
            [
             1.0,
             "#f0f921"
            ]
           ],
           "sequentialminus": [
            [
             0.0,
             "#0d0887"
            ],
            [
             0.1111111111111111,
             "#46039f"
            ],
            [
             0.2222222222222222,
             "#7201a8"
            ],
            [
             0.3333333333333333,
             "#9c179e"
            ],
            [
             0.4444444444444444,
             "#bd3786"
            ],
            [
             0.5555555555555556,
             "#d8576b"
            ],
            [
             0.6666666666666666,
             "#ed7953"
            ],
            [
             0.7777777777777778,
             "#fb9f3a"
            ],
            [
             0.8888888888888888,
             "#fdca26"
            ],
            [
             1.0,
             "#f0f921"
            ]
           ]
          },
          "colorway": [
           "#636efa",
           "#EF553B",
           "#00cc96",
           "#ab63fa",
           "#FFA15A",
           "#19d3f3",
           "#FF6692",
           "#B6E880",
           "#FF97FF",
           "#FECB52"
          ],
          "font": {
           "color": "#2a3f5f"
          },
          "geo": {
           "bgcolor": "white",
           "lakecolor": "white",
           "landcolor": "#E5ECF6",
           "showlakes": true,
           "showland": true,
           "subunitcolor": "white"
          },
          "hoverlabel": {
           "align": "left"
          },
          "hovermode": "closest",
          "mapbox": {
           "style": "light"
          },
          "paper_bgcolor": "white",
          "plot_bgcolor": "#E5ECF6",
          "polar": {
           "angularaxis": {
            "gridcolor": "white",
            "linecolor": "white",
            "ticks": ""
           },
           "bgcolor": "#E5ECF6",
           "radialaxis": {
            "gridcolor": "white",
            "linecolor": "white",
            "ticks": ""
           }
          },
          "scene": {
           "xaxis": {
            "backgroundcolor": "#E5ECF6",
            "gridcolor": "white",
            "gridwidth": 2,
            "linecolor": "white",
            "showbackground": true,
            "ticks": "",
            "zerolinecolor": "white"
           },
           "yaxis": {
            "backgroundcolor": "#E5ECF6",
            "gridcolor": "white",
            "gridwidth": 2,
            "linecolor": "white",
            "showbackground": true,
            "ticks": "",
            "zerolinecolor": "white"
           },
           "zaxis": {
            "backgroundcolor": "#E5ECF6",
            "gridcolor": "white",
            "gridwidth": 2,
            "linecolor": "white",
            "showbackground": true,
            "ticks": "",
            "zerolinecolor": "white"
           }
          },
          "shapedefaults": {
           "line": {
            "color": "#2a3f5f"
           }
          },
          "ternary": {
           "aaxis": {
            "gridcolor": "white",
            "linecolor": "white",
            "ticks": ""
           },
           "baxis": {
            "gridcolor": "white",
            "linecolor": "white",
            "ticks": ""
           },
           "bgcolor": "#E5ECF6",
           "caxis": {
            "gridcolor": "white",
            "linecolor": "white",
            "ticks": ""
           }
          },
          "title": {
           "x": 0.05
          },
          "xaxis": {
           "automargin": true,
           "gridcolor": "white",
           "linecolor": "white",
           "ticks": "",
           "title": {
            "standoff": 15
           },
           "zerolinecolor": "white",
           "zerolinewidth": 2
          },
          "yaxis": {
           "automargin": true,
           "gridcolor": "white",
           "linecolor": "white",
           "ticks": "",
           "title": {
            "standoff": 15
           },
           "zerolinecolor": "white",
           "zerolinewidth": 2
          }
         }
        }
       },
       "config": {
        "showLink": false,
        "linkText": "Export to plot.ly",
        "plotlyServerURL": "https://plot.ly"
       }
      },
      "text/html": "<div>                            <div id=\"25cfcc17-e4c7-4ace-a60d-753a1e388af3\" class=\"plotly-graph-div\" style=\"height:525px; width:100%;\"></div>            <script type=\"text/javascript\">                require([\"plotly\"], function(Plotly) {                    window.PLOTLYENV=window.PLOTLYENV || {};                                    if (document.getElementById(\"25cfcc17-e4c7-4ace-a60d-753a1e388af3\")) {                    Plotly.newPlot(                        \"25cfcc17-e4c7-4ace-a60d-753a1e388af3\",                        [{\"mode\":\"lines\",\"name\":\"predict\",\"y\":[0.18495602905750275,0.1694985330104828,0.16324454545974731,0.16139543056488037,0.16165348887443542],\"type\":\"scatter\"},{\"mode\":\"lines\",\"name\":\"target\",\"y\":[0.2057761698961258,0.16726835072040558,0.17448857426643372,0.1917368620634079,0.17930205166339874],\"type\":\"scatter\"}],                        {\"template\":{\"data\":{\"barpolar\":[{\"marker\":{\"line\":{\"color\":\"#E5ECF6\",\"width\":0.5},\"pattern\":{\"fillmode\":\"overlay\",\"size\":10,\"solidity\":0.2}},\"type\":\"barpolar\"}],\"bar\":[{\"error_x\":{\"color\":\"#2a3f5f\"},\"error_y\":{\"color\":\"#2a3f5f\"},\"marker\":{\"line\":{\"color\":\"#E5ECF6\",\"width\":0.5},\"pattern\":{\"fillmode\":\"overlay\",\"size\":10,\"solidity\":0.2}},\"type\":\"bar\"}],\"carpet\":[{\"aaxis\":{\"endlinecolor\":\"#2a3f5f\",\"gridcolor\":\"white\",\"linecolor\":\"white\",\"minorgridcolor\":\"white\",\"startlinecolor\":\"#2a3f5f\"},\"baxis\":{\"endlinecolor\":\"#2a3f5f\",\"gridcolor\":\"white\",\"linecolor\":\"white\",\"minorgridcolor\":\"white\",\"startlinecolor\":\"#2a3f5f\"},\"type\":\"carpet\"}],\"choropleth\":[{\"colorbar\":{\"outlinewidth\":0,\"ticks\":\"\"},\"type\":\"choropleth\"}],\"contourcarpet\":[{\"colorbar\":{\"outlinewidth\":0,\"ticks\":\"\"},\"type\":\"contourcarpet\"}],\"contour\":[{\"colorbar\":{\"outlinewidth\":0,\"ticks\":\"\"},\"colorscale\":[[0.0,\"#0d0887\"],[0.1111111111111111,\"#46039f\"],[0.2222222222222222,\"#7201a8\"],[0.3333333333333333,\"#9c179e\"],[0.4444444444444444,\"#bd3786\"],[0.5555555555555556,\"#d8576b\"],[0.6666666666666666,\"#ed7953\"],[0.7777777777777778,\"#fb9f3a\"],[0.8888888888888888,\"#fdca26\"],[1.0,\"#f0f921\"]],\"type\":\"contour\"}],\"heatmapgl\":[{\"colorbar\":{\"outlinewidth\":0,\"ticks\":\"\"},\"colorscale\":[[0.0,\"#0d0887\"],[0.1111111111111111,\"#46039f\"],[0.2222222222222222,\"#7201a8\"],[0.3333333333333333,\"#9c179e\"],[0.4444444444444444,\"#bd3786\"],[0.5555555555555556,\"#d8576b\"],[0.6666666666666666,\"#ed7953\"],[0.7777777777777778,\"#fb9f3a\"],[0.8888888888888888,\"#fdca26\"],[1.0,\"#f0f921\"]],\"type\":\"heatmapgl\"}],\"heatmap\":[{\"colorbar\":{\"outlinewidth\":0,\"ticks\":\"\"},\"colorscale\":[[0.0,\"#0d0887\"],[0.1111111111111111,\"#46039f\"],[0.2222222222222222,\"#7201a8\"],[0.3333333333333333,\"#9c179e\"],[0.4444444444444444,\"#bd3786\"],[0.5555555555555556,\"#d8576b\"],[0.6666666666666666,\"#ed7953\"],[0.7777777777777778,\"#fb9f3a\"],[0.8888888888888888,\"#fdca26\"],[1.0,\"#f0f921\"]],\"type\":\"heatmap\"}],\"histogram2dcontour\":[{\"colorbar\":{\"outlinewidth\":0,\"ticks\":\"\"},\"colorscale\":[[0.0,\"#0d0887\"],[0.1111111111111111,\"#46039f\"],[0.2222222222222222,\"#7201a8\"],[0.3333333333333333,\"#9c179e\"],[0.4444444444444444,\"#bd3786\"],[0.5555555555555556,\"#d8576b\"],[0.6666666666666666,\"#ed7953\"],[0.7777777777777778,\"#fb9f3a\"],[0.8888888888888888,\"#fdca26\"],[1.0,\"#f0f921\"]],\"type\":\"histogram2dcontour\"}],\"histogram2d\":[{\"colorbar\":{\"outlinewidth\":0,\"ticks\":\"\"},\"colorscale\":[[0.0,\"#0d0887\"],[0.1111111111111111,\"#46039f\"],[0.2222222222222222,\"#7201a8\"],[0.3333333333333333,\"#9c179e\"],[0.4444444444444444,\"#bd3786\"],[0.5555555555555556,\"#d8576b\"],[0.6666666666666666,\"#ed7953\"],[0.7777777777777778,\"#fb9f3a\"],[0.8888888888888888,\"#fdca26\"],[1.0,\"#f0f921\"]],\"type\":\"histogram2d\"}],\"histogram\":[{\"marker\":{\"pattern\":{\"fillmode\":\"overlay\",\"size\":10,\"solidity\":0.2}},\"type\":\"histogram\"}],\"mesh3d\":[{\"colorbar\":{\"outlinewidth\":0,\"ticks\":\"\"},\"type\":\"mesh3d\"}],\"parcoords\":[{\"line\":{\"colorbar\":{\"outlinewidth\":0,\"ticks\":\"\"}},\"type\":\"parcoords\"}],\"pie\":[{\"automargin\":true,\"type\":\"pie\"}],\"scatter3d\":[{\"line\":{\"colorbar\":{\"outlinewidth\":0,\"ticks\":\"\"}},\"marker\":{\"colorbar\":{\"outlinewidth\":0,\"ticks\":\"\"}},\"type\":\"scatter3d\"}],\"scattercarpet\":[{\"marker\":{\"colorbar\":{\"outlinewidth\":0,\"ticks\":\"\"}},\"type\":\"scattercarpet\"}],\"scattergeo\":[{\"marker\":{\"colorbar\":{\"outlinewidth\":0,\"ticks\":\"\"}},\"type\":\"scattergeo\"}],\"scattergl\":[{\"marker\":{\"colorbar\":{\"outlinewidth\":0,\"ticks\":\"\"}},\"type\":\"scattergl\"}],\"scattermapbox\":[{\"marker\":{\"colorbar\":{\"outlinewidth\":0,\"ticks\":\"\"}},\"type\":\"scattermapbox\"}],\"scatterpolargl\":[{\"marker\":{\"colorbar\":{\"outlinewidth\":0,\"ticks\":\"\"}},\"type\":\"scatterpolargl\"}],\"scatterpolar\":[{\"marker\":{\"colorbar\":{\"outlinewidth\":0,\"ticks\":\"\"}},\"type\":\"scatterpolar\"}],\"scatter\":[{\"fillpattern\":{\"fillmode\":\"overlay\",\"size\":10,\"solidity\":0.2},\"type\":\"scatter\"}],\"scatterternary\":[{\"marker\":{\"colorbar\":{\"outlinewidth\":0,\"ticks\":\"\"}},\"type\":\"scatterternary\"}],\"surface\":[{\"colorbar\":{\"outlinewidth\":0,\"ticks\":\"\"},\"colorscale\":[[0.0,\"#0d0887\"],[0.1111111111111111,\"#46039f\"],[0.2222222222222222,\"#7201a8\"],[0.3333333333333333,\"#9c179e\"],[0.4444444444444444,\"#bd3786\"],[0.5555555555555556,\"#d8576b\"],[0.6666666666666666,\"#ed7953\"],[0.7777777777777778,\"#fb9f3a\"],[0.8888888888888888,\"#fdca26\"],[1.0,\"#f0f921\"]],\"type\":\"surface\"}],\"table\":[{\"cells\":{\"fill\":{\"color\":\"#EBF0F8\"},\"line\":{\"color\":\"white\"}},\"header\":{\"fill\":{\"color\":\"#C8D4E3\"},\"line\":{\"color\":\"white\"}},\"type\":\"table\"}]},\"layout\":{\"annotationdefaults\":{\"arrowcolor\":\"#2a3f5f\",\"arrowhead\":0,\"arrowwidth\":1},\"autotypenumbers\":\"strict\",\"coloraxis\":{\"colorbar\":{\"outlinewidth\":0,\"ticks\":\"\"}},\"colorscale\":{\"diverging\":[[0,\"#8e0152\"],[0.1,\"#c51b7d\"],[0.2,\"#de77ae\"],[0.3,\"#f1b6da\"],[0.4,\"#fde0ef\"],[0.5,\"#f7f7f7\"],[0.6,\"#e6f5d0\"],[0.7,\"#b8e186\"],[0.8,\"#7fbc41\"],[0.9,\"#4d9221\"],[1,\"#276419\"]],\"sequential\":[[0.0,\"#0d0887\"],[0.1111111111111111,\"#46039f\"],[0.2222222222222222,\"#7201a8\"],[0.3333333333333333,\"#9c179e\"],[0.4444444444444444,\"#bd3786\"],[0.5555555555555556,\"#d8576b\"],[0.6666666666666666,\"#ed7953\"],[0.7777777777777778,\"#fb9f3a\"],[0.8888888888888888,\"#fdca26\"],[1.0,\"#f0f921\"]],\"sequentialminus\":[[0.0,\"#0d0887\"],[0.1111111111111111,\"#46039f\"],[0.2222222222222222,\"#7201a8\"],[0.3333333333333333,\"#9c179e\"],[0.4444444444444444,\"#bd3786\"],[0.5555555555555556,\"#d8576b\"],[0.6666666666666666,\"#ed7953\"],[0.7777777777777778,\"#fb9f3a\"],[0.8888888888888888,\"#fdca26\"],[1.0,\"#f0f921\"]]},\"colorway\":[\"#636efa\",\"#EF553B\",\"#00cc96\",\"#ab63fa\",\"#FFA15A\",\"#19d3f3\",\"#FF6692\",\"#B6E880\",\"#FF97FF\",\"#FECB52\"],\"font\":{\"color\":\"#2a3f5f\"},\"geo\":{\"bgcolor\":\"white\",\"lakecolor\":\"white\",\"landcolor\":\"#E5ECF6\",\"showlakes\":true,\"showland\":true,\"subunitcolor\":\"white\"},\"hoverlabel\":{\"align\":\"left\"},\"hovermode\":\"closest\",\"mapbox\":{\"style\":\"light\"},\"paper_bgcolor\":\"white\",\"plot_bgcolor\":\"#E5ECF6\",\"polar\":{\"angularaxis\":{\"gridcolor\":\"white\",\"linecolor\":\"white\",\"ticks\":\"\"},\"bgcolor\":\"#E5ECF6\",\"radialaxis\":{\"gridcolor\":\"white\",\"linecolor\":\"white\",\"ticks\":\"\"}},\"scene\":{\"xaxis\":{\"backgroundcolor\":\"#E5ECF6\",\"gridcolor\":\"white\",\"gridwidth\":2,\"linecolor\":\"white\",\"showbackground\":true,\"ticks\":\"\",\"zerolinecolor\":\"white\"},\"yaxis\":{\"backgroundcolor\":\"#E5ECF6\",\"gridcolor\":\"white\",\"gridwidth\":2,\"linecolor\":\"white\",\"showbackground\":true,\"ticks\":\"\",\"zerolinecolor\":\"white\"},\"zaxis\":{\"backgroundcolor\":\"#E5ECF6\",\"gridcolor\":\"white\",\"gridwidth\":2,\"linecolor\":\"white\",\"showbackground\":true,\"ticks\":\"\",\"zerolinecolor\":\"white\"}},\"shapedefaults\":{\"line\":{\"color\":\"#2a3f5f\"}},\"ternary\":{\"aaxis\":{\"gridcolor\":\"white\",\"linecolor\":\"white\",\"ticks\":\"\"},\"baxis\":{\"gridcolor\":\"white\",\"linecolor\":\"white\",\"ticks\":\"\"},\"bgcolor\":\"#E5ECF6\",\"caxis\":{\"gridcolor\":\"white\",\"linecolor\":\"white\",\"ticks\":\"\"}},\"title\":{\"x\":0.05},\"xaxis\":{\"automargin\":true,\"gridcolor\":\"white\",\"linecolor\":\"white\",\"ticks\":\"\",\"title\":{\"standoff\":15},\"zerolinecolor\":\"white\",\"zerolinewidth\":2},\"yaxis\":{\"automargin\":true,\"gridcolor\":\"white\",\"linecolor\":\"white\",\"ticks\":\"\",\"title\":{\"standoff\":15},\"zerolinecolor\":\"white\",\"zerolinewidth\":2}}}},                        {\"responsive\": true}                    ).then(function(){\n                            \nvar gd = document.getElementById('25cfcc17-e4c7-4ace-a60d-753a1e388af3');\nvar x = new MutationObserver(function (mutations, observer) {{\n        var display = window.getComputedStyle(gd).display;\n        if (!display || display === 'none') {{\n            console.log([gd, 'removed!']);\n            Plotly.purge(gd);\n            observer.disconnect();\n        }}\n}});\n\n// Listen for the removal of the full notebook cells\nvar notebookContainer = gd.closest('#notebook-container');\nif (notebookContainer) {{\n    x.observe(notebookContainer, {childList: true});\n}}\n\n// Listen for the clearing of the current output cell\nvar outputEl = gd.closest('.output');\nif (outputEl) {{\n    x.observe(outputEl, {childList: true});\n}}\n\n                        })                };                });            </script>        </div>"
     },
     "metadata": {},
     "output_type": "display_data"
    }
   ],
   "source": [
    "import plotly.graph_objs as go\n",
    "import plotly.offline as py\n",
    "import numpy as np\n",
    "show_index = 2\n",
    "trace0 = go.Scatter(\n",
    "    # x = np.linspace(0, 1, 30),\n",
    "    y = predicts[0][show_index].numpy(),\n",
    "    mode = \"lines\",\n",
    "    name = \"predict\"\n",
    ")\n",
    "trace1 = go.Scatter(\n",
    "    # x = np.linspace(0, 1, 30),\n",
    "    y = targets[0][show_index].numpy(),\n",
    "    mode = \"lines\",\n",
    "    name = \"target\"\n",
    ")\n",
    "data = [trace0, trace1]\n",
    "py.iplot(data)"
   ],
   "metadata": {
    "collapsed": false,
    "pycharm": {
     "name": "#%%\n"
    }
   }
  },
  {
   "cell_type": "code",
   "execution_count": 12,
   "outputs": [
    {
     "name": "stdout",
     "output_type": "stream",
     "text": [
      "3030\n"
     ]
    },
    {
     "data": {
      "application/vnd.plotly.v1+json": {
       "data": [
        {
         "mode": "lines",
         "name": "loss",
         "y": [
          124.25346374511719,
          205.50169372558594,
          58.11275863647461,
          35.71104431152344,
          36.28355407714844,
          31.80919075012207,
          18.897794723510742,
          13.087506294250488,
          14.522829055786133,
          14.312819480895996,
          13.66285514831543,
          13.087773323059082,
          11.634782791137695,
          12.823759078979492,
          12.882920265197754,
          13.886030197143555,
          15.752159118652344,
          16.621225357055664,
          16.45330810546875,
          16.412656784057617,
          16.259389877319336,
          14.97069263458252,
          12.598861694335938,
          13.391494750976562,
          12.833320617675781,
          12.530442237854004,
          13.108771324157715,
          13.646718978881836,
          16.20928955078125,
          18.76742935180664,
          17.977323532104492,
          18.209251403808594,
          23.57361602783203,
          26.258846282958984,
          19.720157623291016,
          16.233671188354492,
          17.824209213256836,
          17.250560760498047,
          16.663148880004883,
          17.937904357910156,
          20.922746658325195,
          23.31262969970703,
          24.999958038330078,
          27.118539810180664,
          36.098052978515625,
          43.323211669921875,
          42.598846435546875,
          39.94841384887695,
          39.548561096191406,
          39.237613677978516,
          36.53078079223633,
          38.86212158203125,
          38.81930160522461,
          34.924835205078125,
          36.38154602050781,
          38.72985076904297,
          38.779850006103516,
          40.77255630493164,
          40.58728790283203,
          40.62120819091797,
          48.73313903808594,
          44.37862777709961,
          40.98577880859375,
          35.18107986450195,
          46.830482482910156,
          51.680519104003906,
          44.31037521362305,
          38.62528991699219,
          46.14663314819336,
          55.490760803222656,
          41.08852767944336,
          44.903778076171875,
          39.70051574707031,
          35.4721794128418,
          48.117252349853516,
          63.02055740356445,
          71.28071594238281,
          48.65747833251953,
          50.934295654296875,
          46.442848205566406,
          45.36995315551758,
          33.446014404296875,
          29.01532745361328,
          36.93017578125,
          21.534282684326172,
          36.281028747558594,
          68.36146545410156,
          56.14887237548828,
          32.00068283081055,
          29.194448471069336,
          34.82698059082031,
          25.887126922607422,
          19.534984588623047,
          22.931598663330078,
          21.76055145263672,
          28.23040008544922,
          45.475608825683594,
          38.04058837890625,
          30.302188873291016,
          28.2071533203125,
          32.282859802246094,
          35.723899841308594,
          31.865097045898438,
          33.5914192199707,
          40.10435485839844,
          46.894168853759766,
          70.20657348632812,
          76.28866577148438,
          57.45490264892578,
          37.94968032836914,
          39.875614166259766,
          32.14089584350586,
          24.197011947631836,
          21.974157333374023,
          17.25676918029785,
          17.175891876220703,
          18.084163665771484,
          14.66305923461914,
          13.951471328735352,
          23.730648040771484,
          19.60181427001953,
          17.88930320739746,
          12.848164558410645,
          13.449821472167969,
          11.724222183227539,
          12.157386779785156,
          11.452482223510742,
          9.877115249633789,
          9.604567527770996,
          9.654725074768066,
          9.371478080749512,
          10.093040466308594,
          11.408817291259766,
          13.330156326293945,
          13.783748626708984,
          12.099807739257812,
          12.189186096191406,
          13.199074745178223,
          14.334342956542969,
          13.383277893066406,
          14.305092811584473,
          15.404823303222656,
          15.009441375732422,
          13.745110511779785,
          12.368715286254883,
          11.193256378173828,
          11.121582984924316,
          10.805158615112305,
          11.495290756225586,
          11.397085189819336,
          12.19395637512207,
          13.808066368103027,
          15.539843559265137,
          15.477574348449707,
          14.056262969970703,
          14.019397735595703,
          13.71822452545166,
          14.358895301818848,
          14.675400733947754,
          14.460100173950195,
          13.841850280761719,
          13.550825119018555,
          13.832529067993164,
          13.140522003173828,
          12.760842323303223,
          12.535759925842285,
          12.655332565307617,
          16.16895294189453,
          20.425748825073242,
          21.745092391967773,
          19.615997314453125,
          18.2768497467041,
          18.48432159423828,
          19.582117080688477,
          18.06368637084961,
          16.03912353515625,
          15.942609786987305,
          16.65864372253418,
          15.088546752929688,
          14.760124206542969,
          15.03366470336914,
          16.45210838317871,
          17.322463989257812,
          18.579971313476562,
          19.750280380249023,
          19.985151290893555,
          19.664104461669922,
          18.403718948364258,
          17.21206283569336,
          15.84543514251709,
          14.695184707641602,
          14.123818397521973,
          19.847843170166016,
          24.136455535888672,
          22.66071319580078,
          24.803085327148438,
          21.809133529663086,
          23.58959197998047,
          22.04340362548828,
          18.864885330200195,
          17.55268096923828,
          17.681678771972656,
          16.288803100585938,
          20.00575828552246,
          18.463733673095703,
          16.239803314208984,
          13.471096992492676,
          11.803352355957031,
          12.128849029541016,
          11.768314361572266,
          14.905476570129395,
          14.126683235168457,
          11.061529159545898,
          10.787062644958496,
          12.193582534790039,
          15.215417861938477,
          13.155488014221191,
          10.059491157531738,
          11.22384262084961,
          10.794600486755371,
          9.473490715026855,
          8.668673515319824,
          8.484673500061035,
          7.436034202575684,
          7.749593734741211,
          14.520767211914062,
          17.97789192199707,
          24.813583374023438,
          23.921693801879883,
          15.07010269165039,
          16.260215759277344,
          18.568864822387695,
          20.35245132446289,
          20.068252563476562,
          15.870584487915039,
          11.970202445983887,
          11.223905563354492,
          11.147502899169922,
          12.250741958618164,
          11.240148544311523,
          9.320151329040527,
          8.774669647216797,
          13.371527671813965,
          17.10559844970703,
          21.170963287353516,
          20.99272918701172,
          17.583934783935547,
          13.494266510009766,
          10.556880950927734,
          10.656573295593262,
          11.046545028686523,
          11.603287696838379,
          11.348787307739258,
          9.758291244506836,
          9.088155746459961,
          8.603973388671875,
          8.172588348388672,
          7.462962627410889,
          7.230716705322266,
          7.084122657775879,
          6.840202331542969,
          6.327393531799316,
          5.915959358215332,
          7.700409889221191,
          11.013202667236328,
          12.80889892578125,
          14.086638450622559,
          13.13516616821289,
          10.768083572387695,
          7.6980977058410645,
          7.419174671173096,
          8.600671768188477,
          9.995723724365234,
          11.231000900268555,
          9.809713363647461,
          10.394680976867676,
          12.0838623046875,
          15.478327751159668,
          20.105682373046875,
          22.56049919128418,
          19.856151580810547,
          17.632835388183594,
          15.574041366577148,
          12.98509693145752,
          11.186141014099121,
          10.193038940429688,
          9.819768905639648,
          9.808961868286133,
          9.542805671691895,
          8.702975273132324,
          7.302376747131348,
          6.98695182800293,
          6.611654281616211,
          6.55443811416626,
          6.420302391052246,
          6.270180702209473,
          5.874260425567627,
          6.230005741119385,
          8.42576789855957,
          10.581628799438477,
          10.272354125976562,
          9.662376403808594,
          8.572352409362793,
          7.772162437438965,
          8.387602806091309,
          8.710597038269043,
          9.088394165039062,
          8.153017044067383,
          7.550060749053955,
          7.592859268188477,
          6.9803314208984375,
          6.581601142883301,
          5.857145309448242,
          5.696210861206055,
          5.841853141784668,
          6.245974540710449,
          6.358863353729248,
          6.415862560272217,
          6.634469032287598,
          6.939471244812012,
          6.831559181213379,
          6.465488433837891,
          6.073389053344727,
          5.788640975952148,
          5.1824631690979,
          4.900753974914551,
          4.889332294464111,
          5.329530239105225,
          5.310439109802246,
          5.354207515716553,
          6.1267194747924805,
          6.420547008514404,
          6.766549110412598,
          6.997946262359619,
          6.511469841003418,
          5.829813480377197,
          5.633370399475098,
          6.172621250152588,
          7.0640153884887695,
          8.063596725463867,
          7.851484298706055,
          6.821577072143555,
          6.458359241485596,
          6.868895530700684,
          7.330434799194336,
          7.79434871673584,
          8.000890731811523,
          8.186670303344727,
          7.576173305511475,
          7.320696830749512,
          7.2012529373168945,
          7.193176746368408,
          7.343014717102051,
          6.836730003356934,
          6.536883354187012,
          6.252230644226074,
          5.347821235656738,
          4.976981163024902,
          4.751039505004883,
          4.73605489730835,
          5.151246070861816,
          5.817962646484375,
          6.4965996742248535,
          7.087699890136719,
          7.4540863037109375,
          7.519176006317139,
          7.3509602546691895,
          7.315655708312988,
          6.905588150024414,
          6.801481246948242,
          6.738964080810547,
          6.657924652099609,
          6.462749481201172,
          6.1644182205200195,
          6.054372310638428,
          6.011348724365234,
          5.871648788452148,
          6.4819231033325195,
          7.442994117736816,
          7.892472267150879,
          7.803653717041016,
          7.2040557861328125,
          6.927847862243652,
          6.878588676452637,
          6.909580707550049,
          7.147098541259766,
          7.02885627746582,
          7.329578876495361,
          7.165802478790283,
          7.120799541473389,
          6.87844181060791,
          6.516941547393799,
          6.400870323181152,
          6.656522274017334,
          7.032963275909424,
          7.191134452819824,
          7.242916107177734,
          7.263157844543457,
          7.366724967956543,
          7.694120407104492,
          8.258167266845703,
          8.77958869934082,
          9.149809837341309,
          8.847119331359863,
          8.661266326904297,
          8.600395202636719,
          8.607243537902832,
          8.680323600769043,
          8.214426040649414,
          8.441893577575684,
          8.284616470336914,
          8.170417785644531,
          8.274513244628906,
          8.633403778076172,
          8.588284492492676,
          8.581911087036133,
          8.653411865234375,
          7.729635715484619,
          6.86739444732666,
          6.182156085968018,
          6.224393367767334,
          7.416756629943848,
          8.271238327026367,
          8.822305679321289,
          10.78133773803711,
          10.326534271240234,
          9.993983268737793,
          11.50483512878418,
          11.52015209197998,
          11.337045669555664,
          9.388877868652344,
          9.2960844039917,
          9.218984603881836,
          9.564591407775879,
          9.452878952026367,
          9.563150405883789,
          8.551704406738281,
          7.402228355407715,
          6.99904727935791,
          7.322389602661133,
          7.771449089050293,
          7.714792251586914,
          8.268943786621094,
          8.589277267456055,
          9.723522186279297,
          13.097258567810059,
          16.08550262451172,
          19.207290649414062,
          20.711292266845703,
          18.813426971435547,
          15.954115867614746,
          13.940922737121582,
          11.826180458068848,
          10.294721603393555,
          10.251350402832031,
          9.837629318237305,
          9.402424812316895,
          11.15772819519043,
          10.305475234985352,
          10.711605072021484,
          10.76746654510498,
          10.838481903076172,
          10.474846839904785,
          10.053699493408203,
          9.388813018798828,
          8.876313209533691,
          8.562454223632812,
          8.081972122192383,
          7.613091468811035,
          7.265120029449463,
          6.889220714569092,
          6.995065689086914,
          6.143758296966553,
          5.507202625274658,
          5.695446968078613,
          5.637934684753418,
          5.933846473693848,
          5.550515174865723,
          5.347019672393799,
          5.213320732116699,
          5.217744827270508,
          5.025229454040527,
          5.015125274658203,
          5.108476638793945,
          5.164536476135254,
          4.971657752990723,
          5.2073140144348145,
          5.300262451171875,
          5.564125061035156,
          6.077608108520508,
          6.245887756347656,
          6.537903308868408,
          6.969150543212891,
          8.407403945922852,
          10.110998153686523,
          9.608942985534668,
          9.296395301818848,
          10.567428588867188,
          10.507898330688477,
          12.31329345703125,
          14.799636840820312,
          16.511486053466797,
          18.076858520507812,
          18.46505355834961,
          17.78297996520996,
          17.541961669921875,
          17.072647094726562,
          17.682819366455078,
          19.169830322265625,
          20.766611099243164,
          22.847187042236328,
          21.790775299072266,
          20.314250946044922,
          17.5126953125,
          15.732980728149414,
          14.89040756225586,
          13.56982707977295,
          14.069273948669434,
          13.67287826538086,
          13.479695320129395,
          13.949239730834961,
          13.053696632385254,
          12.669926643371582,
          12.456445693969727,
          12.075326919555664,
          11.544869422912598,
          11.044631958007812,
          11.00653076171875,
          11.003597259521484,
          10.738503456115723,
          10.498126983642578,
          10.506447792053223,
          10.857211112976074,
          11.596704483032227,
          10.739185333251953,
          10.056865692138672,
          9.916511535644531,
          10.218839645385742,
          9.662954330444336,
          11.356616973876953,
          10.26606559753418,
          10.100425720214844,
          9.935419082641602,
          8.08977222442627,
          7.725173473358154,
          7.342217445373535,
          7.114075183868408,
          7.070675849914551,
          7.064598560333252,
          7.033251762390137,
          8.2205228805542,
          7.7304277420043945,
          8.700849533081055,
          8.414779663085938,
          8.34239387512207,
          8.326611518859863,
          8.083258628845215,
          8.10380744934082,
          8.467000961303711,
          8.670182228088379,
          9.324580192565918,
          9.558405876159668,
          9.751535415649414,
          10.467010498046875,
          10.55294418334961,
          11.830384254455566,
          13.107840538024902,
          14.64134693145752,
          16.094783782958984,
          17.171184539794922,
          17.146785736083984,
          17.122291564941406,
          16.71253776550293,
          16.570335388183594,
          16.335887908935547,
          17.031421661376953,
          16.554140090942383,
          16.720867156982422,
          17.011545181274414,
          16.607070922851562,
          15.841166496276855,
          15.220678329467773,
          15.307151794433594,
          14.586202621459961,
          13.858757019042969,
          12.674510955810547,
          11.723808288574219,
          10.654044151306152,
          9.765605926513672,
          9.259193420410156,
          9.120588302612305,
          9.881840705871582,
          8.234855651855469,
          8.044246673583984,
          7.527987003326416,
          6.920934677124023,
          6.62495231628418,
          6.783502578735352,
          7.109434127807617,
          7.502530097961426,
          8.240169525146484,
          8.681804656982422,
          8.726128578186035,
          8.555256843566895,
          7.971705436706543,
          7.891350746154785,
          8.432591438293457,
          8.783849716186523,
          9.221501350402832,
          9.14771842956543,
          9.736397743225098,
          9.489812850952148,
          8.733230590820312,
          7.851376533508301,
          7.729739665985107,
          7.825747489929199,
          7.874533176422119,
          8.276482582092285,
          7.874668121337891,
          7.814197540283203,
          7.936624526977539,
          8.319804191589355,
          8.492219924926758,
          8.927960395812988,
          9.206274032592773,
          9.744165420532227,
          9.20509147644043,
          9.446533203125,
          9.849920272827148,
          9.898990631103516,
          9.904138565063477,
          9.92495346069336,
          9.758543968200684,
          9.225111961364746,
          8.831171989440918,
          9.095447540283203,
          9.928800582885742,
          10.221866607666016,
          10.12407112121582,
          13.286319732666016,
          11.186957359313965,
          10.795369148254395,
          10.532038688659668,
          10.254571914672852,
          10.139549255371094,
          10.162339210510254,
          10.796525001525879,
          10.936735153198242,
          10.912976264953613,
          11.056400299072266,
          12.08085823059082,
          12.173544883728027,
          12.845033645629883,
          13.572959899902344,
          14.33825969696045,
          14.186887741088867,
          13.536029815673828,
          13.259622573852539,
          12.071504592895508,
          11.20384693145752,
          11.706104278564453,
          11.51470947265625,
          10.988330841064453,
          10.92949104309082,
          11.070151329040527,
          12.17022705078125,
          9.793546676635742,
          9.812413215637207,
          10.359383583068848,
          10.27326774597168,
          9.93480110168457,
          10.49085807800293,
          10.528940200805664,
          9.269754409790039,
          9.445385932922363,
          9.68043327331543,
          9.898970603942871,
          10.080513000488281,
          10.95687484741211,
          9.832633972167969,
          9.567137718200684,
          9.774948120117188,
          9.3574800491333,
          9.474485397338867,
          10.426759719848633,
          11.140594482421875,
          11.46954345703125,
          11.284889221191406,
          11.486299514770508,
          11.217536926269531,
          11.708953857421875,
          12.14787483215332,
          12.569116592407227,
          15.264772415161133,
          13.32402229309082,
          13.264022827148438,
          13.385404586791992,
          14.062414169311523,
          13.043206214904785,
          14.411882400512695,
          13.058794021606445,
          14.094415664672852,
          18.41858673095703,
          22.05242156982422,
          23.27582550048828,
          30.73710823059082,
          35.63767623901367,
          45.27014923095703,
          40.878726959228516,
          43.548004150390625,
          36.26219177246094,
          32.061981201171875,
          29.26807975769043,
          29.984283447265625,
          21.56386947631836,
          18.013568878173828,
          16.628036499023438,
          15.880767822265625,
          16.796079635620117,
          17.537992477416992,
          19.00494956970215,
          19.875476837158203,
          15.925291061401367,
          22.271169662475586,
          21.44064712524414,
          18.349681854248047,
          19.896305084228516,
          19.294208526611328,
          14.681047439575195,
          15.243904113769531,
          12.45102596282959,
          12.602556228637695,
          12.385467529296875,
          13.147261619567871,
          15.618782043457031,
          15.553071975708008,
          18.55043601989746,
          17.643922805786133,
          16.470458984375,
          17.40749168395996,
          15.459749221801758,
          16.645904541015625,
          15.178435325622559,
          14.78530216217041,
          14.131473541259766,
          16.479543685913086,
          12.72896957397461,
          12.418054580688477,
          13.868237495422363,
          12.871235847473145,
          12.979331970214844,
          12.990278244018555,
          14.39751148223877,
          12.34269905090332,
          11.83251953125,
          11.675055503845215,
          11.776466369628906,
          12.377265930175781,
          12.321216583251953,
          12.478841781616211,
          12.3810453414917,
          12.77354907989502,
          12.810779571533203,
          13.014935493469238,
          14.348184585571289,
          13.654476165771484,
          14.283620834350586,
          13.640439987182617,
          13.417007446289062,
          12.943777084350586,
          13.949868202209473,
          13.635293006896973,
          13.433536529541016,
          13.449882507324219,
          13.986785888671875,
          14.107892990112305,
          14.253705978393555,
          15.305038452148438,
          16.530797958374023,
          17.600749969482422,
          18.18824577331543,
          19.973405838012695,
          20.233932495117188,
          17.351316452026367,
          23.287033081054688,
          17.220815658569336,
          17.00510025024414,
          17.093778610229492,
          17.183195114135742,
          17.659786224365234,
          24.01572036743164,
          24.24309539794922,
          33.29996109008789,
          31.775989532470703,
          36.8738899230957,
          35.387752532958984,
          37.69731140136719,
          30.021909713745117,
          31.387340545654297,
          24.669116973876953,
          22.118568420410156,
          20.766563415527344,
          23.313077926635742,
          19.788066864013672,
          18.627437591552734,
          17.120450973510742,
          21.664703369140625,
          17.102415084838867,
          17.612102508544922,
          17.859418869018555,
          20.11664581298828,
          22.27063751220703,
          20.760883331298828,
          22.89822769165039,
          24.41008186340332,
          22.043376922607422,
          23.078031539916992,
          21.474334716796875,
          23.685911178588867,
          24.515338897705078,
          21.6546573638916,
          19.4054012298584,
          18.36964988708496,
          16.513408660888672,
          18.34943389892578,
          17.97271156311035,
          18.686817169189453,
          19.571277618408203,
          20.501550674438477,
          18.065481185913086,
          17.057537078857422,
          19.738759994506836,
          17.10133934020996,
          18.839548110961914,
          16.62438201904297,
          17.532325744628906,
          16.077268600463867,
          15.743715286254883,
          16.01960563659668,
          14.933450698852539,
          14.444540977478027,
          14.258159637451172,
          14.525524139404297,
          13.66977310180664,
          13.457375526428223,
          13.100624084472656,
          12.882431030273438,
          12.496116638183594,
          12.74163818359375,
          14.211524963378906,
          14.879084587097168,
          12.931976318359375,
          14.410882949829102,
          13.265973091125488,
          14.848682403564453,
          14.556900024414062,
          12.653244972229004,
          12.360736846923828,
          12.707162857055664,
          13.141846656799316,
          13.152425765991211,
          13.748407363891602,
          15.396835327148438,
          15.447868347167969,
          14.949769973754883,
          14.105142593383789,
          14.989540100097656,
          16.924652099609375,
          21.952905654907227,
          29.70857048034668,
          28.07093620300293,
          34.70997619628906,
          35.384368896484375,
          27.137195587158203,
          29.760135650634766,
          40.639122009277344,
          26.57418441772461,
          23.325939178466797,
          22.46866226196289,
          21.903059005737305,
          20.241195678710938,
          20.25922966003418,
          18.962474822998047,
          19.126575469970703,
          20.214218139648438,
          21.81230354309082,
          21.195919036865234,
          23.240943908691406,
          20.435470581054688,
          19.39645004272461,
          19.31939697265625,
          18.67607879638672,
          21.737468719482422,
          20.73744010925293,
          22.32445526123047,
          22.97586441040039,
          20.066123962402344,
          18.71354866027832,
          17.31832504272461,
          19.37505340576172,
          17.962238311767578,
          18.35096549987793,
          19.949691772460938,
          23.007919311523438,
          19.141756057739258,
          20.13349723815918,
          19.603063583374023,
          22.874855041503906,
          19.67298126220703,
          20.17580795288086,
          20.524171829223633,
          23.327987670898438,
          19.565406799316406,
          24.644107818603516,
          22.167259216308594,
          20.745311737060547,
          21.19329833984375,
          24.1496524810791,
          24.085567474365234,
          23.09981918334961,
          19.47144317626953,
          20.247920989990234,
          20.835369110107422,
          20.78343963623047,
          20.559236526489258,
          25.916627883911133,
          27.321826934814453,
          35.00575637817383,
          38.25456237792969,
          36.460601806640625,
          34.60118865966797,
          32.80767822265625,
          34.23093032836914,
          31.16454315185547,
          31.058494567871094,
          30.913284301757812,
          20.831693649291992,
          20.186939239501953,
          21.86172103881836,
          21.666980743408203,
          19.80052375793457,
          20.90300941467285,
          21.591079711914062,
          22.577041625976562,
          28.065444946289062,
          27.096710205078125,
          25.169084548950195,
          24.98428726196289,
          22.92717933654785,
          23.827587127685547,
          31.66034698486328,
          33.66033172607422,
          40.26692199707031,
          36.10022735595703,
          37.713531494140625,
          45.05535888671875,
          53.08652114868164,
          56.11937713623047,
          56.974281311035156,
          60.3444938659668,
          61.6328125,
          62.58257293701172,
          63.31584167480469,
          63.71539306640625,
          70.09629821777344,
          73.07489013671875,
          76.43760681152344,
          82.55326080322266,
          76.18573760986328,
          69.38691711425781,
          67.85015869140625,
          69.77459716796875,
          64.74103546142578,
          63.84425354003906,
          69.70147705078125,
          74.05934143066406,
          77.89305877685547,
          81.643310546875,
          83.03598022460938,
          84.25192260742188,
          77.64411926269531,
          79.72608947753906,
          86.95613098144531,
          92.82704162597656,
          96.88908386230469,
          105.495361328125,
          113.28038787841797,
          116.96773529052734,
          119.34310913085938,
          118.09166717529297,
          113.63656616210938,
          116.08924865722656,
          114.49153137207031,
          113.67633819580078,
          114.86419677734375,
          123.1277847290039,
          120.74005889892578,
          121.0118179321289,
          112.25071716308594,
          103.06781005859375,
          91.55274200439453,
          84.06744384765625,
          73.51422119140625,
          69.12661743164062,
          65.04643249511719,
          62.758445739746094,
          61.877601623535156,
          60.239356994628906,
          61.738746643066406,
          63.52303695678711,
          81.10891723632812,
          82.94366455078125,
          84.25111389160156,
          85.87574005126953,
          85.83463287353516,
          86.34234619140625,
          92.38361358642578,
          99.31764221191406,
          107.70890808105469,
          117.03848266601562,
          127.6619873046875,
          134.69110107421875,
          147.97607421875,
          160.36172485351562,
          165.6017608642578,
          176.53016662597656,
          180.32965087890625,
          177.75222778320312,
          175.03094482421875,
          184.3057861328125,
          200.7579803466797,
          215.79647827148438,
          240.02114868164062,
          250.6450958251953,
          254.073486328125,
          257.7940673828125,
          262.1921691894531,
          254.86839294433594,
          244.87240600585938,
          232.40611267089844,
          217.89193725585938,
          212.16543579101562,
          218.66189575195312,
          233.1250762939453,
          263.831787109375,
          284.1374206542969,
          300.71392822265625,
          322.23577880859375,
          339.9359130859375,
          373.4760437011719,
          419.04376220703125,
          480.85968017578125,
          556.4602661132812,
          635.386962890625,
          658.402587890625,
          686.22119140625,
          726.4248046875,
          784.0665283203125,
          821.6666259765625,
          916.9110717773438,
          1049.269287109375,
          1134.6431884765625,
          1192.4345703125,
          1260.03369140625,
          1348.156494140625,
          1454.66455078125,
          1573.467041015625,
          1651.19873046875,
          1720.253173828125,
          1729.802490234375,
          1604.985107421875,
          1455.056884765625,
          1381.8646240234375,
          1264.73828125,
          1076.58349609375,
          927.8843994140625,
          830.2357177734375,
          671.1593627929688,
          499.505615234375,
          395.20013427734375,
          326.385986328125,
          257.62646484375,
          227.71224975585938,
          230.9946746826172,
          242.00950622558594,
          256.9947509765625,
          264.2836608886719,
          263.614501953125,
          250.62664794921875,
          235.8896026611328,
          216.20596313476562,
          200.01602172851562,
          203.15182495117188,
          209.73965454101562,
          212.817138671875,
          204.58905029296875,
          193.73614501953125,
          183.61749267578125,
          161.72462463378906,
          139.60855102539062,
          134.2396697998047,
          136.0013885498047,
          129.8821563720703,
          129.9974365234375,
          135.6165771484375,
          152.13592529296875,
          162.23147583007812,
          179.29644775390625,
          206.48373413085938,
          234.51502990722656,
          267.3890380859375,
          273.2565002441406,
          298.59393310546875,
          297.0518798828125,
          268.6124267578125,
          219.00852966308594,
          183.82012939453125,
          148.72048950195312,
          116.41316223144531,
          101.06831359863281,
          100.72611999511719,
          109.5140380859375,
          121.18714904785156,
          127.28875732421875,
          122.28895568847656,
          123.96979522705078,
          126.69807434082031,
          125.8326644897461,
          123.23043060302734,
          135.50094604492188,
          133.27548217773438,
          137.49942016601562,
          141.4781494140625,
          144.6019287109375,
          139.5509796142578,
          137.35861206054688,
          133.4381103515625,
          130.69325256347656,
          128.72232055664062,
          129.0763702392578,
          128.57644653320312,
          125.53477478027344,
          120.0020523071289,
          111.35133361816406,
          104.63351440429688,
          97.54208374023438,
          90.6294174194336,
          85.01571655273438,
          82.93560791015625,
          81.41378784179688,
          80.79145812988281,
          79.16998291015625,
          77.82693481445312,
          78.16670227050781,
          79.53573608398438,
          81.93531799316406,
          82.7060317993164,
          80.75008392333984,
          78.30653381347656,
          74.21158599853516,
          74.28946685791016,
          75.00434875488281,
          79.47367858886719,
          86.64622497558594,
          96.78607940673828,
          107.45820617675781,
          115.66259765625,
          119.16639709472656,
          124.39781951904297,
          126.42224884033203,
          122.0381088256836,
          122.92082977294922,
          128.5157470703125,
          132.24679565429688,
          135.33966064453125,
          144.9229736328125,
          152.2559356689453,
          142.21754455566406,
          133.7412567138672,
          125.11263275146484,
          109.9378662109375,
          100.19564819335938,
          104.49885559082031,
          110.94419860839844,
          115.65498352050781,
          118.82907104492188,
          119.72434997558594,
          119.30372619628906,
          111.08724212646484,
          115.04808044433594,
          118.66000366210938,
          130.2647247314453,
          147.31597900390625,
          163.33602905273438,
          183.20530700683594,
          193.41159057617188,
          201.0618438720703,
          205.4729461669922,
          205.29949951171875,
          200.61416625976562,
          205.84771728515625,
          206.5034942626953,
          180.86529541015625,
          158.04168701171875,
          138.12890625,
          105.04486083984375,
          81.44798278808594,
          69.21432495117188,
          62.15718460083008,
          54.069435119628906,
          53.658363342285156,
          56.860137939453125,
          60.326148986816406,
          62.19438552856445,
          62.960289001464844,
          64.94132995605469,
          66.56378173828125,
          65.1251220703125,
          70.20991516113281,
          76.14480590820312,
          86.76765441894531,
          92.91886901855469,
          101.97394561767578,
          104.89288330078125,
          104.14553833007812,
          97.63601684570312,
          94.73577880859375,
          90.3465576171875,
          85.20730590820312,
          79.9892807006836,
          77.06849670410156,
          74.35139465332031,
          70.14592742919922,
          68.32852172851562,
          66.72779846191406,
          68.62918090820312,
          68.601318359375,
          75.1187744140625,
          81.5188980102539,
          83.55497741699219,
          83.67756652832031,
          86.48950958251953,
          80.87831115722656,
          75.24407958984375,
          76.66091918945312,
          80.2040786743164,
          81.1045913696289,
          79.26312255859375,
          81.32470703125,
          81.00697326660156,
          78.26666259765625,
          73.88978576660156,
          72.10466003417969,
          69.1627197265625,
          67.45508575439453,
          68.64286804199219,
          69.25997924804688,
          70.23213195800781,
          71.64171600341797,
          71.24272918701172,
          72.54301452636719,
          72.30860137939453,
          73.73286437988281,
          74.47645568847656,
          77.22753143310547,
          76.68406677246094,
          77.81376647949219,
          77.91944885253906,
          77.36153411865234,
          77.95690155029297,
          80.02572631835938,
          80.23748779296875,
          81.42330169677734,
          79.4930648803711,
          76.78421783447266,
          75.27586364746094,
          73.85932922363281,
          72.50651550292969,
          73.01410675048828,
          74.04446411132812,
          74.08036804199219,
          74.2147216796875,
          75.83700561523438,
          77.31340026855469,
          78.31682586669922,
          79.47227478027344,
          80.38328552246094,
          81.11378479003906,
          80.9598388671875,
          85.22541809082031,
          84.21513366699219,
          84.49139404296875,
          88.15619659423828,
          92.19066619873047,
          94.24691772460938,
          96.08165740966797,
          96.80128479003906,
          99.29916381835938,
          98.38790130615234,
          97.66297912597656,
          99.97648620605469,
          98.33401489257812,
          98.06702423095703,
          94.44794464111328,
          91.34969329833984,
          89.26884460449219,
          90.0673828125,
          91.7612533569336,
          92.30907440185547,
          96.60137939453125,
          98.44944763183594,
          97.88578796386719,
          101.75421142578125,
          100.88172912597656,
          102.82588958740234,
          104.50633239746094,
          105.19314575195312,
          106.67997741699219,
          107.91271209716797,
          107.11674499511719,
          106.85868835449219,
          105.80607604980469,
          105.76011657714844,
          104.91099548339844,
          105.49594116210938,
          105.35028076171875,
          103.91886138916016,
          104.33806610107422,
          105.34772491455078,
          104.22248840332031,
          104.9038314819336,
          105.17106628417969,
          104.7703857421875,
          103.68535614013672,
          104.26254272460938,
          103.21627044677734,
          104.21316528320312,
          104.74671936035156,
          102.66165161132812,
          103.61085510253906,
          103.0966567993164,
          101.3592300415039,
          98.63516998291016,
          95.47622680664062,
          94.66659545898438,
          92.16143798828125,
          92.01234436035156,
          90.25431823730469,
          90.80056762695312,
          90.82830810546875,
          91.6895980834961,
          91.75836181640625,
          90.9210205078125,
          93.91597747802734,
          94.24256134033203,
          96.95059204101562,
          97.6217041015625,
          100.61639404296875,
          101.49885559082031,
          103.23983764648438,
          103.79255676269531,
          104.66586303710938,
          101.99689483642578,
          102.32302856445312,
          103.60774993896484,
          104.09626007080078,
          105.35137939453125,
          106.15969848632812,
          105.94326782226562,
          105.20186614990234,
          104.14788818359375,
          108.47828674316406,
          109.10540771484375,
          108.3953857421875,
          108.07671356201172,
          107.13191223144531,
          107.6186294555664,
          107.22236633300781,
          107.23623657226562,
          110.08191680908203,
          113.77047729492188,
          112.94236755371094,
          115.67437744140625,
          114.26266479492188,
          114.61492919921875,
          114.12246704101562,
          117.04705810546875,
          120.55729675292969,
          124.88186645507812,
          127.25593566894531,
          130.78009033203125,
          132.02890014648438,
          134.640380859375,
          137.05029296875,
          138.97222900390625,
          140.41567993164062,
          141.94464111328125,
          144.8744659423828,
          147.7490234375,
          149.0617218017578,
          150.66220092773438,
          152.75369262695312,
          154.53684997558594,
          154.44256591796875,
          158.6044921875,
          162.02969360351562,
          167.1257781982422,
          168.2545623779297,
          175.1127471923828,
          179.517333984375,
          183.47720336914062,
          194.3258514404297,
          195.03945922851562,
          206.1067352294922,
          209.82664489746094,
          206.91842651367188,
          211.40396118164062,
          206.3978271484375,
          213.72637939453125,
          217.00582885742188,
          215.86810302734375,
          217.33807373046875,
          205.89295959472656,
          202.362060546875,
          194.53057861328125,
          183.7639923095703,
          176.18856811523438,
          168.98641967773438,
          169.9052734375,
          165.12957763671875,
          163.15939331054688,
          157.02621459960938,
          150.70213317871094,
          144.4866943359375,
          142.66168212890625,
          138.46234130859375,
          141.36720275878906,
          144.40342712402344,
          151.1942901611328,
          155.71923828125,
          154.33197021484375,
          158.30862426757812,
          166.73049926757812,
          171.46627807617188,
          176.4964599609375,
          184.30029296875,
          185.48756408691406,
          194.08868408203125,
          195.85850524902344,
          193.47366333007812,
          198.76470947265625,
          207.55148315429688,
          212.55538940429688,
          207.60018920898438,
          202.1268310546875,
          190.14816284179688,
          177.5267333984375,
          164.91299438476562,
          157.37799072265625,
          155.88095092773438,
          153.47195434570312,
          153.07107543945312,
          158.6982879638672,
          159.15328979492188,
          161.5703125,
          161.46649169921875,
          162.8909149169922,
          166.79417419433594,
          171.40005493164062,
          174.96311950683594,
          179.21522521972656,
          179.7224578857422,
          180.9017791748047,
          179.0973663330078,
          177.23211669921875,
          178.9287109375,
          178.49774169921875,
          185.4822998046875,
          189.0653076171875,
          195.0362548828125,
          201.22183227539062,
          210.39041137695312,
          209.52420043945312,
          202.85836791992188,
          203.85508728027344,
          208.67713928222656,
          203.87942504882812,
          209.4295654296875,
          205.43560791015625,
          198.54151916503906,
          201.32444763183594,
          203.41131591796875,
          207.62655639648438,
          212.515625,
          209.8872833251953,
          205.8240966796875,
          216.82058715820312,
          206.78781127929688,
          217.84498596191406,
          205.106689453125,
          220.78689575195312,
          217.21307373046875,
          221.06887817382812,
          223.3287353515625,
          204.50302124023438,
          212.41754150390625,
          209.36764526367188,
          193.68426513671875,
          194.72242736816406,
          210.50714111328125,
          209.68031311035156,
          212.624755859375,
          217.24432373046875,
          200.65054321289062,
          204.31021118164062,
          189.53411865234375,
          166.59005737304688,
          158.40267944335938,
          134.7117462158203,
          135.35336303710938,
          125.70367431640625,
          114.7781982421875,
          105.56085968017578,
          108.06490325927734,
          113.94686126708984,
          115.06443786621094,
          118.34941101074219,
          116.38322448730469,
          116.14460754394531,
          107.61262512207031,
          101.02213287353516,
          94.75601196289062,
          89.7911605834961,
          87.60572814941406,
          88.02284240722656,
          91.65853118896484,
          98.20087432861328,
          95.4064712524414,
          85.70349884033203,
          85.87116241455078,
          82.50458526611328,
          79.68951416015625,
          76.0146484375,
          74.54148864746094,
          69.68801879882812,
          70.99781799316406,
          71.11353302001953,
          72.80213928222656,
          71.23075866699219,
          76.1419677734375,
          77.58723449707031,
          76.74452209472656,
          77.15676879882812,
          79.02813720703125,
          81.13212585449219,
          81.50525665283203,
          83.25096130371094,
          82.28712463378906,
          84.11357116699219,
          82.95376586914062,
          81.93685913085938,
          79.13484191894531,
          84.37301635742188,
          75.8265380859375,
          82.81877136230469,
          84.93287658691406,
          83.46734619140625,
          89.05418395996094,
          90.32405090332031,
          92.84944915771484,
          86.15631103515625,
          92.725341796875,
          93.18621063232422,
          92.80968475341797,
          90.29762268066406,
          87.318115234375,
          77.63377380371094,
          80.75419616699219,
          78.07508087158203,
          76.72929382324219,
          81.89873504638672,
          85.16109466552734,
          88.03709411621094,
          91.51751708984375,
          103.61326599121094,
          108.08844757080078,
          111.26216125488281,
          115.23666381835938,
          116.32536315917969,
          109.77650451660156,
          119.29818725585938,
          121.90809631347656,
          126.94316864013672,
          131.28759765625,
          131.06597900390625,
          127.71288299560547,
          128.3487548828125,
          118.990966796875,
          127.58865356445312,
          129.32228088378906,
          132.79092407226562,
          137.50149536132812,
          133.625244140625,
          130.83154296875,
          124.28861236572266,
          133.47425842285156,
          131.6290740966797,
          134.90594482421875,
          143.04075622558594,
          151.19216918945312,
          145.90371704101562,
          151.24070739746094,
          158.29513549804688,
          160.3615264892578,
          165.81268310546875,
          165.52865600585938,
          177.51051330566406,
          177.037841796875,
          179.94920349121094,
          178.19500732421875,
          196.618408203125,
          196.09152221679688,
          196.0440673828125,
          193.16238403320312,
          175.29319763183594,
          175.38418579101562,
          161.99957275390625,
          146.9827880859375,
          147.1210174560547,
          155.40887451171875,
          147.5032196044922,
          163.54405212402344,
          136.3477783203125,
          158.74966430664062,
          165.0944061279297,
          166.71664428710938,
          174.2628173828125,
          162.84201049804688,
          147.80975341796875,
          151.5322723388672,
          157.906982421875,
          140.88778686523438,
          149.85618591308594,
          137.15679931640625,
          143.14688110351562,
          143.22683715820312,
          151.63671875,
          148.35186767578125,
          136.68710327148438,
          119.1568374633789,
          127.6070785522461,
          126.19644165039062,
          127.04335021972656,
          113.76260375976562,
          131.96002197265625,
          126.81361389160156,
          127.63194274902344,
          122.2933349609375,
          124.16048431396484,
          119.97703552246094,
          123.42671203613281,
          117.3176498413086,
          112.36663055419922,
          101.86341857910156,
          99.84881591796875,
          92.67377471923828,
          91.14984130859375,
          81.08484649658203,
          89.7352066040039,
          81.78103637695312,
          82.38884735107422,
          95.23851013183594,
          94.89737701416016,
          82.94635772705078,
          90.42350769042969,
          89.61616516113281,
          88.96614074707031,
          87.70265197753906,
          94.6105728149414,
          95.2299575805664,
          95.54623413085938,
          98.7083740234375,
          95.85652160644531,
          80.9483871459961,
          93.19140625,
          88.3373031616211,
          76.35276794433594,
          84.05872344970703,
          81.9358139038086,
          71.16127014160156,
          73.43406677246094,
          78.6590576171875,
          84.70936584472656,
          76.71773529052734,
          92.85235595703125,
          98.923095703125,
          113.02072143554688,
          115.7190170288086,
          122.2210464477539,
          108.73434448242188,
          114.15101623535156,
          96.42929077148438,
          110.61537170410156,
          109.81875610351562,
          77.08135986328125,
          91.54402160644531,
          109.47869873046875,
          106.00567626953125,
          98.27136993408203,
          110.58200073242188,
          108.03672790527344,
          94.130126953125,
          89.45018768310547,
          83.31583404541016,
          74.08598327636719,
          66.1578598022461,
          45.7578125,
          51.46295928955078,
          41.000709533691406,
          41.75505828857422,
          32.05263137817383,
          35.51752471923828,
          39.62442398071289,
          37.85195541381836,
          40.620704650878906,
          46.510066986083984,
          48.01049041748047,
          43.59385681152344,
          46.28144836425781,
          59.19252395629883,
          60.15300750732422,
          65.15599060058594,
          63.259742736816406,
          53.26905059814453,
          68.19368743896484,
          65.79072570800781,
          77.20811462402344,
          73.07847595214844,
          73.75473022460938,
          67.50666809082031,
          69.75898742675781,
          57.92424011230469,
          59.61767578125,
          53.76411437988281,
          55.80076599121094,
          53.626251220703125,
          43.04616165161133,
          32.59203338623047,
          44.758323669433594,
          40.4427490234375,
          50.844017028808594,
          49.44557189941406,
          48.41221618652344,
          43.64982604980469,
          40.201255798339844,
          36.23540496826172,
          34.533103942871094,
          44.76171112060547,
          39.981834411621094,
          36.88620376586914,
          28.663532257080078,
          27.279478073120117,
          25.175655364990234,
          30.472801208496094,
          30.110816955566406,
          22.587291717529297,
          24.70035171508789,
          29.590068817138672,
          27.69590950012207,
          28.16802978515625,
          19.098081588745117,
          29.971240997314453,
          24.53717041015625,
          29.882923126220703,
          33.38270568847656,
          35.202980041503906,
          35.51322937011719,
          37.357460021972656,
          27.85986328125,
          29.744462966918945,
          32.76335525512695,
          37.8895263671875,
          39.49742889404297,
          40.468231201171875,
          42.19811248779297,
          39.842002868652344,
          38.25031661987305,
          35.47853469848633,
          32.454498291015625,
          31.230934143066406,
          28.986040115356445,
          26.640941619873047,
          29.112091064453125,
          25.718097686767578,
          28.726211547851562,
          28.11761474609375,
          27.662612915039062,
          26.38776206970215,
          22.02227783203125,
          24.201812744140625,
          21.29262924194336,
          20.245790481567383,
          19.964305877685547,
          18.42237091064453,
          19.185470581054688,
          20.67673683166504,
          20.305450439453125,
          18.446746826171875,
          17.78710174560547,
          17.5610408782959,
          17.31850814819336,
          19.510265350341797,
          18.950729370117188,
          17.16204071044922,
          16.360084533691406,
          17.463756561279297,
          17.049320220947266,
          19.876178741455078,
          16.25006103515625,
          20.068851470947266,
          18.718761444091797,
          16.315425872802734,
          15.795700073242188,
          16.042545318603516,
          16.8370418548584,
          18.031940460205078,
          14.782123565673828,
          14.191278457641602,
          13.924236297607422,
          14.015010833740234,
          12.962257385253906,
          12.337085723876953,
          12.049936294555664,
          11.236431121826172,
          11.240043640136719,
          11.785863876342773,
          13.760516166687012,
          12.599498748779297,
          12.226194381713867,
          11.957748413085938,
          12.467536926269531,
          12.27687931060791,
          10.594125747680664,
          10.90068244934082,
          10.888582229614258,
          11.862756729125977,
          11.515533447265625,
          12.11308765411377,
          12.089225769042969,
          10.894964218139648,
          10.919793128967285,
          10.831026077270508,
          9.75587272644043,
          9.68915843963623,
          11.331586837768555,
          9.692671775817871,
          13.136209487915039,
          17.17913055419922,
          15.730731964111328,
          12.365804672241211,
          22.603511810302734,
          20.393630981445312,
          21.455347061157227,
          15.754362106323242,
          25.388521194458008,
          18.937461853027344,
          19.582115173339844,
          20.549104690551758,
          19.559734344482422,
          18.58017349243164,
          17.5847110748291,
          19.015344619750977,
          18.544536590576172,
          19.630779266357422,
          25.994787216186523,
          24.019947052001953,
          29.437549591064453,
          40.74451446533203,
          49.29692840576172,
          52.22588348388672,
          63.10712432861328,
          66.77226257324219,
          66.86199951171875,
          68.73033905029297,
          67.66609191894531,
          71.9467544555664,
          65.15384674072266,
          63.756980895996094,
          60.25759506225586,
          58.61229705810547,
          62.2265739440918,
          62.9295768737793,
          55.624305725097656,
          48.67204284667969,
          46.065269470214844,
          43.12888717651367,
          53.011749267578125,
          40.78124237060547,
          41.67436218261719,
          38.972198486328125,
          37.241729736328125,
          32.82661819458008,
          38.21912384033203,
          32.42726516723633,
          26.17753791809082,
          30.21142578125,
          29.45581817626953,
          33.43526840209961,
          38.22871780395508,
          35.22648620605469,
          42.90406799316406,
          43.40315246582031,
          51.087223052978516,
          43.5422248840332,
          48.69529724121094,
          49.80382537841797,
          63.24554443359375,
          45.5384521484375,
          42.635353088378906,
          47.561031341552734,
          49.32136535644531,
          49.34859085083008,
          55.26939392089844,
          51.8709716796875,
          62.85832977294922,
          55.06934356689453,
          65.18113708496094,
          64.53633880615234,
          64.07035827636719,
          66.32754516601562,
          65.23197937011719,
          67.37258911132812,
          76.06614685058594,
          76.58999633789062,
          82.50672912597656,
          75.36577606201172,
          83.9716796875,
          72.37261199951172,
          76.40863800048828,
          66.49928283691406,
          64.91630554199219,
          67.44454956054688,
          64.42704772949219,
          64.01187133789062,
          65.11408233642578,
          64.8597183227539,
          63.582149505615234,
          63.187408447265625,
          63.26852035522461,
          65.31114959716797,
          61.101322174072266,
          67.6595458984375,
          71.26139068603516,
          70.84518432617188,
          80.68548583984375,
          81.93904876708984,
          84.26527404785156,
          85.7138671875,
          77.68040466308594,
          68.04693603515625,
          64.0993881225586,
          53.46774673461914,
          48.15837097167969,
          50.9005241394043,
          46.98991012573242,
          44.89582824707031,
          42.89088821411133,
          41.73114013671875,
          43.67013931274414,
          39.41883850097656,
          38.22874069213867,
          42.063934326171875,
          38.72399139404297,
          39.381534576416016,
          42.68265151977539,
          42.73919677734375,
          43.838470458984375,
          48.631675720214844,
          48.1940803527832,
          48.1729736328125,
          46.073204040527344,
          46.48102569580078,
          46.81059265136719,
          45.85921096801758,
          46.48651123046875,
          49.46571350097656,
          50.6507568359375,
          51.48167037963867,
          52.355831146240234,
          52.337711334228516,
          51.835018157958984,
          53.50693130493164,
          57.14853286743164,
          59.84593963623047,
          64.12008666992188,
          71.0638656616211,
          74.79951477050781,
          76.12937927246094,
          76.97148132324219,
          76.65033721923828,
          75.84194946289062,
          77.26799011230469,
          76.25265502929688,
          79.7274169921875,
          82.03309631347656,
          85.01016998291016,
          85.03056335449219,
          85.40669250488281,
          82.7925796508789,
          78.21510314941406,
          74.21005249023438,
          72.16548156738281,
          68.72265625,
          68.17254638671875,
          70.46456909179688,
          73.40618896484375,
          74.74049377441406,
          75.33063507080078,
          71.30402374267578,
          73.50698852539062,
          64.43131256103516,
          64.6231689453125,
          65.4107894897461,
          64.95382690429688,
          63.62049865722656,
          63.14215850830078,
          66.09635925292969,
          68.61457824707031,
          74.97634887695312,
          83.0526123046875,
          87.44566345214844,
          94.82514953613281,
          102.54661560058594,
          109.38479614257812,
          114.06742858886719,
          123.82574462890625,
          130.3658447265625,
          125.95135498046875,
          123.46876525878906,
          135.05148315429688,
          147.66256713867188,
          155.21054077148438,
          173.80291748046875,
          184.19195556640625,
          189.73690795898438,
          193.43197631835938,
          198.67684936523438,
          188.46702575683594,
          186.9599609375,
          175.29971313476562,
          167.38465881347656,
          162.54312133789062,
          168.81857299804688,
          182.46282958984375,
          205.24288940429688,
          224.23385620117188,
          239.8738250732422,
          257.1351013183594,
          272.6588134765625,
          307.9598693847656,
          343.1396484375,
          393.78948974609375,
          463.1000671386719,
          527.7464599609375,
          554.7152709960938,
          578.71484375,
          616.2965087890625,
          663.9047241210938,
          706.1787109375,
          782.29345703125,
          889.5551147460938,
          977.0999755859375,
          1024.345458984375,
          1069.8306884765625,
          1155.443115234375,
          1240.7435302734375,
          1363.298828125,
          1419.735595703125,
          1492.766357421875,
          1482.786865234375,
          1371.88525390625,
          1257.5372314453125,
          1187.525146484375,
          1076.89208984375,
          924.8164672851562,
          801.8082275390625,
          713.5086059570312,
          578.5625,
          422.6370849609375,
          331.8305969238281,
          281.0594177246094,
          223.91995239257812,
          209.123046875,
          211.70272827148438,
          227.45535278320312,
          238.47265625,
          244.85826110839844,
          237.81271362304688,
          228.89964294433594,
          212.56590270996094,
          193.884033203125,
          178.9873046875,
          178.81430053710938,
          188.19606018066406,
          187.71824645996094,
          178.3675537109375,
          165.12850952148438,
          160.7040252685547,
          139.72665405273438,
          121.16525268554688,
          118.13896942138672,
          119.8721923828125,
          116.52243041992188,
          113.29347229003906,
          119.40959930419922,
          132.5654754638672,
          141.59068298339844,
          158.04879760742188,
          177.9461669921875,
          211.32540893554688,
          239.17526245117188,
          244.010009765625,
          265.5479431152344,
          264.08819580078125,
          244.10360717773438,
          194.98715209960938,
          165.064697265625,
          131.43695068359375,
          105.79108428955078,
          93.80535125732422,
          94.33206176757812,
          102.87608337402344,
          113.49188232421875,
          120.93508911132812,
          116.02536010742188,
          116.10706329345703,
          119.71922302246094,
          117.15147399902344,
          119.28435516357422,
          125.90916442871094,
          126.2005386352539,
          130.88912963867188,
          136.0919189453125,
          139.8391876220703,
          133.2917938232422,
          132.207275390625,
          127.01783752441406,
          125.48997497558594,
          122.43115234375,
          125.41287994384766,
          125.55868530273438,
          122.52436065673828,
          115.93034362792969,
          108.14495849609375,
          98.90641021728516,
          92.26507568359375,
          84.3258056640625,
          79.53842163085938,
          76.50516510009766,
          75.41741943359375,
          74.07025146484375,
          73.1810073852539,
          72.50634765625,
          71.7148208618164,
          73.30047607421875,
          73.56293487548828,
          74.95538330078125,
          73.60899353027344,
          70.49420928955078,
          67.68624877929688,
          67.7854995727539,
          68.59645080566406,
          72.01426696777344,
          79.21147155761719,
          87.29827880859375,
          93.51634979248047,
          102.53924560546875,
          106.8524169921875,
          111.39278411865234,
          113.4124984741211,
          109.63456726074219,
          111.25265502929688,
          115.98147583007812,
          117.39620971679688,
          120.44833374023438,
          130.556396484375,
          136.771240234375,
          125.77943420410156,
          118.60099792480469,
          109.72749328613281,
          97.87876892089844,
          90.62550354003906,
          90.80958557128906,
          99.49211120605469,
          102.16029357910156,
          106.81947326660156,
          107.25645446777344,
          103.14202117919922,
          99.47390747070312,
          102.34367370605469,
          105.50204467773438,
          116.27507019042969,
          130.94691467285156,
          146.2034912109375,
          164.490478515625,
          175.52334594726562,
          180.53475952148438,
          185.77059936523438,
          182.91087341308594,
          183.05984497070312,
          184.75039672851562,
          182.89117431640625,
          162.2762451171875,
          140.42453002929688,
          124.93511962890625,
          92.82295227050781,
          68.89827728271484,
          61.45015335083008,
          56.319908142089844,
          50.374168395996094,
          50.68962097167969,
          54.06052017211914,
          57.59695816040039,
          59.66567611694336,
          59.44392013549805,
          63.374839782714844,
          63.032630920410156,
          61.59014129638672,
          67.4570083618164,
          72.93094635009766,
          84.72923278808594,
          91.08323669433594,
          99.52593994140625,
          103.32120513916016,
          103.03170013427734,
          96.07736206054688,
          92.15170288085938,
          87.24310302734375,
          81.16644287109375,
          77.01638793945312,
          73.29103088378906,
          70.04463195800781,
          65.25161743164062,
          62.78152084350586,
          61.154823303222656,
          63.459129333496094,
          64.11775207519531,
          72.3629150390625,
          78.30120086669922,
          81.99456787109375,
          81.0365982055664,
          84.01200866699219,
          78.24372863769531,
          74.67111206054688,
          74.74208068847656,
          77.94671630859375,
          79.2850112915039,
          78.36536407470703,
          79.93017578125,
          78.65818786621094,
          75.94921875,
          71.55811309814453,
          68.3866958618164,
          66.24015808105469,
          63.938846588134766,
          63.21500015258789,
          64.0235595703125,
          63.77739715576172,
          65.65532684326172,
          66.1324691772461,
          66.22196960449219,
          67.3183822631836,
          67.75048828125,
          67.95256042480469,
          69.43321228027344,
          70.10733032226562,
          70.0111083984375,
          69.87896728515625,
          69.80921173095703,
          69.8038558959961,
          71.20027923583984,
          71.65209197998047,
          71.90185546875,
          70.25856018066406,
          68.61046600341797,
          67.71908569335938,
          67.82081604003906,
          66.78459167480469,
          67.11152648925781,
          67.04703521728516,
          67.41915893554688,
          68.10244750976562,
          68.47528076171875,
          69.7578125,
          70.43083953857422,
          73.15541076660156,
          74.79443359375,
          76.52813720703125,
          78.27790832519531,
          82.34395599365234,
          82.5482177734375,
          83.07284545898438,
          87.03008270263672,
          90.88517761230469,
          92.78407287597656,
          93.73345184326172,
          97.44523620605469,
          96.42989349365234,
          96.57099151611328,
          96.24362182617188,
          98.63703918457031,
          98.10958862304688,
          95.19200897216797,
          92.16783905029297,
          88.95429229736328,
          86.52984619140625,
          87.18516540527344,
          86.43653869628906,
          88.21635437011719,
          92.3766860961914,
          92.22476959228516,
          93.95759582519531,
          97.17227172851562,
          98.85542297363281,
          99.82295227050781,
          100.96403503417969,
          101.38069152832031,
          103.69819641113281,
          104.54286193847656,
          101.09750366210938,
          102.26659393310547,
          100.58969116210938,
          101.85708618164062,
          98.99850463867188,
          99.96405029296875,
          96.61665344238281,
          97.14401245117188,
          96.992919921875,
          97.0799331665039,
          96.77592468261719,
          95.99484252929688,
          97.67051696777344,
          96.02054595947266,
          95.2877197265625,
          95.84014892578125,
          95.01502990722656,
          95.03145599365234,
          95.12743377685547,
          95.46815490722656,
          93.84002685546875,
          94.1732177734375,
          91.32894134521484,
          89.89924621582031,
          87.60258483886719,
          86.85904693603516,
          85.76094055175781,
          85.51692199707031,
          84.59314727783203,
          83.68495178222656,
          82.6099853515625,
          83.61380767822266,
          83.70643615722656,
          84.00759887695312,
          83.90528869628906,
          85.86065673828125,
          86.90386962890625,
          88.3121337890625,
          89.97329711914062,
          91.53785705566406,
          92.32920837402344,
          92.17610931396484,
          93.08450317382812,
          91.49040222167969,
          91.91572570800781,
          92.22684478759766,
          92.38265991210938,
          92.93763732910156,
          92.67681121826172,
          93.37031555175781,
          92.5367431640625,
          94.7457504272461,
          94.97649383544922,
          96.70343780517578,
          97.07786560058594,
          96.77400207519531,
          95.95631408691406,
          94.78364562988281,
          94.29341125488281,
          94.56303405761719,
          97.4157943725586,
          99.80888366699219,
          100.15203094482422,
          101.35107421875,
          100.28424072265625,
          101.34535217285156,
          101.85662841796875,
          102.39981079101562,
          103.7298355102539,
          109.90962219238281,
          113.17756652832031,
          115.98404693603516,
          117.18582916259766,
          118.45146179199219,
          119.09874725341797,
          122.20928955078125,
          122.89147186279297,
          123.21343994140625,
          126.13117218017578,
          128.95004272460938,
          132.10870361328125,
          131.92861938476562,
          132.1405029296875,
          133.6247100830078,
          133.64451599121094,
          135.22146606445312,
          142.15911865234375,
          145.4830322265625,
          150.78244018554688,
          153.84170532226562,
          157.84454345703125,
          162.3162841796875,
          170.86502075195312,
          174.3458251953125,
          177.24041748046875,
          180.8990478515625,
          178.88897705078125,
          182.01388549804688,
          185.577880859375,
          186.97840881347656,
          186.0043487548828,
          187.47564697265625,
          187.2402801513672,
          178.49099731445312,
          172.95529174804688,
          167.12820434570312,
          161.76673889160156,
          152.52001953125,
          149.69859313964844,
          143.6078338623047,
          146.32839965820312,
          142.92959594726562,
          133.31857299804688,
          132.87966918945312,
          126.34476470947266,
          122.87428283691406,
          124.45596313476562,
          123.54360961914062,
          127.81892395019531,
          132.95045471191406,
          136.6370086669922,
          135.35626220703125,
          140.68685913085938,
          145.8755645751953,
          151.16778564453125,
          153.40487670898438,
          159.16293334960938,
          171.71148681640625,
          173.0258026123047,
          172.50064086914062,
          171.0220947265625,
          176.81494140625,
          185.44796752929688,
          188.32861328125,
          181.77395629882812,
          179.81820678710938,
          165.62741088867188,
          156.05462646484375,
          145.22955322265625,
          136.81802368164062,
          134.7926025390625,
          140.0138702392578,
          137.85227966308594,
          138.12091064453125,
          141.78135681152344,
          139.375244140625,
          140.29847717285156,
          143.24441528320312,
          144.25173950195312,
          151.09280395507812,
          150.23329162597656,
          155.08151245117188,
          156.97047424316406,
          158.65182495117188,
          155.49050903320312,
          154.2764892578125,
          156.2096405029297,
          158.37741088867188,
          159.29827880859375,
          165.27020263671875,
          170.12051391601562,
          175.97006225585938,
          178.2086639404297,
          180.82940673828125,
          174.45965576171875,
          175.71995544433594,
          178.2162322998047,
          182.06100463867188,
          178.98341369628906,
          170.64010620117188,
          168.603515625,
          177.56103515625,
          173.40371704101562,
          171.91737365722656,
          187.07965087890625,
          181.1398162841797,
          179.97903442382812,
          185.00991821289062,
          177.92840576171875,
          186.50714111328125,
          185.3892822265625,
          186.015380859375,
          187.4341278076172,
          187.136962890625,
          187.57611083984375,
          184.23641967773438,
          180.95619201660156,
          174.27438354492188,
          178.70458984375,
          169.0494384765625,
          176.17623901367188,
          181.40322875976562,
          184.5709686279297,
          176.6023406982422,
          177.66232299804688,
          172.26107788085938,
          155.50350952148438,
          145.20819091796875,
          124.97232055664062,
          122.25330352783203,
          108.98399353027344,
          101.99281311035156,
          100.42636108398438,
          94.81837463378906,
          96.44300842285156,
          98.86283111572266,
          96.61178588867188,
          100.28561401367188,
          97.9756851196289,
          94.33439636230469,
          89.64342498779297,
          79.78195190429688,
          81.10554504394531,
          78.12324523925781,
          73.64934539794922,
          77.27397155761719,
          81.5667495727539,
          84.8492431640625,
          84.30931854248047,
          75.84716796875,
          76.02117919921875,
          72.27005767822266,
          69.85895538330078,
          65.79383850097656,
          65.11512756347656,
          64.73613739013672,
          61.87346649169922,
          62.23224639892578,
          61.64326858520508,
          64.94329071044922,
          63.777099609375,
          66.57494354248047,
          64.89109802246094,
          66.845947265625,
          66.39091491699219,
          67.85926055908203,
          66.82467651367188,
          68.49984741210938,
          70.26722717285156,
          70.48756408691406,
          67.18569946289062,
          69.37892150878906,
          68.7379150390625,
          67.70513916015625,
          66.31367492675781,
          66.17082977294922,
          68.45205688476562,
          73.26853942871094,
          71.89602661132812,
          73.23431396484375,
          72.23958587646484,
          75.78663635253906,
          69.7701644897461,
          73.71253967285156,
          68.64656066894531,
          71.61820220947266,
          70.48074340820312,
          65.2114486694336,
          60.66978073120117,
          57.7414436340332,
          63.94865417480469,
          65.37248229980469,
          69.97569274902344,
          75.60696411132812,
          80.29266357421875,
          82.45596313476562,
          85.65457153320312,
          91.3511734008789,
          92.01913452148438,
          93.37837219238281,
          86.80436706542969,
          95.613037109375,
          98.80085754394531,
          96.23197937011719,
          91.61392211914062,
          104.21080017089844,
          102.33901977539062,
          95.40398406982422,
          101.35700988769531,
          102.67113494873047,
          91.9690170288086,
          99.57256317138672,
          105.94461059570312,
          109.26827239990234,
          103.13404083251953,
          105.7130355834961,
          101.383056640625,
          106.81805419921875,
          106.07420349121094,
          115.19239807128906,
          119.36534881591797,
          124.76072692871094,
          132.99447631835938,
          134.14898681640625,
          134.540283203125,
          131.08660888671875,
          142.57638549804688,
          141.34371948242188,
          145.98745727539062,
          143.00082397460938,
          144.5653076171875,
          156.73654174804688,
          160.19635009765625,
          147.61788940429688,
          156.70150756835938,
          140.94509887695312,
          125.4420166015625,
          134.76870727539062,
          131.2115020751953,
          125.63412475585938,
          119.04914855957031,
          128.12191772460938,
          112.29547119140625,
          134.4646759033203,
          137.775146484375,
          141.33389282226562,
          145.9808349609375,
          117.06376647949219,
          133.625732421875,
          126.53287506103516,
          111.90115356445312,
          121.882080078125,
          112.96478271484375,
          119.79521179199219,
          123.77787780761719,
          120.83517456054688,
          108.89107513427734,
          98.18850708007812,
          113.13339233398438,
          94.39252471923828,
          91.48746490478516,
          97.95317840576172,
          93.64749145507812,
          85.43527221679688,
          96.95350646972656,
          101.30506896972656,
          94.64289855957031,
          96.70509338378906,
          107.11083984375,
          94.67767333984375,
          88.18238830566406,
          80.05970764160156,
          74.94047546386719,
          72.8887710571289,
          74.50873565673828,
          71.8901596069336,
          62.02109146118164,
          62.549461364746094,
          56.995849609375,
          69.93480682373047,
          63.814208984375,
          57.958946228027344,
          71.50045013427734,
          71.23191833496094,
          67.85234069824219,
          67.68815612792969,
          68.05928802490234,
          56.935916900634766,
          59.44074630737305,
          68.89312744140625,
          70.95886993408203,
          60.423736572265625,
          62.924949645996094,
          59.67341613769531,
          71.60054016113281,
          69.14378356933594,
          55.766109466552734,
          57.428497314453125,
          62.830352783203125,
          58.66744613647461,
          51.263343811035156,
          54.01850891113281,
          68.36337280273438,
          63.18792724609375,
          76.09355163574219,
          80.14163208007812,
          71.46595764160156,
          79.31529998779297,
          64.81560516357422,
          79.17157745361328,
          89.01588439941406,
          82.82695007324219,
          84.36042785644531,
          79.94096374511719,
          75.58799743652344,
          68.41839599609375,
          80.72203063964844,
          73.32305908203125,
          71.4770278930664,
          82.75877380371094,
          73.19692993164062,
          73.20310974121094,
          80.86865997314453,
          57.128055572509766,
          65.18756103515625,
          49.81769561767578,
          50.50966262817383,
          37.163570404052734,
          39.516300201416016,
          36.5897216796875,
          34.70586395263672,
          31.448062896728516,
          29.441076278686523,
          28.017593383789062,
          30.67326545715332,
          32.614402770996094,
          35.713932037353516,
          38.44961929321289,
          37.032623291015625,
          42.20802307128906,
          42.298728942871094,
          44.36575698852539,
          46.864463806152344,
          45.627647399902344,
          47.73705291748047,
          42.51373291015625,
          48.42405700683594,
          45.347476959228516,
          48.058135986328125,
          41.92390060424805,
          39.99567413330078,
          43.6730842590332,
          42.37153625488281,
          50.63508605957031,
          45.911956787109375,
          33.82271957397461,
          39.46043395996094,
          33.453208923339844,
          27.61160659790039,
          25.155248641967773,
          28.39048957824707,
          36.30112075805664,
          28.70073127746582,
          35.55370330810547,
          27.318225860595703,
          32.669654846191406,
          32.4420166015625,
          29.707653045654297,
          21.924116134643555,
          22.663532257080078,
          27.641014099121094,
          21.182636260986328,
          23.274089813232422,
          22.99331283569336,
          21.065505981445312,
          22.392845153808594,
          20.351688385009766,
          16.622331619262695,
          20.352338790893555,
          19.329845428466797,
          20.111906051635742,
          17.121807098388672,
          17.64703941345215,
          22.360763549804688,
          21.55843734741211,
          19.687105178833008,
          24.926593780517578,
          25.071800231933594,
          26.844240188598633,
          26.876623153686523,
          24.116661071777344,
          20.780778884887695,
          29.122459411621094,
          28.148014068603516,
          24.337202072143555,
          27.469566345214844,
          26.809892654418945,
          20.71419334411621,
          25.764144897460938,
          22.936450958251953,
          23.354999542236328,
          22.718730926513672,
          23.534515380859375,
          23.439149856567383,
          24.44470977783203,
          23.083255767822266,
          23.051422119140625,
          22.7310848236084,
          21.23088264465332,
          18.20686912536621,
          19.69440460205078,
          18.760887145996094,
          17.926898956298828,
          18.098560333251953,
          18.76287841796875,
          20.785547256469727,
          21.562541961669922,
          24.71826934814453,
          21.80242156982422,
          21.437278747558594,
          19.51488494873047,
          21.682645797729492,
          20.224563598632812,
          18.196094512939453,
          19.550077438354492,
          18.77621078491211,
          21.072607040405273,
          22.02832794189453,
          18.735824584960938,
          20.612796783447266,
          21.232349395751953,
          20.571975708007812,
          21.64920997619629,
          24.834732055664062,
          16.857620239257812,
          16.365196228027344,
          25.482410430908203,
          15.392775535583496,
          13.795119285583496,
          12.625532150268555,
          12.452624320983887,
          12.542954444885254,
          11.244059562683105,
          11.996997833251953,
          11.563765525817871,
          11.892501831054688,
          15.062081336975098,
          14.306639671325684,
          13.013534545898438,
          13.504125595092773,
          13.516952514648438,
          12.387857437133789,
          15.968040466308594,
          11.671451568603516,
          15.554943084716797,
          11.738554000854492,
          12.764615058898926,
          13.091695785522461,
          18.93224334716797,
          14.724687576293945,
          21.406091690063477,
          11.891258239746094,
          12.880175590515137,
          13.082075119018555,
          17.381513595581055,
          11.730722427368164,
          14.287027359008789,
          16.07647705078125,
          13.477874755859375,
          14.373361587524414,
          14.07250690460205,
          16.182418823242188,
          19.12732696533203,
          23.08441925048828,
          20.230897903442383,
          30.641618728637695,
          29.05221939086914,
          23.553342819213867,
          23.377225875854492,
          22.9644775390625,
          27.098018646240234,
          20.6368408203125,
          24.925636291503906,
          20.601520538330078,
          23.350971221923828,
          25.55401611328125,
          27.037395477294922,
          38.72676086425781,
          39.213748931884766,
          47.24246597290039,
          59.468414306640625,
          63.327796936035156,
          72.04939270019531,
          88.62342834472656,
          76.76925659179688,
          71.79570007324219,
          78.2449722290039,
          67.08552551269531,
          66.93110656738281,
          73.07620239257812,
          72.26705169677734,
          60.35591506958008,
          57.69218063354492,
          55.15837478637695,
          56.19053649902344,
          46.78311538696289,
          46.227699279785156,
          42.76168441772461,
          42.0125617980957,
          50.24517822265625,
          37.731109619140625,
          36.79846954345703,
          33.17049026489258,
          33.601287841796875,
          27.368549346923828,
          33.876976013183594,
          29.130062103271484,
          28.77918243408203,
          31.307390213012695,
          34.80702209472656,
          39.13703536987305,
          40.46656799316406,
          56.903541564941406,
          47.546409606933594,
          48.227203369140625,
          47.47842025756836,
          50.579017639160156,
          46.57025146484375,
          48.53964614868164,
          48.93147277832031,
          51.45289993286133,
          50.30054473876953,
          58.216514587402344,
          54.34119415283203,
          62.528778076171875,
          56.44810104370117,
          60.22819900512695,
          62.73339080810547,
          66.18722534179688,
          67.48153686523438,
          76.6756362915039,
          70.45223999023438,
          74.1468276977539,
          80.14692687988281,
          83.23680114746094,
          85.0792007446289,
          79.04249572753906,
          80.32121276855469,
          80.3096694946289,
          83.89772033691406,
          79.75814819335938,
          67.30014038085938,
          71.7108154296875,
          70.70001983642578,
          76.50809478759766,
          69.80072784423828,
          71.82107543945312,
          74.65454864501953,
          73.05313873291016,
          66.93421936035156,
          68.50767517089844,
          66.43687438964844,
          70.3705062866211,
          74.99008178710938,
          79.42924499511719,
          88.10413360595703,
          84.51548767089844,
          86.44458770751953,
          88.88298034667969,
          78.37686157226562,
          69.87614440917969,
          63.09605026245117,
          65.50875854492188,
          55.845157623291016,
          50.0035285949707,
          48.87171173095703,
          47.32538604736328,
          49.43465042114258,
          43.98130416870117,
          45.644596099853516,
          43.80720520019531,
          40.75856018066406,
          39.68846130371094,
          39.78359603881836,
          42.49818801879883,
          41.94579315185547,
          44.682395935058594,
          46.192893981933594,
          45.488441467285156,
          46.65018081665039,
          47.53386306762695,
          53.229461669921875,
          48.99839782714844,
          48.03461456298828,
          46.45575714111328,
          49.91947937011719,
          48.77332305908203,
          49.52415466308594,
          49.67719650268555,
          51.09245300292969,
          50.91116714477539,
          50.63676452636719,
          52.678165435791016,
          55.413936614990234,
          57.888160705566406,
          62.065338134765625,
          66.9777603149414,
          70.43985748291016,
          72.5201416015625,
          73.67182159423828,
          72.58120727539062,
          71.76924896240234,
          72.43778228759766,
          72.45245361328125,
          74.14685821533203,
          77.37437438964844,
          81.38416290283203,
          81.31953430175781,
          80.94429779052734,
          79.10038757324219,
          76.47457885742188,
          73.53016662597656,
          71.11174011230469,
          70.00122833251953,
          71.6808853149414,
          71.57184600830078,
          76.15547180175781,
          77.42189025878906,
          78.20285034179688,
          72.97589874267578,
          75.34552764892578
         ],
         "type": "scatter"
        }
       ],
       "layout": {
        "template": {
         "data": {
          "histogram2dcontour": [
           {
            "type": "histogram2dcontour",
            "colorbar": {
             "outlinewidth": 0,
             "ticks": ""
            },
            "colorscale": [
             [
              0.0,
              "#0d0887"
             ],
             [
              0.1111111111111111,
              "#46039f"
             ],
             [
              0.2222222222222222,
              "#7201a8"
             ],
             [
              0.3333333333333333,
              "#9c179e"
             ],
             [
              0.4444444444444444,
              "#bd3786"
             ],
             [
              0.5555555555555556,
              "#d8576b"
             ],
             [
              0.6666666666666666,
              "#ed7953"
             ],
             [
              0.7777777777777778,
              "#fb9f3a"
             ],
             [
              0.8888888888888888,
              "#fdca26"
             ],
             [
              1.0,
              "#f0f921"
             ]
            ]
           }
          ],
          "choropleth": [
           {
            "type": "choropleth",
            "colorbar": {
             "outlinewidth": 0,
             "ticks": ""
            }
           }
          ],
          "histogram2d": [
           {
            "type": "histogram2d",
            "colorbar": {
             "outlinewidth": 0,
             "ticks": ""
            },
            "colorscale": [
             [
              0.0,
              "#0d0887"
             ],
             [
              0.1111111111111111,
              "#46039f"
             ],
             [
              0.2222222222222222,
              "#7201a8"
             ],
             [
              0.3333333333333333,
              "#9c179e"
             ],
             [
              0.4444444444444444,
              "#bd3786"
             ],
             [
              0.5555555555555556,
              "#d8576b"
             ],
             [
              0.6666666666666666,
              "#ed7953"
             ],
             [
              0.7777777777777778,
              "#fb9f3a"
             ],
             [
              0.8888888888888888,
              "#fdca26"
             ],
             [
              1.0,
              "#f0f921"
             ]
            ]
           }
          ],
          "heatmap": [
           {
            "type": "heatmap",
            "colorbar": {
             "outlinewidth": 0,
             "ticks": ""
            },
            "colorscale": [
             [
              0.0,
              "#0d0887"
             ],
             [
              0.1111111111111111,
              "#46039f"
             ],
             [
              0.2222222222222222,
              "#7201a8"
             ],
             [
              0.3333333333333333,
              "#9c179e"
             ],
             [
              0.4444444444444444,
              "#bd3786"
             ],
             [
              0.5555555555555556,
              "#d8576b"
             ],
             [
              0.6666666666666666,
              "#ed7953"
             ],
             [
              0.7777777777777778,
              "#fb9f3a"
             ],
             [
              0.8888888888888888,
              "#fdca26"
             ],
             [
              1.0,
              "#f0f921"
             ]
            ]
           }
          ],
          "heatmapgl": [
           {
            "type": "heatmapgl",
            "colorbar": {
             "outlinewidth": 0,
             "ticks": ""
            },
            "colorscale": [
             [
              0.0,
              "#0d0887"
             ],
             [
              0.1111111111111111,
              "#46039f"
             ],
             [
              0.2222222222222222,
              "#7201a8"
             ],
             [
              0.3333333333333333,
              "#9c179e"
             ],
             [
              0.4444444444444444,
              "#bd3786"
             ],
             [
              0.5555555555555556,
              "#d8576b"
             ],
             [
              0.6666666666666666,
              "#ed7953"
             ],
             [
              0.7777777777777778,
              "#fb9f3a"
             ],
             [
              0.8888888888888888,
              "#fdca26"
             ],
             [
              1.0,
              "#f0f921"
             ]
            ]
           }
          ],
          "contourcarpet": [
           {
            "type": "contourcarpet",
            "colorbar": {
             "outlinewidth": 0,
             "ticks": ""
            }
           }
          ],
          "contour": [
           {
            "type": "contour",
            "colorbar": {
             "outlinewidth": 0,
             "ticks": ""
            },
            "colorscale": [
             [
              0.0,
              "#0d0887"
             ],
             [
              0.1111111111111111,
              "#46039f"
             ],
             [
              0.2222222222222222,
              "#7201a8"
             ],
             [
              0.3333333333333333,
              "#9c179e"
             ],
             [
              0.4444444444444444,
              "#bd3786"
             ],
             [
              0.5555555555555556,
              "#d8576b"
             ],
             [
              0.6666666666666666,
              "#ed7953"
             ],
             [
              0.7777777777777778,
              "#fb9f3a"
             ],
             [
              0.8888888888888888,
              "#fdca26"
             ],
             [
              1.0,
              "#f0f921"
             ]
            ]
           }
          ],
          "surface": [
           {
            "type": "surface",
            "colorbar": {
             "outlinewidth": 0,
             "ticks": ""
            },
            "colorscale": [
             [
              0.0,
              "#0d0887"
             ],
             [
              0.1111111111111111,
              "#46039f"
             ],
             [
              0.2222222222222222,
              "#7201a8"
             ],
             [
              0.3333333333333333,
              "#9c179e"
             ],
             [
              0.4444444444444444,
              "#bd3786"
             ],
             [
              0.5555555555555556,
              "#d8576b"
             ],
             [
              0.6666666666666666,
              "#ed7953"
             ],
             [
              0.7777777777777778,
              "#fb9f3a"
             ],
             [
              0.8888888888888888,
              "#fdca26"
             ],
             [
              1.0,
              "#f0f921"
             ]
            ]
           }
          ],
          "mesh3d": [
           {
            "type": "mesh3d",
            "colorbar": {
             "outlinewidth": 0,
             "ticks": ""
            }
           }
          ],
          "scatter": [
           {
            "fillpattern": {
             "fillmode": "overlay",
             "size": 10,
             "solidity": 0.2
            },
            "type": "scatter"
           }
          ],
          "parcoords": [
           {
            "type": "parcoords",
            "line": {
             "colorbar": {
              "outlinewidth": 0,
              "ticks": ""
             }
            }
           }
          ],
          "scatterpolargl": [
           {
            "type": "scatterpolargl",
            "marker": {
             "colorbar": {
              "outlinewidth": 0,
              "ticks": ""
             }
            }
           }
          ],
          "bar": [
           {
            "error_x": {
             "color": "#2a3f5f"
            },
            "error_y": {
             "color": "#2a3f5f"
            },
            "marker": {
             "line": {
              "color": "#E5ECF6",
              "width": 0.5
             },
             "pattern": {
              "fillmode": "overlay",
              "size": 10,
              "solidity": 0.2
             }
            },
            "type": "bar"
           }
          ],
          "scattergeo": [
           {
            "type": "scattergeo",
            "marker": {
             "colorbar": {
              "outlinewidth": 0,
              "ticks": ""
             }
            }
           }
          ],
          "scatterpolar": [
           {
            "type": "scatterpolar",
            "marker": {
             "colorbar": {
              "outlinewidth": 0,
              "ticks": ""
             }
            }
           }
          ],
          "histogram": [
           {
            "marker": {
             "pattern": {
              "fillmode": "overlay",
              "size": 10,
              "solidity": 0.2
             }
            },
            "type": "histogram"
           }
          ],
          "scattergl": [
           {
            "type": "scattergl",
            "marker": {
             "colorbar": {
              "outlinewidth": 0,
              "ticks": ""
             }
            }
           }
          ],
          "scatter3d": [
           {
            "type": "scatter3d",
            "line": {
             "colorbar": {
              "outlinewidth": 0,
              "ticks": ""
             }
            },
            "marker": {
             "colorbar": {
              "outlinewidth": 0,
              "ticks": ""
             }
            }
           }
          ],
          "scattermapbox": [
           {
            "type": "scattermapbox",
            "marker": {
             "colorbar": {
              "outlinewidth": 0,
              "ticks": ""
             }
            }
           }
          ],
          "scatterternary": [
           {
            "type": "scatterternary",
            "marker": {
             "colorbar": {
              "outlinewidth": 0,
              "ticks": ""
             }
            }
           }
          ],
          "scattercarpet": [
           {
            "type": "scattercarpet",
            "marker": {
             "colorbar": {
              "outlinewidth": 0,
              "ticks": ""
             }
            }
           }
          ],
          "carpet": [
           {
            "aaxis": {
             "endlinecolor": "#2a3f5f",
             "gridcolor": "white",
             "linecolor": "white",
             "minorgridcolor": "white",
             "startlinecolor": "#2a3f5f"
            },
            "baxis": {
             "endlinecolor": "#2a3f5f",
             "gridcolor": "white",
             "linecolor": "white",
             "minorgridcolor": "white",
             "startlinecolor": "#2a3f5f"
            },
            "type": "carpet"
           }
          ],
          "table": [
           {
            "cells": {
             "fill": {
              "color": "#EBF0F8"
             },
             "line": {
              "color": "white"
             }
            },
            "header": {
             "fill": {
              "color": "#C8D4E3"
             },
             "line": {
              "color": "white"
             }
            },
            "type": "table"
           }
          ],
          "barpolar": [
           {
            "marker": {
             "line": {
              "color": "#E5ECF6",
              "width": 0.5
             },
             "pattern": {
              "fillmode": "overlay",
              "size": 10,
              "solidity": 0.2
             }
            },
            "type": "barpolar"
           }
          ],
          "pie": [
           {
            "automargin": true,
            "type": "pie"
           }
          ]
         },
         "layout": {
          "autotypenumbers": "strict",
          "colorway": [
           "#636efa",
           "#EF553B",
           "#00cc96",
           "#ab63fa",
           "#FFA15A",
           "#19d3f3",
           "#FF6692",
           "#B6E880",
           "#FF97FF",
           "#FECB52"
          ],
          "font": {
           "color": "#2a3f5f"
          },
          "hovermode": "closest",
          "hoverlabel": {
           "align": "left"
          },
          "paper_bgcolor": "white",
          "plot_bgcolor": "#E5ECF6",
          "polar": {
           "bgcolor": "#E5ECF6",
           "angularaxis": {
            "gridcolor": "white",
            "linecolor": "white",
            "ticks": ""
           },
           "radialaxis": {
            "gridcolor": "white",
            "linecolor": "white",
            "ticks": ""
           }
          },
          "ternary": {
           "bgcolor": "#E5ECF6",
           "aaxis": {
            "gridcolor": "white",
            "linecolor": "white",
            "ticks": ""
           },
           "baxis": {
            "gridcolor": "white",
            "linecolor": "white",
            "ticks": ""
           },
           "caxis": {
            "gridcolor": "white",
            "linecolor": "white",
            "ticks": ""
           }
          },
          "coloraxis": {
           "colorbar": {
            "outlinewidth": 0,
            "ticks": ""
           }
          },
          "colorscale": {
           "sequential": [
            [
             0.0,
             "#0d0887"
            ],
            [
             0.1111111111111111,
             "#46039f"
            ],
            [
             0.2222222222222222,
             "#7201a8"
            ],
            [
             0.3333333333333333,
             "#9c179e"
            ],
            [
             0.4444444444444444,
             "#bd3786"
            ],
            [
             0.5555555555555556,
             "#d8576b"
            ],
            [
             0.6666666666666666,
             "#ed7953"
            ],
            [
             0.7777777777777778,
             "#fb9f3a"
            ],
            [
             0.8888888888888888,
             "#fdca26"
            ],
            [
             1.0,
             "#f0f921"
            ]
           ],
           "sequentialminus": [
            [
             0.0,
             "#0d0887"
            ],
            [
             0.1111111111111111,
             "#46039f"
            ],
            [
             0.2222222222222222,
             "#7201a8"
            ],
            [
             0.3333333333333333,
             "#9c179e"
            ],
            [
             0.4444444444444444,
             "#bd3786"
            ],
            [
             0.5555555555555556,
             "#d8576b"
            ],
            [
             0.6666666666666666,
             "#ed7953"
            ],
            [
             0.7777777777777778,
             "#fb9f3a"
            ],
            [
             0.8888888888888888,
             "#fdca26"
            ],
            [
             1.0,
             "#f0f921"
            ]
           ],
           "diverging": [
            [
             0,
             "#8e0152"
            ],
            [
             0.1,
             "#c51b7d"
            ],
            [
             0.2,
             "#de77ae"
            ],
            [
             0.3,
             "#f1b6da"
            ],
            [
             0.4,
             "#fde0ef"
            ],
            [
             0.5,
             "#f7f7f7"
            ],
            [
             0.6,
             "#e6f5d0"
            ],
            [
             0.7,
             "#b8e186"
            ],
            [
             0.8,
             "#7fbc41"
            ],
            [
             0.9,
             "#4d9221"
            ],
            [
             1,
             "#276419"
            ]
           ]
          },
          "xaxis": {
           "gridcolor": "white",
           "linecolor": "white",
           "ticks": "",
           "title": {
            "standoff": 15
           },
           "zerolinecolor": "white",
           "automargin": true,
           "zerolinewidth": 2
          },
          "yaxis": {
           "gridcolor": "white",
           "linecolor": "white",
           "ticks": "",
           "title": {
            "standoff": 15
           },
           "zerolinecolor": "white",
           "automargin": true,
           "zerolinewidth": 2
          },
          "scene": {
           "xaxis": {
            "backgroundcolor": "#E5ECF6",
            "gridcolor": "white",
            "linecolor": "white",
            "showbackground": true,
            "ticks": "",
            "zerolinecolor": "white",
            "gridwidth": 2
           },
           "yaxis": {
            "backgroundcolor": "#E5ECF6",
            "gridcolor": "white",
            "linecolor": "white",
            "showbackground": true,
            "ticks": "",
            "zerolinecolor": "white",
            "gridwidth": 2
           },
           "zaxis": {
            "backgroundcolor": "#E5ECF6",
            "gridcolor": "white",
            "linecolor": "white",
            "showbackground": true,
            "ticks": "",
            "zerolinecolor": "white",
            "gridwidth": 2
           }
          },
          "shapedefaults": {
           "line": {
            "color": "#2a3f5f"
           }
          },
          "annotationdefaults": {
           "arrowcolor": "#2a3f5f",
           "arrowhead": 0,
           "arrowwidth": 1
          },
          "geo": {
           "bgcolor": "white",
           "landcolor": "#E5ECF6",
           "subunitcolor": "white",
           "showland": true,
           "showlakes": true,
           "lakecolor": "white"
          },
          "title": {
           "x": 0.05
          },
          "mapbox": {
           "style": "light"
          }
         }
        }
       },
       "config": {
        "plotlyServerURL": "https://plot.ly"
       }
      },
      "text/html": "<div>                            <div id=\"5fef456e-543a-4f37-9fdc-cf2034852df6\" class=\"plotly-graph-div\" style=\"height:525px; width:100%;\"></div>            <script type=\"text/javascript\">                require([\"plotly\"], function(Plotly) {                    window.PLOTLYENV=window.PLOTLYENV || {};                                    if (document.getElementById(\"5fef456e-543a-4f37-9fdc-cf2034852df6\")) {                    Plotly.newPlot(                        \"5fef456e-543a-4f37-9fdc-cf2034852df6\",                        [{\"mode\":\"lines\",\"name\":\"loss\",\"y\":[124.25346374511719,205.50169372558594,58.11275863647461,35.71104431152344,36.28355407714844,31.80919075012207,18.897794723510742,13.087506294250488,14.522829055786133,14.312819480895996,13.66285514831543,13.087773323059082,11.634782791137695,12.823759078979492,12.882920265197754,13.886030197143555,15.752159118652344,16.621225357055664,16.45330810546875,16.412656784057617,16.259389877319336,14.97069263458252,12.598861694335938,13.391494750976562,12.833320617675781,12.530442237854004,13.108771324157715,13.646718978881836,16.20928955078125,18.76742935180664,17.977323532104492,18.209251403808594,23.57361602783203,26.258846282958984,19.720157623291016,16.233671188354492,17.824209213256836,17.250560760498047,16.663148880004883,17.937904357910156,20.922746658325195,23.31262969970703,24.999958038330078,27.118539810180664,36.098052978515625,43.323211669921875,42.598846435546875,39.94841384887695,39.548561096191406,39.237613677978516,36.53078079223633,38.86212158203125,38.81930160522461,34.924835205078125,36.38154602050781,38.72985076904297,38.779850006103516,40.77255630493164,40.58728790283203,40.62120819091797,48.73313903808594,44.37862777709961,40.98577880859375,35.18107986450195,46.830482482910156,51.680519104003906,44.31037521362305,38.62528991699219,46.14663314819336,55.490760803222656,41.08852767944336,44.903778076171875,39.70051574707031,35.4721794128418,48.117252349853516,63.02055740356445,71.28071594238281,48.65747833251953,50.934295654296875,46.442848205566406,45.36995315551758,33.446014404296875,29.01532745361328,36.93017578125,21.534282684326172,36.281028747558594,68.36146545410156,56.14887237548828,32.00068283081055,29.194448471069336,34.82698059082031,25.887126922607422,19.534984588623047,22.931598663330078,21.76055145263672,28.23040008544922,45.475608825683594,38.04058837890625,30.302188873291016,28.2071533203125,32.282859802246094,35.723899841308594,31.865097045898438,33.5914192199707,40.10435485839844,46.894168853759766,70.20657348632812,76.28866577148438,57.45490264892578,37.94968032836914,39.875614166259766,32.14089584350586,24.197011947631836,21.974157333374023,17.25676918029785,17.175891876220703,18.084163665771484,14.66305923461914,13.951471328735352,23.730648040771484,19.60181427001953,17.88930320739746,12.848164558410645,13.449821472167969,11.724222183227539,12.157386779785156,11.452482223510742,9.877115249633789,9.604567527770996,9.654725074768066,9.371478080749512,10.093040466308594,11.408817291259766,13.330156326293945,13.783748626708984,12.099807739257812,12.189186096191406,13.199074745178223,14.334342956542969,13.383277893066406,14.305092811584473,15.404823303222656,15.009441375732422,13.745110511779785,12.368715286254883,11.193256378173828,11.121582984924316,10.805158615112305,11.495290756225586,11.397085189819336,12.19395637512207,13.808066368103027,15.539843559265137,15.477574348449707,14.056262969970703,14.019397735595703,13.71822452545166,14.358895301818848,14.675400733947754,14.460100173950195,13.841850280761719,13.550825119018555,13.832529067993164,13.140522003173828,12.760842323303223,12.535759925842285,12.655332565307617,16.16895294189453,20.425748825073242,21.745092391967773,19.615997314453125,18.2768497467041,18.48432159423828,19.582117080688477,18.06368637084961,16.03912353515625,15.942609786987305,16.65864372253418,15.088546752929688,14.760124206542969,15.03366470336914,16.45210838317871,17.322463989257812,18.579971313476562,19.750280380249023,19.985151290893555,19.664104461669922,18.403718948364258,17.21206283569336,15.84543514251709,14.695184707641602,14.123818397521973,19.847843170166016,24.136455535888672,22.66071319580078,24.803085327148438,21.809133529663086,23.58959197998047,22.04340362548828,18.864885330200195,17.55268096923828,17.681678771972656,16.288803100585938,20.00575828552246,18.463733673095703,16.239803314208984,13.471096992492676,11.803352355957031,12.128849029541016,11.768314361572266,14.905476570129395,14.126683235168457,11.061529159545898,10.787062644958496,12.193582534790039,15.215417861938477,13.155488014221191,10.059491157531738,11.22384262084961,10.794600486755371,9.473490715026855,8.668673515319824,8.484673500061035,7.436034202575684,7.749593734741211,14.520767211914062,17.97789192199707,24.813583374023438,23.921693801879883,15.07010269165039,16.260215759277344,18.568864822387695,20.35245132446289,20.068252563476562,15.870584487915039,11.970202445983887,11.223905563354492,11.147502899169922,12.250741958618164,11.240148544311523,9.320151329040527,8.774669647216797,13.371527671813965,17.10559844970703,21.170963287353516,20.99272918701172,17.583934783935547,13.494266510009766,10.556880950927734,10.656573295593262,11.046545028686523,11.603287696838379,11.348787307739258,9.758291244506836,9.088155746459961,8.603973388671875,8.172588348388672,7.462962627410889,7.230716705322266,7.084122657775879,6.840202331542969,6.327393531799316,5.915959358215332,7.700409889221191,11.013202667236328,12.80889892578125,14.086638450622559,13.13516616821289,10.768083572387695,7.6980977058410645,7.419174671173096,8.600671768188477,9.995723724365234,11.231000900268555,9.809713363647461,10.394680976867676,12.0838623046875,15.478327751159668,20.105682373046875,22.56049919128418,19.856151580810547,17.632835388183594,15.574041366577148,12.98509693145752,11.186141014099121,10.193038940429688,9.819768905639648,9.808961868286133,9.542805671691895,8.702975273132324,7.302376747131348,6.98695182800293,6.611654281616211,6.55443811416626,6.420302391052246,6.270180702209473,5.874260425567627,6.230005741119385,8.42576789855957,10.581628799438477,10.272354125976562,9.662376403808594,8.572352409362793,7.772162437438965,8.387602806091309,8.710597038269043,9.088394165039062,8.153017044067383,7.550060749053955,7.592859268188477,6.9803314208984375,6.581601142883301,5.857145309448242,5.696210861206055,5.841853141784668,6.245974540710449,6.358863353729248,6.415862560272217,6.634469032287598,6.939471244812012,6.831559181213379,6.465488433837891,6.073389053344727,5.788640975952148,5.1824631690979,4.900753974914551,4.889332294464111,5.329530239105225,5.310439109802246,5.354207515716553,6.1267194747924805,6.420547008514404,6.766549110412598,6.997946262359619,6.511469841003418,5.829813480377197,5.633370399475098,6.172621250152588,7.0640153884887695,8.063596725463867,7.851484298706055,6.821577072143555,6.458359241485596,6.868895530700684,7.330434799194336,7.79434871673584,8.000890731811523,8.186670303344727,7.576173305511475,7.320696830749512,7.2012529373168945,7.193176746368408,7.343014717102051,6.836730003356934,6.536883354187012,6.252230644226074,5.347821235656738,4.976981163024902,4.751039505004883,4.73605489730835,5.151246070861816,5.817962646484375,6.4965996742248535,7.087699890136719,7.4540863037109375,7.519176006317139,7.3509602546691895,7.315655708312988,6.905588150024414,6.801481246948242,6.738964080810547,6.657924652099609,6.462749481201172,6.1644182205200195,6.054372310638428,6.011348724365234,5.871648788452148,6.4819231033325195,7.442994117736816,7.892472267150879,7.803653717041016,7.2040557861328125,6.927847862243652,6.878588676452637,6.909580707550049,7.147098541259766,7.02885627746582,7.329578876495361,7.165802478790283,7.120799541473389,6.87844181060791,6.516941547393799,6.400870323181152,6.656522274017334,7.032963275909424,7.191134452819824,7.242916107177734,7.263157844543457,7.366724967956543,7.694120407104492,8.258167266845703,8.77958869934082,9.149809837341309,8.847119331359863,8.661266326904297,8.600395202636719,8.607243537902832,8.680323600769043,8.214426040649414,8.441893577575684,8.284616470336914,8.170417785644531,8.274513244628906,8.633403778076172,8.588284492492676,8.581911087036133,8.653411865234375,7.729635715484619,6.86739444732666,6.182156085968018,6.224393367767334,7.416756629943848,8.271238327026367,8.822305679321289,10.78133773803711,10.326534271240234,9.993983268737793,11.50483512878418,11.52015209197998,11.337045669555664,9.388877868652344,9.2960844039917,9.218984603881836,9.564591407775879,9.452878952026367,9.563150405883789,8.551704406738281,7.402228355407715,6.99904727935791,7.322389602661133,7.771449089050293,7.714792251586914,8.268943786621094,8.589277267456055,9.723522186279297,13.097258567810059,16.08550262451172,19.207290649414062,20.711292266845703,18.813426971435547,15.954115867614746,13.940922737121582,11.826180458068848,10.294721603393555,10.251350402832031,9.837629318237305,9.402424812316895,11.15772819519043,10.305475234985352,10.711605072021484,10.76746654510498,10.838481903076172,10.474846839904785,10.053699493408203,9.388813018798828,8.876313209533691,8.562454223632812,8.081972122192383,7.613091468811035,7.265120029449463,6.889220714569092,6.995065689086914,6.143758296966553,5.507202625274658,5.695446968078613,5.637934684753418,5.933846473693848,5.550515174865723,5.347019672393799,5.213320732116699,5.217744827270508,5.025229454040527,5.015125274658203,5.108476638793945,5.164536476135254,4.971657752990723,5.2073140144348145,5.300262451171875,5.564125061035156,6.077608108520508,6.245887756347656,6.537903308868408,6.969150543212891,8.407403945922852,10.110998153686523,9.608942985534668,9.296395301818848,10.567428588867188,10.507898330688477,12.31329345703125,14.799636840820312,16.511486053466797,18.076858520507812,18.46505355834961,17.78297996520996,17.541961669921875,17.072647094726562,17.682819366455078,19.169830322265625,20.766611099243164,22.847187042236328,21.790775299072266,20.314250946044922,17.5126953125,15.732980728149414,14.89040756225586,13.56982707977295,14.069273948669434,13.67287826538086,13.479695320129395,13.949239730834961,13.053696632385254,12.669926643371582,12.456445693969727,12.075326919555664,11.544869422912598,11.044631958007812,11.00653076171875,11.003597259521484,10.738503456115723,10.498126983642578,10.506447792053223,10.857211112976074,11.596704483032227,10.739185333251953,10.056865692138672,9.916511535644531,10.218839645385742,9.662954330444336,11.356616973876953,10.26606559753418,10.100425720214844,9.935419082641602,8.08977222442627,7.725173473358154,7.342217445373535,7.114075183868408,7.070675849914551,7.064598560333252,7.033251762390137,8.2205228805542,7.7304277420043945,8.700849533081055,8.414779663085938,8.34239387512207,8.326611518859863,8.083258628845215,8.10380744934082,8.467000961303711,8.670182228088379,9.324580192565918,9.558405876159668,9.751535415649414,10.467010498046875,10.55294418334961,11.830384254455566,13.107840538024902,14.64134693145752,16.094783782958984,17.171184539794922,17.146785736083984,17.122291564941406,16.71253776550293,16.570335388183594,16.335887908935547,17.031421661376953,16.554140090942383,16.720867156982422,17.011545181274414,16.607070922851562,15.841166496276855,15.220678329467773,15.307151794433594,14.586202621459961,13.858757019042969,12.674510955810547,11.723808288574219,10.654044151306152,9.765605926513672,9.259193420410156,9.120588302612305,9.881840705871582,8.234855651855469,8.044246673583984,7.527987003326416,6.920934677124023,6.62495231628418,6.783502578735352,7.109434127807617,7.502530097961426,8.240169525146484,8.681804656982422,8.726128578186035,8.555256843566895,7.971705436706543,7.891350746154785,8.432591438293457,8.783849716186523,9.221501350402832,9.14771842956543,9.736397743225098,9.489812850952148,8.733230590820312,7.851376533508301,7.729739665985107,7.825747489929199,7.874533176422119,8.276482582092285,7.874668121337891,7.814197540283203,7.936624526977539,8.319804191589355,8.492219924926758,8.927960395812988,9.206274032592773,9.744165420532227,9.20509147644043,9.446533203125,9.849920272827148,9.898990631103516,9.904138565063477,9.92495346069336,9.758543968200684,9.225111961364746,8.831171989440918,9.095447540283203,9.928800582885742,10.221866607666016,10.12407112121582,13.286319732666016,11.186957359313965,10.795369148254395,10.532038688659668,10.254571914672852,10.139549255371094,10.162339210510254,10.796525001525879,10.936735153198242,10.912976264953613,11.056400299072266,12.08085823059082,12.173544883728027,12.845033645629883,13.572959899902344,14.33825969696045,14.186887741088867,13.536029815673828,13.259622573852539,12.071504592895508,11.20384693145752,11.706104278564453,11.51470947265625,10.988330841064453,10.92949104309082,11.070151329040527,12.17022705078125,9.793546676635742,9.812413215637207,10.359383583068848,10.27326774597168,9.93480110168457,10.49085807800293,10.528940200805664,9.269754409790039,9.445385932922363,9.68043327331543,9.898970603942871,10.080513000488281,10.95687484741211,9.832633972167969,9.567137718200684,9.774948120117188,9.3574800491333,9.474485397338867,10.426759719848633,11.140594482421875,11.46954345703125,11.284889221191406,11.486299514770508,11.217536926269531,11.708953857421875,12.14787483215332,12.569116592407227,15.264772415161133,13.32402229309082,13.264022827148438,13.385404586791992,14.062414169311523,13.043206214904785,14.411882400512695,13.058794021606445,14.094415664672852,18.41858673095703,22.05242156982422,23.27582550048828,30.73710823059082,35.63767623901367,45.27014923095703,40.878726959228516,43.548004150390625,36.26219177246094,32.061981201171875,29.26807975769043,29.984283447265625,21.56386947631836,18.013568878173828,16.628036499023438,15.880767822265625,16.796079635620117,17.537992477416992,19.00494956970215,19.875476837158203,15.925291061401367,22.271169662475586,21.44064712524414,18.349681854248047,19.896305084228516,19.294208526611328,14.681047439575195,15.243904113769531,12.45102596282959,12.602556228637695,12.385467529296875,13.147261619567871,15.618782043457031,15.553071975708008,18.55043601989746,17.643922805786133,16.470458984375,17.40749168395996,15.459749221801758,16.645904541015625,15.178435325622559,14.78530216217041,14.131473541259766,16.479543685913086,12.72896957397461,12.418054580688477,13.868237495422363,12.871235847473145,12.979331970214844,12.990278244018555,14.39751148223877,12.34269905090332,11.83251953125,11.675055503845215,11.776466369628906,12.377265930175781,12.321216583251953,12.478841781616211,12.3810453414917,12.77354907989502,12.810779571533203,13.014935493469238,14.348184585571289,13.654476165771484,14.283620834350586,13.640439987182617,13.417007446289062,12.943777084350586,13.949868202209473,13.635293006896973,13.433536529541016,13.449882507324219,13.986785888671875,14.107892990112305,14.253705978393555,15.305038452148438,16.530797958374023,17.600749969482422,18.18824577331543,19.973405838012695,20.233932495117188,17.351316452026367,23.287033081054688,17.220815658569336,17.00510025024414,17.093778610229492,17.183195114135742,17.659786224365234,24.01572036743164,24.24309539794922,33.29996109008789,31.775989532470703,36.8738899230957,35.387752532958984,37.69731140136719,30.021909713745117,31.387340545654297,24.669116973876953,22.118568420410156,20.766563415527344,23.313077926635742,19.788066864013672,18.627437591552734,17.120450973510742,21.664703369140625,17.102415084838867,17.612102508544922,17.859418869018555,20.11664581298828,22.27063751220703,20.760883331298828,22.89822769165039,24.41008186340332,22.043376922607422,23.078031539916992,21.474334716796875,23.685911178588867,24.515338897705078,21.6546573638916,19.4054012298584,18.36964988708496,16.513408660888672,18.34943389892578,17.97271156311035,18.686817169189453,19.571277618408203,20.501550674438477,18.065481185913086,17.057537078857422,19.738759994506836,17.10133934020996,18.839548110961914,16.62438201904297,17.532325744628906,16.077268600463867,15.743715286254883,16.01960563659668,14.933450698852539,14.444540977478027,14.258159637451172,14.525524139404297,13.66977310180664,13.457375526428223,13.100624084472656,12.882431030273438,12.496116638183594,12.74163818359375,14.211524963378906,14.879084587097168,12.931976318359375,14.410882949829102,13.265973091125488,14.848682403564453,14.556900024414062,12.653244972229004,12.360736846923828,12.707162857055664,13.141846656799316,13.152425765991211,13.748407363891602,15.396835327148438,15.447868347167969,14.949769973754883,14.105142593383789,14.989540100097656,16.924652099609375,21.952905654907227,29.70857048034668,28.07093620300293,34.70997619628906,35.384368896484375,27.137195587158203,29.760135650634766,40.639122009277344,26.57418441772461,23.325939178466797,22.46866226196289,21.903059005737305,20.241195678710938,20.25922966003418,18.962474822998047,19.126575469970703,20.214218139648438,21.81230354309082,21.195919036865234,23.240943908691406,20.435470581054688,19.39645004272461,19.31939697265625,18.67607879638672,21.737468719482422,20.73744010925293,22.32445526123047,22.97586441040039,20.066123962402344,18.71354866027832,17.31832504272461,19.37505340576172,17.962238311767578,18.35096549987793,19.949691772460938,23.007919311523438,19.141756057739258,20.13349723815918,19.603063583374023,22.874855041503906,19.67298126220703,20.17580795288086,20.524171829223633,23.327987670898438,19.565406799316406,24.644107818603516,22.167259216308594,20.745311737060547,21.19329833984375,24.1496524810791,24.085567474365234,23.09981918334961,19.47144317626953,20.247920989990234,20.835369110107422,20.78343963623047,20.559236526489258,25.916627883911133,27.321826934814453,35.00575637817383,38.25456237792969,36.460601806640625,34.60118865966797,32.80767822265625,34.23093032836914,31.16454315185547,31.058494567871094,30.913284301757812,20.831693649291992,20.186939239501953,21.86172103881836,21.666980743408203,19.80052375793457,20.90300941467285,21.591079711914062,22.577041625976562,28.065444946289062,27.096710205078125,25.169084548950195,24.98428726196289,22.92717933654785,23.827587127685547,31.66034698486328,33.66033172607422,40.26692199707031,36.10022735595703,37.713531494140625,45.05535888671875,53.08652114868164,56.11937713623047,56.974281311035156,60.3444938659668,61.6328125,62.58257293701172,63.31584167480469,63.71539306640625,70.09629821777344,73.07489013671875,76.43760681152344,82.55326080322266,76.18573760986328,69.38691711425781,67.85015869140625,69.77459716796875,64.74103546142578,63.84425354003906,69.70147705078125,74.05934143066406,77.89305877685547,81.643310546875,83.03598022460938,84.25192260742188,77.64411926269531,79.72608947753906,86.95613098144531,92.82704162597656,96.88908386230469,105.495361328125,113.28038787841797,116.96773529052734,119.34310913085938,118.09166717529297,113.63656616210938,116.08924865722656,114.49153137207031,113.67633819580078,114.86419677734375,123.1277847290039,120.74005889892578,121.0118179321289,112.25071716308594,103.06781005859375,91.55274200439453,84.06744384765625,73.51422119140625,69.12661743164062,65.04643249511719,62.758445739746094,61.877601623535156,60.239356994628906,61.738746643066406,63.52303695678711,81.10891723632812,82.94366455078125,84.25111389160156,85.87574005126953,85.83463287353516,86.34234619140625,92.38361358642578,99.31764221191406,107.70890808105469,117.03848266601562,127.6619873046875,134.69110107421875,147.97607421875,160.36172485351562,165.6017608642578,176.53016662597656,180.32965087890625,177.75222778320312,175.03094482421875,184.3057861328125,200.7579803466797,215.79647827148438,240.02114868164062,250.6450958251953,254.073486328125,257.7940673828125,262.1921691894531,254.86839294433594,244.87240600585938,232.40611267089844,217.89193725585938,212.16543579101562,218.66189575195312,233.1250762939453,263.831787109375,284.1374206542969,300.71392822265625,322.23577880859375,339.9359130859375,373.4760437011719,419.04376220703125,480.85968017578125,556.4602661132812,635.386962890625,658.402587890625,686.22119140625,726.4248046875,784.0665283203125,821.6666259765625,916.9110717773438,1049.269287109375,1134.6431884765625,1192.4345703125,1260.03369140625,1348.156494140625,1454.66455078125,1573.467041015625,1651.19873046875,1720.253173828125,1729.802490234375,1604.985107421875,1455.056884765625,1381.8646240234375,1264.73828125,1076.58349609375,927.8843994140625,830.2357177734375,671.1593627929688,499.505615234375,395.20013427734375,326.385986328125,257.62646484375,227.71224975585938,230.9946746826172,242.00950622558594,256.9947509765625,264.2836608886719,263.614501953125,250.62664794921875,235.8896026611328,216.20596313476562,200.01602172851562,203.15182495117188,209.73965454101562,212.817138671875,204.58905029296875,193.73614501953125,183.61749267578125,161.72462463378906,139.60855102539062,134.2396697998047,136.0013885498047,129.8821563720703,129.9974365234375,135.6165771484375,152.13592529296875,162.23147583007812,179.29644775390625,206.48373413085938,234.51502990722656,267.3890380859375,273.2565002441406,298.59393310546875,297.0518798828125,268.6124267578125,219.00852966308594,183.82012939453125,148.72048950195312,116.41316223144531,101.06831359863281,100.72611999511719,109.5140380859375,121.18714904785156,127.28875732421875,122.28895568847656,123.96979522705078,126.69807434082031,125.8326644897461,123.23043060302734,135.50094604492188,133.27548217773438,137.49942016601562,141.4781494140625,144.6019287109375,139.5509796142578,137.35861206054688,133.4381103515625,130.69325256347656,128.72232055664062,129.0763702392578,128.57644653320312,125.53477478027344,120.0020523071289,111.35133361816406,104.63351440429688,97.54208374023438,90.6294174194336,85.01571655273438,82.93560791015625,81.41378784179688,80.79145812988281,79.16998291015625,77.82693481445312,78.16670227050781,79.53573608398438,81.93531799316406,82.7060317993164,80.75008392333984,78.30653381347656,74.21158599853516,74.28946685791016,75.00434875488281,79.47367858886719,86.64622497558594,96.78607940673828,107.45820617675781,115.66259765625,119.16639709472656,124.39781951904297,126.42224884033203,122.0381088256836,122.92082977294922,128.5157470703125,132.24679565429688,135.33966064453125,144.9229736328125,152.2559356689453,142.21754455566406,133.7412567138672,125.11263275146484,109.9378662109375,100.19564819335938,104.49885559082031,110.94419860839844,115.65498352050781,118.82907104492188,119.72434997558594,119.30372619628906,111.08724212646484,115.04808044433594,118.66000366210938,130.2647247314453,147.31597900390625,163.33602905273438,183.20530700683594,193.41159057617188,201.0618438720703,205.4729461669922,205.29949951171875,200.61416625976562,205.84771728515625,206.5034942626953,180.86529541015625,158.04168701171875,138.12890625,105.04486083984375,81.44798278808594,69.21432495117188,62.15718460083008,54.069435119628906,53.658363342285156,56.860137939453125,60.326148986816406,62.19438552856445,62.960289001464844,64.94132995605469,66.56378173828125,65.1251220703125,70.20991516113281,76.14480590820312,86.76765441894531,92.91886901855469,101.97394561767578,104.89288330078125,104.14553833007812,97.63601684570312,94.73577880859375,90.3465576171875,85.20730590820312,79.9892807006836,77.06849670410156,74.35139465332031,70.14592742919922,68.32852172851562,66.72779846191406,68.62918090820312,68.601318359375,75.1187744140625,81.5188980102539,83.55497741699219,83.67756652832031,86.48950958251953,80.87831115722656,75.24407958984375,76.66091918945312,80.2040786743164,81.1045913696289,79.26312255859375,81.32470703125,81.00697326660156,78.26666259765625,73.88978576660156,72.10466003417969,69.1627197265625,67.45508575439453,68.64286804199219,69.25997924804688,70.23213195800781,71.64171600341797,71.24272918701172,72.54301452636719,72.30860137939453,73.73286437988281,74.47645568847656,77.22753143310547,76.68406677246094,77.81376647949219,77.91944885253906,77.36153411865234,77.95690155029297,80.02572631835938,80.23748779296875,81.42330169677734,79.4930648803711,76.78421783447266,75.27586364746094,73.85932922363281,72.50651550292969,73.01410675048828,74.04446411132812,74.08036804199219,74.2147216796875,75.83700561523438,77.31340026855469,78.31682586669922,79.47227478027344,80.38328552246094,81.11378479003906,80.9598388671875,85.22541809082031,84.21513366699219,84.49139404296875,88.15619659423828,92.19066619873047,94.24691772460938,96.08165740966797,96.80128479003906,99.29916381835938,98.38790130615234,97.66297912597656,99.97648620605469,98.33401489257812,98.06702423095703,94.44794464111328,91.34969329833984,89.26884460449219,90.0673828125,91.7612533569336,92.30907440185547,96.60137939453125,98.44944763183594,97.88578796386719,101.75421142578125,100.88172912597656,102.82588958740234,104.50633239746094,105.19314575195312,106.67997741699219,107.91271209716797,107.11674499511719,106.85868835449219,105.80607604980469,105.76011657714844,104.91099548339844,105.49594116210938,105.35028076171875,103.91886138916016,104.33806610107422,105.34772491455078,104.22248840332031,104.9038314819336,105.17106628417969,104.7703857421875,103.68535614013672,104.26254272460938,103.21627044677734,104.21316528320312,104.74671936035156,102.66165161132812,103.61085510253906,103.0966567993164,101.3592300415039,98.63516998291016,95.47622680664062,94.66659545898438,92.16143798828125,92.01234436035156,90.25431823730469,90.80056762695312,90.82830810546875,91.6895980834961,91.75836181640625,90.9210205078125,93.91597747802734,94.24256134033203,96.95059204101562,97.6217041015625,100.61639404296875,101.49885559082031,103.23983764648438,103.79255676269531,104.66586303710938,101.99689483642578,102.32302856445312,103.60774993896484,104.09626007080078,105.35137939453125,106.15969848632812,105.94326782226562,105.20186614990234,104.14788818359375,108.47828674316406,109.10540771484375,108.3953857421875,108.07671356201172,107.13191223144531,107.6186294555664,107.22236633300781,107.23623657226562,110.08191680908203,113.77047729492188,112.94236755371094,115.67437744140625,114.26266479492188,114.61492919921875,114.12246704101562,117.04705810546875,120.55729675292969,124.88186645507812,127.25593566894531,130.78009033203125,132.02890014648438,134.640380859375,137.05029296875,138.97222900390625,140.41567993164062,141.94464111328125,144.8744659423828,147.7490234375,149.0617218017578,150.66220092773438,152.75369262695312,154.53684997558594,154.44256591796875,158.6044921875,162.02969360351562,167.1257781982422,168.2545623779297,175.1127471923828,179.517333984375,183.47720336914062,194.3258514404297,195.03945922851562,206.1067352294922,209.82664489746094,206.91842651367188,211.40396118164062,206.3978271484375,213.72637939453125,217.00582885742188,215.86810302734375,217.33807373046875,205.89295959472656,202.362060546875,194.53057861328125,183.7639923095703,176.18856811523438,168.98641967773438,169.9052734375,165.12957763671875,163.15939331054688,157.02621459960938,150.70213317871094,144.4866943359375,142.66168212890625,138.46234130859375,141.36720275878906,144.40342712402344,151.1942901611328,155.71923828125,154.33197021484375,158.30862426757812,166.73049926757812,171.46627807617188,176.4964599609375,184.30029296875,185.48756408691406,194.08868408203125,195.85850524902344,193.47366333007812,198.76470947265625,207.55148315429688,212.55538940429688,207.60018920898438,202.1268310546875,190.14816284179688,177.5267333984375,164.91299438476562,157.37799072265625,155.88095092773438,153.47195434570312,153.07107543945312,158.6982879638672,159.15328979492188,161.5703125,161.46649169921875,162.8909149169922,166.79417419433594,171.40005493164062,174.96311950683594,179.21522521972656,179.7224578857422,180.9017791748047,179.0973663330078,177.23211669921875,178.9287109375,178.49774169921875,185.4822998046875,189.0653076171875,195.0362548828125,201.22183227539062,210.39041137695312,209.52420043945312,202.85836791992188,203.85508728027344,208.67713928222656,203.87942504882812,209.4295654296875,205.43560791015625,198.54151916503906,201.32444763183594,203.41131591796875,207.62655639648438,212.515625,209.8872833251953,205.8240966796875,216.82058715820312,206.78781127929688,217.84498596191406,205.106689453125,220.78689575195312,217.21307373046875,221.06887817382812,223.3287353515625,204.50302124023438,212.41754150390625,209.36764526367188,193.68426513671875,194.72242736816406,210.50714111328125,209.68031311035156,212.624755859375,217.24432373046875,200.65054321289062,204.31021118164062,189.53411865234375,166.59005737304688,158.40267944335938,134.7117462158203,135.35336303710938,125.70367431640625,114.7781982421875,105.56085968017578,108.06490325927734,113.94686126708984,115.06443786621094,118.34941101074219,116.38322448730469,116.14460754394531,107.61262512207031,101.02213287353516,94.75601196289062,89.7911605834961,87.60572814941406,88.02284240722656,91.65853118896484,98.20087432861328,95.4064712524414,85.70349884033203,85.87116241455078,82.50458526611328,79.68951416015625,76.0146484375,74.54148864746094,69.68801879882812,70.99781799316406,71.11353302001953,72.80213928222656,71.23075866699219,76.1419677734375,77.58723449707031,76.74452209472656,77.15676879882812,79.02813720703125,81.13212585449219,81.50525665283203,83.25096130371094,82.28712463378906,84.11357116699219,82.95376586914062,81.93685913085938,79.13484191894531,84.37301635742188,75.8265380859375,82.81877136230469,84.93287658691406,83.46734619140625,89.05418395996094,90.32405090332031,92.84944915771484,86.15631103515625,92.725341796875,93.18621063232422,92.80968475341797,90.29762268066406,87.318115234375,77.63377380371094,80.75419616699219,78.07508087158203,76.72929382324219,81.89873504638672,85.16109466552734,88.03709411621094,91.51751708984375,103.61326599121094,108.08844757080078,111.26216125488281,115.23666381835938,116.32536315917969,109.77650451660156,119.29818725585938,121.90809631347656,126.94316864013672,131.28759765625,131.06597900390625,127.71288299560547,128.3487548828125,118.990966796875,127.58865356445312,129.32228088378906,132.79092407226562,137.50149536132812,133.625244140625,130.83154296875,124.28861236572266,133.47425842285156,131.6290740966797,134.90594482421875,143.04075622558594,151.19216918945312,145.90371704101562,151.24070739746094,158.29513549804688,160.3615264892578,165.81268310546875,165.52865600585938,177.51051330566406,177.037841796875,179.94920349121094,178.19500732421875,196.618408203125,196.09152221679688,196.0440673828125,193.16238403320312,175.29319763183594,175.38418579101562,161.99957275390625,146.9827880859375,147.1210174560547,155.40887451171875,147.5032196044922,163.54405212402344,136.3477783203125,158.74966430664062,165.0944061279297,166.71664428710938,174.2628173828125,162.84201049804688,147.80975341796875,151.5322723388672,157.906982421875,140.88778686523438,149.85618591308594,137.15679931640625,143.14688110351562,143.22683715820312,151.63671875,148.35186767578125,136.68710327148438,119.1568374633789,127.6070785522461,126.19644165039062,127.04335021972656,113.76260375976562,131.96002197265625,126.81361389160156,127.63194274902344,122.2933349609375,124.16048431396484,119.97703552246094,123.42671203613281,117.3176498413086,112.36663055419922,101.86341857910156,99.84881591796875,92.67377471923828,91.14984130859375,81.08484649658203,89.7352066040039,81.78103637695312,82.38884735107422,95.23851013183594,94.89737701416016,82.94635772705078,90.42350769042969,89.61616516113281,88.96614074707031,87.70265197753906,94.6105728149414,95.2299575805664,95.54623413085938,98.7083740234375,95.85652160644531,80.9483871459961,93.19140625,88.3373031616211,76.35276794433594,84.05872344970703,81.9358139038086,71.16127014160156,73.43406677246094,78.6590576171875,84.70936584472656,76.71773529052734,92.85235595703125,98.923095703125,113.02072143554688,115.7190170288086,122.2210464477539,108.73434448242188,114.15101623535156,96.42929077148438,110.61537170410156,109.81875610351562,77.08135986328125,91.54402160644531,109.47869873046875,106.00567626953125,98.27136993408203,110.58200073242188,108.03672790527344,94.130126953125,89.45018768310547,83.31583404541016,74.08598327636719,66.1578598022461,45.7578125,51.46295928955078,41.000709533691406,41.75505828857422,32.05263137817383,35.51752471923828,39.62442398071289,37.85195541381836,40.620704650878906,46.510066986083984,48.01049041748047,43.59385681152344,46.28144836425781,59.19252395629883,60.15300750732422,65.15599060058594,63.259742736816406,53.26905059814453,68.19368743896484,65.79072570800781,77.20811462402344,73.07847595214844,73.75473022460938,67.50666809082031,69.75898742675781,57.92424011230469,59.61767578125,53.76411437988281,55.80076599121094,53.626251220703125,43.04616165161133,32.59203338623047,44.758323669433594,40.4427490234375,50.844017028808594,49.44557189941406,48.41221618652344,43.64982604980469,40.201255798339844,36.23540496826172,34.533103942871094,44.76171112060547,39.981834411621094,36.88620376586914,28.663532257080078,27.279478073120117,25.175655364990234,30.472801208496094,30.110816955566406,22.587291717529297,24.70035171508789,29.590068817138672,27.69590950012207,28.16802978515625,19.098081588745117,29.971240997314453,24.53717041015625,29.882923126220703,33.38270568847656,35.202980041503906,35.51322937011719,37.357460021972656,27.85986328125,29.744462966918945,32.76335525512695,37.8895263671875,39.49742889404297,40.468231201171875,42.19811248779297,39.842002868652344,38.25031661987305,35.47853469848633,32.454498291015625,31.230934143066406,28.986040115356445,26.640941619873047,29.112091064453125,25.718097686767578,28.726211547851562,28.11761474609375,27.662612915039062,26.38776206970215,22.02227783203125,24.201812744140625,21.29262924194336,20.245790481567383,19.964305877685547,18.42237091064453,19.185470581054688,20.67673683166504,20.305450439453125,18.446746826171875,17.78710174560547,17.5610408782959,17.31850814819336,19.510265350341797,18.950729370117188,17.16204071044922,16.360084533691406,17.463756561279297,17.049320220947266,19.876178741455078,16.25006103515625,20.068851470947266,18.718761444091797,16.315425872802734,15.795700073242188,16.042545318603516,16.8370418548584,18.031940460205078,14.782123565673828,14.191278457641602,13.924236297607422,14.015010833740234,12.962257385253906,12.337085723876953,12.049936294555664,11.236431121826172,11.240043640136719,11.785863876342773,13.760516166687012,12.599498748779297,12.226194381713867,11.957748413085938,12.467536926269531,12.27687931060791,10.594125747680664,10.90068244934082,10.888582229614258,11.862756729125977,11.515533447265625,12.11308765411377,12.089225769042969,10.894964218139648,10.919793128967285,10.831026077270508,9.75587272644043,9.68915843963623,11.331586837768555,9.692671775817871,13.136209487915039,17.17913055419922,15.730731964111328,12.365804672241211,22.603511810302734,20.393630981445312,21.455347061157227,15.754362106323242,25.388521194458008,18.937461853027344,19.582115173339844,20.549104690551758,19.559734344482422,18.58017349243164,17.5847110748291,19.015344619750977,18.544536590576172,19.630779266357422,25.994787216186523,24.019947052001953,29.437549591064453,40.74451446533203,49.29692840576172,52.22588348388672,63.10712432861328,66.77226257324219,66.86199951171875,68.73033905029297,67.66609191894531,71.9467544555664,65.15384674072266,63.756980895996094,60.25759506225586,58.61229705810547,62.2265739440918,62.9295768737793,55.624305725097656,48.67204284667969,46.065269470214844,43.12888717651367,53.011749267578125,40.78124237060547,41.67436218261719,38.972198486328125,37.241729736328125,32.82661819458008,38.21912384033203,32.42726516723633,26.17753791809082,30.21142578125,29.45581817626953,33.43526840209961,38.22871780395508,35.22648620605469,42.90406799316406,43.40315246582031,51.087223052978516,43.5422248840332,48.69529724121094,49.80382537841797,63.24554443359375,45.5384521484375,42.635353088378906,47.561031341552734,49.32136535644531,49.34859085083008,55.26939392089844,51.8709716796875,62.85832977294922,55.06934356689453,65.18113708496094,64.53633880615234,64.07035827636719,66.32754516601562,65.23197937011719,67.37258911132812,76.06614685058594,76.58999633789062,82.50672912597656,75.36577606201172,83.9716796875,72.37261199951172,76.40863800048828,66.49928283691406,64.91630554199219,67.44454956054688,64.42704772949219,64.01187133789062,65.11408233642578,64.8597183227539,63.582149505615234,63.187408447265625,63.26852035522461,65.31114959716797,61.101322174072266,67.6595458984375,71.26139068603516,70.84518432617188,80.68548583984375,81.93904876708984,84.26527404785156,85.7138671875,77.68040466308594,68.04693603515625,64.0993881225586,53.46774673461914,48.15837097167969,50.9005241394043,46.98991012573242,44.89582824707031,42.89088821411133,41.73114013671875,43.67013931274414,39.41883850097656,38.22874069213867,42.063934326171875,38.72399139404297,39.381534576416016,42.68265151977539,42.73919677734375,43.838470458984375,48.631675720214844,48.1940803527832,48.1729736328125,46.073204040527344,46.48102569580078,46.81059265136719,45.85921096801758,46.48651123046875,49.46571350097656,50.6507568359375,51.48167037963867,52.355831146240234,52.337711334228516,51.835018157958984,53.50693130493164,57.14853286743164,59.84593963623047,64.12008666992188,71.0638656616211,74.79951477050781,76.12937927246094,76.97148132324219,76.65033721923828,75.84194946289062,77.26799011230469,76.25265502929688,79.7274169921875,82.03309631347656,85.01016998291016,85.03056335449219,85.40669250488281,82.7925796508789,78.21510314941406,74.21005249023438,72.16548156738281,68.72265625,68.17254638671875,70.46456909179688,73.40618896484375,74.74049377441406,75.33063507080078,71.30402374267578,73.50698852539062,64.43131256103516,64.6231689453125,65.4107894897461,64.95382690429688,63.62049865722656,63.14215850830078,66.09635925292969,68.61457824707031,74.97634887695312,83.0526123046875,87.44566345214844,94.82514953613281,102.54661560058594,109.38479614257812,114.06742858886719,123.82574462890625,130.3658447265625,125.95135498046875,123.46876525878906,135.05148315429688,147.66256713867188,155.21054077148438,173.80291748046875,184.19195556640625,189.73690795898438,193.43197631835938,198.67684936523438,188.46702575683594,186.9599609375,175.29971313476562,167.38465881347656,162.54312133789062,168.81857299804688,182.46282958984375,205.24288940429688,224.23385620117188,239.8738250732422,257.1351013183594,272.6588134765625,307.9598693847656,343.1396484375,393.78948974609375,463.1000671386719,527.7464599609375,554.7152709960938,578.71484375,616.2965087890625,663.9047241210938,706.1787109375,782.29345703125,889.5551147460938,977.0999755859375,1024.345458984375,1069.8306884765625,1155.443115234375,1240.7435302734375,1363.298828125,1419.735595703125,1492.766357421875,1482.786865234375,1371.88525390625,1257.5372314453125,1187.525146484375,1076.89208984375,924.8164672851562,801.8082275390625,713.5086059570312,578.5625,422.6370849609375,331.8305969238281,281.0594177246094,223.91995239257812,209.123046875,211.70272827148438,227.45535278320312,238.47265625,244.85826110839844,237.81271362304688,228.89964294433594,212.56590270996094,193.884033203125,178.9873046875,178.81430053710938,188.19606018066406,187.71824645996094,178.3675537109375,165.12850952148438,160.7040252685547,139.72665405273438,121.16525268554688,118.13896942138672,119.8721923828125,116.52243041992188,113.29347229003906,119.40959930419922,132.5654754638672,141.59068298339844,158.04879760742188,177.9461669921875,211.32540893554688,239.17526245117188,244.010009765625,265.5479431152344,264.08819580078125,244.10360717773438,194.98715209960938,165.064697265625,131.43695068359375,105.79108428955078,93.80535125732422,94.33206176757812,102.87608337402344,113.49188232421875,120.93508911132812,116.02536010742188,116.10706329345703,119.71922302246094,117.15147399902344,119.28435516357422,125.90916442871094,126.2005386352539,130.88912963867188,136.0919189453125,139.8391876220703,133.2917938232422,132.207275390625,127.01783752441406,125.48997497558594,122.43115234375,125.41287994384766,125.55868530273438,122.52436065673828,115.93034362792969,108.14495849609375,98.90641021728516,92.26507568359375,84.3258056640625,79.53842163085938,76.50516510009766,75.41741943359375,74.07025146484375,73.1810073852539,72.50634765625,71.7148208618164,73.30047607421875,73.56293487548828,74.95538330078125,73.60899353027344,70.49420928955078,67.68624877929688,67.7854995727539,68.59645080566406,72.01426696777344,79.21147155761719,87.29827880859375,93.51634979248047,102.53924560546875,106.8524169921875,111.39278411865234,113.4124984741211,109.63456726074219,111.25265502929688,115.98147583007812,117.39620971679688,120.44833374023438,130.556396484375,136.771240234375,125.77943420410156,118.60099792480469,109.72749328613281,97.87876892089844,90.62550354003906,90.80958557128906,99.49211120605469,102.16029357910156,106.81947326660156,107.25645446777344,103.14202117919922,99.47390747070312,102.34367370605469,105.50204467773438,116.27507019042969,130.94691467285156,146.2034912109375,164.490478515625,175.52334594726562,180.53475952148438,185.77059936523438,182.91087341308594,183.05984497070312,184.75039672851562,182.89117431640625,162.2762451171875,140.42453002929688,124.93511962890625,92.82295227050781,68.89827728271484,61.45015335083008,56.319908142089844,50.374168395996094,50.68962097167969,54.06052017211914,57.59695816040039,59.66567611694336,59.44392013549805,63.374839782714844,63.032630920410156,61.59014129638672,67.4570083618164,72.93094635009766,84.72923278808594,91.08323669433594,99.52593994140625,103.32120513916016,103.03170013427734,96.07736206054688,92.15170288085938,87.24310302734375,81.16644287109375,77.01638793945312,73.29103088378906,70.04463195800781,65.25161743164062,62.78152084350586,61.154823303222656,63.459129333496094,64.11775207519531,72.3629150390625,78.30120086669922,81.99456787109375,81.0365982055664,84.01200866699219,78.24372863769531,74.67111206054688,74.74208068847656,77.94671630859375,79.2850112915039,78.36536407470703,79.93017578125,78.65818786621094,75.94921875,71.55811309814453,68.3866958618164,66.24015808105469,63.938846588134766,63.21500015258789,64.0235595703125,63.77739715576172,65.65532684326172,66.1324691772461,66.22196960449219,67.3183822631836,67.75048828125,67.95256042480469,69.43321228027344,70.10733032226562,70.0111083984375,69.87896728515625,69.80921173095703,69.8038558959961,71.20027923583984,71.65209197998047,71.90185546875,70.25856018066406,68.61046600341797,67.71908569335938,67.82081604003906,66.78459167480469,67.11152648925781,67.04703521728516,67.41915893554688,68.10244750976562,68.47528076171875,69.7578125,70.43083953857422,73.15541076660156,74.79443359375,76.52813720703125,78.27790832519531,82.34395599365234,82.5482177734375,83.07284545898438,87.03008270263672,90.88517761230469,92.78407287597656,93.73345184326172,97.44523620605469,96.42989349365234,96.57099151611328,96.24362182617188,98.63703918457031,98.10958862304688,95.19200897216797,92.16783905029297,88.95429229736328,86.52984619140625,87.18516540527344,86.43653869628906,88.21635437011719,92.3766860961914,92.22476959228516,93.95759582519531,97.17227172851562,98.85542297363281,99.82295227050781,100.96403503417969,101.38069152832031,103.69819641113281,104.54286193847656,101.09750366210938,102.26659393310547,100.58969116210938,101.85708618164062,98.99850463867188,99.96405029296875,96.61665344238281,97.14401245117188,96.992919921875,97.0799331665039,96.77592468261719,95.99484252929688,97.67051696777344,96.02054595947266,95.2877197265625,95.84014892578125,95.01502990722656,95.03145599365234,95.12743377685547,95.46815490722656,93.84002685546875,94.1732177734375,91.32894134521484,89.89924621582031,87.60258483886719,86.85904693603516,85.76094055175781,85.51692199707031,84.59314727783203,83.68495178222656,82.6099853515625,83.61380767822266,83.70643615722656,84.00759887695312,83.90528869628906,85.86065673828125,86.90386962890625,88.3121337890625,89.97329711914062,91.53785705566406,92.32920837402344,92.17610931396484,93.08450317382812,91.49040222167969,91.91572570800781,92.22684478759766,92.38265991210938,92.93763732910156,92.67681121826172,93.37031555175781,92.5367431640625,94.7457504272461,94.97649383544922,96.70343780517578,97.07786560058594,96.77400207519531,95.95631408691406,94.78364562988281,94.29341125488281,94.56303405761719,97.4157943725586,99.80888366699219,100.15203094482422,101.35107421875,100.28424072265625,101.34535217285156,101.85662841796875,102.39981079101562,103.7298355102539,109.90962219238281,113.17756652832031,115.98404693603516,117.18582916259766,118.45146179199219,119.09874725341797,122.20928955078125,122.89147186279297,123.21343994140625,126.13117218017578,128.95004272460938,132.10870361328125,131.92861938476562,132.1405029296875,133.6247100830078,133.64451599121094,135.22146606445312,142.15911865234375,145.4830322265625,150.78244018554688,153.84170532226562,157.84454345703125,162.3162841796875,170.86502075195312,174.3458251953125,177.24041748046875,180.8990478515625,178.88897705078125,182.01388549804688,185.577880859375,186.97840881347656,186.0043487548828,187.47564697265625,187.2402801513672,178.49099731445312,172.95529174804688,167.12820434570312,161.76673889160156,152.52001953125,149.69859313964844,143.6078338623047,146.32839965820312,142.92959594726562,133.31857299804688,132.87966918945312,126.34476470947266,122.87428283691406,124.45596313476562,123.54360961914062,127.81892395019531,132.95045471191406,136.6370086669922,135.35626220703125,140.68685913085938,145.8755645751953,151.16778564453125,153.40487670898438,159.16293334960938,171.71148681640625,173.0258026123047,172.50064086914062,171.0220947265625,176.81494140625,185.44796752929688,188.32861328125,181.77395629882812,179.81820678710938,165.62741088867188,156.05462646484375,145.22955322265625,136.81802368164062,134.7926025390625,140.0138702392578,137.85227966308594,138.12091064453125,141.78135681152344,139.375244140625,140.29847717285156,143.24441528320312,144.25173950195312,151.09280395507812,150.23329162597656,155.08151245117188,156.97047424316406,158.65182495117188,155.49050903320312,154.2764892578125,156.2096405029297,158.37741088867188,159.29827880859375,165.27020263671875,170.12051391601562,175.97006225585938,178.2086639404297,180.82940673828125,174.45965576171875,175.71995544433594,178.2162322998047,182.06100463867188,178.98341369628906,170.64010620117188,168.603515625,177.56103515625,173.40371704101562,171.91737365722656,187.07965087890625,181.1398162841797,179.97903442382812,185.00991821289062,177.92840576171875,186.50714111328125,185.3892822265625,186.015380859375,187.4341278076172,187.136962890625,187.57611083984375,184.23641967773438,180.95619201660156,174.27438354492188,178.70458984375,169.0494384765625,176.17623901367188,181.40322875976562,184.5709686279297,176.6023406982422,177.66232299804688,172.26107788085938,155.50350952148438,145.20819091796875,124.97232055664062,122.25330352783203,108.98399353027344,101.99281311035156,100.42636108398438,94.81837463378906,96.44300842285156,98.86283111572266,96.61178588867188,100.28561401367188,97.9756851196289,94.33439636230469,89.64342498779297,79.78195190429688,81.10554504394531,78.12324523925781,73.64934539794922,77.27397155761719,81.5667495727539,84.8492431640625,84.30931854248047,75.84716796875,76.02117919921875,72.27005767822266,69.85895538330078,65.79383850097656,65.11512756347656,64.73613739013672,61.87346649169922,62.23224639892578,61.64326858520508,64.94329071044922,63.777099609375,66.57494354248047,64.89109802246094,66.845947265625,66.39091491699219,67.85926055908203,66.82467651367188,68.49984741210938,70.26722717285156,70.48756408691406,67.18569946289062,69.37892150878906,68.7379150390625,67.70513916015625,66.31367492675781,66.17082977294922,68.45205688476562,73.26853942871094,71.89602661132812,73.23431396484375,72.23958587646484,75.78663635253906,69.7701644897461,73.71253967285156,68.64656066894531,71.61820220947266,70.48074340820312,65.2114486694336,60.66978073120117,57.7414436340332,63.94865417480469,65.37248229980469,69.97569274902344,75.60696411132812,80.29266357421875,82.45596313476562,85.65457153320312,91.3511734008789,92.01913452148438,93.37837219238281,86.80436706542969,95.613037109375,98.80085754394531,96.23197937011719,91.61392211914062,104.21080017089844,102.33901977539062,95.40398406982422,101.35700988769531,102.67113494873047,91.9690170288086,99.57256317138672,105.94461059570312,109.26827239990234,103.13404083251953,105.7130355834961,101.383056640625,106.81805419921875,106.07420349121094,115.19239807128906,119.36534881591797,124.76072692871094,132.99447631835938,134.14898681640625,134.540283203125,131.08660888671875,142.57638549804688,141.34371948242188,145.98745727539062,143.00082397460938,144.5653076171875,156.73654174804688,160.19635009765625,147.61788940429688,156.70150756835938,140.94509887695312,125.4420166015625,134.76870727539062,131.2115020751953,125.63412475585938,119.04914855957031,128.12191772460938,112.29547119140625,134.4646759033203,137.775146484375,141.33389282226562,145.9808349609375,117.06376647949219,133.625732421875,126.53287506103516,111.90115356445312,121.882080078125,112.96478271484375,119.79521179199219,123.77787780761719,120.83517456054688,108.89107513427734,98.18850708007812,113.13339233398438,94.39252471923828,91.48746490478516,97.95317840576172,93.64749145507812,85.43527221679688,96.95350646972656,101.30506896972656,94.64289855957031,96.70509338378906,107.11083984375,94.67767333984375,88.18238830566406,80.05970764160156,74.94047546386719,72.8887710571289,74.50873565673828,71.8901596069336,62.02109146118164,62.549461364746094,56.995849609375,69.93480682373047,63.814208984375,57.958946228027344,71.50045013427734,71.23191833496094,67.85234069824219,67.68815612792969,68.05928802490234,56.935916900634766,59.44074630737305,68.89312744140625,70.95886993408203,60.423736572265625,62.924949645996094,59.67341613769531,71.60054016113281,69.14378356933594,55.766109466552734,57.428497314453125,62.830352783203125,58.66744613647461,51.263343811035156,54.01850891113281,68.36337280273438,63.18792724609375,76.09355163574219,80.14163208007812,71.46595764160156,79.31529998779297,64.81560516357422,79.17157745361328,89.01588439941406,82.82695007324219,84.36042785644531,79.94096374511719,75.58799743652344,68.41839599609375,80.72203063964844,73.32305908203125,71.4770278930664,82.75877380371094,73.19692993164062,73.20310974121094,80.86865997314453,57.128055572509766,65.18756103515625,49.81769561767578,50.50966262817383,37.163570404052734,39.516300201416016,36.5897216796875,34.70586395263672,31.448062896728516,29.441076278686523,28.017593383789062,30.67326545715332,32.614402770996094,35.713932037353516,38.44961929321289,37.032623291015625,42.20802307128906,42.298728942871094,44.36575698852539,46.864463806152344,45.627647399902344,47.73705291748047,42.51373291015625,48.42405700683594,45.347476959228516,48.058135986328125,41.92390060424805,39.99567413330078,43.6730842590332,42.37153625488281,50.63508605957031,45.911956787109375,33.82271957397461,39.46043395996094,33.453208923339844,27.61160659790039,25.155248641967773,28.39048957824707,36.30112075805664,28.70073127746582,35.55370330810547,27.318225860595703,32.669654846191406,32.4420166015625,29.707653045654297,21.924116134643555,22.663532257080078,27.641014099121094,21.182636260986328,23.274089813232422,22.99331283569336,21.065505981445312,22.392845153808594,20.351688385009766,16.622331619262695,20.352338790893555,19.329845428466797,20.111906051635742,17.121807098388672,17.64703941345215,22.360763549804688,21.55843734741211,19.687105178833008,24.926593780517578,25.071800231933594,26.844240188598633,26.876623153686523,24.116661071777344,20.780778884887695,29.122459411621094,28.148014068603516,24.337202072143555,27.469566345214844,26.809892654418945,20.71419334411621,25.764144897460938,22.936450958251953,23.354999542236328,22.718730926513672,23.534515380859375,23.439149856567383,24.44470977783203,23.083255767822266,23.051422119140625,22.7310848236084,21.23088264465332,18.20686912536621,19.69440460205078,18.760887145996094,17.926898956298828,18.098560333251953,18.76287841796875,20.785547256469727,21.562541961669922,24.71826934814453,21.80242156982422,21.437278747558594,19.51488494873047,21.682645797729492,20.224563598632812,18.196094512939453,19.550077438354492,18.77621078491211,21.072607040405273,22.02832794189453,18.735824584960938,20.612796783447266,21.232349395751953,20.571975708007812,21.64920997619629,24.834732055664062,16.857620239257812,16.365196228027344,25.482410430908203,15.392775535583496,13.795119285583496,12.625532150268555,12.452624320983887,12.542954444885254,11.244059562683105,11.996997833251953,11.563765525817871,11.892501831054688,15.062081336975098,14.306639671325684,13.013534545898438,13.504125595092773,13.516952514648438,12.387857437133789,15.968040466308594,11.671451568603516,15.554943084716797,11.738554000854492,12.764615058898926,13.091695785522461,18.93224334716797,14.724687576293945,21.406091690063477,11.891258239746094,12.880175590515137,13.082075119018555,17.381513595581055,11.730722427368164,14.287027359008789,16.07647705078125,13.477874755859375,14.373361587524414,14.07250690460205,16.182418823242188,19.12732696533203,23.08441925048828,20.230897903442383,30.641618728637695,29.05221939086914,23.553342819213867,23.377225875854492,22.9644775390625,27.098018646240234,20.6368408203125,24.925636291503906,20.601520538330078,23.350971221923828,25.55401611328125,27.037395477294922,38.72676086425781,39.213748931884766,47.24246597290039,59.468414306640625,63.327796936035156,72.04939270019531,88.62342834472656,76.76925659179688,71.79570007324219,78.2449722290039,67.08552551269531,66.93110656738281,73.07620239257812,72.26705169677734,60.35591506958008,57.69218063354492,55.15837478637695,56.19053649902344,46.78311538696289,46.227699279785156,42.76168441772461,42.0125617980957,50.24517822265625,37.731109619140625,36.79846954345703,33.17049026489258,33.601287841796875,27.368549346923828,33.876976013183594,29.130062103271484,28.77918243408203,31.307390213012695,34.80702209472656,39.13703536987305,40.46656799316406,56.903541564941406,47.546409606933594,48.227203369140625,47.47842025756836,50.579017639160156,46.57025146484375,48.53964614868164,48.93147277832031,51.45289993286133,50.30054473876953,58.216514587402344,54.34119415283203,62.528778076171875,56.44810104370117,60.22819900512695,62.73339080810547,66.18722534179688,67.48153686523438,76.6756362915039,70.45223999023438,74.1468276977539,80.14692687988281,83.23680114746094,85.0792007446289,79.04249572753906,80.32121276855469,80.3096694946289,83.89772033691406,79.75814819335938,67.30014038085938,71.7108154296875,70.70001983642578,76.50809478759766,69.80072784423828,71.82107543945312,74.65454864501953,73.05313873291016,66.93421936035156,68.50767517089844,66.43687438964844,70.3705062866211,74.99008178710938,79.42924499511719,88.10413360595703,84.51548767089844,86.44458770751953,88.88298034667969,78.37686157226562,69.87614440917969,63.09605026245117,65.50875854492188,55.845157623291016,50.0035285949707,48.87171173095703,47.32538604736328,49.43465042114258,43.98130416870117,45.644596099853516,43.80720520019531,40.75856018066406,39.68846130371094,39.78359603881836,42.49818801879883,41.94579315185547,44.682395935058594,46.192893981933594,45.488441467285156,46.65018081665039,47.53386306762695,53.229461669921875,48.99839782714844,48.03461456298828,46.45575714111328,49.91947937011719,48.77332305908203,49.52415466308594,49.67719650268555,51.09245300292969,50.91116714477539,50.63676452636719,52.678165435791016,55.413936614990234,57.888160705566406,62.065338134765625,66.9777603149414,70.43985748291016,72.5201416015625,73.67182159423828,72.58120727539062,71.76924896240234,72.43778228759766,72.45245361328125,74.14685821533203,77.37437438964844,81.38416290283203,81.31953430175781,80.94429779052734,79.10038757324219,76.47457885742188,73.53016662597656,71.11174011230469,70.00122833251953,71.6808853149414,71.57184600830078,76.15547180175781,77.42189025878906,78.20285034179688,72.97589874267578,75.34552764892578],\"type\":\"scatter\"}],                        {\"template\":{\"data\":{\"histogram2dcontour\":[{\"type\":\"histogram2dcontour\",\"colorbar\":{\"outlinewidth\":0,\"ticks\":\"\"},\"colorscale\":[[0.0,\"#0d0887\"],[0.1111111111111111,\"#46039f\"],[0.2222222222222222,\"#7201a8\"],[0.3333333333333333,\"#9c179e\"],[0.4444444444444444,\"#bd3786\"],[0.5555555555555556,\"#d8576b\"],[0.6666666666666666,\"#ed7953\"],[0.7777777777777778,\"#fb9f3a\"],[0.8888888888888888,\"#fdca26\"],[1.0,\"#f0f921\"]]}],\"choropleth\":[{\"type\":\"choropleth\",\"colorbar\":{\"outlinewidth\":0,\"ticks\":\"\"}}],\"histogram2d\":[{\"type\":\"histogram2d\",\"colorbar\":{\"outlinewidth\":0,\"ticks\":\"\"},\"colorscale\":[[0.0,\"#0d0887\"],[0.1111111111111111,\"#46039f\"],[0.2222222222222222,\"#7201a8\"],[0.3333333333333333,\"#9c179e\"],[0.4444444444444444,\"#bd3786\"],[0.5555555555555556,\"#d8576b\"],[0.6666666666666666,\"#ed7953\"],[0.7777777777777778,\"#fb9f3a\"],[0.8888888888888888,\"#fdca26\"],[1.0,\"#f0f921\"]]}],\"heatmap\":[{\"type\":\"heatmap\",\"colorbar\":{\"outlinewidth\":0,\"ticks\":\"\"},\"colorscale\":[[0.0,\"#0d0887\"],[0.1111111111111111,\"#46039f\"],[0.2222222222222222,\"#7201a8\"],[0.3333333333333333,\"#9c179e\"],[0.4444444444444444,\"#bd3786\"],[0.5555555555555556,\"#d8576b\"],[0.6666666666666666,\"#ed7953\"],[0.7777777777777778,\"#fb9f3a\"],[0.8888888888888888,\"#fdca26\"],[1.0,\"#f0f921\"]]}],\"heatmapgl\":[{\"type\":\"heatmapgl\",\"colorbar\":{\"outlinewidth\":0,\"ticks\":\"\"},\"colorscale\":[[0.0,\"#0d0887\"],[0.1111111111111111,\"#46039f\"],[0.2222222222222222,\"#7201a8\"],[0.3333333333333333,\"#9c179e\"],[0.4444444444444444,\"#bd3786\"],[0.5555555555555556,\"#d8576b\"],[0.6666666666666666,\"#ed7953\"],[0.7777777777777778,\"#fb9f3a\"],[0.8888888888888888,\"#fdca26\"],[1.0,\"#f0f921\"]]}],\"contourcarpet\":[{\"type\":\"contourcarpet\",\"colorbar\":{\"outlinewidth\":0,\"ticks\":\"\"}}],\"contour\":[{\"type\":\"contour\",\"colorbar\":{\"outlinewidth\":0,\"ticks\":\"\"},\"colorscale\":[[0.0,\"#0d0887\"],[0.1111111111111111,\"#46039f\"],[0.2222222222222222,\"#7201a8\"],[0.3333333333333333,\"#9c179e\"],[0.4444444444444444,\"#bd3786\"],[0.5555555555555556,\"#d8576b\"],[0.6666666666666666,\"#ed7953\"],[0.7777777777777778,\"#fb9f3a\"],[0.8888888888888888,\"#fdca26\"],[1.0,\"#f0f921\"]]}],\"surface\":[{\"type\":\"surface\",\"colorbar\":{\"outlinewidth\":0,\"ticks\":\"\"},\"colorscale\":[[0.0,\"#0d0887\"],[0.1111111111111111,\"#46039f\"],[0.2222222222222222,\"#7201a8\"],[0.3333333333333333,\"#9c179e\"],[0.4444444444444444,\"#bd3786\"],[0.5555555555555556,\"#d8576b\"],[0.6666666666666666,\"#ed7953\"],[0.7777777777777778,\"#fb9f3a\"],[0.8888888888888888,\"#fdca26\"],[1.0,\"#f0f921\"]]}],\"mesh3d\":[{\"type\":\"mesh3d\",\"colorbar\":{\"outlinewidth\":0,\"ticks\":\"\"}}],\"scatter\":[{\"fillpattern\":{\"fillmode\":\"overlay\",\"size\":10,\"solidity\":0.2},\"type\":\"scatter\"}],\"parcoords\":[{\"type\":\"parcoords\",\"line\":{\"colorbar\":{\"outlinewidth\":0,\"ticks\":\"\"}}}],\"scatterpolargl\":[{\"type\":\"scatterpolargl\",\"marker\":{\"colorbar\":{\"outlinewidth\":0,\"ticks\":\"\"}}}],\"bar\":[{\"error_x\":{\"color\":\"#2a3f5f\"},\"error_y\":{\"color\":\"#2a3f5f\"},\"marker\":{\"line\":{\"color\":\"#E5ECF6\",\"width\":0.5},\"pattern\":{\"fillmode\":\"overlay\",\"size\":10,\"solidity\":0.2}},\"type\":\"bar\"}],\"scattergeo\":[{\"type\":\"scattergeo\",\"marker\":{\"colorbar\":{\"outlinewidth\":0,\"ticks\":\"\"}}}],\"scatterpolar\":[{\"type\":\"scatterpolar\",\"marker\":{\"colorbar\":{\"outlinewidth\":0,\"ticks\":\"\"}}}],\"histogram\":[{\"marker\":{\"pattern\":{\"fillmode\":\"overlay\",\"size\":10,\"solidity\":0.2}},\"type\":\"histogram\"}],\"scattergl\":[{\"type\":\"scattergl\",\"marker\":{\"colorbar\":{\"outlinewidth\":0,\"ticks\":\"\"}}}],\"scatter3d\":[{\"type\":\"scatter3d\",\"line\":{\"colorbar\":{\"outlinewidth\":0,\"ticks\":\"\"}},\"marker\":{\"colorbar\":{\"outlinewidth\":0,\"ticks\":\"\"}}}],\"scattermapbox\":[{\"type\":\"scattermapbox\",\"marker\":{\"colorbar\":{\"outlinewidth\":0,\"ticks\":\"\"}}}],\"scatterternary\":[{\"type\":\"scatterternary\",\"marker\":{\"colorbar\":{\"outlinewidth\":0,\"ticks\":\"\"}}}],\"scattercarpet\":[{\"type\":\"scattercarpet\",\"marker\":{\"colorbar\":{\"outlinewidth\":0,\"ticks\":\"\"}}}],\"carpet\":[{\"aaxis\":{\"endlinecolor\":\"#2a3f5f\",\"gridcolor\":\"white\",\"linecolor\":\"white\",\"minorgridcolor\":\"white\",\"startlinecolor\":\"#2a3f5f\"},\"baxis\":{\"endlinecolor\":\"#2a3f5f\",\"gridcolor\":\"white\",\"linecolor\":\"white\",\"minorgridcolor\":\"white\",\"startlinecolor\":\"#2a3f5f\"},\"type\":\"carpet\"}],\"table\":[{\"cells\":{\"fill\":{\"color\":\"#EBF0F8\"},\"line\":{\"color\":\"white\"}},\"header\":{\"fill\":{\"color\":\"#C8D4E3\"},\"line\":{\"color\":\"white\"}},\"type\":\"table\"}],\"barpolar\":[{\"marker\":{\"line\":{\"color\":\"#E5ECF6\",\"width\":0.5},\"pattern\":{\"fillmode\":\"overlay\",\"size\":10,\"solidity\":0.2}},\"type\":\"barpolar\"}],\"pie\":[{\"automargin\":true,\"type\":\"pie\"}]},\"layout\":{\"autotypenumbers\":\"strict\",\"colorway\":[\"#636efa\",\"#EF553B\",\"#00cc96\",\"#ab63fa\",\"#FFA15A\",\"#19d3f3\",\"#FF6692\",\"#B6E880\",\"#FF97FF\",\"#FECB52\"],\"font\":{\"color\":\"#2a3f5f\"},\"hovermode\":\"closest\",\"hoverlabel\":{\"align\":\"left\"},\"paper_bgcolor\":\"white\",\"plot_bgcolor\":\"#E5ECF6\",\"polar\":{\"bgcolor\":\"#E5ECF6\",\"angularaxis\":{\"gridcolor\":\"white\",\"linecolor\":\"white\",\"ticks\":\"\"},\"radialaxis\":{\"gridcolor\":\"white\",\"linecolor\":\"white\",\"ticks\":\"\"}},\"ternary\":{\"bgcolor\":\"#E5ECF6\",\"aaxis\":{\"gridcolor\":\"white\",\"linecolor\":\"white\",\"ticks\":\"\"},\"baxis\":{\"gridcolor\":\"white\",\"linecolor\":\"white\",\"ticks\":\"\"},\"caxis\":{\"gridcolor\":\"white\",\"linecolor\":\"white\",\"ticks\":\"\"}},\"coloraxis\":{\"colorbar\":{\"outlinewidth\":0,\"ticks\":\"\"}},\"colorscale\":{\"sequential\":[[0.0,\"#0d0887\"],[0.1111111111111111,\"#46039f\"],[0.2222222222222222,\"#7201a8\"],[0.3333333333333333,\"#9c179e\"],[0.4444444444444444,\"#bd3786\"],[0.5555555555555556,\"#d8576b\"],[0.6666666666666666,\"#ed7953\"],[0.7777777777777778,\"#fb9f3a\"],[0.8888888888888888,\"#fdca26\"],[1.0,\"#f0f921\"]],\"sequentialminus\":[[0.0,\"#0d0887\"],[0.1111111111111111,\"#46039f\"],[0.2222222222222222,\"#7201a8\"],[0.3333333333333333,\"#9c179e\"],[0.4444444444444444,\"#bd3786\"],[0.5555555555555556,\"#d8576b\"],[0.6666666666666666,\"#ed7953\"],[0.7777777777777778,\"#fb9f3a\"],[0.8888888888888888,\"#fdca26\"],[1.0,\"#f0f921\"]],\"diverging\":[[0,\"#8e0152\"],[0.1,\"#c51b7d\"],[0.2,\"#de77ae\"],[0.3,\"#f1b6da\"],[0.4,\"#fde0ef\"],[0.5,\"#f7f7f7\"],[0.6,\"#e6f5d0\"],[0.7,\"#b8e186\"],[0.8,\"#7fbc41\"],[0.9,\"#4d9221\"],[1,\"#276419\"]]},\"xaxis\":{\"gridcolor\":\"white\",\"linecolor\":\"white\",\"ticks\":\"\",\"title\":{\"standoff\":15},\"zerolinecolor\":\"white\",\"automargin\":true,\"zerolinewidth\":2},\"yaxis\":{\"gridcolor\":\"white\",\"linecolor\":\"white\",\"ticks\":\"\",\"title\":{\"standoff\":15},\"zerolinecolor\":\"white\",\"automargin\":true,\"zerolinewidth\":2},\"scene\":{\"xaxis\":{\"backgroundcolor\":\"#E5ECF6\",\"gridcolor\":\"white\",\"linecolor\":\"white\",\"showbackground\":true,\"ticks\":\"\",\"zerolinecolor\":\"white\",\"gridwidth\":2},\"yaxis\":{\"backgroundcolor\":\"#E5ECF6\",\"gridcolor\":\"white\",\"linecolor\":\"white\",\"showbackground\":true,\"ticks\":\"\",\"zerolinecolor\":\"white\",\"gridwidth\":2},\"zaxis\":{\"backgroundcolor\":\"#E5ECF6\",\"gridcolor\":\"white\",\"linecolor\":\"white\",\"showbackground\":true,\"ticks\":\"\",\"zerolinecolor\":\"white\",\"gridwidth\":2}},\"shapedefaults\":{\"line\":{\"color\":\"#2a3f5f\"}},\"annotationdefaults\":{\"arrowcolor\":\"#2a3f5f\",\"arrowhead\":0,\"arrowwidth\":1},\"geo\":{\"bgcolor\":\"white\",\"landcolor\":\"#E5ECF6\",\"subunitcolor\":\"white\",\"showland\":true,\"showlakes\":true,\"lakecolor\":\"white\"},\"title\":{\"x\":0.05},\"mapbox\":{\"style\":\"light\"}}}},                        {\"responsive\": true}                    ).then(function(){\n                            \nvar gd = document.getElementById('5fef456e-543a-4f37-9fdc-cf2034852df6');\nvar x = new MutationObserver(function (mutations, observer) {{\n        var display = window.getComputedStyle(gd).display;\n        if (!display || display === 'none') {{\n            console.log([gd, 'removed!']);\n            Plotly.purge(gd);\n            observer.disconnect();\n        }}\n}});\n\n// Listen for the removal of the full notebook cells\nvar notebookContainer = gd.closest('#notebook-container');\nif (notebookContainer) {{\n    x.observe(notebookContainer, {childList: true});\n}}\n\n// Listen for the clearing of the current output cell\nvar outputEl = gd.closest('.output');\nif (outputEl) {{\n    x.observe(outputEl, {childList: true});\n}}\n\n                        })                };                });            </script>        </div>"
     },
     "metadata": {},
     "output_type": "display_data"
    }
   ],
   "source": [
    "print(ls.__len__())\n",
    "trace = dict(\n",
    "    # x = np.linspace(0, len(ls), 1),\n",
    "    y = np.array(ls),\n",
    "    mode = \"lines\",\n",
    "    name = \"loss\"\n",
    ")\n",
    "fig = go.Figure(trace)\n",
    "fig.show()\n"
   ],
   "metadata": {
    "collapsed": false,
    "pycharm": {
     "name": "#%%\n"
    }
   }
  }
 ],
 "metadata": {
  "kernelspec": {
   "name": "python3",
   "language": "python",
   "display_name": "Python 3 (ipykernel)"
  },
  "language_info": {
   "codemirror_mode": {
    "name": "ipython",
    "version": 2
   },
   "file_extension": ".py",
   "mimetype": "text/x-python",
   "name": "python",
   "nbconvert_exporter": "python",
   "pygments_lexer": "ipython2",
   "version": "2.7.6"
  }
 },
 "nbformat": 4,
 "nbformat_minor": 0
}