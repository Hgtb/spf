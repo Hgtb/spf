{
 "cells": [
  {
   "cell_type": "code",
   "execution_count": 1,
   "metadata": {
    "collapsed": true
   },
   "outputs": [
    {
     "name": "stdout",
     "output_type": "stream",
     "text": [
      "        ts_code trade_date       open       high        low      close  \\\n",
      "0     000001.SZ   20220318  1607.1856  1662.0268  1582.5629  1645.2387   \n",
      "1     000001.SZ   20220317  1640.7619  1646.3579  1593.7550  1617.2585   \n",
      "2     000001.SZ   20220316  1551.2251  1611.6624  1512.0527  1601.5895   \n",
      "3     000001.SZ   20220315  1611.6624  1611.6624  1522.1256  1531.0793   \n",
      "4     000001.SZ   20220314  1637.4042  1670.9805  1617.2585  1621.7353   \n",
      "...         ...        ...        ...        ...        ...        ...   \n",
      "2891  000001.SZ   20100108   807.8850   816.8615   802.4991   811.4756   \n",
      "2892  000001.SZ   20100107   822.2474   827.6333   804.2944   813.2709   \n",
      "2893  000001.SZ   20100106   834.8145   834.8145   815.7843   822.2474   \n",
      "2894  000001.SZ   20100105   852.7675   858.1534   816.8615   836.6098   \n",
      "2895  000001.SZ   20100104   880.4151   882.5695   850.2541   851.3313   \n",
      "\n",
      "      pre_close   change  pct_chg         vol        amount  \n",
      "0     1617.2585  27.9802   1.7301  1528807.13  2.222159e+06  \n",
      "1     1601.5895  15.6690   0.9783  1730061.42  2.506504e+06  \n",
      "2     1531.0793  70.5102   4.6053  1531779.06  2.141637e+06  \n",
      "3     1621.7353 -90.6560  -5.5901  1781408.87  2.479770e+06  \n",
      "4     1667.6229 -45.8876  -2.7517  1118407.34  1.637278e+06  \n",
      "...         ...      ...      ...         ...           ...  \n",
      "2891   813.2709  -1.7953  -0.2208   288543.06  6.506674e+05  \n",
      "2892   822.2474  -8.9765  -1.0917   355336.85  8.041663e+05  \n",
      "2893   836.6098 -14.3624  -1.7167   412143.13  9.444537e+05  \n",
      "2894   851.3313 -14.7215  -1.7292   556499.82  1.293477e+06  \n",
      "2895   875.0292 -23.6979  -2.7082   241922.76  5.802495e+05  \n",
      "\n",
      "[2896 rows x 11 columns]\n"
     ]
    }
   ],
   "source": [
    "import numpy as np\n",
    "import tushare as ts\n",
    "import pandas as pd\n",
    "from functions import *\n",
    "Token = \"b54bfb5fc70a78e4962b8c55911b93a0a4ddd4c764115aeee3c301a3\"\n",
    "ts.set_token(Token)\n",
    "pro = ts.pro_api()\n",
    "wait = FrequencyLimitation()\n",
    "\n",
    "df = ts.pro_bar(ts_code=\"000001.SZ\", start_date=\"20100104\", adj=\"hfq\")\n",
    "# df = df[::-1]\n",
    "print(df)\n",
    "df.to_csv(\"hfq.csv\", index=False)"
   ]
  },
  {
   "cell_type": "code",
   "execution_count": 2,
   "outputs": [
    {
     "name": "stdout",
     "output_type": "stream",
     "text": [
      "        ts_code trade_date  adj_factor\n",
      "0     000001.SZ   20220318     111.921\n",
      "1     000001.SZ   20220317     111.921\n",
      "2     000001.SZ   20220316     111.921\n",
      "3     000001.SZ   20220315     111.921\n",
      "4     000001.SZ   20220314     111.921\n",
      "...         ...        ...         ...\n",
      "2961  000001.SZ   20100108      35.906\n",
      "2962  000001.SZ   20100107      35.906\n",
      "2963  000001.SZ   20100106      35.906\n",
      "2964  000001.SZ   20100105      35.906\n",
      "2965  000001.SZ   20100104      35.906\n",
      "\n",
      "[2966 rows x 3 columns]\n",
      "        ts_code trade_date   open   high    low  close  pre_close  change  \\\n",
      "0     000001.SZ   20220318  14.36  14.85  14.14  14.70      14.45    0.25   \n",
      "1     000001.SZ   20220317  14.66  14.71  14.24  14.45      14.31    0.14   \n",
      "2     000001.SZ   20220316  13.86  14.40  13.51  14.31      13.68    0.63   \n",
      "3     000001.SZ   20220315  14.40  14.40  13.60  13.68      14.49   -0.81   \n",
      "4     000001.SZ   20220314  14.63  14.93  14.45  14.49      14.90   -0.41   \n",
      "...         ...        ...    ...    ...    ...    ...        ...     ...   \n",
      "2891  000001.SZ   20100108  22.50  22.75  22.35  22.60      22.65   -0.05   \n",
      "2892  000001.SZ   20100107  22.90  23.05  22.40  22.65      22.90   -0.25   \n",
      "2893  000001.SZ   20100106  23.25  23.25  22.72  22.90      23.30   -0.40   \n",
      "2894  000001.SZ   20100105  23.75  23.90  22.75  23.30      23.71   -0.41   \n",
      "2895  000001.SZ   20100104  24.52  24.58  23.68  23.71      24.37   -0.66   \n",
      "\n",
      "      pct_chg         vol        amount  \n",
      "0      1.7301  1528807.13  2.222159e+06  \n",
      "1      0.9783  1730061.42  2.506504e+06  \n",
      "2      4.6053  1531779.06  2.141637e+06  \n",
      "3     -5.5901  1781408.87  2.479770e+06  \n",
      "4     -2.7517  1118407.34  1.637278e+06  \n",
      "...       ...         ...           ...  \n",
      "2891  -0.2200   288543.06  6.506674e+05  \n",
      "2892  -1.0900   355336.85  8.041663e+05  \n",
      "2893  -1.7200   412143.13  9.444537e+05  \n",
      "2894  -1.7300   556499.82  1.293477e+06  \n",
      "2895  -2.7100   241922.76  5.802495e+05  \n",
      "\n",
      "[2896 rows x 11 columns]\n"
     ]
    }
   ],
   "source": [
    "df_basic = pro.adj_factor(ts_code='000001.SZ', start_date = \"20100104\")\n",
    "df_basicData = pro.daily(ts_code=\"000001.SZ\", start_date=\"20100104\")\n",
    "print(df_basic)\n",
    "print(df_basicData)\n",
    "df_basic.to_csv(\"basic.csv\", index=False)\n",
    "df_basicData.to_csv(\"basicData.csv\", index=False)"
   ],
   "metadata": {
    "collapsed": false,
    "pycharm": {
     "name": "#%%\n"
    }
   }
  },
  {
   "cell_type": "code",
   "execution_count": 3,
   "outputs": [],
   "source": [
    "\n",
    "# def printf(VariableName:str):\n",
    "#     print(\"Variable Name : \", VariableName)\n",
    "#     print(\"Variable Type : \", type(eval(VariableName)))\n",
    "#     print(\"Variable Data : \\n\", eval(VariableName))\n",
    "# test_Variable = 193\n",
    "# printf(\"test_Variable\")"
   ],
   "metadata": {
    "collapsed": false,
    "pycharm": {
     "name": "#%%\n"
    }
   }
  },
  {
   "cell_type": "code",
   "execution_count": 4,
   "outputs": [
    {
     "name": "stdout",
     "output_type": "stream",
     "text": [
      "Variable Name :  df1\n",
      "Variable Type :  <class 'pandas.core.frame.DataFrame'>\n",
      "Variable Data : \n",
      "        open   high    low  close  pre_close  change\n",
      "0     14.36  14.85  14.14  14.70      14.45    0.25\n",
      "1     14.66  14.71  14.24  14.45      14.31    0.14\n",
      "2     13.86  14.40  13.51  14.31      13.68    0.63\n",
      "3     14.40  14.40  13.60  13.68      14.49   -0.81\n",
      "4     14.63  14.93  14.45  14.49      14.90   -0.41\n",
      "...     ...    ...    ...    ...        ...     ...\n",
      "2891  22.50  22.75  22.35  22.60      22.65   -0.05\n",
      "2892  22.90  23.05  22.40  22.65      22.90   -0.25\n",
      "2893  23.25  23.25  22.72  22.90      23.30   -0.40\n",
      "2894  23.75  23.90  22.75  23.30      23.71   -0.41\n",
      "2895  24.52  24.58  23.68  23.71      24.37   -0.66\n",
      "\n",
      "[2896 rows x 6 columns]\n"
     ]
    }
   ],
   "source": [
    "df1 = df_basicData.loc[:,\"open\":\"change\"]\n",
    "printf(loc=locals(), Variable=df1)\n"
   ],
   "metadata": {
    "collapsed": false,
    "pycharm": {
     "name": "#%%\n"
    }
   }
  },
  {
   "cell_type": "code",
   "execution_count": 5,
   "outputs": [],
   "source": [
    "# df2 ="
   ],
   "metadata": {
    "collapsed": false,
    "pycharm": {
     "name": "#%%\n"
    }
   }
  },
  {
   "cell_type": "code",
   "execution_count": 6,
   "outputs": [
    {
     "name": "stdout",
     "output_type": "stream",
     "text": [
      "Variable Name :  df1\n",
      "Variable Type :  <class 'pandas.core.frame.DataFrame'>\n",
      "Variable Data : \n",
      "        0   1   2   3   4   5   6   7   8   9  ...  2962  2963  2964  2965  \\\n",
      "0    NaN NaN NaN NaN NaN NaN NaN NaN NaN NaN  ...   NaN   NaN   NaN   NaN   \n",
      "1    NaN NaN NaN NaN NaN NaN NaN NaN NaN NaN  ...   NaN   NaN   NaN   NaN   \n",
      "2    NaN NaN NaN NaN NaN NaN NaN NaN NaN NaN  ...   NaN   NaN   NaN   NaN   \n",
      "3    NaN NaN NaN NaN NaN NaN NaN NaN NaN NaN  ...   NaN   NaN   NaN   NaN   \n",
      "4    NaN NaN NaN NaN NaN NaN NaN NaN NaN NaN  ...   NaN   NaN   NaN   NaN   \n",
      "...   ..  ..  ..  ..  ..  ..  ..  ..  ..  ..  ...   ...   ...   ...   ...   \n",
      "2891 NaN NaN NaN NaN NaN NaN NaN NaN NaN NaN  ...   NaN   NaN   NaN   NaN   \n",
      "2892 NaN NaN NaN NaN NaN NaN NaN NaN NaN NaN  ...   NaN   NaN   NaN   NaN   \n",
      "2893 NaN NaN NaN NaN NaN NaN NaN NaN NaN NaN  ...   NaN   NaN   NaN   NaN   \n",
      "2894 NaN NaN NaN NaN NaN NaN NaN NaN NaN NaN  ...   NaN   NaN   NaN   NaN   \n",
      "2895 NaN NaN NaN NaN NaN NaN NaN NaN NaN NaN  ...   NaN   NaN   NaN   NaN   \n",
      "\n",
      "      change  close  high  low  open  pre_close  \n",
      "0        NaN    NaN   NaN  NaN   NaN        NaN  \n",
      "1        NaN    NaN   NaN  NaN   NaN        NaN  \n",
      "2        NaN    NaN   NaN  NaN   NaN        NaN  \n",
      "3        NaN    NaN   NaN  NaN   NaN        NaN  \n",
      "4        NaN    NaN   NaN  NaN   NaN        NaN  \n",
      "...      ...    ...   ...  ...   ...        ...  \n",
      "2891     NaN    NaN   NaN  NaN   NaN        NaN  \n",
      "2892     NaN    NaN   NaN  NaN   NaN        NaN  \n",
      "2893     NaN    NaN   NaN  NaN   NaN        NaN  \n",
      "2894     NaN    NaN   NaN  NaN   NaN        NaN  \n",
      "2895     NaN    NaN   NaN  NaN   NaN        NaN  \n",
      "\n",
      "[2896 rows x 2972 columns]\n"
     ]
    }
   ],
   "source": [
    "df1 = df1.multiply(df_basic[\"adj_factor\"])\n",
    "printf(df1, loc=locals())"
   ],
   "metadata": {
    "collapsed": false,
    "pycharm": {
     "name": "#%%\n"
    }
   }
  },
  {
   "cell_type": "code",
   "execution_count": 7,
   "outputs": [
    {
     "name": "stdout",
     "output_type": "stream",
     "text": [
      "Variable Name :  df3\n",
      "Variable Type :  <class 'pandas.core.frame.DataFrame'>\n",
      "Variable Data : \n",
      "         ts_code trade_date   open   high    low  close  pre_close  change  \\\n",
      "0     000798.SZ   20100104   8.11   8.36   8.10   8.15       8.01    0.14   \n",
      "1     600405.SH   20100104   9.90  10.00   9.73   9.90       9.78    0.12   \n",
      "2     600590.SH   20100104  15.53  16.27  15.53  15.87      15.43    0.44   \n",
      "3     600694.SH   20100104  44.40  44.42  43.00  43.77      43.79   -0.02   \n",
      "4     600207.SH   20100104   5.83   5.87   5.71   5.72       5.83   -0.11   \n",
      "...         ...        ...    ...    ...    ...    ...        ...     ...   \n",
      "1627  600738.SH   20100104   9.30   9.38   9.17   9.25       9.30   -0.05   \n",
      "1628  000830.SZ   20100104   6.23   6.37   6.19   6.27       6.16    0.11   \n",
      "1629  600862.SH   20100104  12.99  13.31  12.94  12.99      12.90    0.09   \n",
      "1630  001872.SZ   20100104  15.25  15.49  15.01  15.22      15.13    0.09   \n",
      "1631  001914.SZ   20100104  15.27  15.28  14.85  14.92      15.13   -0.21   \n",
      "\n",
      "      pct_chg        vol       amount  \n",
      "0      1.7500   94909.87   77965.8597  \n",
      "1      1.2300   73226.11   72576.1880  \n",
      "2      2.8500  115549.64  184679.2390  \n",
      "3     -0.0500   27084.63  118864.4670  \n",
      "4     -1.8900   48736.57   28113.0040  \n",
      "...       ...        ...          ...  \n",
      "1627  -0.5400   89950.88   82979.4440  \n",
      "1628   1.7900  222272.61  139870.1639  \n",
      "1629   0.6977  109972.76  144220.5220  \n",
      "1630   0.5900   30085.11   45879.5313  \n",
      "1631  -1.3900   18983.11   28391.4943  \n",
      "\n",
      "[1632 rows x 11 columns]\n"
     ]
    }
   ],
   "source": [
    "df3 = pro.daily(**{\"trade_date\": 20100104,}, fields=[\n",
    "    \"ts_code\",\"trade_date\",\"open\",\"high\",\"low\",\"close\",\n",
    "    \"pre_close\", \"change\", \"pct_chg\", \"vol\", \"amount\"])\n",
    "printf(df3, loc=locals())"
   ],
   "metadata": {
    "collapsed": false,
    "pycharm": {
     "name": "#%%\n"
    }
   }
  },
  {
   "cell_type": "code",
   "execution_count": 8,
   "outputs": [
    {
     "name": "stdout",
     "output_type": "stream",
     "text": [
      "Variable Name :  df4\n",
      "Variable Type :  <class 'pandas.core.frame.DataFrame'>\n",
      "Variable Data : \n",
      "         ts_code trade_date   open   high    low  close  pre_close  change  \\\n",
      "0     000001.SZ   20100104  24.52  24.58  23.68  23.71      24.37   -0.66   \n",
      "1     000002.SZ   20100104  10.85  10.87  10.60  10.60      10.81   -0.21   \n",
      "2     000005.SZ   20100104   6.01   6.05   5.91   5.99       6.02   -0.03   \n",
      "3     000006.SZ   20100104  11.33  11.35  11.11  11.12      11.33   -0.21   \n",
      "4     000007.SZ   20100104   7.09   7.09   6.90   6.93       7.03   -0.10   \n",
      "...         ...        ...    ...    ...    ...    ...        ...     ...   \n",
      "1627  601988.SH   20100104   4.34   4.38   4.29   4.29       4.33   -0.04   \n",
      "1628  601989.SH   20100104   7.76   7.80   7.62   7.63       7.81   -0.18   \n",
      "1629  601991.SH   20100104   9.05   9.13   8.95   8.96       9.05   -0.09   \n",
      "1630  601998.SH   20100104   8.30   8.32   8.05   8.07       8.23   -0.16   \n",
      "1631  601999.SH   20100104  11.24  11.54  11.24  11.36      11.26    0.10   \n",
      "\n",
      "      pct_chg        vol        amount  \n",
      "0       -2.71  241922.76  5.802495e+05  \n",
      "1       -1.94  969832.53  1.034345e+06  \n",
      "2       -0.50  223582.22  1.334784e+05  \n",
      "3       -1.85   62998.05  7.054856e+04  \n",
      "4       -1.42   25901.79  1.810142e+04  \n",
      "...       ...        ...           ...  \n",
      "1627    -0.92  747071.31  3.237072e+05  \n",
      "1628    -2.30  852408.56  6.548893e+05  \n",
      "1629    -0.99   65329.90  5.885221e+04  \n",
      "1630    -1.94  753683.00  6.120972e+05  \n",
      "1631     0.89   62903.53  7.170641e+04  \n",
      "\n",
      "[1632 rows x 11 columns]\n"
     ]
    }
   ],
   "source": [
    "df4 = df3.sort_values(by=\"ts_code\")\n",
    "df4 = df4.reset_index(drop=True)\n",
    "printf(df4, loc=locals())"
   ],
   "metadata": {
    "collapsed": false,
    "pycharm": {
     "name": "#%%\n"
    }
   }
  },
  {
   "cell_type": "code",
   "execution_count": 9,
   "outputs": [
    {
     "name": "stdout",
     "output_type": "stream",
     "text": [
      "Variable Name :  stock_list\n",
      "Variable Type :  <class 'pandas.core.series.Series'>\n",
      "Variable Data : \n",
      " 0       000001.SZ\n",
      "1       000002.SZ\n",
      "2       000005.SZ\n",
      "3       000006.SZ\n",
      "4       000007.SZ\n",
      "          ...    \n",
      "1627    601988.SH\n",
      "1628    601989.SH\n",
      "1629    601991.SH\n",
      "1630    601998.SH\n",
      "1631    601999.SH\n",
      "Name: ts_code, Length: 1632, dtype: object\n"
     ]
    }
   ],
   "source": [
    "stock_list = df4.loc[:,\"ts_code\"]\n",
    "printf(stock_list, loc=locals())"
   ],
   "metadata": {
    "collapsed": false,
    "pycharm": {
     "name": "#%%\n"
    }
   }
  },
  {
   "cell_type": "code",
   "execution_count": 10,
   "outputs": [
    {
     "name": "stdout",
     "output_type": "stream",
     "text": [
      "Variable Name :  daily_basic\n",
      "Variable Type :  <class 'pandas.core.frame.DataFrame'>\n",
      "Variable Data : \n",
      "         ts_code trade_date  adj_factor\n",
      "0     000001.SZ   20100104      35.906\n",
      "1     000002.SZ   20100104     110.804\n",
      "2     000004.SZ   20100104       4.064\n",
      "3     000005.SZ   20100104       9.268\n",
      "4     000006.SZ   20100104      11.024\n",
      "...         ...        ...         ...\n",
      "1667  601988.SH   20100104       1.061\n",
      "1668  601989.SH   20100104       1.000\n",
      "1669  601991.SH   20100104       2.064\n",
      "1670  601998.SH   20100104       1.024\n",
      "1671  601999.SH   20100104       1.005\n",
      "\n",
      "[1672 rows x 3 columns]\n"
     ]
    }
   ],
   "source": [
    "daily_basic = pro.adj_factor(trade_date = \"20100104\")\n",
    "printf(daily_basic, loc=locals())"
   ],
   "metadata": {
    "collapsed": false,
    "pycharm": {
     "name": "#%%\n"
    }
   }
  },
  {
   "cell_type": "code",
   "execution_count": 11,
   "outputs": [
    {
     "name": "stdout",
     "output_type": "stream",
     "text": [
      "Variable Name :  daily_basic\n",
      "Variable Type :  <class 'pandas.core.frame.DataFrame'>\n",
      "Variable Data : \n",
      "         ts_code trade_date  adj_factor\n",
      "0     000001.SZ   20100104      35.906\n",
      "1     000002.SZ   20100104     110.804\n",
      "2     000004.SZ   20100104       4.064\n",
      "3     000005.SZ   20100104       9.268\n",
      "4     000006.SZ   20100104      11.024\n",
      "...         ...        ...         ...\n",
      "1667  601988.SH   20100104       1.061\n",
      "1668  601989.SH   20100104       1.000\n",
      "1669  601991.SH   20100104       2.064\n",
      "1670  601998.SH   20100104       1.024\n",
      "1671  601999.SH   20100104       1.005\n",
      "\n",
      "[1672 rows x 3 columns]\n"
     ]
    }
   ],
   "source": [
    "daily_basic = daily_basic.sort_values(by=\"ts_code\")\n",
    "daily_basic = daily_basic.reset_index(drop=True)\n",
    "printf(daily_basic, loc=locals())"
   ],
   "metadata": {
    "collapsed": false,
    "pycharm": {
     "name": "#%%\n"
    }
   }
  },
  {
   "cell_type": "code",
   "execution_count": 12,
   "outputs": [
    {
     "name": "stdout",
     "output_type": "stream",
     "text": [
      "Variable Name :  df5\n",
      "Variable Type :  <class 'pandas.core.frame.DataFrame'>\n",
      "Variable Data : \n",
      "         ts_code trade_date  adj_factor\n",
      "0     000001.SZ   20100104      35.906\n",
      "1     000002.SZ   20100104     110.804\n",
      "2     000005.SZ   20100104       9.268\n",
      "3     000006.SZ   20100104      11.024\n",
      "4     000007.SZ   20100104       5.521\n",
      "...         ...        ...         ...\n",
      "1627  601988.SH   20100104       1.061\n",
      "1628  601989.SH   20100104       1.000\n",
      "1629  601991.SH   20100104       2.064\n",
      "1630  601998.SH   20100104       1.024\n",
      "1631  601999.SH   20100104       1.005\n",
      "\n",
      "[1632 rows x 3 columns]\n"
     ]
    }
   ],
   "source": [
    "df5 = pd.merge(daily_basic, stock_list, how=\"right\")\n",
    "printf(df5, loc=locals())"
   ],
   "metadata": {
    "collapsed": false,
    "pycharm": {
     "name": "#%%\n"
    }
   }
  },
  {
   "cell_type": "code",
   "execution_count": 13,
   "outputs": [
    {
     "name": "stdout",
     "output_type": "stream",
     "text": [
      "True\n"
     ]
    }
   ],
   "source": [
    "rem = pd.DataFrame()\n",
    "print(rem.empty)"
   ],
   "metadata": {
    "collapsed": false,
    "pycharm": {
     "name": "#%%\n"
    }
   }
  },
  {
   "cell_type": "code",
   "execution_count": 14,
   "outputs": [],
   "source": [
    "date = 20100104\n",
    "\n",
    "daily = pro.daily(**{\"trade_date\": date, }, fields=[\n",
    "                \"ts_code\", \"trade_date\", \"open\", \"high\", \"low\", \"close\",\n",
    "                \"pre_close\", \"change\", \"pct_chg\", \"vol\", \"amount\"])\n",
    "daily = daily.sort_values(by=\"ts_code\")\n",
    "daily = daily.reset_index(drop=True)\n",
    "daily_basic = pro.adj_factor(trade_date=date)"
   ],
   "metadata": {
    "collapsed": false,
    "pycharm": {
     "name": "#%%\n"
    }
   }
  },
  {
   "cell_type": "code",
   "execution_count": 21,
   "outputs": [
    {
     "ename": "TypeError",
     "evalue": "cannot do slice indexing on RangeIndex with these indexers [open] of type str",
     "output_type": "error",
     "traceback": [
      "\u001B[1;31m---------------------------------------------------------------------------\u001B[0m",
      "\u001B[1;31mTypeError\u001B[0m                                 Traceback (most recent call last)",
      "\u001B[1;32m<ipython-input-21-7b8f50041822>\u001B[0m in \u001B[0;36m<module>\u001B[1;34m\u001B[0m\n\u001B[1;32m----> 1\u001B[1;33m \u001B[0mdaily\u001B[0m\u001B[1;33m[\u001B[0m\u001B[1;34m\"open\"\u001B[0m \u001B[1;33m:\u001B[0m \u001B[1;34m\"change\"\u001B[0m\u001B[1;33m]\u001B[0m \u001B[1;33m=\u001B[0m \u001B[0mdaily\u001B[0m\u001B[1;33m[\u001B[0m\u001B[1;34m\"open\"\u001B[0m \u001B[1;33m:\u001B[0m \u001B[1;34m\"change\"\u001B[0m\u001B[1;33m]\u001B[0m \u001B[1;33m*\u001B[0m \u001B[0mdaily_basic\u001B[0m\u001B[1;33m[\u001B[0m\u001B[1;34m\"adj_factor\"\u001B[0m\u001B[1;33m]\u001B[0m\u001B[1;33m\u001B[0m\u001B[1;33m\u001B[0m\u001B[0m\n\u001B[0m\u001B[0;32m      2\u001B[0m \u001B[0mprintf\u001B[0m\u001B[1;33m(\u001B[0m\u001B[0mdaily\u001B[0m\u001B[1;33m,\u001B[0m \u001B[0mloc\u001B[0m\u001B[1;33m=\u001B[0m\u001B[0mlocals\u001B[0m\u001B[1;33m(\u001B[0m\u001B[1;33m)\u001B[0m\u001B[1;33m)\u001B[0m\u001B[1;33m\u001B[0m\u001B[1;33m\u001B[0m\u001B[0m\n",
      "\u001B[1;32m~\\anaconda3\\lib\\site-packages\\pandas\\core\\frame.py\u001B[0m in \u001B[0;36m__getitem__\u001B[1;34m(self, key)\u001B[0m\n\u001B[0;32m   2997\u001B[0m \u001B[1;33m\u001B[0m\u001B[0m\n\u001B[0;32m   2998\u001B[0m         \u001B[1;31m# Do we have a slicer (on rows)?\u001B[0m\u001B[1;33m\u001B[0m\u001B[1;33m\u001B[0m\u001B[1;33m\u001B[0m\u001B[0m\n\u001B[1;32m-> 2999\u001B[1;33m         \u001B[0mindexer\u001B[0m \u001B[1;33m=\u001B[0m \u001B[0mconvert_to_index_sliceable\u001B[0m\u001B[1;33m(\u001B[0m\u001B[0mself\u001B[0m\u001B[1;33m,\u001B[0m \u001B[0mkey\u001B[0m\u001B[1;33m)\u001B[0m\u001B[1;33m\u001B[0m\u001B[1;33m\u001B[0m\u001B[0m\n\u001B[0m\u001B[0;32m   3000\u001B[0m         \u001B[1;32mif\u001B[0m \u001B[0mindexer\u001B[0m \u001B[1;32mis\u001B[0m \u001B[1;32mnot\u001B[0m \u001B[1;32mNone\u001B[0m\u001B[1;33m:\u001B[0m\u001B[1;33m\u001B[0m\u001B[1;33m\u001B[0m\u001B[0m\n\u001B[0;32m   3001\u001B[0m             \u001B[1;32mif\u001B[0m \u001B[0misinstance\u001B[0m\u001B[1;33m(\u001B[0m\u001B[0mindexer\u001B[0m\u001B[1;33m,\u001B[0m \u001B[0mnp\u001B[0m\u001B[1;33m.\u001B[0m\u001B[0mndarray\u001B[0m\u001B[1;33m)\u001B[0m\u001B[1;33m:\u001B[0m\u001B[1;33m\u001B[0m\u001B[1;33m\u001B[0m\u001B[0m\n",
      "\u001B[1;32m~\\anaconda3\\lib\\site-packages\\pandas\\core\\indexing.py\u001B[0m in \u001B[0;36mconvert_to_index_sliceable\u001B[1;34m(obj, key)\u001B[0m\n\u001B[0;32m   2208\u001B[0m     \u001B[0midx\u001B[0m \u001B[1;33m=\u001B[0m \u001B[0mobj\u001B[0m\u001B[1;33m.\u001B[0m\u001B[0mindex\u001B[0m\u001B[1;33m\u001B[0m\u001B[1;33m\u001B[0m\u001B[0m\n\u001B[0;32m   2209\u001B[0m     \u001B[1;32mif\u001B[0m \u001B[0misinstance\u001B[0m\u001B[1;33m(\u001B[0m\u001B[0mkey\u001B[0m\u001B[1;33m,\u001B[0m \u001B[0mslice\u001B[0m\u001B[1;33m)\u001B[0m\u001B[1;33m:\u001B[0m\u001B[1;33m\u001B[0m\u001B[1;33m\u001B[0m\u001B[0m\n\u001B[1;32m-> 2210\u001B[1;33m         \u001B[1;32mreturn\u001B[0m \u001B[0midx\u001B[0m\u001B[1;33m.\u001B[0m\u001B[0m_convert_slice_indexer\u001B[0m\u001B[1;33m(\u001B[0m\u001B[0mkey\u001B[0m\u001B[1;33m,\u001B[0m \u001B[0mkind\u001B[0m\u001B[1;33m=\u001B[0m\u001B[1;34m\"getitem\"\u001B[0m\u001B[1;33m)\u001B[0m\u001B[1;33m\u001B[0m\u001B[1;33m\u001B[0m\u001B[0m\n\u001B[0m\u001B[0;32m   2211\u001B[0m \u001B[1;33m\u001B[0m\u001B[0m\n\u001B[0;32m   2212\u001B[0m     \u001B[1;32melif\u001B[0m \u001B[0misinstance\u001B[0m\u001B[1;33m(\u001B[0m\u001B[0mkey\u001B[0m\u001B[1;33m,\u001B[0m \u001B[0mstr\u001B[0m\u001B[1;33m)\u001B[0m\u001B[1;33m:\u001B[0m\u001B[1;33m\u001B[0m\u001B[1;33m\u001B[0m\u001B[0m\n",
      "\u001B[1;32m~\\anaconda3\\lib\\site-packages\\pandas\\core\\indexes\\base.py\u001B[0m in \u001B[0;36m_convert_slice_indexer\u001B[1;34m(self, key, kind)\u001B[0m\n\u001B[0;32m   3354\u001B[0m             \"\"\"\n\u001B[0;32m   3355\u001B[0m             \u001B[1;32mif\u001B[0m \u001B[0mself\u001B[0m\u001B[1;33m.\u001B[0m\u001B[0mis_integer\u001B[0m\u001B[1;33m(\u001B[0m\u001B[1;33m)\u001B[0m \u001B[1;32mor\u001B[0m \u001B[0mis_index_slice\u001B[0m\u001B[1;33m:\u001B[0m\u001B[1;33m\u001B[0m\u001B[1;33m\u001B[0m\u001B[0m\n\u001B[1;32m-> 3356\u001B[1;33m                 \u001B[0mself\u001B[0m\u001B[1;33m.\u001B[0m\u001B[0m_validate_indexer\u001B[0m\u001B[1;33m(\u001B[0m\u001B[1;34m\"slice\"\u001B[0m\u001B[1;33m,\u001B[0m \u001B[0mkey\u001B[0m\u001B[1;33m.\u001B[0m\u001B[0mstart\u001B[0m\u001B[1;33m,\u001B[0m \u001B[1;34m\"getitem\"\u001B[0m\u001B[1;33m)\u001B[0m\u001B[1;33m\u001B[0m\u001B[1;33m\u001B[0m\u001B[0m\n\u001B[0m\u001B[0;32m   3357\u001B[0m                 \u001B[0mself\u001B[0m\u001B[1;33m.\u001B[0m\u001B[0m_validate_indexer\u001B[0m\u001B[1;33m(\u001B[0m\u001B[1;34m\"slice\"\u001B[0m\u001B[1;33m,\u001B[0m \u001B[0mkey\u001B[0m\u001B[1;33m.\u001B[0m\u001B[0mstop\u001B[0m\u001B[1;33m,\u001B[0m \u001B[1;34m\"getitem\"\u001B[0m\u001B[1;33m)\u001B[0m\u001B[1;33m\u001B[0m\u001B[1;33m\u001B[0m\u001B[0m\n\u001B[0;32m   3358\u001B[0m                 \u001B[0mself\u001B[0m\u001B[1;33m.\u001B[0m\u001B[0m_validate_indexer\u001B[0m\u001B[1;33m(\u001B[0m\u001B[1;34m\"slice\"\u001B[0m\u001B[1;33m,\u001B[0m \u001B[0mkey\u001B[0m\u001B[1;33m.\u001B[0m\u001B[0mstep\u001B[0m\u001B[1;33m,\u001B[0m \u001B[1;34m\"getitem\"\u001B[0m\u001B[1;33m)\u001B[0m\u001B[1;33m\u001B[0m\u001B[1;33m\u001B[0m\u001B[0m\n",
      "\u001B[1;32m~\\anaconda3\\lib\\site-packages\\pandas\\core\\indexes\\base.py\u001B[0m in \u001B[0;36m_validate_indexer\u001B[1;34m(self, form, key, kind)\u001B[0m\n\u001B[0;32m   5307\u001B[0m             \u001B[1;32mpass\u001B[0m\u001B[1;33m\u001B[0m\u001B[1;33m\u001B[0m\u001B[0m\n\u001B[0;32m   5308\u001B[0m         \u001B[1;32melse\u001B[0m\u001B[1;33m:\u001B[0m\u001B[1;33m\u001B[0m\u001B[1;33m\u001B[0m\u001B[0m\n\u001B[1;32m-> 5309\u001B[1;33m             \u001B[1;32mraise\u001B[0m \u001B[0mself\u001B[0m\u001B[1;33m.\u001B[0m\u001B[0m_invalid_indexer\u001B[0m\u001B[1;33m(\u001B[0m\u001B[0mform\u001B[0m\u001B[1;33m,\u001B[0m \u001B[0mkey\u001B[0m\u001B[1;33m)\u001B[0m\u001B[1;33m\u001B[0m\u001B[1;33m\u001B[0m\u001B[0m\n\u001B[0m\u001B[0;32m   5310\u001B[0m \u001B[1;33m\u001B[0m\u001B[0m\n\u001B[0;32m   5311\u001B[0m     \u001B[1;32mdef\u001B[0m \u001B[0m_maybe_cast_slice_bound\u001B[0m\u001B[1;33m(\u001B[0m\u001B[0mself\u001B[0m\u001B[1;33m,\u001B[0m \u001B[0mlabel\u001B[0m\u001B[1;33m,\u001B[0m \u001B[0mside\u001B[0m\u001B[1;33m:\u001B[0m \u001B[0mstr_t\u001B[0m\u001B[1;33m,\u001B[0m \u001B[0mkind\u001B[0m\u001B[1;33m)\u001B[0m\u001B[1;33m:\u001B[0m\u001B[1;33m\u001B[0m\u001B[1;33m\u001B[0m\u001B[0m\n",
      "\u001B[1;31mTypeError\u001B[0m: cannot do slice indexing on RangeIndex with these indexers [open] of type str"
     ]
    }
   ],
   "source": [
    "daily[\"open\" : \"change\"] = daily[\"open\" : \"change\"] * daily_basic[\"adj_factor\"]\n",
    "printf(daily, loc=locals())"
   ],
   "metadata": {
    "collapsed": false,
    "pycharm": {
     "name": "#%%\n"
    }
   }
  },
  {
   "cell_type": "code",
   "execution_count": 19,
   "outputs": [
    {
     "name": "stdout",
     "output_type": "stream",
     "text": [
      "抱歉，您每天最多访问该接口2次，权限的具体详情访问：https://tushare.pro/document/1?doc_id=108。\n",
      "抱歉，您每天最多访问该接口2次，权限的具体详情访问：https://tushare.pro/document/1?doc_id=108。\n",
      "抱歉，您每分钟最多访问该接口2次，权限的具体详情访问：https://tushare.pro/document/1?doc_id=108。\n"
     ]
    },
    {
     "ename": "OSError",
     "evalue": "ERROR.",
     "output_type": "error",
     "traceback": [
      "\u001B[1;31m---------------------------------------------------------------------------\u001B[0m",
      "\u001B[1;31mOSError\u001B[0m                                   Traceback (most recent call last)",
      "\u001B[1;32m<ipython-input-19-e28fed6ba5e7>\u001B[0m in \u001B[0;36m<module>\u001B[1;34m\u001B[0m\n\u001B[1;32m----> 1\u001B[1;33m \u001B[0mdf6\u001B[0m \u001B[1;33m=\u001B[0m \u001B[0mts\u001B[0m\u001B[1;33m.\u001B[0m\u001B[0mpro_bar\u001B[0m\u001B[1;33m(\u001B[0m\u001B[0mts_code\u001B[0m\u001B[1;33m=\u001B[0m\u001B[1;34m\"000001.SZ\"\u001B[0m\u001B[1;33m,\u001B[0m \u001B[0mstart_date\u001B[0m\u001B[1;33m=\u001B[0m\u001B[1;34m\"20100104\"\u001B[0m\u001B[1;33m,\u001B[0m \u001B[0mend_date\u001B[0m\u001B[1;33m=\u001B[0m\u001B[1;34m\"20100105\"\u001B[0m\u001B[1;33m,\u001B[0m\u001B[0mfreq\u001B[0m\u001B[1;33m=\u001B[0m\u001B[1;34m\"1min\"\u001B[0m\u001B[1;33m)\u001B[0m\u001B[1;33m\u001B[0m\u001B[1;33m\u001B[0m\u001B[0m\n\u001B[0m\u001B[0;32m      2\u001B[0m \u001B[0mprintf\u001B[0m\u001B[1;33m(\u001B[0m\u001B[0mdf6\u001B[0m\u001B[1;33m,\u001B[0m \u001B[0mloc\u001B[0m\u001B[1;33m=\u001B[0m\u001B[0mlocals\u001B[0m\u001B[1;33m(\u001B[0m\u001B[1;33m)\u001B[0m\u001B[1;33m)\u001B[0m\u001B[1;33m\u001B[0m\u001B[1;33m\u001B[0m\u001B[0m\n",
      "\u001B[1;32m~\\anaconda3\\lib\\site-packages\\tushare\\pro\\data_pro.py\u001B[0m in \u001B[0;36mpro_bar\u001B[1;34m(ts_code, api, start_date, end_date, freq, asset, exchange, adj, ma, factors, adjfactor, offset, limit, contract_type, retry_count)\u001B[0m\n\u001B[0;32m    194\u001B[0m         \u001B[1;32melse\u001B[0m\u001B[1;33m:\u001B[0m\u001B[1;33m\u001B[0m\u001B[1;33m\u001B[0m\u001B[0m\n\u001B[0;32m    195\u001B[0m             \u001B[1;32mreturn\u001B[0m \u001B[0mdata\u001B[0m\u001B[1;33m\u001B[0m\u001B[1;33m\u001B[0m\u001B[0m\n\u001B[1;32m--> 196\u001B[1;33m     \u001B[1;32mraise\u001B[0m \u001B[0mIOError\u001B[0m\u001B[1;33m(\u001B[0m\u001B[1;34m'ERROR.'\u001B[0m\u001B[1;33m)\u001B[0m\u001B[1;33m\u001B[0m\u001B[1;33m\u001B[0m\u001B[0m\n\u001B[0m\u001B[0;32m    197\u001B[0m \u001B[1;33m\u001B[0m\u001B[0m\n\u001B[0;32m    198\u001B[0m \u001B[1;33m\u001B[0m\u001B[0m\n",
      "\u001B[1;31mOSError\u001B[0m: ERROR."
     ]
    }
   ],
   "source": [
    "df6 = ts.pro_bar(ts_code=\"000001.SZ\", start_date=\"20100104\", end_date=\"20100105\",freq=\"1min\")\n",
    "printf(df6, loc=locals())"
   ],
   "metadata": {
    "collapsed": false,
    "pycharm": {
     "name": "#%%\n"
    }
   }
  },
  {
   "cell_type": "markdown",
   "source": [
    "\"open\", \"high\", \"low\", \"close\", \"pre_close\", \"change\""
   ],
   "metadata": {
    "collapsed": false,
    "pycharm": {
     "name": "#%% md\n"
    }
   }
  },
  {
   "cell_type": "code",
   "source": [
    "daily[\"open\" : \"change\"] = daily[\"open\" : \"change\"].multiply(daily_basic[\"adj_factor\"])\n",
    "printf(daily, loc=locals())"
   ],
   "metadata": {
    "collapsed": false,
    "pycharm": {
     "name": "#%%\n"
    }
   },
   "execution_count": 24,
   "outputs": [
    {
     "ename": "TypeError",
     "evalue": "cannot do slice indexing on RangeIndex with these indexers [open] of type str",
     "output_type": "error",
     "traceback": [
      "\u001B[1;31m---------------------------------------------------------------------------\u001B[0m",
      "\u001B[1;31mTypeError\u001B[0m                                 Traceback (most recent call last)",
      "\u001B[1;32m<ipython-input-24-ff27910e1e30>\u001B[0m in \u001B[0;36m<module>\u001B[1;34m\u001B[0m\n\u001B[1;32m----> 1\u001B[1;33m \u001B[0mdaily\u001B[0m\u001B[1;33m[\u001B[0m\u001B[1;34m\"open\"\u001B[0m \u001B[1;33m:\u001B[0m \u001B[1;34m\"change\"\u001B[0m\u001B[1;33m]\u001B[0m \u001B[1;33m=\u001B[0m \u001B[0mdaily\u001B[0m\u001B[1;33m[\u001B[0m\u001B[1;34m\"open\"\u001B[0m \u001B[1;33m:\u001B[0m \u001B[1;34m\"change\"\u001B[0m\u001B[1;33m]\u001B[0m\u001B[1;33m.\u001B[0m\u001B[0mmultiply\u001B[0m\u001B[1;33m(\u001B[0m\u001B[0mdaily_basic\u001B[0m\u001B[1;33m[\u001B[0m\u001B[1;34m\"adj_factor\"\u001B[0m\u001B[1;33m]\u001B[0m\u001B[1;33m)\u001B[0m\u001B[1;33m\u001B[0m\u001B[1;33m\u001B[0m\u001B[0m\n\u001B[0m\u001B[0;32m      2\u001B[0m \u001B[0mprintf\u001B[0m\u001B[1;33m(\u001B[0m\u001B[0mdaily\u001B[0m\u001B[1;33m,\u001B[0m \u001B[0mloc\u001B[0m\u001B[1;33m=\u001B[0m\u001B[0mlocals\u001B[0m\u001B[1;33m(\u001B[0m\u001B[1;33m)\u001B[0m\u001B[1;33m)\u001B[0m\u001B[1;33m\u001B[0m\u001B[1;33m\u001B[0m\u001B[0m\n",
      "\u001B[1;32m~\\anaconda3\\lib\\site-packages\\pandas\\core\\frame.py\u001B[0m in \u001B[0;36m__getitem__\u001B[1;34m(self, key)\u001B[0m\n\u001B[0;32m   2997\u001B[0m \u001B[1;33m\u001B[0m\u001B[0m\n\u001B[0;32m   2998\u001B[0m         \u001B[1;31m# Do we have a slicer (on rows)?\u001B[0m\u001B[1;33m\u001B[0m\u001B[1;33m\u001B[0m\u001B[1;33m\u001B[0m\u001B[0m\n\u001B[1;32m-> 2999\u001B[1;33m         \u001B[0mindexer\u001B[0m \u001B[1;33m=\u001B[0m \u001B[0mconvert_to_index_sliceable\u001B[0m\u001B[1;33m(\u001B[0m\u001B[0mself\u001B[0m\u001B[1;33m,\u001B[0m \u001B[0mkey\u001B[0m\u001B[1;33m)\u001B[0m\u001B[1;33m\u001B[0m\u001B[1;33m\u001B[0m\u001B[0m\n\u001B[0m\u001B[0;32m   3000\u001B[0m         \u001B[1;32mif\u001B[0m \u001B[0mindexer\u001B[0m \u001B[1;32mis\u001B[0m \u001B[1;32mnot\u001B[0m \u001B[1;32mNone\u001B[0m\u001B[1;33m:\u001B[0m\u001B[1;33m\u001B[0m\u001B[1;33m\u001B[0m\u001B[0m\n\u001B[0;32m   3001\u001B[0m             \u001B[1;32mif\u001B[0m \u001B[0misinstance\u001B[0m\u001B[1;33m(\u001B[0m\u001B[0mindexer\u001B[0m\u001B[1;33m,\u001B[0m \u001B[0mnp\u001B[0m\u001B[1;33m.\u001B[0m\u001B[0mndarray\u001B[0m\u001B[1;33m)\u001B[0m\u001B[1;33m:\u001B[0m\u001B[1;33m\u001B[0m\u001B[1;33m\u001B[0m\u001B[0m\n",
      "\u001B[1;32m~\\anaconda3\\lib\\site-packages\\pandas\\core\\indexing.py\u001B[0m in \u001B[0;36mconvert_to_index_sliceable\u001B[1;34m(obj, key)\u001B[0m\n\u001B[0;32m   2208\u001B[0m     \u001B[0midx\u001B[0m \u001B[1;33m=\u001B[0m \u001B[0mobj\u001B[0m\u001B[1;33m.\u001B[0m\u001B[0mindex\u001B[0m\u001B[1;33m\u001B[0m\u001B[1;33m\u001B[0m\u001B[0m\n\u001B[0;32m   2209\u001B[0m     \u001B[1;32mif\u001B[0m \u001B[0misinstance\u001B[0m\u001B[1;33m(\u001B[0m\u001B[0mkey\u001B[0m\u001B[1;33m,\u001B[0m \u001B[0mslice\u001B[0m\u001B[1;33m)\u001B[0m\u001B[1;33m:\u001B[0m\u001B[1;33m\u001B[0m\u001B[1;33m\u001B[0m\u001B[0m\n\u001B[1;32m-> 2210\u001B[1;33m         \u001B[1;32mreturn\u001B[0m \u001B[0midx\u001B[0m\u001B[1;33m.\u001B[0m\u001B[0m_convert_slice_indexer\u001B[0m\u001B[1;33m(\u001B[0m\u001B[0mkey\u001B[0m\u001B[1;33m,\u001B[0m \u001B[0mkind\u001B[0m\u001B[1;33m=\u001B[0m\u001B[1;34m\"getitem\"\u001B[0m\u001B[1;33m)\u001B[0m\u001B[1;33m\u001B[0m\u001B[1;33m\u001B[0m\u001B[0m\n\u001B[0m\u001B[0;32m   2211\u001B[0m \u001B[1;33m\u001B[0m\u001B[0m\n\u001B[0;32m   2212\u001B[0m     \u001B[1;32melif\u001B[0m \u001B[0misinstance\u001B[0m\u001B[1;33m(\u001B[0m\u001B[0mkey\u001B[0m\u001B[1;33m,\u001B[0m \u001B[0mstr\u001B[0m\u001B[1;33m)\u001B[0m\u001B[1;33m:\u001B[0m\u001B[1;33m\u001B[0m\u001B[1;33m\u001B[0m\u001B[0m\n",
      "\u001B[1;32m~\\anaconda3\\lib\\site-packages\\pandas\\core\\indexes\\base.py\u001B[0m in \u001B[0;36m_convert_slice_indexer\u001B[1;34m(self, key, kind)\u001B[0m\n\u001B[0;32m   3354\u001B[0m             \"\"\"\n\u001B[0;32m   3355\u001B[0m             \u001B[1;32mif\u001B[0m \u001B[0mself\u001B[0m\u001B[1;33m.\u001B[0m\u001B[0mis_integer\u001B[0m\u001B[1;33m(\u001B[0m\u001B[1;33m)\u001B[0m \u001B[1;32mor\u001B[0m \u001B[0mis_index_slice\u001B[0m\u001B[1;33m:\u001B[0m\u001B[1;33m\u001B[0m\u001B[1;33m\u001B[0m\u001B[0m\n\u001B[1;32m-> 3356\u001B[1;33m                 \u001B[0mself\u001B[0m\u001B[1;33m.\u001B[0m\u001B[0m_validate_indexer\u001B[0m\u001B[1;33m(\u001B[0m\u001B[1;34m\"slice\"\u001B[0m\u001B[1;33m,\u001B[0m \u001B[0mkey\u001B[0m\u001B[1;33m.\u001B[0m\u001B[0mstart\u001B[0m\u001B[1;33m,\u001B[0m \u001B[1;34m\"getitem\"\u001B[0m\u001B[1;33m)\u001B[0m\u001B[1;33m\u001B[0m\u001B[1;33m\u001B[0m\u001B[0m\n\u001B[0m\u001B[0;32m   3357\u001B[0m                 \u001B[0mself\u001B[0m\u001B[1;33m.\u001B[0m\u001B[0m_validate_indexer\u001B[0m\u001B[1;33m(\u001B[0m\u001B[1;34m\"slice\"\u001B[0m\u001B[1;33m,\u001B[0m \u001B[0mkey\u001B[0m\u001B[1;33m.\u001B[0m\u001B[0mstop\u001B[0m\u001B[1;33m,\u001B[0m \u001B[1;34m\"getitem\"\u001B[0m\u001B[1;33m)\u001B[0m\u001B[1;33m\u001B[0m\u001B[1;33m\u001B[0m\u001B[0m\n\u001B[0;32m   3358\u001B[0m                 \u001B[0mself\u001B[0m\u001B[1;33m.\u001B[0m\u001B[0m_validate_indexer\u001B[0m\u001B[1;33m(\u001B[0m\u001B[1;34m\"slice\"\u001B[0m\u001B[1;33m,\u001B[0m \u001B[0mkey\u001B[0m\u001B[1;33m.\u001B[0m\u001B[0mstep\u001B[0m\u001B[1;33m,\u001B[0m \u001B[1;34m\"getitem\"\u001B[0m\u001B[1;33m)\u001B[0m\u001B[1;33m\u001B[0m\u001B[1;33m\u001B[0m\u001B[0m\n",
      "\u001B[1;32m~\\anaconda3\\lib\\site-packages\\pandas\\core\\indexes\\base.py\u001B[0m in \u001B[0;36m_validate_indexer\u001B[1;34m(self, form, key, kind)\u001B[0m\n\u001B[0;32m   5307\u001B[0m             \u001B[1;32mpass\u001B[0m\u001B[1;33m\u001B[0m\u001B[1;33m\u001B[0m\u001B[0m\n\u001B[0;32m   5308\u001B[0m         \u001B[1;32melse\u001B[0m\u001B[1;33m:\u001B[0m\u001B[1;33m\u001B[0m\u001B[1;33m\u001B[0m\u001B[0m\n\u001B[1;32m-> 5309\u001B[1;33m             \u001B[1;32mraise\u001B[0m \u001B[0mself\u001B[0m\u001B[1;33m.\u001B[0m\u001B[0m_invalid_indexer\u001B[0m\u001B[1;33m(\u001B[0m\u001B[0mform\u001B[0m\u001B[1;33m,\u001B[0m \u001B[0mkey\u001B[0m\u001B[1;33m)\u001B[0m\u001B[1;33m\u001B[0m\u001B[1;33m\u001B[0m\u001B[0m\n\u001B[0m\u001B[0;32m   5310\u001B[0m \u001B[1;33m\u001B[0m\u001B[0m\n\u001B[0;32m   5311\u001B[0m     \u001B[1;32mdef\u001B[0m \u001B[0m_maybe_cast_slice_bound\u001B[0m\u001B[1;33m(\u001B[0m\u001B[0mself\u001B[0m\u001B[1;33m,\u001B[0m \u001B[0mlabel\u001B[0m\u001B[1;33m,\u001B[0m \u001B[0mside\u001B[0m\u001B[1;33m:\u001B[0m \u001B[0mstr_t\u001B[0m\u001B[1;33m,\u001B[0m \u001B[0mkind\u001B[0m\u001B[1;33m)\u001B[0m\u001B[1;33m:\u001B[0m\u001B[1;33m\u001B[0m\u001B[1;33m\u001B[0m\u001B[0m\n",
      "\u001B[1;31mTypeError\u001B[0m: cannot do slice indexing on RangeIndex with these indexers [open] of type str"
     ]
    }
   ]
  },
  {
   "cell_type": "code",
   "execution_count": 30,
   "outputs": [
    {
     "name": "stdout",
     "output_type": "stream",
     "text": [
      "Variable Name :  daily\n",
      "Variable Type :  <class 'pandas.core.frame.DataFrame'>\n",
      "Variable Data : \n",
      "         ts_code trade_date       open       high        low      close  \\\n",
      "0     000001.SZ   20100104   880.4151   882.5695   850.2541   851.3313   \n",
      "1     000002.SZ   20100104  1202.2234  1204.4395  1174.5224  1174.5224   \n",
      "2     000005.SZ   20100104    55.7007    56.0714    54.7739    55.5153   \n",
      "3     000006.SZ   20100104   124.9019   125.1224   122.4766   122.5869   \n",
      "4     000007.SZ   20100104    39.1439    39.1439    38.0949    38.2605   \n",
      "...         ...        ...        ...        ...        ...        ...   \n",
      "1627  601988.SH   20100104     4.6047     4.6472     4.5517     4.5517   \n",
      "1628  601989.SH   20100104     7.7600     7.8000     7.6200     7.6300   \n",
      "1629  601991.SH   20100104    18.6792    18.8443    18.4728    18.4934   \n",
      "1630  601998.SH   20100104     8.4992     8.5197     8.2432     8.2637   \n",
      "1631  601999.SH   20100104    11.2962    11.5977    11.2962    11.4168   \n",
      "\n",
      "      pre_close   change  pct_chg        vol        amount  \n",
      "0      875.0292 -23.6980    -2.71  241922.76  5.802495e+05  \n",
      "1     1197.7912 -23.2688    -1.94  969832.53  1.034345e+06  \n",
      "2       55.7934  -0.2780    -0.50  223582.22  1.334784e+05  \n",
      "3      124.9019  -2.3150    -1.85   62998.05  7.054856e+04  \n",
      "4       38.8126  -0.5521    -1.42   25901.79  1.810142e+04  \n",
      "...         ...      ...      ...        ...           ...  \n",
      "1627     4.5941  -0.0424    -0.92  747071.31  3.237072e+05  \n",
      "1628     7.8100  -0.1800    -2.30  852408.56  6.548893e+05  \n",
      "1629    18.6792  -0.1858    -0.99   65329.90  5.885221e+04  \n",
      "1630     8.4275  -0.1638    -1.94  753683.00  6.120972e+05  \n",
      "1631    11.3163   0.1005     0.89   62903.53  7.170641e+04  \n",
      "\n",
      "[1632 rows x 11 columns]\n",
      "Variable Name :  df\n",
      "Variable Type :  <class 'pandas.core.frame.DataFrame'>\n",
      "Variable Data : \n",
      "         ts_code trade_date       open       high        low      close  \\\n",
      "0     000001.SZ   20220318  1607.1856  1662.0268  1582.5629  1645.2387   \n",
      "1     000001.SZ   20220317  1640.7619  1646.3579  1593.7550  1617.2585   \n",
      "2     000001.SZ   20220316  1551.2251  1611.6624  1512.0527  1601.5895   \n",
      "3     000001.SZ   20220315  1611.6624  1611.6624  1522.1256  1531.0793   \n",
      "4     000001.SZ   20220314  1637.4042  1670.9805  1617.2585  1621.7353   \n",
      "...         ...        ...        ...        ...        ...        ...   \n",
      "2891  000001.SZ   20100108   807.8850   816.8615   802.4991   811.4756   \n",
      "2892  000001.SZ   20100107   822.2474   827.6333   804.2944   813.2709   \n",
      "2893  000001.SZ   20100106   834.8145   834.8145   815.7843   822.2474   \n",
      "2894  000001.SZ   20100105   852.7675   858.1534   816.8615   836.6098   \n",
      "2895  000001.SZ   20100104   880.4151   882.5695   850.2541   851.3313   \n",
      "\n",
      "      pre_close   change  pct_chg         vol        amount  \n",
      "0     1617.2585  27.9802   1.7301  1528807.13  2.222159e+06  \n",
      "1     1601.5895  15.6690   0.9783  1730061.42  2.506504e+06  \n",
      "2     1531.0793  70.5102   4.6053  1531779.06  2.141637e+06  \n",
      "3     1621.7353 -90.6560  -5.5901  1781408.87  2.479770e+06  \n",
      "4     1667.6229 -45.8876  -2.7517  1118407.34  1.637278e+06  \n",
      "...         ...      ...      ...         ...           ...  \n",
      "2891   813.2709  -1.7953  -0.2208   288543.06  6.506674e+05  \n",
      "2892   822.2474  -8.9765  -1.0917   355336.85  8.041663e+05  \n",
      "2893   836.6098 -14.3624  -1.7167   412143.13  9.444537e+05  \n",
      "2894   851.3313 -14.7215  -1.7292   556499.82  1.293477e+06  \n",
      "2895   875.0292 -23.6979  -2.7082   241922.76  5.802495e+05  \n",
      "\n",
      "[2896 rows x 11 columns]\n"
     ]
    }
   ],
   "source": [
    "startDate = 20100104\n",
    "hfq_columns = [\"open\", \"high\", \"low\", \"close\", \"pre_close\", \"change\"]\n",
    "\n",
    "\n",
    "daily = pro.daily(**{\"trade_date\": startDate, }, fields=[\n",
    "            \"ts_code\", \"trade_date\", \"open\", \"high\", \"low\", \"close\",\n",
    "            \"pre_close\", \"change\", \"pct_chg\", \"vol\", \"amount\"])\n",
    "daily = daily.sort_values(by=\"ts_code\")\n",
    "daily = daily.reset_index(drop=True)\n",
    "stockList = daily.loc[:, \"ts_code\"]\n",
    "\n",
    "daily = pro.daily(**{\"trade_date\": date, }, fields=[\n",
    "                \"ts_code\", \"trade_date\", \"open\", \"high\", \"low\", \"close\",\n",
    "                \"pre_close\", \"change\", \"pct_chg\", \"vol\", \"amount\"])\n",
    "daily = daily.sort_values(by=\"ts_code\")\n",
    "daily = daily.reset_index(drop=True)\n",
    "daily_basic = pro.adj_factor(trade_date=date)\n",
    "daily_basic = pd.merge(daily_basic, stockList, how=\"right\")\n",
    "\n",
    "for column in hfq_columns:\n",
    "    daily[column] = daily[column] * daily_basic[\"adj_factor\"]\n",
    "daily = daily.round(4)\n",
    "printf(daily, loc=locals())\n",
    "printf(df, loc=locals())"
   ],
   "metadata": {
    "collapsed": false,
    "pycharm": {
     "name": "#%%\n"
    }
   }
  },
  {
   "cell_type": "code",
   "execution_count": 2,
   "outputs": [],
   "source": [
    "import pandas as pd\n",
    "import numpy as np\n",
    "from functions import *"
   ],
   "metadata": {
    "collapsed": false,
    "pycharm": {
     "name": "#%%\n"
    }
   }
  },
  {
   "cell_type": "code",
   "execution_count": 20,
   "outputs": [
    {
     "name": "stdout",
     "output_type": "stream",
     "text": [
      "     index  column1  column2  column3  column4  column5\n",
      "0   index1      0.0      1.0      2.0      3.0      4.0\n",
      "1   index2      5.0      6.0      7.0      8.0      9.0\n",
      "2   index3     10.0     11.0     12.0     13.0     14.0\n",
      "3   index4     15.0     16.0     17.0     18.0     19.0\n",
      "4   index6     20.0     21.0     22.0     23.0     24.0\n",
      "5   index8     25.0     26.0     27.0     28.0     29.0\n",
      "6   index9     30.0     31.0     32.0     33.0     34.0\n",
      "7  index10     35.0     36.0     37.0     38.0     39.0\n",
      "8  index11     40.0     41.0     42.0     43.0     44.0\n",
      "9  index12     45.0     46.0     47.0     48.0     49.0\n",
      "     index  column1  column2  column3  column4\n",
      "0   index1      1.0      2.0      3.0      4.0\n",
      "1   index2      5.0      6.0      7.0      8.0\n",
      "2   index3      9.0     10.0     11.0     12.0\n",
      "3   index4     13.0     14.0     15.0     16.0\n",
      "4   index5     17.0     18.0     19.0     20.0\n",
      "5  index13     21.0     22.0     23.0     24.0\n"
     ]
    }
   ],
   "source": [
    "n = np.arange(50, dtype=float).reshape(10,5)\n",
    "index = ['index1', 'index2', 'index3', 'index4', 'index6', 'index8', 'index9', 'index10', 'index11', 'index12']\n",
    "columns = ['column1', 'column2', 'column3', 'column4', 'column5']\n",
    "df = pd.DataFrame(data=n, index=index, columns=columns)\n",
    "\n",
    "n = np.arange(24, dtype=float).reshape(6,4) + 1\n",
    "index = ['index1', 'index2', 'index3', 'index4', 'index5', 'index13']\n",
    "columns = ['column1', 'column2', 'column3', 'column4']\n",
    "df1 = pd.DataFrame(data=n, index=index, columns=columns)\n",
    "\n",
    "df = df.reset_index()\n",
    "df1 = df1.reset_index()\n",
    "print(df)\n",
    "print(df1)"
   ],
   "metadata": {
    "collapsed": false,
    "pycharm": {
     "name": "#%%\n"
    }
   }
  },
  {
   "cell_type": "code",
   "execution_count": 26,
   "outputs": [
    {
     "name": "stdout",
     "output_type": "stream",
     "text": [
      "    index  column1  column2  column3  column4  column5    index  column1  \\\n",
      "0  index1      0.0      1.0      2.0      3.0      4.0   index1      1.0   \n",
      "1  index2      5.0      6.0      7.0      8.0      9.0   index2      5.0   \n",
      "2  index3     10.0     11.0     12.0     13.0     14.0   index3      9.0   \n",
      "3  index4     15.0     16.0     17.0     18.0     19.0   index4     13.0   \n",
      "4  index6     20.0     21.0     22.0     23.0     24.0   index5     17.0   \n",
      "5  index8     25.0     26.0     27.0     28.0     29.0  index13     21.0   \n",
      "\n",
      "   column2  column3  column4  \n",
      "0      2.0      3.0      4.0  \n",
      "1      6.0      7.0      8.0  \n",
      "2     10.0     11.0     12.0  \n",
      "3     14.0     15.0     16.0  \n",
      "4     18.0     19.0     20.0  \n",
      "5     22.0     23.0     24.0  \n"
     ]
    }
   ],
   "source": [
    "df2 = pd.concat([df, df1], axis=1, join=\"inner\")\n",
    "print(df2)"
   ],
   "metadata": {
    "collapsed": false,
    "pycharm": {
     "name": "#%%\n"
    }
   }
  },
  {
   "cell_type": "code",
   "execution_count": 27,
   "outputs": [
    {
     "ename": "AttributeError",
     "evalue": "module 'pandas' has no attribute 'm'",
     "output_type": "error",
     "traceback": [
      "\u001B[1;31m---------------------------------------------------------------------------\u001B[0m",
      "\u001B[1;31mAttributeError\u001B[0m                            Traceback (most recent call last)",
      "\u001B[1;32m<ipython-input-27-b60c4a114b92>\u001B[0m in \u001B[0;36m<module>\u001B[1;34m\u001B[0m\n\u001B[1;32m----> 1\u001B[1;33m \u001B[0mdf3\u001B[0m \u001B[1;33m=\u001B[0m \u001B[0mpd\u001B[0m\u001B[1;33m.\u001B[0m\u001B[0mm\u001B[0m\u001B[1;33m\u001B[0m\u001B[1;33m\u001B[0m\u001B[0m\n\u001B[0m",
      "\u001B[1;32m~\\anaconda3\\lib\\site-packages\\pandas\\__init__.py\u001B[0m in \u001B[0;36m__getattr__\u001B[1;34m(name)\u001B[0m\n\u001B[0;32m    242\u001B[0m         \u001B[1;32mreturn\u001B[0m \u001B[0m_SparseArray\u001B[0m\u001B[1;33m\u001B[0m\u001B[1;33m\u001B[0m\u001B[0m\n\u001B[0;32m    243\u001B[0m \u001B[1;33m\u001B[0m\u001B[0m\n\u001B[1;32m--> 244\u001B[1;33m     \u001B[1;32mraise\u001B[0m \u001B[0mAttributeError\u001B[0m\u001B[1;33m(\u001B[0m\u001B[1;34mf\"module 'pandas' has no attribute '{name}'\"\u001B[0m\u001B[1;33m)\u001B[0m\u001B[1;33m\u001B[0m\u001B[1;33m\u001B[0m\u001B[0m\n\u001B[0m\u001B[0;32m    245\u001B[0m \u001B[1;33m\u001B[0m\u001B[0m\n\u001B[0;32m    246\u001B[0m \u001B[1;33m\u001B[0m\u001B[0m\n",
      "\u001B[1;31mAttributeError\u001B[0m: module 'pandas' has no attribute 'm'"
     ]
    }
   ],
   "source": [
    "df3 = pd.merge()"
   ],
   "metadata": {
    "collapsed": false,
    "pycharm": {
     "name": "#%%\n"
    }
   }
  },
  {
   "cell_type": "code",
   "execution_count": null,
   "outputs": [],
   "source": [
    "test = df[df.T.isnull().any()].index\n",
    "test_str = str(test.values)\n",
    "printf(test_str, loc=locals())\n",
    "print(df)"
   ],
   "metadata": {
    "collapsed": false,
    "pycharm": {
     "name": "#%%\n"
    }
   }
  },
  {
   "cell_type": "code",
   "execution_count": 11,
   "outputs": [
    {
     "name": "stdout",
     "output_type": "stream",
     "text": [
      "        column1  column2  column3  column4\n",
      "index3      NaN      NaN      NaN      NaN\n",
      "index5      NaN      NaN      NaN      NaN\n",
      "['index3' 'index5']\n",
      "        column1  column2  column3  column4\n",
      "index3      8.0      9.0     10.0     11.0\n",
      "index5     16.0     17.0     18.0     19.0\n",
      "        column1  column2  column3  column4\n",
      "index1      0.0      1.0      2.0      3.0\n",
      "index2      4.0      5.0      6.0      7.0\n",
      "index3      8.0      9.0     10.0     11.0\n",
      "index4     12.0     13.0     14.0     15.0\n",
      "index5     16.0     17.0     18.0     19.0\n"
     ]
    }
   ],
   "source": [
    "\n",
    "print(df[df.T.isnull().any()])\n",
    "print(df[df.T.isnull().any()].index.values)\n",
    "print(df1.loc[df[df.T.isnull().any()].index.values])\n",
    "df[df.T.isnull().any()] = df1.loc[df[df.T.isnull().any()].index.values]\n",
    "print(df)"
   ],
   "metadata": {
    "collapsed": false,
    "pycharm": {
     "name": "#%%\n"
    }
   }
  },
  {
   "cell_type": "code",
   "execution_count": 12,
   "outputs": [
    {
     "name": "stdout",
     "output_type": "stream",
     "text": [
      "Variable Name :  rem\n",
      "Variable Type :  <class 'pandas.core.frame.DataFrame'>\n",
      "Variable Data : \n",
      "         column1  column2  column3  column4\n",
      "index1      0.0      1.0      2.0      3.0\n",
      "index2      4.0      5.0      6.0      7.0\n",
      "index3      8.0      9.0     10.0     11.0\n",
      "index4     12.0     13.0     14.0     15.0\n",
      "index5     16.0     17.0     18.0     19.0\n",
      "Variable Name :  df2\n",
      "Variable Type :  <class 'pandas.core.frame.DataFrame'>\n",
      "Variable Data : \n",
      "         column1  column2  column3  column4\n",
      "index1      0.0      1.0      2.0      3.0\n",
      "index2      4.0      5.0      6.0      7.0\n",
      "index3      8.0      9.0     10.0     11.0\n",
      "index4      NaN      NaN      NaN      NaN\n",
      "index5     16.0     17.0     18.0     19.0\n"
     ]
    }
   ],
   "source": [
    "rem = df\n",
    "del df, df1\n",
    "printf(rem, loc=locals())\n",
    "\n",
    "n = np.arange(20, dtype=float).reshape(5,4)\n",
    "n[3,:] = np.nan\n",
    "index = ['index1', 'index2', 'index3', 'index4', 'index5']\n",
    "columns = ['column1', 'column2', 'column3', 'column4']\n",
    "df2 = pd.DataFrame(data=n, index=index, columns=columns)\n",
    "printf(df2, loc=locals())"
   ],
   "metadata": {
    "collapsed": false,
    "pycharm": {
     "name": "#%%\n"
    }
   }
  },
  {
   "cell_type": "code",
   "execution_count": 13,
   "outputs": [
    {
     "name": "stdout",
     "output_type": "stream",
     "text": [
      "        column1  column2  column3  column4\n",
      "index1      0.0      1.0      2.0      3.0\n",
      "index2      4.0      5.0      6.0      7.0\n",
      "index3      8.0      9.0     10.0     11.0\n",
      "index4     12.0     13.0     14.0     15.0\n",
      "index5     16.0     17.0     18.0     19.0\n"
     ]
    }
   ],
   "source": [
    "df2[df2.T.isnull().any()] = rem.loc[df2[df2.T.isnull().any()].index.values]\n",
    "print(df2)"
   ],
   "metadata": {
    "collapsed": false,
    "pycharm": {
     "name": "#%%\n"
    }
   }
  },
  {
   "cell_type": "code",
   "execution_count": 15,
   "outputs": [
    {
     "name": "stdout",
     "output_type": "stream",
     "text": [
      "Variable Name :  e_index\n",
      "Variable Type :  <class 'pandas.core.series.Series'>\n",
      "Variable Data : \n",
      " 0    1632\n",
      "1    1633\n",
      "2    1634\n",
      "3    1635\n",
      "4    1636\n",
      "5    1637\n",
      "6    1638\n",
      "7    1639\n",
      "dtype: int32\n"
     ]
    }
   ],
   "source": [
    "e_rem = pd.read_csv(\"e_rem.csv\")\n",
    "e_daily = pd.read_csv(\"e_daily.csv\")\n",
    "e_index = np.array([1632,1633,1634,1635,1636,1637,1638,1639])\n",
    "e_index = pd.Series(e_index)\n",
    "printf(e_index, loc=locals())"
   ],
   "metadata": {
    "collapsed": false,
    "pycharm": {
     "name": "#%%\n"
    }
   }
  },
  {
   "cell_type": "code",
   "execution_count": 28,
   "outputs": [
    {
     "name": "stdout",
     "output_type": "stream",
     "text": [
      "20220323\n"
     ]
    }
   ],
   "source": [
    "import datetime\n",
    "now_time = datetime.datetime.now().strftime('%Y%m%d')\n",
    "print(now_time)"
   ],
   "metadata": {
    "collapsed": false,
    "pycharm": {
     "name": "#%%\n"
    }
   }
  },
  {
   "cell_type": "code",
   "execution_count": 31,
   "outputs": [
    {
     "name": "stdout",
     "output_type": "stream",
     "text": [
      "3\n"
     ]
    }
   ],
   "source": [
    "now_time = datetime.datetime.now().strftime('%H')\n",
    "print(int(now_time))"
   ],
   "metadata": {
    "collapsed": false,
    "pycharm": {
     "name": "#%%\n"
    }
   }
  },
  {
   "cell_type": "code",
   "execution_count": 33,
   "outputs": [
    {
     "name": "stdout",
     "output_type": "stream",
     "text": [
      "20220322\n"
     ]
    }
   ],
   "source": [
    "yesterday = (datetime.date.today() + datetime.timedelta(days = -1)).strftime(\"%Y%m%d\")\n",
    "print(yesterday)"
   ],
   "metadata": {
    "collapsed": false,
    "pycharm": {
     "name": "#%%\n"
    }
   }
  },
  {
   "cell_type": "code",
   "execution_count": 35,
   "outputs": [
    {
     "name": "stdout",
     "output_type": "stream",
     "text": [
      "20220323\n"
     ]
    }
   ],
   "source": [
    "today = datetime.date.today().strftime(\"%Y%m%d\")\n",
    "print(today)"
   ],
   "metadata": {
    "collapsed": false,
    "pycharm": {
     "name": "#%%\n"
    }
   }
  },
  {
   "cell_type": "code",
   "execution_count": 6,
   "outputs": [
    {
     "name": "stdout",
     "output_type": "stream",
     "text": [
      "2022-03-25 15:31:38.096117\n"
     ]
    }
   ],
   "source": [
    "now = datetime.datetime.now()\n",
    "print(now)"
   ],
   "metadata": {
    "collapsed": false,
    "pycharm": {
     "name": "#%%\n"
    }
   }
  },
  {
   "cell_type": "code",
   "execution_count": 7,
   "outputs": [
    {
     "name": "stdout",
     "output_type": "stream",
     "text": [
      "2022-03-25 15:31:56.711381\n"
     ]
    }
   ],
   "source": [
    "end = datetime.datetime.now()\n",
    "print(end)"
   ],
   "metadata": {
    "collapsed": false,
    "pycharm": {
     "name": "#%%\n"
    }
   }
  },
  {
   "cell_type": "code",
   "execution_count": 9,
   "outputs": [
    {
     "name": "stdout",
     "output_type": "stream",
     "text": [
      "0:00:18.615264\n"
     ]
    }
   ],
   "source": [
    "cost = end - now\n",
    "print(cost)"
   ],
   "metadata": {
    "collapsed": false,
    "pycharm": {
     "name": "#%%\n"
    }
   }
  },
  {
   "cell_type": "code",
   "execution_count": 12,
   "outputs": [
    {
     "name": "stdout",
     "output_type": "stream",
     "text": [
      "<class 'int'>\n",
      "True\n",
      "0\n"
     ]
    }
   ],
   "source": [
    "print(type(cost.days))\n",
    "print(cost.days == 0)\n",
    "print(cost.days)"
   ],
   "metadata": {
    "collapsed": false,
    "pycharm": {
     "name": "#%%\n"
    }
   }
  },
  {
   "cell_type": "code",
   "execution_count": null,
   "outputs": [],
   "source": [],
   "metadata": {
    "collapsed": false,
    "pycharm": {
     "name": "#%%\n"
    }
   }
  },
  {
   "cell_type": "code",
   "execution_count": 13,
   "outputs": [
    {
     "name": "stdout",
     "output_type": "stream",
     "text": [
      "25\n",
      "<class 'int'>\n"
     ]
    }
   ],
   "source": [
    "print(end.day)\n",
    "print(type(end.day))"
   ],
   "metadata": {
    "collapsed": false,
    "pycharm": {
     "name": "#%%\n"
    }
   }
  },
  {
   "cell_type": "code",
   "execution_count": 16,
   "outputs": [
    {
     "name": "stdout",
     "output_type": "stream",
     "text": [
      "Function add  time cost : 0:00:003\n"
     ]
    }
   ],
   "source": [
    "def Timer(func):\n",
    "    @wraps(func)\n",
    "    def wrapper(*args, **kwargs):\n",
    "        start_time = datetime.datetime.now()\n",
    "        result = func(*args, **kwargs)\n",
    "        end_time = datetime.datetime.now()\n",
    "        print('Function {name} '.format(name=func.__name__), \"time cost : {time_cost}\".format(time_cost=end_time-start_time), end=\"\")\n",
    "        return result\n",
    "    return wrapper\n",
    "\n",
    "@Timer\n",
    "def add(a, b):\n",
    "    return a + b\n",
    "\n",
    "print(add(a=1, b=2))"
   ],
   "metadata": {
    "collapsed": false,
    "pycharm": {
     "name": "#%%\n"
    }
   }
  }
 ],
 "metadata": {
  "kernelspec": {
   "display_name": "Python 3",
   "language": "python",
   "name": "python3"
  },
  "language_info": {
   "codemirror_mode": {
    "name": "ipython",
    "version": 2
   },
   "file_extension": ".py",
   "mimetype": "text/x-python",
   "name": "python",
   "nbconvert_exporter": "python",
   "pygments_lexer": "ipython2",
   "version": "2.7.6"
  }
 },
 "nbformat": 4,
 "nbformat_minor": 0
}