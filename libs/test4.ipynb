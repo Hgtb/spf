{
 "cells": [
  {
   "cell_type": "code",
   "execution_count": 5,
   "metadata": {
    "collapsed": true
   },
   "outputs": [],
   "source": [
    "import tushare as ts\n",
    "import pandas as pd\n",
    "# 初始化pro接口\n",
    "pro = ts.pro_api('b54bfb5fc70a78e4962b8c55911b93a0a4ddd4c764115aeee3c301a3')\n",
    "\n",
    "# 拉取数据\n",
    "df = pro.daily_basic(**{\n",
    "    \"ts_code\": \"\",\n",
    "    \"trade_date\": 20091208,\n",
    "    \"start_date\": \"\",\n",
    "    \"end_date\": \"\",\n",
    "    \"limit\": \"\",\n",
    "    \"offset\": \"\"\n",
    "}, fields=[\n",
    "    \"ts_code\",\n",
    "    \"trade_date\",\n",
    "    \"close\",\n",
    "    \"turnover_rate\",\n",
    "    \"turnover_rate_f\",\n",
    "    \"volume_ratio\",\n",
    "    \"pb\",\n",
    "    \"free_share\",\n",
    "    \"circ_mv\",\n",
    "    \"dv_ratio\",\n",
    "    \"ps\",\n",
    "    \"pe\"\n",
    "])\n",
    "stockList = pd.read_csv(\"../stockList.csv\")\n",
    "df1 = pd.merge(df, stockList, how=\"inner\")\n",
    "df1 = df1.sort_values(\"ts_code\")\n",
    "df1 = df1.reset_index(drop=True)\n",
    "df1.to_csv(\"df1.csv\")\n"
   ]
  },
  {
   "cell_type": "code",
   "execution_count": 4,
   "outputs": [
    {
     "name": "stderr",
     "output_type": "stream",
     "text": [
      " 90%|█████████ | 9/10 [00:09<00:01,  1.00s/it]"
     ]
    },
    {
     "name": "stdout",
     "output_type": "stream",
     "text": [
      "8\n"
     ]
    },
    {
     "name": "stderr",
     "output_type": "stream",
     "text": [
      "100%|██████████| 10/10 [00:10<00:00,  1.00s/it]"
     ]
    },
    {
     "name": "stdout",
     "output_type": "stream",
     "text": [
      "9\n"
     ]
    },
    {
     "name": "stderr",
     "output_type": "stream",
     "text": [
      "100%|██████████| 10/10 [00:11<00:00,  1.10s/it]\n",
      "  1%|          | 1/100 [00:01<01:39,  1.00s/it]"
     ]
    },
    {
     "name": "stdout",
     "output_type": "stream",
     "text": [
      "0\n"
     ]
    },
    {
     "name": "stderr",
     "output_type": "stream",
     "text": [
      "  2%|▏         | 2/100 [00:02<01:38,  1.00s/it]"
     ]
    },
    {
     "name": "stdout",
     "output_type": "stream",
     "text": [
      "1\n"
     ]
    },
    {
     "name": "stderr",
     "output_type": "stream",
     "text": [
      "  3%|▎         | 3/100 [00:03<01:37,  1.00s/it]"
     ]
    },
    {
     "name": "stdout",
     "output_type": "stream",
     "text": [
      "2\n"
     ]
    },
    {
     "name": "stderr",
     "output_type": "stream",
     "text": [
      "  4%|▍         | 4/100 [00:04<01:36,  1.00s/it]"
     ]
    },
    {
     "name": "stdout",
     "output_type": "stream",
     "text": [
      "3\n"
     ]
    },
    {
     "name": "stderr",
     "output_type": "stream",
     "text": [
      "  5%|▌         | 5/100 [00:05<01:35,  1.00s/it]"
     ]
    },
    {
     "name": "stdout",
     "output_type": "stream",
     "text": [
      "4\n"
     ]
    },
    {
     "name": "stderr",
     "output_type": "stream",
     "text": [
      "  6%|▌         | 6/100 [00:06<01:34,  1.00s/it]"
     ]
    },
    {
     "name": "stdout",
     "output_type": "stream",
     "text": [
      "5\n"
     ]
    },
    {
     "name": "stderr",
     "output_type": "stream",
     "text": [
      "  7%|▋         | 7/100 [00:07<01:33,  1.00s/it]"
     ]
    },
    {
     "name": "stdout",
     "output_type": "stream",
     "text": [
      "6\n"
     ]
    },
    {
     "name": "stderr",
     "output_type": "stream",
     "text": [
      "  8%|▊         | 8/100 [00:08<01:32,  1.00s/it]"
     ]
    },
    {
     "name": "stdout",
     "output_type": "stream",
     "text": [
      "7\n"
     ]
    },
    {
     "name": "stderr",
     "output_type": "stream",
     "text": [
      "  9%|▉         | 9/100 [00:09<01:31,  1.00s/it]"
     ]
    },
    {
     "name": "stdout",
     "output_type": "stream",
     "text": [
      "8\n"
     ]
    },
    {
     "name": "stderr",
     "output_type": "stream",
     "text": [
      " 10%|█         | 10/100 [00:10<01:30,  1.00s/it]"
     ]
    },
    {
     "name": "stdout",
     "output_type": "stream",
     "text": [
      "9\n"
     ]
    },
    {
     "name": "stderr",
     "output_type": "stream",
     "text": [
      " 10%|█         | 10/100 [00:11<01:39,  1.10s/it]\n"
     ]
    }
   ],
   "source": [
    "from tqdm import tqdm\n",
    "from time import sleep\n",
    "class IterTest:\n",
    "    def __init__(self):\n",
    "        self.data = [_i for _i in range(0, 10)]\n",
    "        self.shifter = -1\n",
    "\n",
    "    def __iter__(self):\n",
    "        return self\n",
    "\n",
    "    def __len__(self):\n",
    "        return 100\n",
    "\n",
    "    def __next__(self):\n",
    "        self.shifter += 1\n",
    "        try:\n",
    "            sleep(0.1)\n",
    "            return self.data[self.shifter]\n",
    "        except:\n",
    "            raise StopIteration\n",
    "\n",
    "\n",
    "iterTest = IterTest()\n",
    "for i in tqdm(iterTest):\n",
    "    print(i)\n"
   ],
   "metadata": {
    "collapsed": false,
    "pycharm": {
     "name": "#%%\n"
    }
   }
  },
  {
   "cell_type": "code",
   "execution_count": 8,
   "outputs": [
    {
     "name": "stdout",
     "output_type": "stream",
     "text": [
      "8\n",
      "[[...], [...], [...], [...], [...], [...], [...], [...]]\n"
     ]
    }
   ],
   "source": [
    "print(len(all_opera))\n",
    "print(all_opera)"
   ],
   "metadata": {
    "collapsed": false,
    "pycharm": {
     "name": "#%%\n"
    }
   }
  },
  {
   "cell_type": "code",
   "execution_count": 9,
   "outputs": [
    {
     "name": "stdout",
     "output_type": "stream",
     "text": [
      "[[...], [...], [...], [...], [...], [...], [...], [...]]\n"
     ]
    }
   ],
   "source": [
    "print(all_opera[0])"
   ],
   "metadata": {
    "collapsed": false,
    "pycharm": {
     "name": "#%%\n"
    }
   }
  },
  {
   "cell_type": "code",
   "execution_count": 12,
   "outputs": [
    {
     "name": "stdout",
     "output_type": "stream",
     "text": [
      "[[...], [...], [...], [...], [...], [...], [...], [...]]\n"
     ]
    }
   ],
   "source": [
    "print(all_opera[0][0][0][0][0][0])"
   ],
   "metadata": {
    "collapsed": false,
    "pycharm": {
     "name": "#%%\n"
    }
   }
  },
  {
   "cell_type": "code",
   "execution_count": 2,
   "outputs": [
    {
     "name": "stdout",
     "output_type": "stream",
     "text": [
      "libs :  D:\\python\\NeuralNetwork\\StockPriceForecast\\libs\n",
      "D:\\python\\NeuralNetwork\\StockPriceForecast\\libs\n",
      "['C:\\\\Users\\\\han_b\\\\AppData\\\\Local\\\\JetBrains\\\\Toolbox\\\\apps\\\\PyCharm-P\\\\ch-0\\\\212.5457.59\\\\plugins\\\\python\\\\helpers-pro\\\\jupyter_debug', 'C:\\\\Users\\\\han_b\\\\AppData\\\\Local\\\\JetBrains\\\\Toolbox\\\\apps\\\\PyCharm-P\\\\ch-0\\\\212.5457.59\\\\plugins\\\\python\\\\helpers\\\\pydev', 'D:\\\\python\\\\NeuralNetwork\\\\StockPriceForecast\\\\libs', 'D:\\\\python\\\\NeuralNetwork\\\\StockPriceForecast', 'C:\\\\Users\\\\han_b\\\\anaconda3\\\\python38.zip', 'C:\\\\Users\\\\han_b\\\\anaconda3\\\\DLLs', 'C:\\\\Users\\\\han_b\\\\anaconda3\\\\lib', 'C:\\\\Users\\\\han_b\\\\anaconda3', '', 'C:\\\\Users\\\\han_b\\\\AppData\\\\Roaming\\\\Python\\\\Python38\\\\site-packages', 'C:\\\\Users\\\\han_b\\\\anaconda3\\\\lib\\\\site-packages', 'C:\\\\Users\\\\han_b\\\\anaconda3\\\\lib\\\\site-packages\\\\locket-0.2.1-py3.8.egg', 'C:\\\\Users\\\\han_b\\\\anaconda3\\\\lib\\\\site-packages\\\\win32', 'C:\\\\Users\\\\han_b\\\\anaconda3\\\\lib\\\\site-packages\\\\win32\\\\lib', 'C:\\\\Users\\\\han_b\\\\anaconda3\\\\lib\\\\site-packages\\\\Pythonwin', 'C:\\\\Users\\\\han_b\\\\anaconda3\\\\lib\\\\site-packages\\\\IPython\\\\extensions', 'C:\\\\Users\\\\han_b\\\\.ipython', 'D:\\\\python\\\\NeuralNetwork\\\\StockPriceForecast\\\\libs\\\\modules/', 'D:\\\\python\\\\NeuralNetwork\\\\StockPriceForecast\\\\libs', 'D:\\\\python\\\\NeuralNetwork\\\\StockPriceForecast\\\\libs', 'D:\\\\python\\\\NeuralNetwork\\\\StockPriceForecast\\\\libs\\\\modules/', 'D:\\\\python\\\\NeuralNetwork\\\\StockPriceForecast\\\\libs']\n",
      "Hello, This is Test\n",
      "<module 'torch.version' from 'C:\\\\Users\\\\han_b\\\\anaconda3\\\\lib\\\\site-packages\\\\torch\\\\version.py'>\n"
     ]
    }
   ],
   "source": [
    "from libs.modules import Test\n",
    "te = Test()\n",
    "te.print()\n",
    "te.test()"
   ],
   "metadata": {
    "collapsed": false,
    "pycharm": {
     "name": "#%%\n"
    }
   }
  },
  {
   "cell_type": "code",
   "execution_count": 2,
   "outputs": [
    {
     "name": "stdout",
     "output_type": "stream",
     "text": [
      "Hello, This is Test\n"
     ]
    }
   ],
   "source": [
    "from libs import *\n",
    "test = modules.Test1()\n",
    "test.testPrint()\n"
   ],
   "metadata": {
    "collapsed": false,
    "pycharm": {
     "name": "#%%\n"
    }
   }
  },
  {
   "cell_type": "code",
   "execution_count": 1,
   "outputs": [],
   "source": [
    "import pandas as pd\n",
    "import tushare as ts\n",
    "from tqdm import tqdm\n",
    "from libs.functions import *\n",
    "\n",
    "token = \"b54bfb5fc70a78e4962b8c55911b93a0a4ddd4c764115aeee3c301a3\"\n",
    "ts.set_token(token)\n",
    "pro = ts.pro_api()\n",
    "wait = FrequencyLimitation()"
   ],
   "metadata": {
    "collapsed": false,
    "pycharm": {
     "name": "#%%\n"
    }
   }
  },
  {
   "cell_type": "code",
   "execution_count": 14,
   "outputs": [],
   "source": [
    "trade_cal = pro.trade_cal(**{\"start_date\": 20090807, \"end_date\": 20100104, \"is_open\": 1}, fields=[\"cal_date\"])\n",
    "trade_cal.set_axis([\"trade_date\"], axis='columns', inplace=True)\n",
    "trade_cal = list(trade_cal[\"trade_date\"])\n",
    "\n",
    "wait()\n",
    "# 可使用 pro.stock_basic(fields=[\"ts_code\"]) 获取最新所有股票的列表，但是未来股票数量会超过单次数据调取上限\n",
    "latestStockList = pd.concat([pro.stock_basic(**{\"exchange\": \"SZSE\"}, fields=[\"ts_code\"]),\n",
    "                             pro.stock_basic(**{\"exchange\": \"SSE\"}, fields=[\"ts_code\"])],\n",
    "                                    ignore_index=True)"
   ],
   "metadata": {
    "collapsed": false,
    "pycharm": {
     "name": "#%%\n"
    }
   }
  },
  {
   "cell_type": "code",
   "execution_count": 20,
   "outputs": [
    {
     "name": "stdout",
     "output_type": "stream",
     "text": [
      "20090807  :  1440\n",
      "20090807\n",
      "0       000001.SZ\n",
      "1       000002.SZ\n",
      "2       000005.SZ\n",
      "3       000006.SZ\n",
      "4       000007.SZ\n",
      "          ...    \n",
      "1435    601958.SH\n",
      "1436    601988.SH\n",
      "1437    601991.SH\n",
      "1438    601998.SH\n",
      "1439    601999.SH\n",
      "Name: ts_code, Length: 1440, dtype: object\n"
     ]
    }
   ],
   "source": [
    "for date in trade_cal:\n",
    "    wait()\n",
    "    daily = pro.daily(**{\"trade_date\": date, }, fields=[\"ts_code\"])\n",
    "    wait()\n",
    "    dailyStart = pro.daily(**{\"trade_date\": 20100104, }, fields=[\"ts_code\"])\n",
    "    stock_list = pd.merge(latestStockList, daily[\"ts_code\"], how=\"inner\")[\"ts_code\"]\n",
    "    stock_list = pd.merge(stock_list, dailyStart[\"ts_code\"], how=\"inner\")[\"ts_code\"]\n",
    "    stock_list = stock_list.sort_values()\n",
    "    stock_list = stock_list.reset_index(drop=True)\n",
    "\n",
    "    print(date, \" : \", len(stock_list))\n",
    "    if len(stock_list) == 1440:\n",
    "        print(date)\n",
    "        print(stock_list)\n",
    "        break\n",
    "\n",
    "# 20090807"
   ],
   "metadata": {
    "collapsed": false,
    "pycharm": {
     "name": "#%%\n"
    }
   }
  },
  {
   "cell_type": "code",
   "execution_count": 1,
   "outputs": [
    {
     "name": "stdout",
     "output_type": "stream",
     "text": [
      "        ts_code\n",
      "917   000001.SZ\n",
      "857   000002.SZ\n",
      "562   000004.SZ\n",
      "1478  000005.SZ\n",
      "916   000006.SZ\n",
      "...         ...\n",
      "1057  601958.SH\n",
      "406   601988.SH\n",
      "313   601991.SH\n",
      "172   601998.SH\n",
      "1192  601999.SH\n",
      "\n",
      "[1527 rows x 1 columns]\n",
      "0       000001.SZ\n",
      "1       000002.SZ\n",
      "2       000005.SZ\n",
      "3       000006.SZ\n",
      "4       000007.SZ\n",
      "          ...    \n",
      "1435    601958.SH\n",
      "1436    601988.SH\n",
      "1437    601991.SH\n",
      "1438    601998.SH\n",
      "1439    601999.SH\n",
      "Name: ts_code, Length: 1440, dtype: object\n"
     ]
    }
   ],
   "source": [
    "from getData import DownloadData\n",
    "download = DownloadData(\"b54bfb5fc70a78e4962b8c55911b93a0a4ddd4c764115aeee3c301a3\")\n",
    "download.storeStockList()"
   ],
   "metadata": {
    "collapsed": false,
    "pycharm": {
     "name": "#%%\n"
    }
   }
  },
  {
   "cell_type": "code",
   "execution_count": null,
   "outputs": [],
   "source": [
    "w.wsd(\"300720.SZ\", \"pe_ttm,risk_revsvarratio,west_netprofit_fy1_1m,close3,fa_eps_basic,tech_volume1m60,tech_MA60,tech_cyf,tech_vosc,BOLL\", \"2018-09-16\", \"2022-04-21\", \"unit=1;BOLL_N=26;BOLL_Width=2;BOLL_IO=1;Fill=Previous;Currency=CNY;PriceAdj=B\")"
   ],
   "metadata": {
    "collapsed": false,
    "pycharm": {
     "name": "#%%\n"
    }
   }
  },
  {
   "cell_type": "code",
   "execution_count": 2,
   "outputs": [
    {
     "ename": "NameError",
     "evalue": "name 'w' is not defined",
     "output_type": "error",
     "traceback": [
      "\u001B[1;31m---------------------------------------------------------------------------\u001B[0m",
      "\u001B[1;31mNameError\u001B[0m                                 Traceback (most recent call last)",
      "\u001B[1;32m<ipython-input-2-49ac08af2399>\u001B[0m in \u001B[0;36m<module>\u001B[1;34m\u001B[0m\n\u001B[1;32m----> 1\u001B[1;33m \u001B[0mdata\u001B[0m \u001B[1;33m=\u001B[0m \u001B[0mw\u001B[0m\u001B[1;33m.\u001B[0m\u001B[0mwsd\u001B[0m\u001B[1;33m(\u001B[0m\u001B[1;34m\"pe_ttm,risk_revsvarratio,west_netprofit_fy1_1m,close3,fa_eps_basic,tech_volume1m60,tech_MA60,tech_cyf,tech_vosc,BOLL\"\u001B[0m\u001B[1;33m,\u001B[0m \u001B[1;34m\"2018-09-16\"\u001B[0m\u001B[1;33m,\u001B[0m \u001B[1;34m\"unit=1;BOLL_N=26;BOLL_Width=2;BOLL_IO=1;Fill=Previous;Currency=CNY;PriceAdj=B\"\u001B[0m\u001B[1;33m)\u001B[0m\u001B[1;33m\u001B[0m\u001B[1;33m\u001B[0m\u001B[0m\n\u001B[0m",
      "\u001B[1;31mNameError\u001B[0m: name 'w' is not defined"
     ]
    }
   ],
   "source": [
    "data = w.wsd(\"000001.SZ\", \"pe_ttm,risk_revsvarratio,west_netprofit_fy1_1m,close3,fa_eps_basic,tech_volume1m60,tech_MA60,tech_cyf,tech_vosc,BOLL\", \"2010-01-04\", \"2022-04-21\", \"unit=1;BOLL_N=26;BOLL_Width=2;BOLL_IO=1;Fill=Previous;Currency=CNY;PriceAdj=B\")\n",
    "print(type(data))\n",
    "print(type(data.data))\n",
    "print(data.data)"
   ],
   "metadata": {
    "collapsed": false,
    "pycharm": {
     "name": "#%%\n"
    }
   }
  },
  {
   "cell_type": "code",
   "execution_count": 18,
   "outputs": [],
   "source": [
    "latestStockList = pd.concat([pro.stock_basic(**{\"exchange\": \"SZSE\"}, fields=[\"ts_code\"]),\n",
    "                             pro.stock_basic(**{\"exchange\": \"SSE\"}, fields=[\"ts_code\"])],\n",
    "                                    ignore_index=True)\n",
    "wait()\n",
    "daily = pro.daily(**{\"trade_date\": 20090807}, fields=[\"ts_code\"])  # 最后一个1440支股票的日期是20080916\n",
    "\n",
    "# 取开始日期的股票列表与最新股票列表的交集，删去退市股票\n",
    "stockList = pd.merge(latestStockList, daily[\"ts_code\"], how=\"inner\")[\"ts_code\"]  # type(stockList) = pd.Series\n",
    "stockList = stockList.sort_values()\n",
    "stockList = stockList.reset_index(drop=True)"
   ],
   "metadata": {
    "collapsed": false,
    "pycharm": {
     "name": "#%%\n"
    }
   }
  },
  {
   "cell_type": "code",
   "execution_count": 19,
   "outputs": [
    {
     "name": "stdout",
     "output_type": "stream",
     "text": [
      "0       000001.SZ\n",
      "1       000002.SZ\n",
      "2       000004.SZ\n",
      "3       000005.SZ\n",
      "4       000006.SZ\n",
      "          ...    \n",
      "1464    601958.SH\n",
      "1465    601988.SH\n",
      "1466    601991.SH\n",
      "1467    601998.SH\n",
      "1468    601999.SH\n",
      "Name: ts_code, Length: 1469, dtype: object\n"
     ]
    }
   ],
   "source": [
    "print(stockList)"
   ],
   "metadata": {
    "collapsed": false,
    "pycharm": {
     "name": "#%%\n"
    }
   }
  },
  {
   "cell_type": "code",
   "execution_count": 4,
   "outputs": [
    {
     "name": "stdout",
     "output_type": "stream",
     "text": [
      "        ts_code\n",
      "0     000001.SZ\n",
      "1     000002.SZ\n",
      "2     000004.SZ\n",
      "3     000005.SZ\n",
      "4     000006.SZ\n",
      "...         ...\n",
      "4697  688799.SH\n",
      "4698  688800.SH\n",
      "4699  688819.SH\n",
      "4700  688981.SH\n",
      "4701  689009.SH\n",
      "\n",
      "[4702 rows x 1 columns]\n"
     ]
    }
   ],
   "source": [
    "print(latestStockList)"
   ],
   "metadata": {
    "collapsed": false,
    "pycharm": {
     "name": "#%%\n"
    }
   }
  },
  {
   "cell_type": "code",
   "execution_count": 7,
   "outputs": [
    {
     "name": "stdout",
     "output_type": "stream",
     "text": [
      "        ts_code\n",
      "641   000001.SZ\n",
      "1179  000002.SZ\n",
      "44    000004.SZ\n",
      "919   000005.SZ\n",
      "609   000006.SZ\n",
      "...         ...\n",
      "848   601958.SH\n",
      "1395  601988.SH\n",
      "28    601991.SH\n",
      "1327  601998.SH\n",
      "431   601999.SH\n",
      "\n",
      "[1506 rows x 1 columns]\n"
     ]
    }
   ],
   "source": [
    "print(daily.sort_values(by=\"ts_code\"))"
   ],
   "metadata": {
    "collapsed": false,
    "pycharm": {
     "name": "#%%\n"
    }
   }
  },
  {
   "cell_type": "code",
   "execution_count": null,
   "outputs": [],
   "source": [],
   "metadata": {
    "collapsed": false,
    "pycharm": {
     "name": "#%%\n"
    }
   }
  },
  {
   "cell_type": "code",
   "execution_count": 1,
   "outputs": [
    {
     "name": "stderr",
     "output_type": "stream",
     "text": [
      "Load daily data: 100%|██████████| 3159/3159 [00:10<00:00, 307.52it/s]\n"
     ]
    },
    {
     "name": "stdout",
     "output_type": "stream",
     "text": [
      "(3159, 1440, 11)\n"
     ]
    }
   ],
   "source": [
    "from libs import *\n",
    "import os\n",
    "dataProcess = DataProcess()\n",
    "dataProcess.loadData()\n",
    "print(dataProcess.dailyData.shape)"
   ],
   "metadata": {
    "collapsed": false,
    "pycharm": {
     "name": "#%%\n"
    }
   }
  },
  {
   "cell_type": "code",
   "execution_count": 2,
   "outputs": [
    {
     "name": "stdout",
     "output_type": "stream",
     "text": [
      "(3159, 1440, 9)\n"
     ]
    }
   ],
   "source": [
    "dataProcess.dropDataFrame([\"ts_code\", \"trade_date\"], dim=\"Parameter\")\n",
    "print(dataProcess.dailyData.shape)"
   ],
   "metadata": {
    "collapsed": false,
    "pycharm": {
     "name": "#%%\n"
    }
   }
  },
  {
   "cell_type": "code",
   "execution_count": 3,
   "outputs": [],
   "source": [
    "dataProcess.copyDataFrame(label=\"close\", dim=\"Parameter\")\n",
    "print(dataProcess.dailyData.shape)"
   ],
   "metadata": {
    "collapsed": false,
    "pycharm": {
     "name": "#%%\n"
    }
   }
  },
  {
   "cell_type": "code",
   "execution_count": 4,
   "outputs": [
    {
     "name": "stdout",
     "output_type": "stream",
     "text": [
      "(3159, 1440, 10)\n"
     ]
    }
   ],
   "source": [
    "print(dataProcess.dailyData.shape)"
   ],
   "metadata": {
    "collapsed": false,
    "pycharm": {
     "name": "#%%\n"
    }
   }
  },
  {
   "cell_type": "code",
   "execution_count": 9,
   "outputs": [
    {
     "name": "stdout",
     "output_type": "stream",
     "text": [
      "<xarray.DataArray 'Parameter' (Parameter: 10)>\n",
      "array(['close', 'open', 'high', 'low', 'close', 'pre_close', 'change',\n",
      "       'pct_chg', 'vol', 'amount'], dtype='<U10')\n",
      "Coordinates:\n",
      "  * Parameter  (Parameter) <U10 'close' 'open' 'high' ... 'vol' 'amount'\n"
     ]
    }
   ],
   "source": [
    "print(dataProcess.dailyData.Parameter)\n",
    "dataProcess.storeData()"
   ],
   "metadata": {
    "collapsed": false,
    "pycharm": {
     "name": "#%%\n"
    }
   }
  },
  {
   "cell_type": "code",
   "execution_count": 10,
   "outputs": [
    {
     "name": "stdout",
     "output_type": "stream",
     "text": [
      "torch.Size([360, 1440, 10])\n"
     ]
    }
   ],
   "source": [
    "from os.path import join\n",
    "dataSetPath = \"../dataSet/\"\n",
    "dataSet = DataSet(dataSetPath=join(dataSetPath, \"data/marketData/data.nc\"))\n",
    "dataTrain, _ = dataSet[0]\n",
    "print(dataTrain.shape)"
   ],
   "metadata": {
    "collapsed": false,
    "pycharm": {
     "name": "#%%\n"
    }
   }
  },
  {
   "cell_type": "code",
   "execution_count": 25,
   "outputs": [
    {
     "name": "stdout",
     "output_type": "stream",
     "text": [
      "torch.Size([360, 1, 120, 120])\n"
     ]
    }
   ],
   "source": [
    "dataTrain2 = dataTrain.reshape(360, 1, 120, 120)\n",
    "print(dataTrain2.shape)"
   ],
   "metadata": {
    "collapsed": false,
    "pycharm": {
     "name": "#%%\n"
    }
   }
  },
  {
   "cell_type": "code",
   "execution_count": 13,
   "outputs": [],
   "source": [
    "dataTrain_dataFrame = dataTrain[0]\n",
    "dataTrain2_dataFrame = dataTrain2[0]"
   ],
   "metadata": {
    "collapsed": false,
    "pycharm": {
     "name": "#%%\n"
    }
   }
  },
  {
   "cell_type": "code",
   "execution_count": 14,
   "outputs": [
    {
     "name": "stdout",
     "output_type": "stream",
     "text": [
      "tensor([[ 8.5133e+02,  8.8042e+02,  8.8257e+02,  ..., -2.7100e+00,\n",
      "          2.4192e+05,  5.8025e+05],\n",
      "        [ 1.1745e+03,  1.2022e+03,  1.2044e+03,  ..., -1.9400e+00,\n",
      "          9.6983e+05,  1.0343e+06],\n",
      "        [ 5.5515e+01,  5.5701e+01,  5.6071e+01,  ..., -5.0000e-01,\n",
      "          2.2358e+05,  1.3348e+05],\n",
      "        ...,\n",
      "        [ 1.8493e+01,  1.8679e+01,  1.8844e+01,  ..., -9.9000e-01,\n",
      "          6.5330e+04,  5.8852e+04],\n",
      "        [ 8.2637e+00,  8.4992e+00,  8.5197e+00,  ..., -1.9400e+00,\n",
      "          7.5368e+05,  6.1210e+05],\n",
      "        [ 1.1417e+01,  1.1296e+01,  1.1598e+01,  ...,  8.9000e-01,\n",
      "          6.2904e+04,  7.1706e+04]])\n"
     ]
    }
   ],
   "source": [
    "print(dataTrain_dataFrame)"
   ],
   "metadata": {
    "collapsed": false,
    "pycharm": {
     "name": "#%%\n"
    }
   }
  },
  {
   "cell_type": "code",
   "execution_count": 15,
   "outputs": [
    {
     "name": "stdout",
     "output_type": "stream",
     "text": [
      "tensor([[ 8.5133e+02,  8.8042e+02,  8.8257e+02,  ...,  6.7000e-01,\n",
      "          3.0239e+04,  3.1903e+04],\n",
      "        [ 1.9482e+01,  1.9097e+01,  1.9868e+01,  ..., -2.0300e+00,\n",
      "          2.1724e+04,  1.4774e+04],\n",
      "        [ 4.6470e+01,  4.5773e+01,  4.7027e+01,  ..., -1.0900e+00,\n",
      "          5.8601e+04,  5.9031e+04],\n",
      "        ...,\n",
      "        [ 8.5886e+00,  8.6190e+00,  8.7001e+00,  ..., -2.0300e+00,\n",
      "          1.1417e+06,  1.0585e+06],\n",
      "        [ 4.9418e+00,  5.0256e+00,  5.0675e+00,  ..., -1.3700e+00,\n",
      "          3.3718e+05,  4.6290e+05],\n",
      "        [ 4.6066e+00,  4.6872e+00,  4.6973e+00,  ...,  8.9000e-01,\n",
      "          6.2904e+04,  7.1706e+04]])\n"
     ]
    }
   ],
   "source": [
    "print(dataTrain2_dataFrame)"
   ],
   "metadata": {
    "collapsed": false,
    "pycharm": {
     "name": "#%%\n"
    }
   }
  },
  {
   "cell_type": "code",
   "execution_count": 21,
   "outputs": [],
   "source": [
    "import pandas as pd\n",
    "# dataTrain_dataFrame = pd.DataFrame(dataTrain_dataFrame.data)\n",
    "dataTrain_dataFrame.to_csv(\"Data1.csv\")"
   ],
   "metadata": {
    "collapsed": false,
    "pycharm": {
     "name": "#%%\n"
    }
   }
  },
  {
   "cell_type": "code",
   "execution_count": 18,
   "outputs": [
    {
     "name": "stdout",
     "output_type": "stream",
     "text": [
      "<class 'torch.Tensor'>\n"
     ]
    }
   ],
   "source": [
    "print(type(dataTrain_dataFrame.data))"
   ],
   "metadata": {
    "collapsed": false,
    "pycharm": {
     "name": "#%%\n"
    }
   }
  },
  {
   "cell_type": "code",
   "execution_count": 22,
   "outputs": [],
   "source": [
    "dataTrain2_dataFrame = pd.DataFrame(dataTrain2_dataFrame.data)\n",
    "dataTrain2_dataFrame.to_csv(\"Data2.csv\")"
   ],
   "metadata": {
    "collapsed": false,
    "pycharm": {
     "name": "#%%\n"
    }
   }
  },
  {
   "cell_type": "code",
   "execution_count": 2,
   "outputs": [
    {
     "name": "stdout",
     "output_type": "stream",
     "text": [
      "3159\n",
      "1000\n"
     ]
    }
   ],
   "source": [
    "from dataLoader import DataSet\n",
    "dataSet = DataSet(dataSetPath=\"../dataSet/data/marketData/data.nc\")\n",
    "print(len(dataSet))\n",
    "test = dataSet.sel(startIndex=0, endIndex=1000, inplace=False)\n",
    "print(len(test))"
   ],
   "metadata": {
    "collapsed": false,
    "pycharm": {
     "name": "#%%\n"
    }
   }
  },
  {
   "cell_type": "code",
   "execution_count": 1,
   "outputs": [],
   "source": [
    "import torch\n",
    "import torch.nn as nn\n",
    "\n",
    "lstm = nn.LSTM(input_size=2048, hidden_size=4096, num_layers=3).cuda()\n",
    "\n",
    "testData = torch.rand([360, 1, 2048]).cuda()"
   ],
   "metadata": {
    "collapsed": false,
    "pycharm": {
     "name": "#%%\n"
    }
   }
  },
  {
   "cell_type": "code",
   "execution_count": 2,
   "outputs": [],
   "source": [
    "out, _ = lstm(testData)"
   ],
   "metadata": {
    "collapsed": false,
    "pycharm": {
     "name": "#%%\n"
    }
   }
  },
  {
   "cell_type": "markdown",
   "source": [
    "nn.LSTM(input_size=2048, hidden_size=4096, num_layers=3)   0.7 -> 4.3GB\n",
    "输入 [360, 1, 2048] 数据   5.7GB\n",
    "再次输入lstm中，显存不变"
   ],
   "metadata": {
    "collapsed": false,
    "pycharm": {
     "name": "#%% md\n"
    }
   }
  },
  {
   "cell_type": "code",
   "execution_count": 7,
   "outputs": [
    {
     "name": "stdout",
     "output_type": "stream",
     "text": [
      "torch.Size([360, 1, 4096])\n"
     ]
    }
   ],
   "source": [
    "print(out.shape)"
   ],
   "metadata": {
    "collapsed": false,
    "pycharm": {
     "name": "#%%\n"
    }
   }
  },
  {
   "cell_type": "code",
   "execution_count": 1,
   "outputs": [],
   "source": [
    "import torch\n",
    "import torch.nn as nn\n",
    "\n",
    "GRU = nn.GRU(input_size=2048, hidden_size=4096, num_layers=3).cuda()\n",
    "\n",
    "testData = torch.rand([360, 1, 2048]).cuda()"
   ],
   "metadata": {
    "collapsed": false,
    "pycharm": {
     "name": "#%%\n"
    }
   }
  },
  {
   "cell_type": "code",
   "execution_count": 2,
   "outputs": [],
   "source": [
    "out, _ = GRU(testData)"
   ],
   "metadata": {
    "collapsed": false,
    "pycharm": {
     "name": "#%%\n"
    }
   }
  },
  {
   "cell_type": "markdown",
   "source": [
    "nn.LSTM(input_size=2048, hidden_size=4096, num_layers=3)   0.7 -> 3.6GB\n",
    "输入 [360, 1, 2048] 数据   4.7GB\n",
    "再次输入lstm中，显存不变\n",
    "\n",
    "输出 [360, 1, 4096]"
   ],
   "metadata": {
    "collapsed": false,
    "pycharm": {
     "name": "#%% md\n"
    }
   }
  },
  {
   "cell_type": "code",
   "execution_count": 3,
   "outputs": [
    {
     "name": "stdout",
     "output_type": "stream",
     "text": [
      "torch.Size([360, 1, 4096])\n"
     ]
    }
   ],
   "source": [
    "print(out.shape)"
   ],
   "metadata": {
    "collapsed": false,
    "pycharm": {
     "name": "#%%\n"
    }
   }
  },
  {
   "cell_type": "code",
   "execution_count": 1,
   "outputs": [
    {
     "name": "stderr",
     "output_type": "stream",
     "text": [
      "C:\\Users\\han_b\\anaconda3\\lib\\site-packages\\apex-0.1-py3.8.egg\\apex\\pyprof\\__init__.py:5: FutureWarning: pyprof will be removed by the end of June, 2022\n",
      "  warnings.warn(\"pyprof will be removed by the end of June, 2022\", FutureWarning)\n"
     ]
    }
   ],
   "source": [
    "import apex"
   ],
   "metadata": {
    "collapsed": false,
    "pycharm": {
     "name": "#%%\n"
    }
   }
  },
  {
   "cell_type": "code",
   "execution_count": 3,
   "outputs": [],
   "source": [
    "def AutoTimeTransform(sec):\n",
    "    # _time = \"\"\n",
    "    minutes = 0\n",
    "    hours = 0\n",
    "    if sec >= 60:\n",
    "        minutes = sec // 60\n",
    "        sec = sec % 60\n",
    "    if minutes >= 60:\n",
    "        hours = minutes // 60\n",
    "        minutes = minutes % 60\n",
    "    return [hours, minutes, sec]"
   ],
   "metadata": {
    "collapsed": false,
    "pycharm": {
     "name": "#%%\n"
    }
   }
  },
  {
   "cell_type": "code",
   "execution_count": 7,
   "outputs": [
    {
     "name": "stdout",
     "output_type": "stream",
     "text": [
      "[1.0, 0.0, 2.0345000000002074]\n"
     ]
    }
   ],
   "source": [],
   "metadata": {
    "collapsed": false,
    "pycharm": {
     "name": "#%%\n"
    }
   }
  },
  {
   "cell_type": "code",
   "execution_count": 1,
   "outputs": [],
   "source": [
    "from dataLoader import DataSet\n",
    "dataSet = DataSet(dataSetPath=\"../dataSet/data/marketData/data.nc\")"
   ],
   "metadata": {
    "collapsed": false,
    "pycharm": {
     "name": "#%%\n"
    }
   }
  },
  {
   "cell_type": "code",
   "execution_count": 2,
   "outputs": [
    {
     "name": "stdout",
     "output_type": "stream",
     "text": [
      "<class 'xarray.core.dataarray.DataArray'>\n"
     ]
    }
   ],
   "source": [
    "t = dataSet.isel(0, 1, inplace=False)\n",
    "print(type(t))"
   ],
   "metadata": {
    "collapsed": false,
    "pycharm": {
     "name": "#%%\n"
    }
   }
  }
 ],
 "metadata": {
  "kernelspec": {
   "display_name": "Python 3",
   "language": "python",
   "name": "python3"
  },
  "language_info": {
   "codemirror_mode": {
    "name": "ipython",
    "version": 2
   },
   "file_extension": ".py",
   "mimetype": "text/x-python",
   "name": "python",
   "nbconvert_exporter": "python",
   "pygments_lexer": "ipython2",
   "version": "2.7.6"
  }
 },
 "nbformat": 4,
 "nbformat_minor": 0
}