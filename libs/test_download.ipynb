{
 "cells": [
  {
   "cell_type": "code",
   "execution_count": 1,
   "metadata": {
    "collapsed": true
   },
   "outputs": [],
   "source": [
    "import tushare as ts\n",
    "import pandas as pd\n",
    "from functions import *\n",
    "Token = \"b54bfb5fc70a78e4962b8c55911b93a0a4ddd4c764115aeee3c301a3\"\n",
    "ts.set_token(Token)\n",
    "pro = ts.pro_api()\n",
    "wait = FrequencyLimitation()"
   ]
  },
  {
   "cell_type": "code",
   "execution_count": 2,
   "outputs": [],
   "source": [
    "date = 20100104\n",
    "daily = pro.daily(**{\"trade_date\": date, }, fields=[\n",
    "                \"ts_code\", \"trade_date\", \"open\", \"high\", \"low\", \"close\",\n",
    "                \"pre_close\", \"change\", \"pct_chg\", \"vol\", \"amount\"])\n",
    "# daily = daily.sort_values(by=\"ts_code\")\n",
    "# daily = daily.reset_index(drop=True)\n",
    "daily = daily.set_index([\"ts_code\"])"
   ],
   "metadata": {
    "collapsed": false,
    "pycharm": {
     "name": "#%%\n"
    }
   }
  },
  {
   "cell_type": "code",
   "execution_count": 3,
   "outputs": [
    {
     "name": "stdout",
     "output_type": "stream",
     "text": [
      "Variable Name :  daily\n",
      "Variable Type :  <class 'pandas.core.frame.DataFrame'>\n",
      "Variable Data : \n",
      "           trade_date   open   high    low  close  pre_close  change  pct_chg  \\\n",
      "ts_code                                                                        \n",
      "000798.SZ   20100104   8.11   8.36   8.10   8.15       8.01    0.14   1.7500   \n",
      "600405.SH   20100104   9.90  10.00   9.73   9.90       9.78    0.12   1.2300   \n",
      "600590.SH   20100104  15.53  16.27  15.53  15.87      15.43    0.44   2.8500   \n",
      "600694.SH   20100104  44.40  44.42  43.00  43.77      43.79   -0.02  -0.0500   \n",
      "600207.SH   20100104   5.83   5.87   5.71   5.72       5.83   -0.11  -1.8900   \n",
      "...              ...    ...    ...    ...    ...        ...     ...      ...   \n",
      "600738.SH   20100104   9.30   9.38   9.17   9.25       9.30   -0.05  -0.5400   \n",
      "000830.SZ   20100104   6.23   6.37   6.19   6.27       6.16    0.11   1.7900   \n",
      "600862.SH   20100104  12.99  13.31  12.94  12.99      12.90    0.09   0.6977   \n",
      "001872.SZ   20100104  15.25  15.49  15.01  15.22      15.13    0.09   0.5900   \n",
      "001914.SZ   20100104  15.27  15.28  14.85  14.92      15.13   -0.21  -1.3900   \n",
      "\n",
      "                 vol       amount  \n",
      "ts_code                            \n",
      "000798.SZ   94909.87   77965.8597  \n",
      "600405.SH   73226.11   72576.1880  \n",
      "600590.SH  115549.64  184679.2390  \n",
      "600694.SH   27084.63  118864.4670  \n",
      "600207.SH   48736.57   28113.0040  \n",
      "...              ...          ...  \n",
      "600738.SH   89950.88   82979.4440  \n",
      "000830.SZ  222272.61  139870.1639  \n",
      "600862.SH  109972.76  144220.5220  \n",
      "001872.SZ   30085.11   45879.5313  \n",
      "001914.SZ   18983.11   28391.4943  \n",
      "\n",
      "[1632 rows x 10 columns]\n"
     ]
    }
   ],
   "source": [
    "printf(daily, loc=locals())"
   ],
   "metadata": {
    "collapsed": false,
    "pycharm": {
     "name": "#%%\n"
    }
   }
  },
  {
   "cell_type": "code",
   "execution_count": 4,
   "outputs": [
    {
     "name": "stdout",
     "output_type": "stream",
     "text": [
      "Variable Name :  daily\n",
      "Variable Type :  <class 'pandas.core.frame.DataFrame'>\n",
      "Variable Data : \n",
      "           trade_date   open   high    low  close  pre_close  change  pct_chg  \\\n",
      "ts_code                                                                        \n",
      "000001.SZ   20100104  24.52  24.58  23.68  23.71      24.37   -0.66    -2.71   \n",
      "000002.SZ   20100104  10.85  10.87  10.60  10.60      10.81   -0.21    -1.94   \n",
      "000005.SZ   20100104   6.01   6.05   5.91   5.99       6.02   -0.03    -0.50   \n",
      "000006.SZ   20100104  11.33  11.35  11.11  11.12      11.33   -0.21    -1.85   \n",
      "000007.SZ   20100104   7.09   7.09   6.90   6.93       7.03   -0.10    -1.42   \n",
      "...              ...    ...    ...    ...    ...        ...     ...      ...   \n",
      "601988.SH   20100104   4.34   4.38   4.29   4.29       4.33   -0.04    -0.92   \n",
      "601989.SH   20100104   7.76   7.80   7.62   7.63       7.81   -0.18    -2.30   \n",
      "601991.SH   20100104   9.05   9.13   8.95   8.96       9.05   -0.09    -0.99   \n",
      "601998.SH   20100104   8.30   8.32   8.05   8.07       8.23   -0.16    -1.94   \n",
      "601999.SH   20100104  11.24  11.54  11.24  11.36      11.26    0.10     0.89   \n",
      "\n",
      "                 vol        amount  \n",
      "ts_code                             \n",
      "000001.SZ  241922.76  5.802495e+05  \n",
      "000002.SZ  969832.53  1.034345e+06  \n",
      "000005.SZ  223582.22  1.334784e+05  \n",
      "000006.SZ   62998.05  7.054856e+04  \n",
      "000007.SZ   25901.79  1.810142e+04  \n",
      "...              ...           ...  \n",
      "601988.SH  747071.31  3.237072e+05  \n",
      "601989.SH  852408.56  6.548893e+05  \n",
      "601991.SH   65329.90  5.885221e+04  \n",
      "601998.SH  753683.00  6.120972e+05  \n",
      "601999.SH   62903.53  7.170641e+04  \n",
      "\n",
      "[1632 rows x 10 columns]\n"
     ]
    }
   ],
   "source": [
    "daily = daily.sort_values(by=\"ts_code\")\n",
    "printf(daily, loc=locals())"
   ],
   "metadata": {
    "collapsed": false,
    "pycharm": {
     "name": "#%%\n"
    }
   }
  },
  {
   "cell_type": "code",
   "execution_count": 5,
   "outputs": [],
   "source": [
    "df = ts.pro_bar(ts_code='000001.SZ', adj='hfq', start_date=\"20100104\")\n",
    "df = df[::-1]\n",
    "storeAsCsv(df, \"000001.SZ.csv\")"
   ],
   "metadata": {
    "collapsed": false,
    "pycharm": {
     "name": "#%%\n"
    }
   }
  }
 ],
 "metadata": {
  "kernelspec": {
   "display_name": "Python 3",
   "language": "python",
   "name": "python3"
  },
  "language_info": {
   "codemirror_mode": {
    "name": "ipython",
    "version": 2
   },
   "file_extension": ".py",
   "mimetype": "text/x-python",
   "name": "python",
   "nbconvert_exporter": "python",
   "pygments_lexer": "ipython2",
   "version": "2.7.6"
  }
 },
 "nbformat": 4,
 "nbformat_minor": 0
}