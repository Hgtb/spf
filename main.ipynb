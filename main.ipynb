{
 "cells": [
  {
   "cell_type": "code",
   "execution_count": 1,
   "metadata": {
    "collapsed": true
   },
   "outputs": [],
   "source": [
    "from libs import *\n",
    "from os.path import join\n",
    "import torch\n",
    "from tqdm import tqdm\n",
    "dataSetPath = \"dataSet/\""
   ]
  },
  {
   "cell_type": "markdown",
   "source": [
    "下载数据"
   ],
   "metadata": {
    "collapsed": false,
    "pycharm": {
     "name": "#%% md\n"
    }
   }
  },
  {
   "cell_type": "code",
   "execution_count": 2,
   "outputs": [
    {
     "name": "stderr",
     "output_type": "stream",
     "text": [
      "  0%|          | 0/3 [00:00<?, ?it/s]"
     ]
    },
    {
     "name": "stdout",
     "output_type": "stream",
     "text": [
      "DownLoad Information : \n",
      "    Download Dates :  3014   Days\n",
      "    Stock quantity :  1440   Stocks\n",
      "    Parameters :      11   Parameters\n"
     ]
    },
    {
     "name": "stderr",
     "output_type": "stream",
     "text": [
      "100%|██████████| 3/3 [00:02<00:00,  1.07it/s]\n"
     ]
    }
   ],
   "source": [
    "token = \"b54bfb5fc70a78e4962b8c55911b93a0a4ddd4c764115aeee3c301a3\"\n",
    "downLoadData = DownloadData(Token=token, dataSetPath=dataSetPath)\n",
    "\n",
    "downLoadData.setStockList(\"stockList.csv\")\n",
    "downLoadData.storeData()"
   ],
   "metadata": {
    "collapsed": false,
    "pycharm": {
     "name": "#%%\n"
    }
   }
  },
  {
   "cell_type": "markdown",
   "source": [
    "处理数据"
   ],
   "metadata": {
    "collapsed": false,
    "pycharm": {
     "name": "#%% md\n"
    }
   }
  },
  {
   "cell_type": "code",
   "execution_count": 2,
   "outputs": [
    {
     "name": "stderr",
     "output_type": "stream",
     "text": [
      "Load daily data: 100%|██████████| 2996/2996 [00:09<00:00, 314.72it/s]\n",
      "D:\\python\\NeuralNetwork\\StockPriceForecast\\libs\\dataProcess.py:78: VisibleDeprecationWarning: Creating an ndarray from ragged nested sequences (which is a list-or-tuple of lists-or-tuples-or ndarrays with different lengths or shapes) is deprecated. If you meant to do this, you must specify 'dtype=object' when creating the ndarray.\n",
      "  print(\"np.array(dailyData) : \", np.array(dailyData).shape)\n",
      "D:\\python\\NeuralNetwork\\StockPriceForecast\\libs\\dataProcess.py:79: VisibleDeprecationWarning: Creating an ndarray from ragged nested sequences (which is a list-or-tuple of lists-or-tuples-or ndarrays with different lengths or shapes) is deprecated. If you meant to do this, you must specify 'dtype=object' when creating the ndarray.\n",
      "  return np.array(dailyData)  # shape = [date, stock, parameters]\n"
     ]
    },
    {
     "name": "stdout",
     "output_type": "stream",
     "text": [
      "np.array(dailyData) :  (2996,)\n"
     ]
    },
    {
     "ename": "ValueError",
     "evalue": "different number of dimensions on data and dims: 1 vs 3",
     "output_type": "error",
     "traceback": [
      "\u001B[1;31m---------------------------------------------------------------------------\u001B[0m",
      "\u001B[1;31mValueError\u001B[0m                                Traceback (most recent call last)",
      "\u001B[1;32m<ipython-input-2-45ffc57b569d>\u001B[0m in \u001B[0;36m<module>\u001B[1;34m\u001B[0m\n\u001B[0;32m      1\u001B[0m \u001B[0mdataProcess\u001B[0m \u001B[1;33m=\u001B[0m \u001B[0mDataProcess\u001B[0m\u001B[1;33m(\u001B[0m\u001B[0mdataSetPath\u001B[0m\u001B[1;33m=\u001B[0m\u001B[0mdataSetPath\u001B[0m\u001B[1;33m)\u001B[0m\u001B[1;33m\u001B[0m\u001B[1;33m\u001B[0m\u001B[0m\n\u001B[1;32m----> 2\u001B[1;33m \u001B[0mdataProcess\u001B[0m\u001B[1;33m.\u001B[0m\u001B[0mloadData\u001B[0m\u001B[1;33m(\u001B[0m\u001B[1;33m)\u001B[0m\u001B[1;33m\u001B[0m\u001B[1;33m\u001B[0m\u001B[0m\n\u001B[0m\u001B[0;32m      3\u001B[0m \u001B[0mdataProcess\u001B[0m\u001B[1;33m.\u001B[0m\u001B[0mdropDataFrame\u001B[0m\u001B[1;33m(\u001B[0m\u001B[0mlabels\u001B[0m\u001B[1;33m=\u001B[0m\u001B[1;33m[\u001B[0m\u001B[1;34m\"ts_code\"\u001B[0m\u001B[1;33m,\u001B[0m \u001B[1;34m\"trade_date\"\u001B[0m\u001B[1;33m]\u001B[0m\u001B[1;33m,\u001B[0m \u001B[0mdim\u001B[0m\u001B[1;33m=\u001B[0m\u001B[1;34m\"Parameter\"\u001B[0m\u001B[1;33m)\u001B[0m\u001B[1;33m\u001B[0m\u001B[1;33m\u001B[0m\u001B[0m\n\u001B[0;32m      4\u001B[0m \u001B[0mdataProcess\u001B[0m\u001B[1;33m.\u001B[0m\u001B[0mcopyDataFrame\u001B[0m\u001B[1;33m(\u001B[0m\u001B[0mlabel\u001B[0m\u001B[1;33m=\u001B[0m\u001B[1;34m\"change\"\u001B[0m\u001B[1;33m,\u001B[0m \u001B[0mdim\u001B[0m\u001B[1;33m=\u001B[0m\u001B[1;34m\"Parameter\"\u001B[0m\u001B[1;33m)\u001B[0m\u001B[1;33m\u001B[0m\u001B[1;33m\u001B[0m\u001B[0m\n\u001B[0;32m      5\u001B[0m \u001B[0mdataProcess\u001B[0m\u001B[1;33m.\u001B[0m\u001B[0mminMaxNormal\u001B[0m\u001B[1;33m(\u001B[0m\u001B[1;33m)\u001B[0m\u001B[1;33m\u001B[0m\u001B[1;33m\u001B[0m\u001B[0m\n",
      "\u001B[1;32mD:\\python\\NeuralNetwork\\StockPriceForecast\\libs\\dataProcess.py\u001B[0m in \u001B[0;36mloadData\u001B[1;34m(self)\u001B[0m\n\u001B[0;32m     85\u001B[0m         \u001B[0mdailyData\u001B[0m \u001B[1;33m=\u001B[0m \u001B[0mself\u001B[0m\u001B[1;33m.\u001B[0m\u001B[0m__loadDailyData\u001B[0m\u001B[1;33m(\u001B[0m\u001B[1;33m)\u001B[0m\u001B[1;33m\u001B[0m\u001B[1;33m\u001B[0m\u001B[0m\n\u001B[0;32m     86\u001B[0m         \u001B[0mcoordinates\u001B[0m \u001B[1;33m=\u001B[0m \u001B[1;33m{\u001B[0m\u001B[1;34m\"Date\"\u001B[0m\u001B[1;33m:\u001B[0m \u001B[0mtradeCal\u001B[0m\u001B[1;33m,\u001B[0m \u001B[1;34m\"Stock\"\u001B[0m\u001B[1;33m:\u001B[0m \u001B[0mstockList\u001B[0m\u001B[1;33m,\u001B[0m \u001B[1;34m\"Parameter\"\u001B[0m\u001B[1;33m:\u001B[0m \u001B[0mparameters\u001B[0m\u001B[1;33m}\u001B[0m\u001B[1;33m\u001B[0m\u001B[1;33m\u001B[0m\u001B[0m\n\u001B[1;32m---> 87\u001B[1;33m         \u001B[0mself\u001B[0m\u001B[1;33m.\u001B[0m\u001B[0mdailyData\u001B[0m \u001B[1;33m=\u001B[0m \u001B[0mxr\u001B[0m\u001B[1;33m.\u001B[0m\u001B[0mDataArray\u001B[0m\u001B[1;33m(\u001B[0m\u001B[0mdata\u001B[0m\u001B[1;33m=\u001B[0m\u001B[0mdailyData\u001B[0m\u001B[1;33m,\u001B[0m \u001B[0mdims\u001B[0m\u001B[1;33m=\u001B[0m\u001B[0mself\u001B[0m\u001B[1;33m.\u001B[0m\u001B[0mdims\u001B[0m\u001B[1;33m,\u001B[0m \u001B[0mcoords\u001B[0m\u001B[1;33m=\u001B[0m\u001B[0mcoordinates\u001B[0m\u001B[1;33m)\u001B[0m\u001B[1;33m\u001B[0m\u001B[1;33m\u001B[0m\u001B[0m\n\u001B[0m\u001B[0;32m     88\u001B[0m \u001B[1;33m\u001B[0m\u001B[0m\n\u001B[0;32m     89\u001B[0m     \u001B[1;32mdef\u001B[0m \u001B[0mstoreData\u001B[0m\u001B[1;33m(\u001B[0m\u001B[0mself\u001B[0m\u001B[1;33m,\u001B[0m \u001B[0mpath\u001B[0m\u001B[1;33m:\u001B[0m \u001B[0mstr\u001B[0m \u001B[1;33m=\u001B[0m \u001B[1;32mNone\u001B[0m\u001B[1;33m)\u001B[0m\u001B[1;33m:\u001B[0m\u001B[1;33m\u001B[0m\u001B[1;33m\u001B[0m\u001B[0m\n",
      "\u001B[1;32m~\\anaconda3\\lib\\site-packages\\xarray\\core\\dataarray.py\u001B[0m in \u001B[0;36m__init__\u001B[1;34m(self, data, coords, dims, name, attrs, indexes, fastpath)\u001B[0m\n\u001B[0;32m    407\u001B[0m             \u001B[0mdata\u001B[0m \u001B[1;33m=\u001B[0m \u001B[0m_check_data_shape\u001B[0m\u001B[1;33m(\u001B[0m\u001B[0mdata\u001B[0m\u001B[1;33m,\u001B[0m \u001B[0mcoords\u001B[0m\u001B[1;33m,\u001B[0m \u001B[0mdims\u001B[0m\u001B[1;33m)\u001B[0m\u001B[1;33m\u001B[0m\u001B[1;33m\u001B[0m\u001B[0m\n\u001B[0;32m    408\u001B[0m             \u001B[0mdata\u001B[0m \u001B[1;33m=\u001B[0m \u001B[0mas_compatible_data\u001B[0m\u001B[1;33m(\u001B[0m\u001B[0mdata\u001B[0m\u001B[1;33m)\u001B[0m\u001B[1;33m\u001B[0m\u001B[1;33m\u001B[0m\u001B[0m\n\u001B[1;32m--> 409\u001B[1;33m             \u001B[0mcoords\u001B[0m\u001B[1;33m,\u001B[0m \u001B[0mdims\u001B[0m \u001B[1;33m=\u001B[0m \u001B[0m_infer_coords_and_dims\u001B[0m\u001B[1;33m(\u001B[0m\u001B[0mdata\u001B[0m\u001B[1;33m.\u001B[0m\u001B[0mshape\u001B[0m\u001B[1;33m,\u001B[0m \u001B[0mcoords\u001B[0m\u001B[1;33m,\u001B[0m \u001B[0mdims\u001B[0m\u001B[1;33m)\u001B[0m\u001B[1;33m\u001B[0m\u001B[1;33m\u001B[0m\u001B[0m\n\u001B[0m\u001B[0;32m    410\u001B[0m             \u001B[0mvariable\u001B[0m \u001B[1;33m=\u001B[0m \u001B[0mVariable\u001B[0m\u001B[1;33m(\u001B[0m\u001B[0mdims\u001B[0m\u001B[1;33m,\u001B[0m \u001B[0mdata\u001B[0m\u001B[1;33m,\u001B[0m \u001B[0mattrs\u001B[0m\u001B[1;33m,\u001B[0m \u001B[0mfastpath\u001B[0m\u001B[1;33m=\u001B[0m\u001B[1;32mTrue\u001B[0m\u001B[1;33m)\u001B[0m\u001B[1;33m\u001B[0m\u001B[1;33m\u001B[0m\u001B[0m\n\u001B[0;32m    411\u001B[0m             indexes = dict(\n",
      "\u001B[1;32m~\\anaconda3\\lib\\site-packages\\xarray\\core\\dataarray.py\u001B[0m in \u001B[0;36m_infer_coords_and_dims\u001B[1;34m(shape, coords, dims)\u001B[0m\n\u001B[0;32m    124\u001B[0m         \u001B[0mdims\u001B[0m \u001B[1;33m=\u001B[0m \u001B[0mtuple\u001B[0m\u001B[1;33m(\u001B[0m\u001B[0mdims\u001B[0m\u001B[1;33m)\u001B[0m\u001B[1;33m\u001B[0m\u001B[1;33m\u001B[0m\u001B[0m\n\u001B[0;32m    125\u001B[0m     \u001B[1;32melif\u001B[0m \u001B[0mlen\u001B[0m\u001B[1;33m(\u001B[0m\u001B[0mdims\u001B[0m\u001B[1;33m)\u001B[0m \u001B[1;33m!=\u001B[0m \u001B[0mlen\u001B[0m\u001B[1;33m(\u001B[0m\u001B[0mshape\u001B[0m\u001B[1;33m)\u001B[0m\u001B[1;33m:\u001B[0m\u001B[1;33m\u001B[0m\u001B[1;33m\u001B[0m\u001B[0m\n\u001B[1;32m--> 126\u001B[1;33m         raise ValueError(\n\u001B[0m\u001B[0;32m    127\u001B[0m             \u001B[1;34m\"different number of dimensions on data \"\u001B[0m\u001B[1;33m\u001B[0m\u001B[1;33m\u001B[0m\u001B[0m\n\u001B[0;32m    128\u001B[0m             \u001B[1;34m\"and dims: %s vs %s\"\u001B[0m \u001B[1;33m%\u001B[0m \u001B[1;33m(\u001B[0m\u001B[0mlen\u001B[0m\u001B[1;33m(\u001B[0m\u001B[0mshape\u001B[0m\u001B[1;33m)\u001B[0m\u001B[1;33m,\u001B[0m \u001B[0mlen\u001B[0m\u001B[1;33m(\u001B[0m\u001B[0mdims\u001B[0m\u001B[1;33m)\u001B[0m\u001B[1;33m)\u001B[0m\u001B[1;33m\u001B[0m\u001B[1;33m\u001B[0m\u001B[0m\n",
      "\u001B[1;31mValueError\u001B[0m: different number of dimensions on data and dims: 1 vs 3"
     ]
    }
   ],
   "source": [
    "dataProcess = DataProcess(dataSetPath=dataSetPath)\n",
    "dataProcess.loadData()\n",
    "dataProcess.dropDataFrame(labels=[\"ts_code\", \"trade_date\"], dim=\"Parameter\")\n",
    "dataProcess.copyDataFrame(label=\"change\", dim=\"Parameter\")\n",
    "dataProcess.minMaxNormal()\n",
    "dataProcess.storeData()"
   ],
   "metadata": {
    "collapsed": false,
    "pycharm": {
     "name": "#%%\n"
    }
   }
  },
  {
   "cell_type": "markdown",
   "source": [
    "加载数据"
   ],
   "metadata": {
    "collapsed": false,
    "pycharm": {
     "name": "#%% md\n"
    }
   }
  },
  {
   "cell_type": "code",
   "execution_count": 2,
   "outputs": [
    {
     "name": "stdout",
     "output_type": "stream",
     "text": [
      "2994\n"
     ]
    }
   ],
   "source": [
    "dataPath = join(dataSetPath, \"data/marketData/data.nc\")\n",
    "data_len = DataLength(dataPath)\n",
    "print(data_len)"
   ],
   "metadata": {
    "collapsed": false,
    "pycharm": {
     "name": "#%%\n"
    }
   }
  },
  {
   "cell_type": "code",
   "execution_count": 4,
   "outputs": [
    {
     "name": "stdout",
     "output_type": "stream",
     "text": [
      "(2274, 1440, 10)\n",
      "(720, 1440, 10)\n",
      "(720, 1440, 10)\n"
     ]
    }
   ],
   "source": [
    "input_days = 360\n",
    "predict_days = 30\n",
    "test_predict_len = 360  # 预测360天\n",
    "train_dataSet = DataSet(dataPath=dataPath, isel=[0, data_len - input_days - test_predict_len])\n",
    "print(train_dataSet.data.shape)\n",
    "validation_dataSet = DataSet(dataPath=dataPath, isel=[data_len - (input_days + 2 * test_predict_len), data_len - test_predict_len])\n",
    "print(validation_dataSet.data.shape)\n",
    "test_dataSet = DataSet(dataPath=dataPath, isel=[data_len - (input_days + test_predict_len), data_len])\n",
    "print(test_dataSet.data.shape)\n",
    "#      |-------------train data 2214-------------|-30-|\n",
    "#      |                                |---validation data 720---|-----389-----|\n",
    "#Data: --------------------------------------------------------------------------\n",
    "#                                       |-----389-----|------test data 720------|"
   ],
   "metadata": {
    "collapsed": false,
    "pycharm": {
     "name": "#%%\n"
    }
   }
  },
  {
   "cell_type": "markdown",
   "source": [
    "模型训练"
   ],
   "metadata": {
    "collapsed": false,
    "pycharm": {
     "name": "#%% md\n"
    }
   }
  },
  {
   "cell_type": "code",
   "execution_count": null,
   "outputs": [],
   "source": [
    "module = modules.ResNetLSTM()\n",
    "module.cuda()\n",
    "output = 0"
   ],
   "metadata": {
    "collapsed": false,
    "pycharm": {
     "name": "#%%\n"
    }
   }
  },
  {
   "cell_type": "code",
   "execution_count": null,
   "outputs": [],
   "source": [
    "# torch.cuda.set_per_process_memory_fraction(0.9, 0)\n",
    "torch.cuda.empty_cache()\n",
    "torch.set_grad_enabled(False)\n",
    "for train_data, target_data in tqdm(dataLoader):\n",
    "    train_data = train_data.cuda()\n",
    "    train_data = train_data.reshape(360, 1, 120, 120)\n",
    "    output = module(train_data)\n",
    "\n",
    "    torch.cuda.empty_cache()\n",
    "    break"
   ],
   "metadata": {
    "collapsed": false,
    "pycharm": {
     "name": "#%%\n"
    }
   }
  },
  {
   "cell_type": "code",
   "source": [
    "print(output.shape)"
   ],
   "metadata": {
    "collapsed": false,
    "pycharm": {
     "name": "#%%\n"
    }
   },
   "execution_count": null,
   "outputs": []
  },
  {
   "cell_type": "markdown",
   "source": [
    "获取预测数据"
   ],
   "metadata": {
    "collapsed": false,
    "pycharm": {
     "name": "#%% md\n"
    }
   }
  },
  {
   "cell_type": "code",
   "execution_count": null,
   "outputs": [],
   "source": [
    "import torch\n"
   ],
   "metadata": {
    "collapsed": false,
    "pycharm": {
     "name": "#%%\n"
    }
   }
  },
  {
   "cell_type": "markdown",
   "source": [
    "数据可视化"
   ],
   "metadata": {
    "collapsed": false,
    "pycharm": {
     "name": "#%% md\n"
    }
   }
  },
  {
   "cell_type": "code",
   "execution_count": null,
   "outputs": [],
   "source": [
    "torch.cuda.empty_cache()\n",
    "print(torch.cuda.memory_summary())"
   ],
   "metadata": {
    "collapsed": false,
    "pycharm": {
     "name": "#%%\n"
    }
   }
  },
  {
   "cell_type": "markdown",
   "source": [
    "数据分析"
   ],
   "metadata": {
    "collapsed": false,
    "pycharm": {
     "name": "#%% md\n"
    }
   }
  },
  {
   "cell_type": "code",
   "execution_count": null,
   "outputs": [],
   "source": [
    "import d2l.torch as d2l\n",
    "d2l."
   ],
   "metadata": {
    "collapsed": false,
    "pycharm": {
     "name": "#%%\n"
    }
   }
  }
 ],
 "metadata": {
  "kernelspec": {
   "display_name": "Python 3",
   "language": "python",
   "name": "python3"
  },
  "language_info": {
   "codemirror_mode": {
    "name": "ipython",
    "version": 2
   },
   "file_extension": ".py",
   "mimetype": "text/x-python",
   "name": "python",
   "nbconvert_exporter": "python",
   "pygments_lexer": "ipython2",
   "version": "2.7.6"
  }
 },
 "nbformat": 4,
 "nbformat_minor": 0
}