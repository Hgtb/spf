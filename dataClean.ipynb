{
 "cells": [
  {
   "cell_type": "code",
   "execution_count": 2,
   "metadata": {
    "collapsed": true
   },
   "outputs": [],
   "source": [
    "import pandas as pd"
   ]
  },
  {
   "cell_type": "markdown",
   "source": [
    "#读取两市股票列表，通过股票的上市日期来筛选股票（上市日期<=20100101）\n",
    "#股票缺失数据用前一天数据进行填充"
   ],
   "metadata": {
    "collapsed": false
   }
  },
  {
   "cell_type": "code",
   "execution_count": 8,
   "outputs": [
    {
     "name": "stdout",
     "output_type": "stream",
     "text": [
      "Index(['Unnamed: 0', 'ts_code', 'symbol', 'name', 'industry', 'market',\n",
      "       'exchange', 'list_date'],\n",
      "      dtype='object')\n",
      "raw_stockList_SZSE shape =  (2568, 8)\n",
      "raw_stockList_SSE shape =  (2029, 8)\n"
     ]
    }
   ],
   "source": [
    "raw_stockList_SZSE = pd.read_csv(\"rawData/stockList_SZSE.csv\")\n",
    "raw_stockList_SSE  = pd.read_csv(\"rawData/stockList_SSE.csv\")\n",
    "start_date = 20100101\n",
    "# print(raw_stockList_SZSE.head())\n",
    "print(raw_stockList_SZSE.columns)\n",
    "print(\"raw_stockList_SZSE shape = \", raw_stockList_SZSE.shape)\n",
    "print(\"raw_stockList_SSE shape = \", raw_stockList_SSE.shape)"
   ],
   "metadata": {
    "collapsed": false,
    "pycharm": {
     "name": "#%%\n"
    }
   }
  },
  {
   "cell_type": "code",
   "execution_count": 14,
   "outputs": [
    {
     "name": "stdout",
     "output_type": "stream",
     "text": [
      "        ts_code  symbol  name industry market exchange  list_date\n",
      "0     000001.SZ       1  平安银行       银行     主板     SZSE   19910403\n",
      "1     000002.SZ       2   万科A     全国地产     主板     SZSE   19910129\n",
      "2     000004.SZ       4  国华网安     软件服务     主板     SZSE   19910114\n",
      "3     000005.SZ       5  ST星源     环境保护     主板     SZSE   19901210\n",
      "4     000006.SZ       6  深振业A     区域地产     主板     SZSE   19920427\n",
      "...         ...     ...   ...      ...    ...      ...        ...\n",
      "1509  300032.SZ  300032  金龙机电      元器件    创业板     SZSE   20091225\n",
      "1510  300033.SZ  300033   同花顺     软件服务    创业板     SZSE   20091225\n",
      "1511  300034.SZ  300034  钢研高纳       航空    创业板     SZSE   20091225\n",
      "1512  300035.SZ  300035  中科电气     电气设备    创业板     SZSE   20091225\n",
      "1513  300036.SZ  300036  超图软件     软件服务    创业板     SZSE   20091225\n",
      "\n",
      "[808 rows x 7 columns]\n"
     ]
    },
    {
     "name": "stderr",
     "output_type": "stream",
     "text": [
      "C:\\Users\\han_b\\anaconda3\\lib\\site-packages\\pandas\\core\\frame.py:4308: SettingWithCopyWarning: \n",
      "A value is trying to be set on a copy of a slice from a DataFrame\n",
      "\n",
      "See the caveats in the documentation: https://pandas.pydata.org/pandas-docs/stable/user_guide/indexing.html#returning-a-view-versus-a-copy\n",
      "  return super().drop(\n"
     ]
    }
   ],
   "source": [
    "clean_stockList_SZSE = raw_stockList_SZSE[raw_stockList_SZSE[] <= start_date]\n",
    "clean_stockList_SZSE.drop(columns=\"Unnamed: 0\", inplace=True)\n",
    "print(clean_stockList_SZSE)"
   ],
   "metadata": {
    "collapsed": false,
    "pycharm": {
     "name": "#%%\n"
    }
   }
  },
  {
   "cell_type": "code",
   "execution_count": 15,
   "outputs": [
    {
     "name": "stdout",
     "output_type": "stream",
     "text": [
      "        ts_code  symbol  name industry market exchange  list_date\n",
      "0     600000.SH  600000  浦发银行       银行     主板      SSE   19991110\n",
      "1     600004.SH  600004  白云机场       机场     主板      SSE   20030428\n",
      "2     600006.SH  600006  东风汽车     汽车整车     主板      SSE   19990727\n",
      "3     600007.SH  600007  中国国贸     园区开发     主板      SSE   19990312\n",
      "4     600008.SH  600008  首创环保     环境保护     主板      SSE   20000427\n",
      "...         ...     ...   ...      ...    ...      ...        ...\n",
      "1007  601988.SH  601988  中国银行       银行     主板      SSE   20060705\n",
      "1008  601989.SH  601989  中国重工       船舶     主板      SSE   20091216\n",
      "1010  601991.SH  601991  大唐发电     火力发电     主板      SSE   20061220\n",
      "1015  601998.SH  601998  中信银行       银行     主板      SSE   20070427\n",
      "1016  601999.SH  601999  出版传媒      出版业     主板      SSE   20071221\n",
      "\n",
      "[822 rows x 7 columns]\n"
     ]
    },
    {
     "name": "stderr",
     "output_type": "stream",
     "text": [
      "C:\\Users\\han_b\\anaconda3\\lib\\site-packages\\pandas\\core\\frame.py:4308: SettingWithCopyWarning: \n",
      "A value is trying to be set on a copy of a slice from a DataFrame\n",
      "\n",
      "See the caveats in the documentation: https://pandas.pydata.org/pandas-docs/stable/user_guide/indexing.html#returning-a-view-versus-a-copy\n",
      "  return super().drop(\n"
     ]
    }
   ],
   "source": [
    "clean_stockList_SSE = raw_stockList_SSE[raw_stockList_SSE[\"list_date\"] <= start_date]\n",
    "clean_stockList_SSE.drop(columns=\"Unnamed: 0\", inplace=True)\n",
    "print(clean_stockList_SSE)"
   ],
   "metadata": {
    "collapsed": false,
    "pycharm": {
     "name": "#%%\n"
    }
   }
  },
  {
   "cell_type": "code",
   "execution_count": 16,
   "outputs": [],
   "source": [
    "clean_stockList_SZSE.to_csv(\"dataSet/stockList_SZSE.csv\")\n",
    "clean_stockList_SSE.to_csv(\"dataSet/stockList_SSE.csv\")"
   ],
   "metadata": {
    "collapsed": false,
    "pycharm": {
     "name": "#%%\n"
    }
   }
  },
  {
   "cell_type": "markdown",
   "source": [
    "#交易日历清洗 只保存交易的日期\n",
    "#交易日历分为train日历和test日历\n",
    "#train日历为20100101-20201231\n",
    "#test日历为20210101-20211231"
   ],
   "metadata": {
    "collapsed": false,
    "pycharm": {
     "name": "#%% md\n"
    }
   }
  },
  {
   "cell_type": "code",
   "execution_count": 10,
   "outputs": [
    {
     "name": "stdout",
     "output_type": "stream",
     "text": [
      "raw_trade_cal shape :  (4748, 2)\n",
      "raw1_trade_cal shape :  (3159, 2)\n",
      "      cal_date  is_open\n",
      "3     20100104        1\n",
      "4     20100105        1\n",
      "5     20100106        1\n",
      "6     20100107        1\n",
      "7     20100108        1\n",
      "...        ...      ...\n",
      "4742  20221226        1\n",
      "4743  20221227        1\n",
      "4744  20221228        1\n",
      "4745  20221229        1\n",
      "4746  20221230        1\n",
      "\n",
      "[3159 rows x 2 columns]\n",
      "      cal_date\n",
      "3     20100104\n",
      "4     20100105\n",
      "5     20100106\n",
      "6     20100107\n",
      "7     20100108\n",
      "...        ...\n",
      "4742  20221226\n",
      "4743  20221227\n",
      "4744  20221228\n",
      "4745  20221229\n",
      "4746  20221230\n",
      "\n",
      "[3159 rows x 1 columns]\n",
      "      cal_date\n",
      "3     20100104\n",
      "4     20100105\n",
      "5     20100106\n",
      "6     20100107\n",
      "7     20100108\n",
      "...        ...\n",
      "4011  20201225\n",
      "4014  20201228\n",
      "4015  20201229\n",
      "4016  20201230\n",
      "4017  20201231\n",
      "\n",
      "[2674 rows x 1 columns]\n",
      "      cal_date\n",
      "4021  20210104\n",
      "4022  20210105\n",
      "4023  20210106\n",
      "4024  20210107\n",
      "4025  20210108\n",
      "...        ...\n",
      "4378  20211227\n",
      "4379  20211228\n",
      "4380  20211229\n",
      "4381  20211230\n",
      "4382  20211231\n",
      "\n",
      "[243 rows x 1 columns]\n"
     ]
    }
   ],
   "source": [
    "raw_trade_cal = pd.read_csv(\"rawData/tradeCal.csv\")\n",
    "print(\"raw_trade_cal shape : \", raw_trade_cal.shape)\n",
    "raw_trade_cal = raw_trade_cal[raw_trade_cal[\"is_open\"] == 1]\n",
    "print(\"raw1_trade_cal shape : \", raw_trade_cal.shape)\n",
    "print(raw_trade_cal)\n",
    "clean_trade_cal = raw_trade_cal.drop(columns=\"is_open\")\n",
    "train_trade_cal = clean_trade_cal[clean_trade_cal[\"cal_date\"] <= 20201231]\n",
    "test_trade_cal = clean_trade_cal[clean_trade_cal[\"cal_date\"] > 20201231]\n",
    "test_trade_cal = test_trade_cal[test_trade_cal[\"cal_date\"] <= 20211231]\n",
    "print(clean_trade_cal)\n",
    "print(train_trade_cal)\n",
    "print(test_trade_cal)\n",
    "clean_trade_cal.to_csv(\"dataSet/tradeCal.csv\", index=None)\n",
    "train_trade_cal.to_csv(\"dataSet/train_tradeCal.csv\", index=None)\n",
    "test_trade_cal.to_csv(\"dataSet/test_tradeCal.csv\", index=None)"
   ],
   "metadata": {
    "collapsed": false,
    "pycharm": {
     "name": "#%%\n"
    }
   }
  },
  {
   "cell_type": "code",
   "execution_count": 7,
   "outputs": [
    {
     "name": "stdout",
     "output_type": "stream",
     "text": [
      "      cal_date\n",
      "0     20100104\n",
      "1     20100105\n",
      "2     20100106\n",
      "3     20100107\n",
      "4     20100108\n",
      "...        ...\n",
      "2669  20201225\n",
      "2670  20201228\n",
      "2671  20201229\n",
      "2672  20201230\n",
      "2673  20201231\n",
      "\n",
      "[2674 rows x 1 columns]\n",
      "      cal_date\n",
      "0     20100104\n",
      "1     20100105\n",
      "2     20100106\n",
      "3     20100107\n",
      "4     20100108\n",
      "...        ...\n",
      "2669  20201225\n",
      "2670  20201228\n",
      "2671  20201229\n",
      "2672  20201230\n",
      "2673  20201231\n",
      "\n",
      "[2674 rows x 1 columns]\n"
     ]
    }
   ],
   "source": [
    "train_trade_cal = pd.read_csv(\"dataSet/train_tradeCal.csv\")\n",
    "test_trade_cal = pd.read_csv(\"dataSet/test_tradeCal.csv\")\n",
    "print(train_trade_cal)\n",
    "print(test_trade_cal)"
   ],
   "metadata": {
    "collapsed": false,
    "pycharm": {
     "name": "#%%\n"
    }
   }
  },
  {
   "cell_type": "markdown",
   "source": [
    "#分别按照train日历和test日历来清洗raw_daily数据\n",
    "#先用股价数据进行训练，之后可以使用涨跌数据训练。\n",
    "#加入因子生成"
   ],
   "metadata": {
    "collapsed": false,
    "pycharm": {
     "name": "#%% md\n"
    }
   }
  },
  {
   "cell_type": "code",
   "execution_count": 4,
   "outputs": [],
   "source": [
    "\n",
    "stockList_SSE = pd.read_csv(\"dataSet/stockList_SSE.csv\")\n",
    "stockList_SZSE = pd.read_csv(\"dataSet/stockList_SZSE.csv\")\n",
    "stockList = pd.concat([stockList_SZSE, stockList_SSE])\n",
    "stockList.drop(columns=\"Unnamed: 0\", inplace=True)\n",
    "stockList.to_csv(\"dataSet/stockList.csv\", index=None)"
   ],
   "metadata": {
    "collapsed": false,
    "pycharm": {
     "name": "#%%\n"
    }
   }
  },
  {
   "cell_type": "code",
   "execution_count": 9,
   "outputs": [],
   "source": [
    "train_trade_cal = pd.read_csv(\"dataSet/train_tradeCal.csv\")\n",
    "train_trade_cal.columns = [\"trade_date\"]\n",
    "test_trade_cal = pd.read_csv(\"dataSet/test_tradeCal.csv\")\n",
    "test_trade_cal.columns = [\"trade_date\"]\n",
    "stockList = pd.read_csv(\"dataSet/stockList.csv\")"
   ],
   "metadata": {
    "collapsed": false,
    "pycharm": {
     "name": "#%%\n"
    }
   }
  },
  {
   "cell_type": "code",
   "execution_count": 10,
   "outputs": [
    {
     "name": "stderr",
     "output_type": "stream",
     "text": [
      "100%|██████████| 1630/1630 [00:47<00:00, 34.05it/s]\n"
     ]
    }
   ],
   "source": [
    "from tqdm import tqdm\n",
    "stock_list = list(stockList[\"ts_code\"])\n",
    "for stock in tqdm(stock_list):\n",
    "    stock_path = \"rawData/daily/\" + str(stock) + \".csv\"\n",
    "    stock_data_path = \"dataSet/daily/\" + str(stock) + \".csv\"\n",
    "    stock_train_data_path = \"dataSet/trainDaily/\" + str(stock) + \".csv\"\n",
    "    stock_test_data_path = \"dataSet/testDaily/\" + str(stock) + \".csv\"\n",
    "    stock_data = pd.read_csv(stock_path)\n",
    "    stock_data.drop(columns=\"ts_code\", inplace=True)\n",
    "    stock_train_data = pd.merge(stock_data, train_trade_cal, on=\"trade_date\")\n",
    "    stock_train_data = pd.merge(stock_train_data, train_trade_cal, how=\"right\")\n",
    "    stock_train_data.fillna(method=\"pad\", inplace=True)\n",
    "    stock_train_data.to_csv(stock_train_data_path, index=False)\n",
    "\n",
    "    stock_test_data = pd.merge(stock_data, test_trade_cal, on=\"trade_date\")\n",
    "    stock_test_data = pd.merge(stock_test_data, test_trade_cal, how=\"right\")\n",
    "    stock_test_data.fillna(method=\"pad\", inplace=True)\n",
    "    stock_test_data.to_csv(stock_test_data_path, index=False)"
   ],
   "metadata": {
    "collapsed": false,
    "pycharm": {
     "name": "#%%\n"
    }
   }
  },
  {
   "cell_type": "code",
   "execution_count": 7,
   "outputs": [
    {
     "name": "stderr",
     "output_type": "stream",
     "text": [
      "100%|██████████| 1630/1630 [00:41<00:00, 39.63it/s]\n"
     ]
    }
   ],
   "source": [
    "import pandas as pd\n",
    "from tqdm import tqdm\n",
    "\n",
    "\n",
    "trade_cal = pd.read_csv(\"dataSet/tradeCal.csv\")\n",
    "trade_cal.columns = [\"trade_date\"]\n",
    "stockList = pd.read_csv(\"dataSet/stockList.csv\")\n",
    "stock_list = list(stockList[\"ts_code\"])\n",
    "for stock in tqdm(stock_list):\n",
    "    stock_path = \"rawData/daily/\" + str(stock) + \".csv\"\n",
    "    stock_data_path = \"dataSet/daily/\" + str(stock) + \".csv\"\n",
    "    stock_data = pd.read_csv(stock_path)\n",
    "    stock_data.drop(columns=\"ts_code\", inplace=True)\n",
    "    stock_data = pd.merge(stock_data, trade_cal, on=\"trade_date\")\n",
    "    stock_data = pd.merge(stock_data, trade_cal, how=\"right\")\n",
    "    stock_data.fillna(method=\"pad\", inplace=True)\n",
    "    stock_data.drop(columns=\"trade_date\", inplace=True)\n",
    "    stock_data.to_csv(stock_data_path, index=False)"
   ],
   "metadata": {
    "collapsed": false,
    "pycharm": {
     "name": "#%%\n"
    }
   }
  }
 ],
 "metadata": {
  "kernelspec": {
   "display_name": "Python 3",
   "language": "python",
   "name": "python3"
  },
  "language_info": {
   "codemirror_mode": {
    "name": "ipython",
    "version": 2
   },
   "file_extension": ".py",
   "mimetype": "text/x-python",
   "name": "python",
   "nbconvert_exporter": "python",
   "pygments_lexer": "ipython2",
   "version": "2.7.6"
  }
 },
 "nbformat": 4,
 "nbformat_minor": 0
}