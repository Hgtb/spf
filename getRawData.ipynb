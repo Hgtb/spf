{
 "cells": [
  {
   "cell_type": "code",
   "execution_count": 17,
   "metadata": {},
   "outputs": [
    {
     "name": "stdout",
     "output_type": "stream",
     "text": [
      "1.2.78\n"
     ]
    }
   ],
   "source": [
    "import os\n",
    "import sys\n",
    "import tushare as ts\n",
    "import pandas as pd\n",
    "from pandas.testing import assert_frame_equal\n",
    "\n",
    "# sys.path.append(\"libs/getData.py\")\n",
    "import libs.getData as gd\n",
    "print(ts.__version__)"
   ]
  },
  {
   "cell_type": "code",
   "execution_count": 18,
   "metadata": {
    "pycharm": {
     "name": "#%%\n"
    }
   },
   "outputs": [],
   "source": [
    "token = \"b54bfb5fc70a78e4962b8c55911b93a0a4ddd4c764115aeee3c301a3\"\n",
    "ts.set_token(token)\n",
    "pro = ts.pro_api()"
   ]
  },
  {
   "cell_type": "code",
   "execution_count": 19,
   "outputs": [],
   "source": [
    "wait = gd.FrequencyLimitation()"
   ],
   "metadata": {
    "collapsed": false,
    "pycharm": {
     "name": "#%%\n"
    }
   }
  },
  {
   "cell_type": "code",
   "execution_count": 20,
   "metadata": {
    "pycharm": {
     "name": "#%%\n"
    }
   },
   "outputs": [],
   "source": [
    "# 获取交易日历\n",
    "# 从20100101开始至今"
   ]
  },
  {
   "cell_type": "code",
   "execution_count": 21,
   "metadata": {
    "pycharm": {
     "name": "#%%\n"
    }
   },
   "outputs": [
    {
     "name": "stdout",
     "output_type": "stream",
     "text": [
      "      cal_date  is_open\n",
      "0     20100101        0\n",
      "1     20100102        0\n",
      "2     20100103        0\n",
      "3     20100104        1\n",
      "4     20100105        1\n",
      "...        ...      ...\n",
      "4743  20221227        1\n",
      "4744  20221228        1\n",
      "4745  20221229        1\n",
      "4746  20221230        1\n",
      "4747  20221231        0\n",
      "\n",
      "[4748 rows x 2 columns]\n"
     ]
    }
   ],
   "source": [
    "# SSE 上交所\n",
    "df_SSE = pro.trade_cal(**{\n",
    "    \"exchange\": \"SSE\",\n",
    "    \"cal_date\": \"\",\n",
    "    \"start_date\": 20100101,\n",
    "    \"end_date\": \"\",\n",
    "    \"is_open\": \"\",\n",
    "    \"limit\": \"\",\n",
    "    \"offset\": \"\"\n",
    "}, fields=[\n",
    "    \"cal_date\",\n",
    "    \"is_open\"\n",
    "])\n",
    "print(df_SSE)"
   ]
  },
  {
   "cell_type": "code",
   "execution_count": 22,
   "metadata": {
    "pycharm": {
     "name": "#%%\n"
    }
   },
   "outputs": [
    {
     "name": "stdout",
     "output_type": "stream",
     "text": [
      "      cal_date  is_open\n",
      "0     20100101        0\n",
      "1     20100102        0\n",
      "2     20100103        0\n",
      "3     20100104        1\n",
      "4     20100105        1\n",
      "...        ...      ...\n",
      "4743  20221227        1\n",
      "4744  20221228        1\n",
      "4745  20221229        1\n",
      "4746  20221230        1\n",
      "4747  20221231        0\n",
      "\n",
      "[4748 rows x 2 columns]\n"
     ]
    }
   ],
   "source": [
    "#SZSE 深交所\n",
    "df_SZSE = pro.trade_cal(**{\n",
    "    \"exchange\": \"SSE\",\n",
    "    \"cal_date\": \"\",\n",
    "    \"start_date\": 20100101,\n",
    "    \"end_date\": \"\",\n",
    "    \"is_open\": \"\",\n",
    "    \"limit\": \"\",\n",
    "    \"offset\": \"\"\n",
    "}, fields=[\n",
    "    \"cal_date\",\n",
    "    \"is_open\"\n",
    "])\n",
    "print(df_SZSE)"
   ]
  },
  {
   "cell_type": "code",
   "execution_count": 23,
   "metadata": {
    "pycharm": {
     "name": "#%%\n"
    }
   },
   "outputs": [
    {
     "name": "stdout",
     "output_type": "stream",
     "text": [
      "      cal_date  is_open\n",
      "0         True     True\n",
      "1         True     True\n",
      "2         True     True\n",
      "3         True     True\n",
      "4         True     True\n",
      "...        ...      ...\n",
      "4743      True     True\n",
      "4744      True     True\n",
      "4745      True     True\n",
      "4746      True     True\n",
      "4747      True     True\n",
      "\n",
      "[4748 rows x 2 columns]\n",
      "None\n"
     ]
    }
   ],
   "source": [
    "print(df_SSE == df_SZSE)\n",
    "print(assert_frame_equal(df_SSE, df_SZSE))"
   ]
  },
  {
   "cell_type": "code",
   "execution_count": 24,
   "metadata": {
    "pycharm": {
     "name": "#%%\n"
    }
   },
   "outputs": [
    {
     "name": "stdout",
     "output_type": "stream",
     "text": [
      "          is_open\n",
      "cal_date         \n",
      "20100101        0\n",
      "20100102        0\n",
      "20100103        0\n",
      "20100104        1\n",
      "20100105        1\n",
      "...           ...\n",
      "20221227        1\n",
      "20221228        1\n",
      "20221229        1\n",
      "20221230        1\n",
      "20221231        0\n",
      "\n",
      "[4748 rows x 1 columns]\n",
      "0\n"
     ]
    }
   ],
   "source": [
    "df_SSE = df_SSE.set_index(\"cal_date\")\n",
    "# df_SSE = df_SSE.iloc[:: -1]\n",
    "print(df_SSE)\n",
    "print((df_SSE.iloc[0,0]))"
   ]
  },
  {
   "cell_type": "code",
   "execution_count": 25,
   "metadata": {
    "pycharm": {
     "name": "#%%\n"
    }
   },
   "outputs": [],
   "source": [
    "df_SSE.to_csv(\"rawData/tradeCal.csv\")"
   ]
  },
  {
   "cell_type": "code",
   "execution_count": 26,
   "outputs": [
    {
     "name": "stdout",
     "output_type": "stream",
     "text": [
      "        ts_code  symbol  name industry market exchange list_date\n",
      "0     000001.SZ  000001  平安银行       银行     主板     SZSE  19910403\n",
      "1     000002.SZ  000002   万科A     全国地产     主板     SZSE  19910129\n",
      "2     000004.SZ  000004  国华网安     软件服务     主板     SZSE  19910114\n",
      "3     000005.SZ  000005  ST星源     环境保护     主板     SZSE  19901210\n",
      "4     000006.SZ  000006  深振业A     区域地产     主板     SZSE  19920427\n",
      "...         ...     ...   ...      ...    ...      ...       ...\n",
      "2572  301198.SZ  301198  喜悦智行       塑料    创业板     SZSE  20211202\n",
      "2573  301199.SZ  301199  迈赫股份     专用机械    创业板     SZSE  20211207\n",
      "2574  301211.SZ  301211  亨迪药业     化学制药    创业板     SZSE  20211222\n",
      "2575  301213.SZ  301213  观想科技     软件服务    创业板     SZSE  20211206\n",
      "2576  301221.SZ  301221  光庭信息     软件服务    创业板     SZSE  20211222\n",
      "\n",
      "[2577 rows x 7 columns]\n"
     ]
    }
   ],
   "source": [
    "# 获取当前股票列表\n",
    "\n",
    "# 深圳交易所 SZSE\n",
    "wait()\n",
    "df_SZSE = pro.stock_basic(**{\n",
    "    \"ts_code\": \"\",\n",
    "    \"name\": \"\",\n",
    "    \"exchange\": \"SZSE\",\n",
    "    \"market\": \"\",\n",
    "    \"is_hs\": \"\",\n",
    "    \"list_status\": \"L\",\n",
    "    \"limit\": 5000,\n",
    "    \"offset\": \"\"\n",
    "}, fields=[\n",
    "    \"ts_code\",\n",
    "    \"symbol\",\n",
    "    \"name\",\n",
    "    \"industry\",\n",
    "    \"market\",\n",
    "    \"list_date\",\n",
    "    \"exchange\"\n",
    "])\n",
    "print(df_SZSE)"
   ],
   "metadata": {
    "collapsed": false,
    "pycharm": {
     "name": "#%%\n"
    }
   }
  },
  {
   "cell_type": "code",
   "execution_count": 27,
   "outputs": [
    {
     "name": "stdout",
     "output_type": "stream",
     "text": [
      "        ts_code  symbol     name industry market exchange list_date\n",
      "0     600000.SH  600000     浦发银行       银行     主板      SSE  19991110\n",
      "1     600004.SH  600004     白云机场       机场     主板      SSE  20030428\n",
      "2     600006.SH  600006     东风汽车     汽车整车     主板      SSE  19990727\n",
      "3     600007.SH  600007     中国国贸     园区开发     主板      SSE  19990312\n",
      "4     600008.SH  600008     首创环保     环境保护     主板      SSE  20000427\n",
      "...         ...     ...      ...      ...    ...      ...       ...\n",
      "2033  688799.SH  688799     华纳药厂     化学制药    科创板      SSE  20210713\n",
      "2034  688800.SH  688800      瑞可达      元器件    科创板      SSE  20210722\n",
      "2035  688819.SH  688819     天能股份     电气设备    科创板      SSE  20210118\n",
      "2036  688981.SH  688981     中芯国际      半导体    科创板      SSE  20200716\n",
      "2037  689009.SH  689009  九号公司-WD      摩托车    CDR      SSE  20201029\n",
      "\n",
      "[2038 rows x 7 columns]\n"
     ]
    }
   ],
   "source": [
    "# 上海交易所 SSE\n",
    "wait()\n",
    "df_SSE = pro.stock_basic(**{\n",
    "    \"ts_code\": \"\",\n",
    "    \"name\": \"\",\n",
    "    \"exchange\": \"SSE\",\n",
    "    \"market\": \"\",\n",
    "    \"is_hs\": \"\",\n",
    "    \"list_status\": \"L\",\n",
    "    \"limit\": 5000,\n",
    "    \"offset\": \"\"\n",
    "}, fields=[\n",
    "    \"ts_code\",\n",
    "    \"symbol\",\n",
    "    \"name\",\n",
    "    \"industry\",\n",
    "    \"market\",\n",
    "    \"list_date\",\n",
    "    \"exchange\"\n",
    "])\n",
    "print(df_SSE)"
   ],
   "metadata": {
    "collapsed": false,
    "pycharm": {
     "name": "#%%\n"
    }
   }
  },
  {
   "cell_type": "code",
   "execution_count": 28,
   "outputs": [],
   "source": [
    "df_SZSE.to_csv(\"rawData/stockList_SZSE.csv\")\n",
    "df_SSE.to_csv(\"rawData/stockList_SSE.csv\")"
   ],
   "metadata": {
    "collapsed": false,
    "pycharm": {
     "name": "#%%\n"
    }
   }
  },
  {
   "cell_type": "code",
   "execution_count": 29,
   "outputs": [],
   "source": [
    "# 依照当前股票列表 stockList_SZSE 和 stockListSSE 获取每支股票日行情"
   ],
   "metadata": {
    "collapsed": false,
    "pycharm": {
     "name": "#%%\n"
    }
   }
  },
  {
   "cell_type": "code",
   "execution_count": 30,
   "outputs": [],
   "source": [
    "df_SZSE = pd.read_csv(\"rawData/stockList_SZSE.csv\")\n",
    "df_SSE = pd. read_csv(\"rawData/stockList_SSE.csv\")"
   ],
   "metadata": {
    "collapsed": false,
    "pycharm": {
     "name": "#%%\n"
    }
   }
  },
  {
   "cell_type": "code",
   "execution_count": 31,
   "outputs": [
    {
     "name": "stdout",
     "output_type": "stream",
     "text": [
      "df_SZSE_len =  2577\n",
      "df_SSE_len  =  2038\n"
     ]
    }
   ],
   "source": [
    "df_SZSE_len = df_SZSE.shape[0]\n",
    "df_SSE_len  = df_SSE.shape[0]\n",
    "print(\"df_SZSE_len = \", df_SZSE_len)\n",
    "print(\"df_SSE_len  = \", df_SSE_len)"
   ],
   "metadata": {
    "collapsed": false,
    "pycharm": {
     "name": "#%%\n"
    }
   }
  },
  {
   "cell_type": "code",
   "execution_count": 32,
   "outputs": [
    {
     "name": "stderr",
     "output_type": "stream",
     "text": [
      "100%|██████████| 2577/2577 [13:00<00:00,  3.30it/s]\n"
     ]
    }
   ],
   "source": [
    "# 获取20100101至当前的数据\n",
    "from tqdm import tqdm\n",
    "\n",
    "# szse\n",
    "for i in tqdm(range(df_SZSE_len)):\n",
    "    wait()\n",
    "    stock_name = df_SZSE.loc[i, \"ts_code\"]\n",
    "    file_path = \"rawData/daily/\" + stock_name + \".csv\"\n",
    "    df_daily = pro.daily(**{\n",
    "    \"ts_code\": stock_name,\n",
    "    \"trade_date\": \"\",\n",
    "    \"start_date\": 20100101,\n",
    "    \"end_date\": \"\",\n",
    "    \"offset\": \"\",\n",
    "    \"limit\": \"\"\n",
    "    }, fields=[\n",
    "    \"ts_code\",\n",
    "    \"trade_date\",\n",
    "    \"open\",\n",
    "    \"high\",\n",
    "    \"low\",\n",
    "    \"close\",\n",
    "    \"pre_close\",\n",
    "    \"change\",\n",
    "    \"pct_chg\",\n",
    "    \"vol\",\n",
    "    \"amount\"\n",
    "    ])\n",
    "    df_daily = df_daily.iloc[:: -1]\n",
    "    df_daily.to_csv(file_path, index=None)\n"
   ],
   "metadata": {
    "collapsed": false,
    "pycharm": {
     "name": "#%%\n"
    }
   }
  },
  {
   "cell_type": "code",
   "execution_count": 33,
   "outputs": [
    {
     "name": "stderr",
     "output_type": "stream",
     "text": [
      "100%|██████████| 2038/2038 [09:42<00:00,  3.50it/s]\n"
     ]
    }
   ],
   "source": [
    "\n",
    "# SSE\n",
    "for i in tqdm(range(df_SSE_len)):\n",
    "    wait()\n",
    "    stock_name = df_SSE.loc[i, \"ts_code\"]\n",
    "    file_path = \"rawData/daily/\" + stock_name + \".csv\"\n",
    "    df_daily = pro.daily(**{\n",
    "    \"ts_code\": stock_name,\n",
    "    \"trade_date\": \"\",\n",
    "    \"start_date\": 20100101,\n",
    "    \"end_date\": \"\",\n",
    "    \"offset\": \"\",\n",
    "    \"limit\": \"\"\n",
    "    }, fields=[\n",
    "    \"ts_code\",\n",
    "    \"trade_date\",\n",
    "    \"open\",\n",
    "    \"high\",\n",
    "    \"low\",\n",
    "    \"close\",\n",
    "    \"pre_close\",\n",
    "    \"change\",\n",
    "    \"pct_chg\",\n",
    "    \"vol\",\n",
    "    \"amount\"\n",
    "    ])\n",
    "    df_daily = df_daily.iloc[:: -1]\n",
    "    df_daily.to_csv(file_path, index=None)"
   ],
   "metadata": {
    "collapsed": false,
    "pycharm": {
     "name": "#%%\n"
    }
   }
  },
  {
   "cell_type": "code",
   "execution_count": 34,
   "outputs": [
    {
     "name": "stdout",
     "output_type": "stream",
     "text": [
      "Empty DataFrame\n",
      "Columns: [trade_date, ts_code]\n",
      "Index: []\n"
     ]
    }
   ],
   "source": [
    "df = pro.bak_basic(trade_date='20100104', fields='trade_date,ts_code')\n",
    "print(df)"
   ],
   "metadata": {
    "collapsed": false,
    "pycharm": {
     "name": "#%%\n"
    }
   }
  }
 ],
 "metadata": {
  "kernelspec": {
   "name": "pycharm-98286412",
   "language": "python",
   "display_name": "PyCharm (Python程序设计)"
  },
  "language_info": {
   "codemirror_mode": {
    "name": "ipython",
    "version": 3
   },
   "file_extension": ".py",
   "mimetype": "text/x-python",
   "name": "python",
   "nbconvert_exporter": "python",
   "pygments_lexer": "ipython3",
   "version": "3.8.8"
  }
 },
 "nbformat": 4,
 "nbformat_minor": 1
}